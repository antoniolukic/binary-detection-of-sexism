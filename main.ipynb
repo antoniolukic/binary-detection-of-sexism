{
 "cells": [
  {
   "cell_type": "markdown",
   "id": "13d94d2a",
   "metadata": {},
   "source": [
    "Podaci nisu podijeljeni na train/valid/test"
   ]
  },
  {
   "cell_type": "code",
   "execution_count": 102,
   "id": "bfc0298d",
   "metadata": {},
   "outputs": [],
   "source": [
    "import re\n",
    "import spacy\n",
    "import pandas as pd\n",
    "from nltk.corpus import stopwords\n",
    "from collections import Counter\n",
    "nlp = spacy.load(\n",
    "    \"en_core_web_lg\"\n",
    ")\n",
    "from sklearn.model_selection import train_test_split\n",
    "df = pd.read_csv(\"Task 10/public_data/train_all_tasks.csv\")"
   ]
  },
  {
   "cell_type": "markdown",
   "id": "bba1f986",
   "metadata": {},
   "source": [
    "Svaki redak uzorka sadržava:"
   ]
  },
  {
   "cell_type": "code",
   "execution_count": 103,
   "id": "cce21613",
   "metadata": {
    "scrolled": true
   },
   "outputs": [
    {
     "name": "stdout",
     "output_type": "stream",
     "text": [
      "Index(['rewire_id', 'text', 'label_sexist', 'label_category', 'label_vector'], dtype='object')\n"
     ]
    }
   ],
   "source": [
    "print(df.columns)"
   ]
  },
  {
   "cell_type": "markdown",
   "id": "1e99a6a4",
   "metadata": {},
   "source": [
    "Broj redaka:"
   ]
  },
  {
   "cell_type": "code",
   "execution_count": 104,
   "id": "fd1e816d",
   "metadata": {
    "scrolled": true
   },
   "outputs": [
    {
     "name": "stdout",
     "output_type": "stream",
     "text": [
      "14000\n"
     ]
    }
   ],
   "source": [
    "print(df.shape[0])"
   ]
  },
  {
   "cell_type": "markdown",
   "id": "4295b9f9",
   "metadata": {},
   "source": [
    "Radimo s nebalansiranim skupom podataka\n",
    "\n",
    "Broj redaka iz klase seksistički:"
   ]
  },
  {
   "cell_type": "code",
   "execution_count": 105,
   "id": "88bf7539",
   "metadata": {},
   "outputs": [
    {
     "name": "stdout",
     "output_type": "stream",
     "text": [
      "3398\n"
     ]
    }
   ],
   "source": [
    "print(len(df[df['label_sexist'] == 'sexist']))"
   ]
  },
  {
   "cell_type": "markdown",
   "id": "be9aa1ec",
   "metadata": {},
   "source": [
    "Broj redaka iz klase neseksistički:"
   ]
  },
  {
   "cell_type": "code",
   "execution_count": 106,
   "id": "2e2d69b7",
   "metadata": {},
   "outputs": [
    {
     "name": "stdout",
     "output_type": "stream",
     "text": [
      "10602\n"
     ]
    }
   ],
   "source": [
    "print(len(df[df['label_sexist'] == 'not sexist']))"
   ]
  },
  {
   "cell_type": "markdown",
   "id": "c827de28",
   "metadata": {},
   "source": [
    "Nema Nan podataka:"
   ]
  },
  {
   "cell_type": "code",
   "execution_count": 107,
   "id": "df09f0b4",
   "metadata": {},
   "outputs": [
    {
     "name": "stdout",
     "output_type": "stream",
     "text": [
      "False\n"
     ]
    }
   ],
   "source": [
    "print(df.isnull().values.any())"
   ]
  },
  {
   "cell_type": "code",
   "execution_count": 108,
   "id": "9d46be00",
   "metadata": {},
   "outputs": [],
   "source": [
    "najvise = 0\n",
    "seksisti = []\n",
    "neseksisti = []\n",
    "prosrijeci = [0, 0]\n",
    "djelitelj = [0, 0]\n",
    "for i in df.sample(14000).itertuples():\n",
    "    doc = nlp(i.text.lower())\n",
    "    najvise = max(najvise, len(doc))\n",
    "    br_rijeci = len(doc)\n",
    "    tret = [token.lemma_\n",
    "         for token in doc\n",
    "         if not token.is_stop and not token.is_punct and token.is_alpha]\n",
    "    if i.label_sexist == 'sexist':\n",
    "        prosrijeci[0] += br_rijeci\n",
    "        djelitelj[0] += 1\n",
    "        for j in tret:\n",
    "            seksisti.append(j)\n",
    "    else:\n",
    "        prosrijeci[1] += br_rijeci\n",
    "        djelitelj[1] += 1\n",
    "        for j in tret:\n",
    "            neseksisti.append(j)"
   ]
  },
  {
   "cell_type": "markdown",
   "id": "cd59f4e0",
   "metadata": {},
   "source": [
    "Najčešće riječi za klasu seksisti:"
   ]
  },
  {
   "cell_type": "code",
   "execution_count": 109,
   "id": "a9b61414",
   "metadata": {},
   "outputs": [
    {
     "name": "stdout",
     "output_type": "stream",
     "text": [
      "('woman', 1726)\n",
      "('man', 729)\n",
      "('like', 502)\n",
      "('bitch', 498)\n",
      "('fuck', 359)\n"
     ]
    }
   ],
   "source": [
    "word_freq = Counter(seksisti)\n",
    "common_words = word_freq.most_common(5)\n",
    "for i in common_words:\n",
    "    print(i)"
   ]
  },
  {
   "cell_type": "markdown",
   "id": "64daf304",
   "metadata": {},
   "source": [
    "Najčešće riječi za klasu ne seksisti:"
   ]
  },
  {
   "cell_type": "code",
   "execution_count": 110,
   "id": "ca749319",
   "metadata": {},
   "outputs": [
    {
     "name": "stdout",
     "output_type": "stream",
     "text": [
      "('woman', 2626)\n",
      "('url', 1516)\n",
      "('like', 1300)\n",
      "('girl', 1228)\n",
      "('man', 1033)\n"
     ]
    }
   ],
   "source": [
    "word_freq = Counter(neseksisti)\n",
    "common_words = word_freq.most_common(5)\n",
    "for i in common_words:\n",
    "    print(i)"
   ]
  },
  {
   "cell_type": "markdown",
   "id": "8c31a79c",
   "metadata": {},
   "source": [
    "Broj prosječnih riječi: (tokena)\n",
    "[seksisti, neseksisti]"
   ]
  },
  {
   "cell_type": "code",
   "execution_count": 111,
   "id": "3942a564",
   "metadata": {},
   "outputs": [
    {
     "name": "stdout",
     "output_type": "stream",
     "text": [
      "86\n",
      "[29.620364920541494, 27.688077721184683]\n"
     ]
    }
   ],
   "source": [
    "print(najvise)\n",
    "prosrijeci[0] /= djelitelj[0]\n",
    "prosrijeci[1] /= djelitelj[1]\n",
    "print(prosrijeci)"
   ]
  },
  {
   "cell_type": "markdown",
   "id": "7a95cf87",
   "metadata": {},
   "source": [
    "Razdvojimo na train/valid/test:"
   ]
  },
  {
   "cell_type": "code",
   "execution_count": 144,
   "id": "0b33652d",
   "metadata": {},
   "outputs": [
    {
     "name": "stdout",
     "output_type": "stream",
     "text": [
      "2800 1400 9800\n"
     ]
    }
   ],
   "source": [
    "import numpy as np\n",
    "from sklearn.model_selection import StratifiedShuffleSplit\n",
    "from sklearn.model_selection import train_test_split\n",
    "\n",
    "sss = StratifiedShuffleSplit(n_splits=1, test_size=0.2, random_state=42)\n",
    "\n",
    "lista_tekst = df[\"text\"]\n",
    "lista_label = df[\"label_sexist\"]\n",
    "\n",
    "for train_index, test_index in sss.split(lista_tekst, lista_label):\n",
    "    X_train, X_test = lista_tekst[train_index], lista_tekst[test_index]\n",
    "    y_train, y_test = lista_label[train_index], lista_label[test_index]\n",
    "    d_train = {\"text\": X_train, \"label\": y_train}\n",
    "    df_train = pd.DataFrame(d_train)\n",
    "    d_test = {\"text\": X_test, \"label\": y_test}\n",
    "    df_test = pd.DataFrame(d_test)\n",
    "\n",
    "sss = StratifiedShuffleSplit(n_splits=1, test_size=0.125, random_state=42)\n",
    "\n",
    "lista_tekst = np.array(df_train[\"text\"])\n",
    "lista_label = np.array(df_train[\"label\"])\n",
    "\n",
    "for train_index, valid_index in sss.split(lista_tekst, lista_label):\n",
    "    X_train, X_valid = lista_tekst[train_index], lista_tekst[valid_index]\n",
    "    y_train, y_valid = lista_label[train_index], lista_label[valid_index]\n",
    "    d_train = {\"text\": X_train, \"label\": y_train}\n",
    "    df_train = pd.DataFrame(d_train)\n",
    "    d_valid = {\"text\": X_valid, \"label\": y_valid}\n",
    "    df_valid = pd.DataFrame(d_valid)\n",
    "\n",
    "print(len(df_test), len(df_valid), len(df_train))\n"
   ]
  },
  {
   "cell_type": "markdown",
   "id": "7901d7e6",
   "metadata": {},
   "source": [
    "Pogledajmo [URL], [USER], emoji:"
   ]
  },
  {
   "cell_type": "markdown",
   "id": "127be996",
   "metadata": {},
   "source": [
    "Za [URL]:"
   ]
  },
  {
   "cell_type": "code",
   "execution_count": 152,
   "id": "652a8bfc",
   "metadata": {},
   "outputs": [
    {
     "name": "stdout",
     "output_type": "stream",
     "text": [
      "[134, 1051]\n",
      "0.056349873843566024 0.018054432767448128\n"
     ]
    }
   ],
   "source": [
    "#nije najtočnije ali radi skoro\n",
    "urlovi = [0, 0]\n",
    "sexist_c = len(df_train[df_train['label'] == 'sexist'])\n",
    "nsexist_c = len(df_train[df_train['label'] == 'not sexist'])\n",
    "for i in df_train.itertuples():\n",
    "    doc = nlp(i.text)\n",
    "    tret = [token\n",
    "         for token in doc\n",
    "         if \"URL\" == str(token)]\n",
    "    kolko = len(tret)\n",
    "    if i.label == 'sexist':\n",
    "        urlovi[0] += kolko\n",
    "    else:\n",
    "        urlovi[1] += kolko\n",
    "print(urlovi)\n",
    "print(urlovi[0] / sexist_c, urlovi[0] / nsexist_c)"
   ]
  },
  {
   "cell_type": "markdown",
   "id": "900c7109",
   "metadata": {},
   "source": [
    "Za [USER]:"
   ]
  },
  {
   "cell_type": "code",
   "execution_count": 154,
   "id": "793f111c",
   "metadata": {},
   "outputs": [
    {
     "name": "stdout",
     "output_type": "stream",
     "text": [
      "[97, 523]\n",
      "0.0407905803195963 0.07046618162220426\n"
     ]
    }
   ],
   "source": [
    "#nije najtočnije ali radi skoro\n",
    "useri = [0, 0]\n",
    "for i in df_train.itertuples():\n",
    "    doc = nlp(i.text)\n",
    "    tret = [token\n",
    "         for token in doc\n",
    "         if \"USER\" == str(token)]\n",
    "    kolko = len(tret)\n",
    "    if i.label == 'sexist':\n",
    "        useri[0] += kolko\n",
    "    else:\n",
    "        useri[1] += kolko\n",
    "print(useri)\n",
    "print(useri[0] / sexist_c, useri[1] / nsexist_c)"
   ]
  },
  {
   "cell_type": "markdown",
   "id": "dc74838a",
   "metadata": {},
   "source": [
    "Za emoji:"
   ]
  },
  {
   "cell_type": "code",
   "execution_count": 159,
   "id": "51614faf",
   "metadata": {},
   "outputs": [
    {
     "data": {
      "text/plain": [
       "['🤔', '🙈', '😌', '💕', '👭', '👙']"
      ]
     },
     "execution_count": 159,
     "metadata": {},
     "output_type": "execute_result"
    }
   ],
   "source": [
    "import re\n",
    "a_list = ['🤔 🙈 me así, bla es se 😌 ds 💕👭👙']\n",
    "re.findall(r'[^\\w\\s,]', a_list[0])"
   ]
  },
  {
   "cell_type": "code",
   "execution_count": 161,
   "id": "e302f4bf",
   "metadata": {},
   "outputs": [
    {
     "name": "stdout",
     "output_type": "stream",
     "text": [
      "[118, 614]\n",
      "0.0496215306980656 0.08272702775532202\n"
     ]
    }
   ],
   "source": [
    "emojiji = [0, 0]\n",
    "for i in df_train.itertuples():\n",
    "    doc = nlp(i.text)\n",
    "    kolko = len(re.findall(r'[^\\w\\s,]', str(doc)[0]))\n",
    "    if i.label == 'sexist':\n",
    "        emojiji[0] += kolko\n",
    "    else:\n",
    "        emojiji[1] += kolko\n",
    "print(emojiji)\n",
    "print(emojiji[0] / sexist_c, emojiji[1] / nsexist_c)"
   ]
  },
  {
   "cell_type": "code",
   "execution_count": null,
   "id": "9c34de9c",
   "metadata": {},
   "outputs": [],
   "source": []
  }
 ],
 "metadata": {
  "kernelspec": {
   "display_name": "Python 3 (ipykernel)",
   "language": "python",
   "name": "python3"
  },
  "language_info": {
   "codemirror_mode": {
    "name": "ipython",
    "version": 3
   },
   "file_extension": ".py",
   "mimetype": "text/x-python",
   "name": "python",
   "nbconvert_exporter": "python",
   "pygments_lexer": "ipython3",
   "version": "3.10.8"
  }
 },
 "nbformat": 4,
 "nbformat_minor": 5
}
