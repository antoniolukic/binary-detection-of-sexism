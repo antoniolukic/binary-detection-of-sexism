{
 "cells": [
  {
   "cell_type": "markdown",
   "id": "13d94d2a",
   "metadata": {},
   "source": [
    "Podaci nisu podijeljeni na train/valid/test"
   ]
  },
  {
   "cell_type": "code",
   "execution_count": 1,
   "id": "bfc0298d",
   "metadata": {},
   "outputs": [],
   "source": [
    "import re\n",
    "import spacy\n",
    "import pandas as pd\n",
    "from nltk.corpus import stopwords\n",
    "from collections import Counter\n",
    "nlp = spacy.load(\n",
    "    \"en_core_web_lg\"\n",
    ")\n",
    "df = pd.read_csv(\"train_all_tasks.csv\")"
   ]
  },
  {
   "cell_type": "markdown",
   "id": "bba1f986",
   "metadata": {},
   "source": [
    "Svaki redak uzorka sadržava:"
   ]
  },
  {
   "cell_type": "code",
   "execution_count": 2,
   "id": "cce21613",
   "metadata": {
    "scrolled": true
   },
   "outputs": [
    {
     "name": "stdout",
     "output_type": "stream",
     "text": [
      "Index(['rewire_id', 'text', 'label_sexist', 'label_category', 'label_vector'], dtype='object')\n"
     ]
    }
   ],
   "source": [
    "print(df.columns)"
   ]
  },
  {
   "cell_type": "markdown",
   "id": "1e99a6a4",
   "metadata": {},
   "source": [
    "Broj redaka:"
   ]
  },
  {
   "cell_type": "code",
   "execution_count": 3,
   "id": "fd1e816d",
   "metadata": {
    "scrolled": true
   },
   "outputs": [
    {
     "name": "stdout",
     "output_type": "stream",
     "text": [
      "14000\n"
     ]
    }
   ],
   "source": [
    "print(df.shape[0])"
   ]
  },
  {
   "cell_type": "markdown",
   "id": "4295b9f9",
   "metadata": {},
   "source": [
    "Radimo s nebalansiranim skupom podataka\n",
    "\n",
    "Broj redaka iz klase seksistički:"
   ]
  },
  {
   "cell_type": "code",
   "execution_count": 4,
   "id": "88bf7539",
   "metadata": {},
   "outputs": [
    {
     "name": "stdout",
     "output_type": "stream",
     "text": [
      "3398\n"
     ]
    }
   ],
   "source": [
    "print(len(df[df['label_sexist'] == 'sexist']))"
   ]
  },
  {
   "cell_type": "markdown",
   "id": "be9aa1ec",
   "metadata": {},
   "source": [
    "Broj redaka iz klase neseksistički:"
   ]
  },
  {
   "cell_type": "code",
   "execution_count": 5,
   "id": "2e2d69b7",
   "metadata": {},
   "outputs": [
    {
     "name": "stdout",
     "output_type": "stream",
     "text": [
      "10602\n"
     ]
    }
   ],
   "source": [
    "print(len(df[df['label_sexist'] == 'not sexist']))"
   ]
  },
  {
   "cell_type": "markdown",
   "id": "c827de28",
   "metadata": {},
   "source": [
    "Nema Nan podataka:"
   ]
  },
  {
   "cell_type": "code",
   "execution_count": 6,
   "id": "df09f0b4",
   "metadata": {},
   "outputs": [
    {
     "name": "stdout",
     "output_type": "stream",
     "text": [
      "False\n"
     ]
    }
   ],
   "source": [
    "print(df.isnull().values.any())"
   ]
  },
  {
   "cell_type": "code",
   "execution_count": 7,
   "id": "9d46be00",
   "metadata": {},
   "outputs": [],
   "source": [
    "najvise = 0\n",
    "seksisti = []\n",
    "neseksisti = []\n",
    "prosrijeci = [0, 0]\n",
    "djelitelj = [0, 0]\n",
    "for i in df.itertuples():\n",
    "    doc = nlp(i.text.lower())\n",
    "    najvise = max(najvise, len(doc))\n",
    "    br_rijeci = len(doc)\n",
    "    tret = [token.lemma_\n",
    "         for token in doc\n",
    "         if not token.is_stop and not token.is_punct and token.is_alpha]\n",
    "    if i.label_sexist == 'sexist':\n",
    "        prosrijeci[0] += br_rijeci\n",
    "        djelitelj[0] += 1\n",
    "        for j in tret:\n",
    "            seksisti.append(j)\n",
    "    else:\n",
    "        prosrijeci[1] += br_rijeci\n",
    "        djelitelj[1] += 1\n",
    "        for j in tret:\n",
    "            neseksisti.append(j)"
   ]
  },
  {
   "cell_type": "markdown",
   "id": "cd59f4e0",
   "metadata": {},
   "source": [
    "Najčešće riječi za klasu seksisti:"
   ]
  },
  {
   "cell_type": "code",
   "execution_count": 8,
   "id": "a9b61414",
   "metadata": {},
   "outputs": [
    {
     "name": "stdout",
     "output_type": "stream",
     "text": [
      "('woman', 1726)\n",
      "('man', 729)\n",
      "('like', 502)\n",
      "('bitch', 498)\n",
      "('fuck', 359)\n"
     ]
    }
   ],
   "source": [
    "word_freq = Counter(seksisti)\n",
    "common_words = word_freq.most_common(5)\n",
    "for i in common_words:\n",
    "    print(i)"
   ]
  },
  {
   "cell_type": "markdown",
   "id": "64daf304",
   "metadata": {},
   "source": [
    "Najčešće riječi za klasu ne seksisti:"
   ]
  },
  {
   "cell_type": "code",
   "execution_count": 9,
   "id": "ca749319",
   "metadata": {},
   "outputs": [
    {
     "name": "stdout",
     "output_type": "stream",
     "text": [
      "('woman', 2626)\n",
      "('url', 1516)\n",
      "('like', 1300)\n",
      "('girl', 1228)\n",
      "('man', 1033)\n"
     ]
    }
   ],
   "source": [
    "word_freq = Counter(neseksisti)\n",
    "common_words = word_freq.most_common(5)\n",
    "for i in common_words:\n",
    "    print(i)"
   ]
  },
  {
   "cell_type": "markdown",
   "id": "8c31a79c",
   "metadata": {},
   "source": [
    "Broj prosječnih riječi: (tokena)\n",
    "[seksisti, neseksisti]"
   ]
  },
  {
   "cell_type": "code",
   "execution_count": 10,
   "id": "3942a564",
   "metadata": {},
   "outputs": [
    {
     "name": "stdout",
     "output_type": "stream",
     "text": [
      "86\n",
      "[29.620364920541494, 27.688077721184683]\n"
     ]
    }
   ],
   "source": [
    "print(najvise)\n",
    "prosrijeci[0] /= djelitelj[0]\n",
    "prosrijeci[1] /= djelitelj[1]\n",
    "print(prosrijeci)"
   ]
  },
  {
   "cell_type": "markdown",
   "id": "7a95cf87",
   "metadata": {},
   "source": [
    "Razdvojimo na train/valid/test:"
   ]
  },
  {
   "cell_type": "code",
   "execution_count": 11,
   "id": "0b33652d",
   "metadata": {},
   "outputs": [
    {
     "name": "stdout",
     "output_type": "stream",
     "text": [
      "2800 1400 9800\n"
     ]
    }
   ],
   "source": [
    "import numpy as np\n",
    "from sklearn.model_selection import StratifiedShuffleSplit\n",
    "\n",
    "sss = StratifiedShuffleSplit(n_splits=1, test_size=0.2, random_state=42)\n",
    "\n",
    "lista_tekst = df[\"text\"]\n",
    "lista_label = df[\"label_sexist\"]\n",
    "\n",
    "for train_index, test_index in sss.split(lista_tekst, lista_label):\n",
    "    X_train, X_test = lista_tekst[train_index], lista_tekst[test_index]\n",
    "    y_train, y_test = lista_label[train_index], lista_label[test_index]\n",
    "    d_train = {\"text\": X_train, \"label\": y_train}\n",
    "    df_train = pd.DataFrame(d_train)\n",
    "    d_test = {\"text\": X_test, \"label\": y_test}\n",
    "    df_test = pd.DataFrame(d_test)\n",
    "\n",
    "sss = StratifiedShuffleSplit(n_splits=1, test_size=0.125, random_state=42)\n",
    "\n",
    "lista_tekst = np.array(df_train[\"text\"])\n",
    "lista_label = np.array(df_train[\"label\"])\n",
    "\n",
    "for train_index, valid_index in sss.split(lista_tekst, lista_label):\n",
    "    X_train, X_valid = lista_tekst[train_index], lista_tekst[valid_index]\n",
    "    y_train, y_valid = lista_label[train_index], lista_label[valid_index]\n",
    "    d_train = {\"text\": X_train, \"label\": y_train}\n",
    "    df_train = pd.DataFrame(d_train)\n",
    "    d_valid = {\"text\": X_valid, \"label\": y_valid}\n",
    "    df_valid = pd.DataFrame(d_valid)\n",
    "\n",
    "print(len(df_test), len(df_valid), len(df_train))\n"
   ]
  },
  {
   "cell_type": "markdown",
   "id": "7901d7e6",
   "metadata": {},
   "source": [
    "Pogledajmo [URL], [USER], emoji:"
   ]
  },
  {
   "cell_type": "markdown",
   "id": "127be996",
   "metadata": {},
   "source": [
    "Za [URL]:"
   ]
  },
  {
   "cell_type": "code",
   "execution_count": 12,
   "id": "652a8bfc",
   "metadata": {},
   "outputs": [
    {
     "name": "stdout",
     "output_type": "stream",
     "text": [
      "[141, 1081]\n",
      "0.059293523969722456 0.018997574777687955\n"
     ]
    }
   ],
   "source": [
    "urlovi = [0, 0]\n",
    "sexist_c = len(df_train[df_train['label'] == 'sexist'])\n",
    "nsexist_c = len(df_train[df_train['label'] == 'not sexist'])\n",
    "for i in df_train.itertuples():\n",
    "    kolko = i.text.count(\"[URL]\")\n",
    "    if i.label == 'sexist':\n",
    "        urlovi[0] += kolko\n",
    "    else:\n",
    "        urlovi[1] += kolko\n",
    "print(urlovi)\n",
    "print(urlovi[0] / sexist_c, urlovi[0] / nsexist_c)"
   ]
  },
  {
   "cell_type": "markdown",
   "id": "900c7109",
   "metadata": {},
   "source": [
    "Za [USER]:"
   ]
  },
  {
   "cell_type": "code",
   "execution_count": 13,
   "id": "793f111c",
   "metadata": {},
   "outputs": [
    {
     "name": "stdout",
     "output_type": "stream",
     "text": [
      "[104, 567]\n",
      "0.04373423044575273 0.07639450282942603\n"
     ]
    }
   ],
   "source": [
    "useri = [0, 0]\n",
    "for i in df_train.itertuples():\n",
    "    kolko = i.text.count(\"[USER]\")\n",
    "    if i.label == 'sexist':\n",
    "        useri[0] += kolko\n",
    "    else:\n",
    "        useri[1] += kolko\n",
    "print(useri)\n",
    "print(useri[0] / sexist_c, useri[1] / nsexist_c)"
   ]
  },
  {
   "cell_type": "markdown",
   "id": "dc74838a",
   "metadata": {},
   "source": [
    "Za emoji:"
   ]
  },
  {
   "cell_type": "code",
   "execution_count": 14,
   "id": "51614faf",
   "metadata": {},
   "outputs": [
    {
     "data": {
      "text/plain": [
       "['🤔', '🙈', '😌', '💕', '👭', '👙']"
      ]
     },
     "execution_count": 14,
     "metadata": {},
     "output_type": "execute_result"
    }
   ],
   "source": [
    "import re\n",
    "a_list = ['🤔 🙈 me así, bla es se 😌 ds 💕👭👙']\n",
    "re.findall(r'[^\\w\\s,]', a_list[0])"
   ]
  },
  {
   "cell_type": "code",
   "execution_count": 15,
   "id": "e302f4bf",
   "metadata": {},
   "outputs": [
    {
     "name": "stdout",
     "output_type": "stream",
     "text": [
      "[118, 614]\n",
      "0.0496215306980656 0.08272702775532202\n"
     ]
    }
   ],
   "source": [
    "emojiji = [0, 0]\n",
    "for i in df_train.itertuples():\n",
    "    doc = nlp(i.text)\n",
    "    kolko = len(re.findall(r'[^\\w\\s,]', str(doc)[0]))\n",
    "    if i.label == 'sexist':\n",
    "        emojiji[0] += kolko\n",
    "    else:\n",
    "        emojiji[1] += kolko\n",
    "print(emojiji)\n",
    "print(emojiji[0] / sexist_c, emojiji[1] / nsexist_c)"
   ]
  },
  {
   "cell_type": "markdown",
   "id": "6aed3631",
   "metadata": {},
   "source": [
    "SVM + WORD2VEC"
   ]
  },
  {
   "cell_type": "code",
   "execution_count": 17,
   "id": "7d8b70a0",
   "metadata": {},
   "outputs": [],
   "source": [
    "from gensim.utils import simple_preprocess\n",
    "from gensim.models import Word2Vec\n",
    "\n",
    "corpus_text = '\\n'.join(df_train['text'])\n",
    "sentences = corpus_text.split('\\n')\n",
    "sentences = [line.lower().split(' ') for line in sentences]\n",
    "\n",
    "def clean(s):\n",
    "    return [w.strip(',.\"!?:;()\\'') for w in s]\n",
    "\n",
    "sentences = [clean(s) for s in sentences if len(s) > 0]\n",
    "\n",
    "w2v_model = Word2Vec(sentences,\n",
    "                     vector_size=100,\n",
    "                     window=5,\n",
    "                     epochs=40)\n",
    "vectors = w2v_model.wv\n"
   ]
  },
  {
   "cell_type": "code",
   "execution_count": 18,
   "id": "0534d082",
   "metadata": {},
   "outputs": [
    {
     "data": {
      "text/plain": [
       "[('guy', 0.48962271213531494),\n",
       " ('woman', 0.48734205961227417),\n",
       " ('person', 0.4405170977115631),\n",
       " ('slut', 0.3840107023715973),\n",
       " ('strong', 0.38083523511886597),\n",
       " ('relationship', 0.3579426109790802),\n",
       " ('husband', 0.35728368163108826),\n",
       " ('joke', 0.3498744070529938),\n",
       " ('solution', 0.3464955687522888),\n",
       " ('child', 0.3451111614704132)]"
      ]
     },
     "execution_count": 18,
     "metadata": {},
     "output_type": "execute_result"
    }
   ],
   "source": [
    "w2v_model.wv.most_similar(positive=[\"man\"])\n"
   ]
  },
  {
   "cell_type": "code",
   "execution_count": 19,
   "id": "e03e3bd9",
   "metadata": {},
   "outputs": [],
   "source": [
    "def W2Vvectorize(train):\n",
    "    corpus_text = '\\n'.join(train)\n",
    "    sentences = corpus_text.split('\\n')\n",
    "    sentences = [line.lower().split(' ') for line in sentences]\n",
    "\n",
    "    def clean(s):\n",
    "        return [w.strip(',.\"!?:;()\\'') for w in s]\n",
    "\n",
    "    sentences = [clean(s) for s in sentences if len(s) > 0]\n",
    "    vector=[]\n",
    "    for sent in sentences:\n",
    "        sent_vec=np.zeros(100)\n",
    "        count =0\n",
    "        for word in sent: \n",
    "            if word in w2v_model.wv:\n",
    "                vec = vectors[word]\n",
    "                sent_vec += vec \n",
    "                count += 1\n",
    "        if count != 0:\n",
    "            sent_vec /= count #normalize\n",
    "        vector.append(sent_vec)\n",
    "    return vector"
   ]
  },
  {
   "cell_type": "code",
   "execution_count": 21,
   "id": "6eea6145",
   "metadata": {},
   "outputs": [],
   "source": [
    "from sklearn.svm import SVC\n",
    "from sklearn.pipeline import make_pipeline\n",
    "from sklearn.preprocessing import StandardScaler\n",
    "from sklearn.preprocessing import LabelEncoder\n",
    "\n",
    "le = LabelEncoder()\n",
    "clf = SVC()\n",
    "\n",
    "lista_label = np.array(df_train[\"label\"])\n",
    "lista_label = le.fit_transform(lista_label)\n",
    "\n",
    "nova_lista = W2Vvectorize(df_train[\"text\"])\n",
    "\n",
    "clf = make_pipeline(StandardScaler(), SVC(gamma='auto'))\n",
    "clf = clf.fit(nova_lista, lista_label)\n"
   ]
  },
  {
   "cell_type": "code",
   "execution_count": 22,
   "id": "320abd12",
   "metadata": {},
   "outputs": [
    {
     "name": "stdout",
     "output_type": "stream",
     "text": [
      "Training:0.8312244897959183\n",
      "Test:0.7775\n"
     ]
    }
   ],
   "source": [
    "print(\"Training:\"+str(clf.score(nova_lista, lista_label)))\n",
    "\n",
    "lista_label_test = np.array(df_test[\"label\"])\n",
    "lista_label_test = le.fit_transform(lista_label_test)\n",
    "nova_lista_test = W2Vvectorize(df_test[\"text\"])\n",
    "\n",
    "print(\"Test:\"+str(clf.score(nova_lista_test,lista_label_test)))\n"
   ]
  },
  {
   "cell_type": "code",
   "execution_count": 23,
   "id": "259219a4",
   "metadata": {},
   "outputs": [],
   "source": [
    "def evaluate(model, text, y_test, target_names=('not sexist', 'sexist')):\n",
    "    import matplotlib.pyplot as plt\n",
    "    from sklearn.metrics import classification_report\n",
    "    from sklearn.metrics import ConfusionMatrixDisplay\n",
    "    from sklearn.metrics import precision_recall_fscore_support\n",
    "\n",
    "    text_features = W2Vvectorize(text)\n",
    "    y_test_pred = model.predict(text_features)\n",
    "    print(classification_report(y_test, y_test_pred, target_names=target_names))\n",
    "\n",
    "    precision, recall, f1, _ = precision_recall_fscore_support(y_test, y_test_pred, average=\"micro\")\n",
    "    print(f\"Precision: {precision:6.2f}\")\n",
    "    print(f\"   Recall: {recall:6.2f}\")\n",
    "    print(f\"       F1: {f1:6.2f}\")\n",
    "\n",
    "    ConfusionMatrixDisplay.from_predictions(y_test, y_test_pred, display_labels=target_names)\n",
    "    plt.show()"
   ]
  },
  {
   "cell_type": "code",
   "execution_count": 24,
   "id": "53c82bd8",
   "metadata": {},
   "outputs": [
    {
     "name": "stdout",
     "output_type": "stream",
     "text": [
      "              precision    recall  f1-score   support\n",
      "\n",
      "  not sexist       0.78      0.98      0.87      2120\n",
      "      sexist       0.70      0.15      0.24       680\n",
      "\n",
      "    accuracy                           0.78      2800\n",
      "   macro avg       0.74      0.56      0.56      2800\n",
      "weighted avg       0.76      0.78      0.72      2800\n",
      "\n",
      "Precision:   0.78\n",
      "   Recall:   0.78\n",
      "       F1:   0.78\n"
     ]
    },
    {
     "data": {
      "image/png": "[encoded data removed]",
      "text/plain": [
       "<Figure size 640x480 with 2 Axes>"
      ]
     },
     "metadata": {},
     "output_type": "display_data"
    }
   ],
   "source": [
    "evaluate(clf, df_test.text, lista_label_test)"
   ]
  },
  {
   "cell_type": "code",
   "execution_count": 25,
   "id": "572da00c",
   "metadata": {},
   "outputs": [
    {
     "name": "stdout",
     "output_type": "stream",
     "text": [
      "not sexist\n"
     ]
    }
   ],
   "source": [
    "tekst = \"bitch\"\n",
    "tekst_v = W2Vvectorize(tekst)\n",
    "if round(np.mean(clf.predict(tekst_v))) == 1: print('sexist')\n",
    "else: print('not sexist')"
   ]
  },
  {
   "cell_type": "markdown",
   "id": "f5b61017",
   "metadata": {},
   "source": [
    "SVM +TF_IDF"
   ]
  },
  {
   "cell_type": "code",
   "execution_count": 26,
   "id": "ae092cd3",
   "metadata": {},
   "outputs": [],
   "source": [
    "from sklearn.feature_extraction.text import TfidfVectorizer\n",
    "\n",
    "corpus = df_train[\"text\"]\n",
    "vectorizer = TfidfVectorizer()\n",
    "X = vectorizer.fit_transform(corpus)\n"
   ]
  },
  {
   "cell_type": "code",
   "execution_count": 27,
   "id": "fb4143a6",
   "metadata": {},
   "outputs": [],
   "source": [
    "from sklearn.svm import SVC\n",
    "from sklearn.pipeline import make_pipeline\n",
    "from sklearn.preprocessing import StandardScaler\n",
    "from sklearn.preprocessing import LabelEncoder\n",
    "\n",
    "le = LabelEncoder()\n",
    "clf = SVC()\n",
    "\n",
    "lista_label = np.array(df_train[\"label\"])\n",
    "lista_label = le.fit_transform(lista_label)\n",
    "\n",
    "clf = make_pipeline(StandardScaler(with_mean=False), SVC(gamma='auto'))\n",
    "clf = clf.fit(X, lista_label)\n"
   ]
  },
  {
   "cell_type": "code",
   "execution_count": 28,
   "id": "1feb13bb",
   "metadata": {},
   "outputs": [
    {
     "name": "stdout",
     "output_type": "stream",
     "text": [
      "Training:0.9171428571428571\n",
      "Test:0.7610714285714286\n"
     ]
    }
   ],
   "source": [
    "print(\"Training:\"+str(clf.score(X, lista_label)))\n",
    "\n",
    "lista_label_test = np.array(df_test[\"label\"])\n",
    "lista_label_test = le.transform(lista_label_test)\n",
    "nova_lista_test = vectorizer.transform(df_test[\"text\"])\n",
    "\n",
    "print(\"Test:\"+str(clf.score(nova_lista_test,lista_label_test)))"
   ]
  },
  {
   "cell_type": "code",
   "execution_count": 29,
   "id": "840c8f90",
   "metadata": {},
   "outputs": [],
   "source": [
    "def evaluate(model, tf_idf, text, y_test, target_names=('not sexist', 'sexist')):\n",
    "    import matplotlib.pyplot as plt\n",
    "    from sklearn.metrics import classification_report\n",
    "    from sklearn.metrics import ConfusionMatrixDisplay\n",
    "    from sklearn.metrics import precision_recall_fscore_support\n",
    "\n",
    "    text_features = tf_idf.transform(text)\n",
    "    y_test_pred = model.predict(text_features)\n",
    "    print(classification_report(y_test, y_test_pred, target_names=target_names))\n",
    "\n",
    "    precision, recall, f1, _ = precision_recall_fscore_support(y_test, y_test_pred, average=\"micro\")\n",
    "    print(f\"Precision: {precision:6.2f}\")\n",
    "    print(f\"   Recall: {recall:6.2f}\")\n",
    "    print(f\"       F1: {f1:6.2f}\")\n",
    "\n",
    "    ConfusionMatrixDisplay.from_predictions(y_test, y_test_pred, display_labels=target_names)\n",
    "    plt.show()"
   ]
  },
  {
   "cell_type": "code",
   "execution_count": 30,
   "id": "c8d6b0f8",
   "metadata": {},
   "outputs": [
    {
     "name": "stdout",
     "output_type": "stream",
     "text": [
      "              precision    recall  f1-score   support\n",
      "\n",
      "  not sexist       0.76      1.00      0.86      2120\n",
      "      sexist       0.92      0.02      0.03       680\n",
      "\n",
      "    accuracy                           0.76      2800\n",
      "   macro avg       0.84      0.51      0.45      2800\n",
      "weighted avg       0.80      0.76      0.66      2800\n",
      "\n",
      "Precision:   0.76\n",
      "   Recall:   0.76\n",
      "       F1:   0.76\n"
     ]
    },
    {
     "data": {
      "image/png": "[encoded data removed]",
      "text/plain": [
       "<Figure size 640x480 with 2 Axes>"
      ]
     },
     "metadata": {},
     "output_type": "display_data"
    }
   ],
   "source": [
    "evaluate(clf, vectorizer, df_test.text, lista_label_test)"
   ]
  },
  {
   "cell_type": "code",
   "execution_count": 34,
   "id": "66d747e2",
   "metadata": {},
   "outputs": [
    {
     "name": "stdout",
     "output_type": "stream",
     "text": [
      "sexist\n"
     ]
    }
   ],
   "source": [
    "tekst = \"you are bitch\"\n",
    "tekst_v = vectorizer.transform([tekst])\n",
    "if round(np.mean(clf.predict(tekst_v))) == 1: print('sexist')\n",
    "else: print('not sexist')"
   ]
  },
  {
   "cell_type": "code",
   "execution_count": null,
   "id": "4403d40b",
   "metadata": {},
   "outputs": [],
   "source": []
  }
 ],
 "metadata": {
  "kernelspec": {
   "display_name": "Python 3 (ipykernel)",
   "language": "python",
   "name": "python3"
  },
  "language_info": {
   "codemirror_mode": {
    "name": "ipython",
    "version": 3
   },
   "file_extension": ".py",
   "mimetype": "text/x-python",
   "name": "python",
   "nbconvert_exporter": "python",
   "pygments_lexer": "ipython3",
   "version": "3.10.8"
  },
  "vscode": {
   "interpreter": {
    "hash": "a4dbf14aa9149df7da5047131b4f5a980e4602c9d39113889227f0df846bcbd3"
   }
  }
 },
 "nbformat": 4,
 "nbformat_minor": 5
}
