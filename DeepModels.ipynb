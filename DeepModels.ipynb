{
 "cells": [
  {
   "cell_type": "code",
   "execution_count": 1,
   "id": "d1c63f27",
   "metadata": {},
   "outputs": [
    {
     "ename": "ModuleNotFoundError",
     "evalue": "No module named 'spacy'",
     "output_type": "error",
     "traceback": [
      "\u001b[0;31m---------------------------------------------------------------------------\u001b[0m",
      "\u001b[0;31mModuleNotFoundError\u001b[0m                       Traceback (most recent call last)",
      "Cell \u001b[0;32mIn [1], line 2\u001b[0m\n\u001b[1;32m      1\u001b[0m \u001b[39mimport\u001b[39;00m \u001b[39mre\u001b[39;00m\n\u001b[0;32m----> 2\u001b[0m \u001b[39mimport\u001b[39;00m \u001b[39mspacy\u001b[39;00m\n\u001b[1;32m      3\u001b[0m \u001b[39mimport\u001b[39;00m \u001b[39mpandas\u001b[39;00m \u001b[39mas\u001b[39;00m \u001b[39mpd\u001b[39;00m\n\u001b[1;32m      4\u001b[0m \u001b[39mfrom\u001b[39;00m \u001b[39mnltk\u001b[39;00m\u001b[39m.\u001b[39;00m\u001b[39mcorpus\u001b[39;00m \u001b[39mimport\u001b[39;00m stopwords\n",
      "\u001b[0;31mModuleNotFoundError\u001b[0m: No module named 'spacy'"
     ]
    }
   ],
   "source": [
    "import re\n",
    "import spacy\n",
    "import pandas as pd\n",
    "from nltk.corpus import stopwords\n",
    "from collections import Counter\n",
    "nlp = spacy.load(\n",
    "    \"en_core_web_lg\"\n",
    ")\n",
    "df = pd.read_csv(\"train_all_tasks.csv\")"
   ]
  },
  {
   "cell_type": "code",
   "execution_count": 2,
   "id": "e6047a89",
   "metadata": {},
   "outputs": [
    {
     "name": "stdout",
     "output_type": "stream",
     "text": [
      "2800 1400 9800\n"
     ]
    }
   ],
   "source": [
    "import numpy as np\n",
    "from sklearn.model_selection import StratifiedShuffleSplit\n",
    "\n",
    "sss = StratifiedShuffleSplit(n_splits=1, test_size=0.2, random_state=42)\n",
    "\n",
    "lista_tekst = df[\"text\"]\n",
    "lista_label = df[\"label_sexist\"]\n",
    "\n",
    "for train_index, test_index in sss.split(lista_tekst, lista_label):\n",
    "    X_train, X_test = lista_tekst[train_index], lista_tekst[test_index]\n",
    "    y_train, y_test = lista_label[train_index], lista_label[test_index]\n",
    "    d_train = {\"text\": X_train, \"label\": y_train}\n",
    "    df_train = pd.DataFrame(d_train)\n",
    "    d_test = {\"text\": X_test, \"label\": y_test}\n",
    "    df_test = pd.DataFrame(d_test)\n",
    "\n",
    "sss = StratifiedShuffleSplit(n_splits=1, test_size=0.125, random_state=42)\n",
    "\n",
    "lista_tekst = np.array(df_train[\"text\"])\n",
    "lista_label = np.array(df_train[\"label\"])\n",
    "\n",
    "for train_index, valid_index in sss.split(lista_tekst, lista_label):\n",
    "    X_train, X_valid = lista_tekst[train_index], lista_tekst[valid_index]\n",
    "    y_train, y_valid = lista_label[train_index], lista_label[valid_index]\n",
    "    d_train = {\"text\": X_train, \"label\": y_train}\n",
    "    df_train = pd.DataFrame(d_train)\n",
    "    d_valid = {\"text\": X_valid, \"label\": y_valid}\n",
    "    df_valid = pd.DataFrame(d_valid)\n",
    "\n",
    "print(len(df_test), len(df_valid), len(df_train))\n"
   ]
  },
  {
   "cell_type": "code",
   "execution_count": 3,
   "id": "c097e0bb",
   "metadata": {},
   "outputs": [],
   "source": [
    "from gensim.models import KeyedVectors\n",
    "from gensim import models\n",
    "from gensim.utils import simple_preprocess\n",
    "\n",
    "word2vec_path = '../GoogleNews-vectors-negative300.bin'\n",
    "model = models.KeyedVectors.load_word2vec_format(word2vec_path, binary = True)"
   ]
  },
  {
   "cell_type": "code",
   "execution_count": 4,
   "id": "1f85b877",
   "metadata": {},
   "outputs": [],
   "source": [
    "def W2Vvectorize(train):\n",
    "    corpus_text = '\\n'.join(train)\n",
    "    sentences = corpus_text.split('\\n')\n",
    "    sentences = [line.lower().split(' ') for line in sentences]\n",
    "\n",
    "    def clean(s):\n",
    "        return [w.strip(',.\"!?:;()\\'') for w in s]\n",
    "\n",
    "    sentences = [clean(s) for s in sentences if len(s) > 0]\n",
    "    vector=[]\n",
    "    for sent in sentences:\n",
    "        sent_vec=np.zeros(300)\n",
    "        count =0\n",
    "        for word in sent: \n",
    "            if word in model:\n",
    "                vec = model[word]\n",
    "                sent_vec += vec \n",
    "                count += 1\n",
    "        if count != 0:\n",
    "            sent_vec /= count #normalize\n",
    "        vector.append(sent_vec)\n",
    "    return vector"
   ]
  },
  {
   "cell_type": "code",
   "execution_count": 2,
   "id": "585efcc3",
   "metadata": {},
   "outputs": [],
   "source": [
    "def evaluate(model, text, y_test, target_names=('not sexist', 'sexist')):\n",
    "    import matplotlib.pyplot as plt\n",
    "    from sklearn.metrics import classification_report\n",
    "    from sklearn.metrics import ConfusionMatrixDisplay\n",
    "    from sklearn.metrics import precision_recall_fscore_support\n",
    "\n",
    "    text_features = W2Vvectorize(text)\n",
    "    y_test_pred = model.predict(text_features)\n",
    "    print(classification_report(y_test, y_test_pred, target_names=target_names))\n",
    "\n",
    "    precision, recall, f1, _ = precision_recall_fscore_support(y_test, y_test_pred, average=\"micro\")\n",
    "    print(f\"Precision: {precision:6.2f}\")\n",
    "    print(f\"   Recall: {recall:6.2f}\")\n",
    "    print(f\"       F1: {f1:6.2f}\")\n",
    "\n",
    "    ConfusionMatrixDisplay.from_predictions(y_test, y_test_pred, display_labels=target_names)\n",
    "    plt.show()"
   ]
  },
  {
   "cell_type": "code",
   "execution_count": 3,
   "id": "9d56a7dd",
   "metadata": {},
   "outputs": [
    {
     "ename": "ModuleNotFoundError",
     "evalue": "No module named 'sklearn'",
     "output_type": "error",
     "traceback": [
      "\u001b[0;31m---------------------------------------------------------------------------\u001b[0m",
      "\u001b[0;31mModuleNotFoundError\u001b[0m                       Traceback (most recent call last)",
      "Cell \u001b[0;32mIn [3], line 1\u001b[0m\n\u001b[0;32m----> 1\u001b[0m \u001b[39mfrom\u001b[39;00m \u001b[39msklearn\u001b[39;00m\u001b[39m.\u001b[39;00m\u001b[39msvm\u001b[39;00m \u001b[39mimport\u001b[39;00m SVC\n\u001b[1;32m      2\u001b[0m \u001b[39mfrom\u001b[39;00m \u001b[39msklearn\u001b[39;00m\u001b[39m.\u001b[39;00m\u001b[39mpipeline\u001b[39;00m \u001b[39mimport\u001b[39;00m make_pipeline\n\u001b[1;32m      3\u001b[0m \u001b[39mfrom\u001b[39;00m \u001b[39msklearn\u001b[39;00m\u001b[39m.\u001b[39;00m\u001b[39mpreprocessing\u001b[39;00m \u001b[39mimport\u001b[39;00m StandardScaler\n",
      "\u001b[0;31mModuleNotFoundError\u001b[0m: No module named 'sklearn'"
     ]
    }
   ],
   "source": [
    "from sklearn.svm import SVC\n",
    "from sklearn.pipeline import make_pipeline\n",
    "from sklearn.preprocessing import StandardScaler\n",
    "from sklearn.preprocessing import LabelEncoder\n",
    "\n",
    "le = LabelEncoder()\n",
    "\n",
    "lista_label = np.array(df_train[\"label\"])\n",
    "lista_label = le.fit_transform(lista_label)\n",
    "\n",
    "nova_lista = W2Vvectorize(df_train[\"text\"])"
   ]
  }
 ],
 "metadata": {
  "kernelspec": {
   "display_name": "Python 3.10.7 ('usr')",
   "language": "python",
   "name": "python3"
  },
  "language_info": {
   "codemirror_mode": {
    "name": "ipython",
    "version": 3
   },
   "file_extension": ".py",
   "mimetype": "text/x-python",
   "name": "python",
   "nbconvert_exporter": "python",
   "pygments_lexer": "ipython3",
   "version": "3.10.7"
  },
  "vscode": {
   "interpreter": {
    "hash": "767d51c1340bd893661ea55ea3124f6de3c7a262a8b4abca0554b478b1e2ff90"
   }
  }
 },
 "nbformat": 4,
 "nbformat_minor": 5
}
