{
 "cells": [
  {
   "cell_type": "markdown",
   "id": "13d94d2a",
   "metadata": {},
   "source": [
    "Podaci nisu podijeljeni na train/valid/test"
   ]
  },
  {
   "cell_type": "code",
   "execution_count": 112,
   "id": "bfc0298d",
   "metadata": {},
   "outputs": [],
   "source": [
    "import re\n",
    "import spacy\n",
    "import pandas as pd\n",
    "from nltk.corpus import stopwords\n",
    "from collections import Counter\n",
    "nlp = spacy.load(\n",
    "    \"en_core_web_lg\"\n",
    ")\n",
    "df = pd.read_csv(\"train_all_tasks.csv\")"
   ]
  },
  {
   "cell_type": "markdown",
   "id": "bba1f986",
   "metadata": {},
   "source": [
    "Svaki redak uzorka sadržava:"
   ]
  },
  {
   "cell_type": "code",
   "execution_count": 2,
   "id": "cce21613",
   "metadata": {
    "scrolled": true
   },
   "outputs": [
    {
     "name": "stdout",
     "output_type": "stream",
     "text": [
      "Index(['rewire_id', 'text', 'label_sexist', 'label_category', 'label_vector'], dtype='object')\n"
     ]
    }
   ],
   "source": [
    "print(df.columns)"
   ]
  },
  {
   "cell_type": "markdown",
   "id": "1e99a6a4",
   "metadata": {},
   "source": [
    "Broj redaka:"
   ]
  },
  {
   "cell_type": "code",
   "execution_count": 3,
   "id": "fd1e816d",
   "metadata": {
    "scrolled": true
   },
   "outputs": [
    {
     "name": "stdout",
     "output_type": "stream",
     "text": [
      "14000\n"
     ]
    }
   ],
   "source": [
    "print(df.shape[0])"
   ]
  },
  {
   "cell_type": "markdown",
   "id": "4295b9f9",
   "metadata": {},
   "source": [
    "Radimo s nebalansiranim skupom podataka\n",
    "\n",
    "Broj redaka iz klase seksistički:"
   ]
  },
  {
   "cell_type": "code",
   "execution_count": 4,
   "id": "88bf7539",
   "metadata": {},
   "outputs": [
    {
     "name": "stdout",
     "output_type": "stream",
     "text": [
      "3398\n"
     ]
    }
   ],
   "source": [
    "print(len(df[df['label_sexist'] == 'sexist']))"
   ]
  },
  {
   "cell_type": "markdown",
   "id": "be9aa1ec",
   "metadata": {},
   "source": [
    "Broj redaka iz klase neseksistički:"
   ]
  },
  {
   "cell_type": "code",
   "execution_count": 5,
   "id": "2e2d69b7",
   "metadata": {},
   "outputs": [
    {
     "name": "stdout",
     "output_type": "stream",
     "text": [
      "10602\n"
     ]
    }
   ],
   "source": [
    "print(len(df[df['label_sexist'] == 'not sexist']))"
   ]
  },
  {
   "cell_type": "markdown",
   "id": "c827de28",
   "metadata": {},
   "source": [
    "Nema Nan podataka:"
   ]
  },
  {
   "cell_type": "code",
   "execution_count": 6,
   "id": "df09f0b4",
   "metadata": {},
   "outputs": [
    {
     "name": "stdout",
     "output_type": "stream",
     "text": [
      "False\n"
     ]
    }
   ],
   "source": [
    "print(df.isnull().values.any())"
   ]
  },
  {
   "cell_type": "code",
   "execution_count": 7,
   "id": "9d46be00",
   "metadata": {},
   "outputs": [],
   "source": [
    "najvise = 0\n",
    "seksisti = []\n",
    "neseksisti = []\n",
    "prosrijeci = [0, 0]\n",
    "djelitelj = [0, 0]\n",
    "for i in df.itertuples():\n",
    "    doc = nlp(i.text.lower())\n",
    "    najvise = max(najvise, len(doc))\n",
    "    br_rijeci = len(doc)\n",
    "    tret = [token.lemma_\n",
    "         for token in doc\n",
    "         if not token.is_stop and not token.is_punct and token.is_alpha]\n",
    "    if i.label_sexist == 'sexist':\n",
    "        prosrijeci[0] += br_rijeci\n",
    "        djelitelj[0] += 1\n",
    "        for j in tret:\n",
    "            seksisti.append(j)\n",
    "    else:\n",
    "        prosrijeci[1] += br_rijeci\n",
    "        djelitelj[1] += 1\n",
    "        for j in tret:\n",
    "            neseksisti.append(j)"
   ]
  },
  {
   "cell_type": "markdown",
   "id": "cd59f4e0",
   "metadata": {},
   "source": [
    "Najčešće riječi za klasu seksisti:"
   ]
  },
  {
   "cell_type": "code",
   "execution_count": 8,
   "id": "a9b61414",
   "metadata": {},
   "outputs": [
    {
     "name": "stdout",
     "output_type": "stream",
     "text": [
      "('woman', 1726)\n",
      "('man', 729)\n",
      "('like', 502)\n",
      "('bitch', 498)\n",
      "('fuck', 359)\n"
     ]
    }
   ],
   "source": [
    "word_freq = Counter(seksisti)\n",
    "common_words = word_freq.most_common(5)\n",
    "for i in common_words:\n",
    "    print(i)"
   ]
  },
  {
   "cell_type": "markdown",
   "id": "64daf304",
   "metadata": {},
   "source": [
    "Najčešće riječi za klasu ne seksisti:"
   ]
  },
  {
   "cell_type": "code",
   "execution_count": 9,
   "id": "ca749319",
   "metadata": {},
   "outputs": [
    {
     "name": "stdout",
     "output_type": "stream",
     "text": [
      "('woman', 2626)\n",
      "('url', 1516)\n",
      "('like', 1300)\n",
      "('girl', 1228)\n",
      "('man', 1033)\n"
     ]
    }
   ],
   "source": [
    "word_freq = Counter(neseksisti)\n",
    "common_words = word_freq.most_common(5)\n",
    "for i in common_words:\n",
    "    print(i)"
   ]
  },
  {
   "cell_type": "markdown",
   "id": "8c31a79c",
   "metadata": {},
   "source": [
    "Broj prosječnih riječi: (tokena)\n",
    "[seksisti, neseksisti]"
   ]
  },
  {
   "cell_type": "code",
   "execution_count": 10,
   "id": "3942a564",
   "metadata": {},
   "outputs": [
    {
     "name": "stdout",
     "output_type": "stream",
     "text": [
      "86\n",
      "[29.620364920541494, 27.688077721184683]\n"
     ]
    }
   ],
   "source": [
    "print(najvise)\n",
    "prosrijeci[0] /= djelitelj[0]\n",
    "prosrijeci[1] /= djelitelj[1]\n",
    "print(prosrijeci)"
   ]
  },
  {
   "cell_type": "markdown",
   "id": "7a95cf87",
   "metadata": {},
   "source": [
    "Razdvojimo na train/valid/test:"
   ]
  },
  {
   "cell_type": "code",
   "execution_count": 113,
   "id": "0b33652d",
   "metadata": {},
   "outputs": [
    {
     "name": "stdout",
     "output_type": "stream",
     "text": [
      "2800 1400 9800\n"
     ]
    }
   ],
   "source": [
    "import numpy as np\n",
    "from sklearn.model_selection import StratifiedShuffleSplit\n",
    "\n",
    "sss = StratifiedShuffleSplit(n_splits=1, test_size=0.2, random_state=42)\n",
    "\n",
    "lista_tekst = df[\"text\"]\n",
    "lista_label = df[\"label_sexist\"]\n",
    "\n",
    "for train_index, test_index in sss.split(lista_tekst, lista_label):\n",
    "    X_train, X_test = lista_tekst[train_index], lista_tekst[test_index]\n",
    "    y_train, y_test = lista_label[train_index], lista_label[test_index]\n",
    "    d_train = {\"text\": X_train, \"label\": y_train}\n",
    "    df_train = pd.DataFrame(d_train)\n",
    "    d_test = {\"text\": X_test, \"label\": y_test}\n",
    "    df_test = pd.DataFrame(d_test)\n",
    "\n",
    "sss = StratifiedShuffleSplit(n_splits=1, test_size=0.125, random_state=42)\n",
    "\n",
    "lista_tekst = np.array(df_train[\"text\"])\n",
    "lista_label = np.array(df_train[\"label\"])\n",
    "\n",
    "for train_index, valid_index in sss.split(lista_tekst, lista_label):\n",
    "    X_train, X_valid = lista_tekst[train_index], lista_tekst[valid_index]\n",
    "    y_train, y_valid = lista_label[train_index], lista_label[valid_index]\n",
    "    d_train = {\"text\": X_train, \"label\": y_train}\n",
    "    df_train = pd.DataFrame(d_train)\n",
    "    d_valid = {\"text\": X_valid, \"label\": y_valid}\n",
    "    df_valid = pd.DataFrame(d_valid)\n",
    "\n",
    "print(len(df_test), len(df_valid), len(df_train))\n"
   ]
  },
  {
   "cell_type": "markdown",
   "id": "7901d7e6",
   "metadata": {},
   "source": [
    "Pogledajmo [URL], [USER], emoji:"
   ]
  },
  {
   "cell_type": "markdown",
   "id": "127be996",
   "metadata": {},
   "source": [
    "Za [URL]:"
   ]
  },
  {
   "cell_type": "code",
   "execution_count": 12,
   "id": "652a8bfc",
   "metadata": {},
   "outputs": [
    {
     "name": "stdout",
     "output_type": "stream",
     "text": [
      "[141, 1081]\n",
      "0.059293523969722456 0.018997574777687955\n"
     ]
    }
   ],
   "source": [
    "urlovi = [0, 0]\n",
    "sexist_c = len(df_train[df_train['label'] == 'sexist'])\n",
    "nsexist_c = len(df_train[df_train['label'] == 'not sexist'])\n",
    "for i in df_train.itertuples():\n",
    "    kolko = i.text.count(\"[URL]\")\n",
    "    if i.label == 'sexist':\n",
    "        urlovi[0] += kolko\n",
    "    else:\n",
    "        urlovi[1] += kolko\n",
    "print(urlovi)\n",
    "print(urlovi[0] / sexist_c, urlovi[0] / nsexist_c)"
   ]
  },
  {
   "cell_type": "markdown",
   "id": "900c7109",
   "metadata": {},
   "source": [
    "Za [USER]:"
   ]
  },
  {
   "cell_type": "code",
   "execution_count": 13,
   "id": "793f111c",
   "metadata": {},
   "outputs": [
    {
     "name": "stdout",
     "output_type": "stream",
     "text": [
      "[104, 567]\n",
      "0.04373423044575273 0.07639450282942603\n"
     ]
    }
   ],
   "source": [
    "useri = [0, 0]\n",
    "for i in df_train.itertuples():\n",
    "    kolko = i.text.count(\"[USER]\")\n",
    "    if i.label == 'sexist':\n",
    "        useri[0] += kolko\n",
    "    else:\n",
    "        useri[1] += kolko\n",
    "print(useri)\n",
    "print(useri[0] / sexist_c, useri[1] / nsexist_c)"
   ]
  },
  {
   "cell_type": "markdown",
   "id": "dc74838a",
   "metadata": {},
   "source": [
    "Za emoji:"
   ]
  },
  {
   "cell_type": "code",
   "execution_count": 14,
   "id": "51614faf",
   "metadata": {},
   "outputs": [
    {
     "data": {
      "text/plain": [
       "['🤔', '🙈', '😌', '💕', '👭', '👙']"
      ]
     },
     "execution_count": 14,
     "metadata": {},
     "output_type": "execute_result"
    }
   ],
   "source": [
    "import re\n",
    "a_list = ['🤔 🙈 me así, bla es se 😌 ds 💕👭👙']\n",
    "re.findall(r'[^\\w\\s,]', a_list[0])"
   ]
  },
  {
   "cell_type": "code",
   "execution_count": 18,
   "id": "e302f4bf",
   "metadata": {},
   "outputs": [
    {
     "name": "stdout",
     "output_type": "stream",
     "text": [
      "[118, 614]\n",
      "0.0496215306980656 0.08272702775532202\n"
     ]
    }
   ],
   "source": [
    "emojiji = [0, 0]\n",
    "for i in df_train.itertuples():\n",
    "    doc = nlp(i.text)\n",
    "    kolko = len(re.findall(r'[^\\w\\s,]', str(doc)[0]))\n",
    "    if i.label == 'sexist':\n",
    "        emojiji[0] += kolko\n",
    "    else:\n",
    "        emojiji[1] += kolko\n",
    "print(emojiji)\n",
    "print(emojiji[0] / sexist_c, emojiji[1] / nsexist_c)"
   ]
  },
  {
   "cell_type": "markdown",
   "id": "6aed3631",
   "metadata": {},
   "source": [
    "SVM + WORD2VEC"
   ]
  },
  {
   "cell_type": "code",
   "execution_count": 114,
   "id": "7d8b70a0",
   "metadata": {},
   "outputs": [],
   "source": [
    "from gensim.models import KeyedVectors\n",
    "from gensim import models\n",
    "from gensim.utils import simple_preprocess\n",
    "\n",
    "word2vec_path = '.\\word2vec_pretrained\\GoogleNews-vectors-negative300.bin'\n",
    "model = models.KeyedVectors.load_word2vec_format(word2vec_path, binary = True)\n",
    "\n"
   ]
  },
  {
   "cell_type": "code",
   "execution_count": 20,
   "id": "0534d082",
   "metadata": {},
   "outputs": [
    {
     "data": {
      "text/plain": [
       "[('woman', 0.7664012908935547),\n",
       " ('boy', 0.6824871301651001),\n",
       " ('teenager', 0.6586930155754089),\n",
       " ('teenage_girl', 0.6147903203964233),\n",
       " ('girl', 0.5921714305877686),\n",
       " ('suspected_purse_snatcher', 0.571636438369751),\n",
       " ('robber', 0.5585119128227234),\n",
       " ('Robbery_suspect', 0.5584409832954407),\n",
       " ('teen_ager', 0.5549196600914001),\n",
       " ('men', 0.5489763021469116)]"
      ]
     },
     "execution_count": 20,
     "metadata": {},
     "output_type": "execute_result"
    }
   ],
   "source": [
    "model.most_similar(positive=[\"man\"])\n"
   ]
  },
  {
   "cell_type": "code",
   "execution_count": 115,
   "id": "e03e3bd9",
   "metadata": {},
   "outputs": [],
   "source": [
    "def W2Vvectorize(train):\n",
    "    corpus_text = '\\n'.join(train)\n",
    "    sentences = corpus_text.split('\\n')\n",
    "    sentences = [line.lower().split(' ') for line in sentences]\n",
    "\n",
    "    def clean(s):\n",
    "        return [w.strip(',.\"!?:;()\\'') for w in s]\n",
    "\n",
    "    sentences = [clean(s) for s in sentences if len(s) > 0]\n",
    "    vector=[]\n",
    "    for sent in sentences:\n",
    "        sent_vec=np.zeros(300)\n",
    "        count =0\n",
    "        for word in sent: \n",
    "            if word in model:\n",
    "                vec = model[word]\n",
    "                sent_vec += vec \n",
    "                count += 1\n",
    "        if count != 0:\n",
    "            sent_vec /= count #normalize\n",
    "        vector.append(sent_vec)\n",
    "    return vector"
   ]
  },
  {
   "cell_type": "markdown",
   "id": "5797c28a",
   "metadata": {},
   "source": [
    "W2v prije optimizacije hiperparametara:"
   ]
  },
  {
   "cell_type": "code",
   "execution_count": 119,
   "id": "381d51cf",
   "metadata": {},
   "outputs": [],
   "source": [
    "from sklearn.svm import SVC\n",
    "from sklearn.pipeline import make_pipeline\n",
    "from sklearn.preprocessing import StandardScaler\n",
    "from sklearn.preprocessing import LabelEncoder\n",
    "\n",
    "le = LabelEncoder()\n",
    "clf = SVC()\n",
    "\n",
    "label_train = np.array(df_train[\"label\"])\n",
    "label_train = le.fit_transform(label_train)\n",
    "\n",
    "text_train = W2Vvectorize(df_train[\"text\"])\n",
    "\n",
    "clf = make_pipeline(StandardScaler(),SVC(gamma='auto'))\n",
    "clf = clf.fit(text_train, label_train"
   ]
  },
  {
   "cell_type": "code",
   "execution_count": 120,
   "id": "93ce5f45",
   "metadata": {},
   "outputs": [
    {
     "name": "stdout",
     "output_type": "stream",
     "text": [
      "Training:0.8760204081632653\n",
      "Test:0.8039285714285714\n"
     ]
    }
   ],
   "source": [
    "print(\"Training:\"+str(clf.score(text_train, label_train)))\n",
    "\n",
    "label_test = np.array(df_test[\"label\"])\n",
    "label_test = le.fit_transform(label_test)\n",
    "text_test = W2Vvectorize(df_test[\"text\"])\n",
    "\n",
    "print(\"Test:\"+str(clf.score(text_test,label_test)))"
   ]
  },
  {
   "cell_type": "code",
   "execution_count": 110,
   "id": "59fefde5",
   "metadata": {},
   "outputs": [],
   "source": [
    "def evaluate(model, text, y_test, target_names=('not sexist', 'sexist')):\n",
    "    import matplotlib.pyplot as plt\n",
    "    from sklearn.metrics import classification_report\n",
    "    from sklearn.metrics import ConfusionMatrixDisplay\n",
    "    from sklearn.metrics import precision_recall_fscore_support\n",
    "\n",
    "    text_features = W2Vvectorize(text)\n",
    "    y_test_pred = model.predict(text_features)\n",
    "    print(classification_report(y_test, y_test_pred, target_names=target_names))\n",
    "\n",
    "    precision, recall, f1, _ = precision_recall_fscore_support(y_test, y_test_pred, average=\"micro\")\n",
    "    print(f\"Precision: {precision:6.2f}\")\n",
    "    print(f\"   Recall: {recall:6.2f}\")\n",
    "    print(f\"       F1: {f1:6.2f}\")\n",
    "\n",
    "    ConfusionMatrixDisplay.from_predictions(y_test, y_test_pred, display_labels=target_names)\n",
    "    plt.show()"
   ]
  },
  {
   "cell_type": "code",
   "execution_count": 121,
   "id": "538b0708",
   "metadata": {},
   "outputs": [
    {
     "name": "stdout",
     "output_type": "stream",
     "text": [
      "              precision    recall  f1-score   support\n",
      "\n",
      "  not sexist       0.81      0.97      0.88      2120\n",
      "      sexist       0.75      0.29      0.42       680\n",
      "\n",
      "    accuracy                           0.80      2800\n",
      "   macro avg       0.78      0.63      0.65      2800\n",
      "weighted avg       0.80      0.80      0.77      2800\n",
      "\n",
      "Precision:   0.80\n",
      "   Recall:   0.80\n",
      "       F1:   0.80\n"
     ]
    },
    {
     "data": {
      "image/png": "[encoded data removed]",
      "text/plain": [
       "<Figure size 432x288 with 2 Axes>"
      ]
     },
     "metadata": {
      "needs_background": "light"
     },
     "output_type": "display_data"
    }
   ],
   "source": [
    "evaluate(clf, df_test.text, label_test)"
   ]
  },
  {
   "cell_type": "markdown",
   "id": "f193dd93",
   "metadata": {},
   "source": [
    "W2v poslije optimizacije hiperparametara:"
   ]
  },
  {
   "cell_type": "markdown",
   "id": "e610421d",
   "metadata": {},
   "source": [
    "Tražimo na train i provjeravamo nad valid?"
   ]
  },
  {
   "cell_type": "code",
   "execution_count": 18,
   "id": "7d5290a1",
   "metadata": {},
   "outputs": [],
   "source": [
    "lista_label = np.array(df_train[\"label\"])\n",
    "lista_label = le.fit_transform(lista_label)\n",
    "\n",
    "nova_lista = W2Vvectorize(df_train[\"text\"])"
   ]
  },
  {
   "cell_type": "code",
   "execution_count": 30,
   "id": "372a0e2f",
   "metadata": {},
   "outputs": [
    {
     "name": "stdout",
     "output_type": "stream",
     "text": [
      "Fitting 5 folds for each of 100 candidates, totalling 500 fits\n",
      "[CV 1/5] END .....C=0.1, gamma=1, kernel=linear;, score=0.758 total time=   5.3s\n",
      "[CV 2/5] END .....C=0.1, gamma=1, kernel=linear;, score=0.758 total time=   5.4s\n",
      "[CV 3/5] END .....C=0.1, gamma=1, kernel=linear;, score=0.758 total time=   5.4s\n",
      "[CV 4/5] END .....C=0.1, gamma=1, kernel=linear;, score=0.757 total time=   5.5s\n",
      "[CV 5/5] END .....C=0.1, gamma=1, kernel=linear;, score=0.758 total time=   5.6s\n",
      "[CV 1/5] END .......C=0.1, gamma=1, kernel=poly;, score=0.767 total time=   5.7s\n",
      "[CV 2/5] END .......C=0.1, gamma=1, kernel=poly;, score=0.765 total time=   5.8s\n",
      "[CV 3/5] END .......C=0.1, gamma=1, kernel=poly;, score=0.766 total time=   5.8s\n",
      "[CV 4/5] END .......C=0.1, gamma=1, kernel=poly;, score=0.763 total time=   5.8s\n",
      "[CV 5/5] END .......C=0.1, gamma=1, kernel=poly;, score=0.766 total time=   5.8s\n",
      "[CV 1/5] END ........C=0.1, gamma=1, kernel=rbf;, score=0.758 total time=   7.0s\n",
      "[CV 2/5] END ........C=0.1, gamma=1, kernel=rbf;, score=0.758 total time=   6.4s\n",
      "[CV 3/5] END ........C=0.1, gamma=1, kernel=rbf;, score=0.757 total time=   6.4s\n",
      "[CV 4/5] END ........C=0.1, gamma=1, kernel=rbf;, score=0.757 total time=   6.3s\n",
      "[CV 5/5] END ........C=0.1, gamma=1, kernel=rbf;, score=0.757 total time=   6.4s\n",
      "[CV 1/5] END ....C=0.1, gamma=1, kernel=sigmoid;, score=0.743 total time=   5.2s\n",
      "[CV 2/5] END ....C=0.1, gamma=1, kernel=sigmoid;, score=0.747 total time=   5.2s\n",
      "[CV 3/5] END ....C=0.1, gamma=1, kernel=sigmoid;, score=0.740 total time=   5.5s\n",
      "[CV 4/5] END ....C=0.1, gamma=1, kernel=sigmoid;, score=0.741 total time=   5.2s\n",
      "[CV 5/5] END ....C=0.1, gamma=1, kernel=sigmoid;, score=0.738 total time=   5.3s\n",
      "[CV 1/5] END ...C=0.1, gamma=0.1, kernel=linear;, score=0.758 total time=   5.3s\n",
      "[CV 2/5] END ...C=0.1, gamma=0.1, kernel=linear;, score=0.758 total time=   5.6s\n",
      "[CV 3/5] END ...C=0.1, gamma=0.1, kernel=linear;, score=0.758 total time=   5.5s\n",
      "[CV 4/5] END ...C=0.1, gamma=0.1, kernel=linear;, score=0.757 total time=   5.5s\n",
      "[CV 5/5] END ...C=0.1, gamma=0.1, kernel=linear;, score=0.758 total time=   5.5s\n",
      "[CV 1/5] END .....C=0.1, gamma=0.1, kernel=poly;, score=0.758 total time=   5.1s\n",
      "[CV 2/5] END .....C=0.1, gamma=0.1, kernel=poly;, score=0.758 total time=   5.4s\n",
      "[CV 3/5] END .....C=0.1, gamma=0.1, kernel=poly;, score=0.757 total time=   5.3s\n",
      "[CV 4/5] END .....C=0.1, gamma=0.1, kernel=poly;, score=0.757 total time=   5.8s\n",
      "[CV 5/5] END .....C=0.1, gamma=0.1, kernel=poly;, score=0.757 total time=   5.9s\n",
      "[CV 1/5] END ......C=0.1, gamma=0.1, kernel=rbf;, score=0.758 total time=   6.4s\n",
      "[CV 2/5] END ......C=0.1, gamma=0.1, kernel=rbf;, score=0.758 total time=   6.4s\n",
      "[CV 3/5] END ......C=0.1, gamma=0.1, kernel=rbf;, score=0.757 total time=   6.4s\n",
      "[CV 4/5] END ......C=0.1, gamma=0.1, kernel=rbf;, score=0.757 total time=   6.5s\n",
      "[CV 5/5] END ......C=0.1, gamma=0.1, kernel=rbf;, score=0.757 total time=   6.3s\n",
      "[CV 1/5] END ..C=0.1, gamma=0.1, kernel=sigmoid;, score=0.758 total time=   6.0s\n",
      "[CV 2/5] END ..C=0.1, gamma=0.1, kernel=sigmoid;, score=0.758 total time=   5.8s\n",
      "[CV 3/5] END ..C=0.1, gamma=0.1, kernel=sigmoid;, score=0.757 total time=   5.8s\n",
      "[CV 4/5] END ..C=0.1, gamma=0.1, kernel=sigmoid;, score=0.757 total time=   5.8s\n",
      "[CV 5/5] END ..C=0.1, gamma=0.1, kernel=sigmoid;, score=0.757 total time=   5.9s\n",
      "[CV 1/5] END ..C=0.1, gamma=0.01, kernel=linear;, score=0.758 total time=   5.8s\n",
      "[CV 2/5] END ..C=0.1, gamma=0.01, kernel=linear;, score=0.758 total time=   5.8s\n",
      "[CV 3/5] END ..C=0.1, gamma=0.01, kernel=linear;, score=0.758 total time=   5.6s\n",
      "[CV 4/5] END ..C=0.1, gamma=0.01, kernel=linear;, score=0.757 total time=   5.4s\n",
      "[CV 5/5] END ..C=0.1, gamma=0.01, kernel=linear;, score=0.758 total time=   5.7s\n",
      "[CV 1/5] END ....C=0.1, gamma=0.01, kernel=poly;, score=0.758 total time=   4.7s\n",
      "[CV 2/5] END ....C=0.1, gamma=0.01, kernel=poly;, score=0.758 total time=   4.6s\n",
      "[CV 3/5] END ....C=0.1, gamma=0.01, kernel=poly;, score=0.757 total time=   4.5s\n",
      "[CV 4/5] END ....C=0.1, gamma=0.01, kernel=poly;, score=0.757 total time=   4.4s\n",
      "[CV 5/5] END ....C=0.1, gamma=0.01, kernel=poly;, score=0.757 total time=   4.5s\n",
      "[CV 1/5] END .....C=0.1, gamma=0.01, kernel=rbf;, score=0.758 total time=   5.8s\n",
      "[CV 2/5] END .....C=0.1, gamma=0.01, kernel=rbf;, score=0.758 total time=   5.8s\n",
      "[CV 3/5] END .....C=0.1, gamma=0.01, kernel=rbf;, score=0.757 total time=   5.7s\n",
      "[CV 4/5] END .....C=0.1, gamma=0.01, kernel=rbf;, score=0.757 total time=   5.8s\n",
      "[CV 5/5] END .....C=0.1, gamma=0.01, kernel=rbf;, score=0.757 total time=   5.8s\n",
      "[CV 1/5] END .C=0.1, gamma=0.01, kernel=sigmoid;, score=0.758 total time=   5.2s\n",
      "[CV 2/5] END .C=0.1, gamma=0.01, kernel=sigmoid;, score=0.758 total time=   5.2s\n",
      "[CV 3/5] END .C=0.1, gamma=0.01, kernel=sigmoid;, score=0.757 total time=   5.1s\n",
      "[CV 4/5] END .C=0.1, gamma=0.01, kernel=sigmoid;, score=0.757 total time=   5.0s\n",
      "[CV 5/5] END .C=0.1, gamma=0.01, kernel=sigmoid;, score=0.757 total time=   5.2s\n",
      "[CV 1/5] END .C=0.1, gamma=0.001, kernel=linear;, score=0.758 total time=   5.1s\n",
      "[CV 2/5] END .C=0.1, gamma=0.001, kernel=linear;, score=0.758 total time=   5.2s\n",
      "[CV 3/5] END .C=0.1, gamma=0.001, kernel=linear;, score=0.758 total time=   5.9s\n",
      "[CV 4/5] END .C=0.1, gamma=0.001, kernel=linear;, score=0.757 total time=   7.0s\n",
      "[CV 5/5] END .C=0.1, gamma=0.001, kernel=linear;, score=0.758 total time=   6.0s\n",
      "[CV 1/5] END ...C=0.1, gamma=0.001, kernel=poly;, score=0.758 total time=   4.6s\n",
      "[CV 2/5] END ...C=0.1, gamma=0.001, kernel=poly;, score=0.758 total time=   4.4s\n",
      "[CV 3/5] END ...C=0.1, gamma=0.001, kernel=poly;, score=0.757 total time=   4.3s\n",
      "[CV 4/5] END ...C=0.1, gamma=0.001, kernel=poly;, score=0.757 total time=   4.3s\n",
      "[CV 5/5] END ...C=0.1, gamma=0.001, kernel=poly;, score=0.757 total time=   4.2s\n",
      "[CV 1/5] END ....C=0.1, gamma=0.001, kernel=rbf;, score=0.758 total time=   5.3s\n",
      "[CV 2/5] END ....C=0.1, gamma=0.001, kernel=rbf;, score=0.758 total time=   5.3s\n",
      "[CV 3/5] END ....C=0.1, gamma=0.001, kernel=rbf;, score=0.757 total time=   5.4s\n",
      "[CV 4/5] END ....C=0.1, gamma=0.001, kernel=rbf;, score=0.757 total time=   5.1s\n",
      "[CV 5/5] END ....C=0.1, gamma=0.001, kernel=rbf;, score=0.757 total time=   5.2s\n",
      "[CV 1/5] END C=0.1, gamma=0.001, kernel=sigmoid;, score=0.758 total time=   4.6s\n",
      "[CV 2/5] END C=0.1, gamma=0.001, kernel=sigmoid;, score=0.758 total time=   4.6s\n",
      "[CV 3/5] END C=0.1, gamma=0.001, kernel=sigmoid;, score=0.757 total time=   4.6s\n",
      "[CV 4/5] END C=0.1, gamma=0.001, kernel=sigmoid;, score=0.757 total time=   4.6s\n",
      "[CV 5/5] END C=0.1, gamma=0.001, kernel=sigmoid;, score=0.757 total time=   4.6s\n",
      "[CV 1/5] END C=0.1, gamma=0.0001, kernel=linear;, score=0.758 total time=   5.0s\n",
      "[CV 2/5] END C=0.1, gamma=0.0001, kernel=linear;, score=0.758 total time=   5.0s\n",
      "[CV 3/5] END C=0.1, gamma=0.0001, kernel=linear;, score=0.758 total time=   5.0s\n",
      "[CV 4/5] END C=0.1, gamma=0.0001, kernel=linear;, score=0.757 total time=   5.0s\n",
      "[CV 5/5] END C=0.1, gamma=0.0001, kernel=linear;, score=0.758 total time=   5.0s\n",
      "[CV 1/5] END ..C=0.1, gamma=0.0001, kernel=poly;, score=0.758 total time=   4.3s\n",
      "[CV 2/5] END ..C=0.1, gamma=0.0001, kernel=poly;, score=0.758 total time=   4.2s\n",
      "[CV 3/5] END ..C=0.1, gamma=0.0001, kernel=poly;, score=0.757 total time=   4.3s\n",
      "[CV 4/5] END ..C=0.1, gamma=0.0001, kernel=poly;, score=0.757 total time=   4.6s\n",
      "[CV 5/5] END ..C=0.1, gamma=0.0001, kernel=poly;, score=0.757 total time=   4.3s\n",
      "[CV 1/5] END ...C=0.1, gamma=0.0001, kernel=rbf;, score=0.758 total time=   5.2s\n",
      "[CV 2/5] END ...C=0.1, gamma=0.0001, kernel=rbf;, score=0.758 total time=   5.3s\n",
      "[CV 3/5] END ...C=0.1, gamma=0.0001, kernel=rbf;, score=0.757 total time=   5.2s\n",
      "[CV 4/5] END ...C=0.1, gamma=0.0001, kernel=rbf;, score=0.757 total time=   5.1s\n",
      "[CV 5/5] END ...C=0.1, gamma=0.0001, kernel=rbf;, score=0.757 total time=   5.4s\n",
      "[CV 1/5] END C=0.1, gamma=0.0001, kernel=sigmoid;, score=0.758 total time=   4.8s\n",
      "[CV 2/5] END C=0.1, gamma=0.0001, kernel=sigmoid;, score=0.758 total time=   4.6s\n",
      "[CV 3/5] END C=0.1, gamma=0.0001, kernel=sigmoid;, score=0.757 total time=   4.5s\n",
      "[CV 4/5] END C=0.1, gamma=0.0001, kernel=sigmoid;, score=0.757 total time=   4.5s\n",
      "[CV 5/5] END C=0.1, gamma=0.0001, kernel=sigmoid;, score=0.757 total time=   4.5s\n",
      "[CV 1/5] END .......C=1, gamma=1, kernel=linear;, score=0.768 total time=   5.1s\n"
     ]
    },
    {
     "name": "stdout",
     "output_type": "stream",
     "text": [
      "[CV 2/5] END .......C=1, gamma=1, kernel=linear;, score=0.767 total time=   5.7s\n",
      "[CV 3/5] END .......C=1, gamma=1, kernel=linear;, score=0.768 total time=   5.3s\n",
      "[CV 4/5] END .......C=1, gamma=1, kernel=linear;, score=0.766 total time=   5.1s\n",
      "[CV 5/5] END .......C=1, gamma=1, kernel=linear;, score=0.770 total time=   5.3s\n",
      "[CV 1/5] END .........C=1, gamma=1, kernel=poly;, score=0.783 total time=   5.8s\n",
      "[CV 2/5] END .........C=1, gamma=1, kernel=poly;, score=0.796 total time=   5.8s\n",
      "[CV 3/5] END .........C=1, gamma=1, kernel=poly;, score=0.793 total time=   5.7s\n",
      "[CV 4/5] END .........C=1, gamma=1, kernel=poly;, score=0.783 total time=   5.4s\n",
      "[CV 5/5] END .........C=1, gamma=1, kernel=poly;, score=0.799 total time=   4.9s\n",
      "[CV 1/5] END ..........C=1, gamma=1, kernel=rbf;, score=0.789 total time=   5.5s\n",
      "[CV 2/5] END ..........C=1, gamma=1, kernel=rbf;, score=0.807 total time=   5.4s\n",
      "[CV 3/5] END ..........C=1, gamma=1, kernel=rbf;, score=0.805 total time=   5.9s\n",
      "[CV 4/5] END ..........C=1, gamma=1, kernel=rbf;, score=0.790 total time=   6.1s\n",
      "[CV 5/5] END ..........C=1, gamma=1, kernel=rbf;, score=0.804 total time=   5.5s\n",
      "[CV 1/5] END ......C=1, gamma=1, kernel=sigmoid;, score=0.666 total time=   3.5s\n",
      "[CV 2/5] END ......C=1, gamma=1, kernel=sigmoid;, score=0.662 total time=   3.6s\n",
      "[CV 3/5] END ......C=1, gamma=1, kernel=sigmoid;, score=0.643 total time=   3.6s\n",
      "[CV 4/5] END ......C=1, gamma=1, kernel=sigmoid;, score=0.662 total time=   3.7s\n",
      "[CV 5/5] END ......C=1, gamma=1, kernel=sigmoid;, score=0.663 total time=   4.3s\n",
      "[CV 1/5] END .....C=1, gamma=0.1, kernel=linear;, score=0.768 total time=   4.6s\n",
      "[CV 2/5] END .....C=1, gamma=0.1, kernel=linear;, score=0.767 total time=   4.7s\n",
      "[CV 3/5] END .....C=1, gamma=0.1, kernel=linear;, score=0.768 total time=   4.7s\n",
      "[CV 4/5] END .....C=1, gamma=0.1, kernel=linear;, score=0.766 total time=   4.6s\n",
      "[CV 5/5] END .....C=1, gamma=0.1, kernel=linear;, score=0.770 total time=   4.5s\n",
      "[CV 1/5] END .......C=1, gamma=0.1, kernel=poly;, score=0.758 total time=   4.7s\n",
      "[CV 2/5] END .......C=1, gamma=0.1, kernel=poly;, score=0.758 total time=   4.6s\n",
      "[CV 3/5] END .......C=1, gamma=0.1, kernel=poly;, score=0.757 total time=   4.8s\n",
      "[CV 4/5] END .......C=1, gamma=0.1, kernel=poly;, score=0.757 total time=   4.5s\n",
      "[CV 5/5] END .......C=1, gamma=0.1, kernel=poly;, score=0.757 total time=   4.9s\n",
      "[CV 1/5] END ........C=1, gamma=0.1, kernel=rbf;, score=0.761 total time=   5.2s\n",
      "[CV 2/5] END ........C=1, gamma=0.1, kernel=rbf;, score=0.759 total time=   5.6s\n",
      "[CV 3/5] END ........C=1, gamma=0.1, kernel=rbf;, score=0.761 total time=   5.2s\n",
      "[CV 4/5] END ........C=1, gamma=0.1, kernel=rbf;, score=0.758 total time=   5.3s\n",
      "[CV 5/5] END ........C=1, gamma=0.1, kernel=rbf;, score=0.759 total time=   5.4s\n",
      "[CV 1/5] END ....C=1, gamma=0.1, kernel=sigmoid;, score=0.758 total time=   4.7s\n",
      "[CV 2/5] END ....C=1, gamma=0.1, kernel=sigmoid;, score=0.758 total time=   5.0s\n",
      "[CV 3/5] END ....C=1, gamma=0.1, kernel=sigmoid;, score=0.758 total time=   4.8s\n",
      "[CV 4/5] END ....C=1, gamma=0.1, kernel=sigmoid;, score=0.757 total time=   4.8s\n",
      "[CV 5/5] END ....C=1, gamma=0.1, kernel=sigmoid;, score=0.758 total time=   4.9s\n",
      "[CV 1/5] END ....C=1, gamma=0.01, kernel=linear;, score=0.768 total time=   4.5s\n",
      "[CV 2/5] END ....C=1, gamma=0.01, kernel=linear;, score=0.767 total time=   4.7s\n",
      "[CV 3/5] END ....C=1, gamma=0.01, kernel=linear;, score=0.768 total time=   4.6s\n",
      "[CV 4/5] END ....C=1, gamma=0.01, kernel=linear;, score=0.766 total time=   4.6s\n",
      "[CV 5/5] END ....C=1, gamma=0.01, kernel=linear;, score=0.770 total time=   4.6s\n",
      "[CV 1/5] END ......C=1, gamma=0.01, kernel=poly;, score=0.758 total time=   3.7s\n",
      "[CV 2/5] END ......C=1, gamma=0.01, kernel=poly;, score=0.758 total time=   3.7s\n",
      "[CV 3/5] END ......C=1, gamma=0.01, kernel=poly;, score=0.757 total time=   3.8s\n",
      "[CV 4/5] END ......C=1, gamma=0.01, kernel=poly;, score=0.757 total time=   3.7s\n",
      "[CV 5/5] END ......C=1, gamma=0.01, kernel=poly;, score=0.757 total time=   3.7s\n",
      "[CV 1/5] END .......C=1, gamma=0.01, kernel=rbf;, score=0.758 total time=   5.2s\n",
      "[CV 2/5] END .......C=1, gamma=0.01, kernel=rbf;, score=0.758 total time=   5.7s\n",
      "[CV 3/5] END .......C=1, gamma=0.01, kernel=rbf;, score=0.757 total time=   5.3s\n",
      "[CV 4/5] END .......C=1, gamma=0.01, kernel=rbf;, score=0.757 total time=   5.3s\n",
      "[CV 5/5] END .......C=1, gamma=0.01, kernel=rbf;, score=0.757 total time=   5.4s\n",
      "[CV 1/5] END ...C=1, gamma=0.01, kernel=sigmoid;, score=0.758 total time=   4.6s\n",
      "[CV 2/5] END ...C=1, gamma=0.01, kernel=sigmoid;, score=0.758 total time=   4.7s\n",
      "[CV 3/5] END ...C=1, gamma=0.01, kernel=sigmoid;, score=0.757 total time=   4.8s\n",
      "[CV 4/5] END ...C=1, gamma=0.01, kernel=sigmoid;, score=0.757 total time=   4.8s\n",
      "[CV 5/5] END ...C=1, gamma=0.01, kernel=sigmoid;, score=0.757 total time=   4.7s\n",
      "[CV 1/5] END ...C=1, gamma=0.001, kernel=linear;, score=0.768 total time=   4.5s\n",
      "[CV 2/5] END ...C=1, gamma=0.001, kernel=linear;, score=0.767 total time=   4.8s\n",
      "[CV 3/5] END ...C=1, gamma=0.001, kernel=linear;, score=0.768 total time=   4.7s\n",
      "[CV 4/5] END ...C=1, gamma=0.001, kernel=linear;, score=0.766 total time=   4.7s\n",
      "[CV 5/5] END ...C=1, gamma=0.001, kernel=linear;, score=0.770 total time=   4.8s\n",
      "[CV 1/5] END .....C=1, gamma=0.001, kernel=poly;, score=0.758 total time=   3.8s\n",
      "[CV 2/5] END .....C=1, gamma=0.001, kernel=poly;, score=0.758 total time=   3.9s\n",
      "[CV 3/5] END .....C=1, gamma=0.001, kernel=poly;, score=0.757 total time=   3.8s\n",
      "[CV 4/5] END .....C=1, gamma=0.001, kernel=poly;, score=0.757 total time=   3.9s\n",
      "[CV 5/5] END .....C=1, gamma=0.001, kernel=poly;, score=0.757 total time=   3.8s\n",
      "[CV 1/5] END ......C=1, gamma=0.001, kernel=rbf;, score=0.758 total time=   5.9s\n",
      "[CV 2/5] END ......C=1, gamma=0.001, kernel=rbf;, score=0.758 total time=   5.6s\n",
      "[CV 3/5] END ......C=1, gamma=0.001, kernel=rbf;, score=0.757 total time=   5.2s\n",
      "[CV 4/5] END ......C=1, gamma=0.001, kernel=rbf;, score=0.757 total time=   5.2s\n",
      "[CV 5/5] END ......C=1, gamma=0.001, kernel=rbf;, score=0.757 total time=   5.4s\n",
      "[CV 1/5] END ..C=1, gamma=0.001, kernel=sigmoid;, score=0.758 total time=   4.4s\n",
      "[CV 2/5] END ..C=1, gamma=0.001, kernel=sigmoid;, score=0.758 total time=   4.4s\n",
      "[CV 3/5] END ..C=1, gamma=0.001, kernel=sigmoid;, score=0.757 total time=   4.5s\n",
      "[CV 4/5] END ..C=1, gamma=0.001, kernel=sigmoid;, score=0.757 total time=   4.5s\n",
      "[CV 5/5] END ..C=1, gamma=0.001, kernel=sigmoid;, score=0.757 total time=   4.4s\n",
      "[CV 1/5] END ..C=1, gamma=0.0001, kernel=linear;, score=0.768 total time=   4.6s\n",
      "[CV 2/5] END ..C=1, gamma=0.0001, kernel=linear;, score=0.767 total time=   4.7s\n",
      "[CV 3/5] END ..C=1, gamma=0.0001, kernel=linear;, score=0.768 total time=   4.6s\n",
      "[CV 4/5] END ..C=1, gamma=0.0001, kernel=linear;, score=0.766 total time=   4.5s\n",
      "[CV 5/5] END ..C=1, gamma=0.0001, kernel=linear;, score=0.770 total time=   4.6s\n",
      "[CV 1/5] END ....C=1, gamma=0.0001, kernel=poly;, score=0.758 total time=   3.8s\n",
      "[CV 2/5] END ....C=1, gamma=0.0001, kernel=poly;, score=0.758 total time=   3.9s\n",
      "[CV 3/5] END ....C=1, gamma=0.0001, kernel=poly;, score=0.757 total time=   3.8s\n",
      "[CV 4/5] END ....C=1, gamma=0.0001, kernel=poly;, score=0.757 total time=   3.7s\n",
      "[CV 5/5] END ....C=1, gamma=0.0001, kernel=poly;, score=0.757 total time=   3.8s\n",
      "[CV 1/5] END .....C=1, gamma=0.0001, kernel=rbf;, score=0.758 total time=   4.8s\n",
      "[CV 2/5] END .....C=1, gamma=0.0001, kernel=rbf;, score=0.758 total time=   4.7s\n",
      "[CV 3/5] END .....C=1, gamma=0.0001, kernel=rbf;, score=0.757 total time=   4.7s\n",
      "[CV 4/5] END .....C=1, gamma=0.0001, kernel=rbf;, score=0.757 total time=   4.7s\n",
      "[CV 5/5] END .....C=1, gamma=0.0001, kernel=rbf;, score=0.757 total time=   4.7s\n",
      "[CV 1/5] END .C=1, gamma=0.0001, kernel=sigmoid;, score=0.758 total time=   4.5s\n",
      "[CV 2/5] END .C=1, gamma=0.0001, kernel=sigmoid;, score=0.758 total time=   4.0s\n",
      "[CV 3/5] END .C=1, gamma=0.0001, kernel=sigmoid;, score=0.757 total time=   4.0s\n",
      "[CV 4/5] END .C=1, gamma=0.0001, kernel=sigmoid;, score=0.757 total time=   3.9s\n",
      "[CV 5/5] END .C=1, gamma=0.0001, kernel=sigmoid;, score=0.757 total time=   4.0s\n",
      "[CV 1/5] END ......C=10, gamma=1, kernel=linear;, score=0.768 total time=   5.4s\n",
      "[CV 2/5] END ......C=10, gamma=1, kernel=linear;, score=0.785 total time=   5.6s\n",
      "[CV 3/5] END ......C=10, gamma=1, kernel=linear;, score=0.782 total time=   5.6s\n"
     ]
    },
    {
     "name": "stdout",
     "output_type": "stream",
     "text": [
      "[CV 4/5] END ......C=10, gamma=1, kernel=linear;, score=0.770 total time=   5.5s\n",
      "[CV 5/5] END ......C=10, gamma=1, kernel=linear;, score=0.779 total time=   5.7s\n",
      "[CV 1/5] END ........C=10, gamma=1, kernel=poly;, score=0.769 total time=   5.7s\n",
      "[CV 2/5] END ........C=10, gamma=1, kernel=poly;, score=0.790 total time=   5.7s\n",
      "[CV 3/5] END ........C=10, gamma=1, kernel=poly;, score=0.791 total time=   5.7s\n",
      "[CV 4/5] END ........C=10, gamma=1, kernel=poly;, score=0.785 total time=   5.8s\n",
      "[CV 5/5] END ........C=10, gamma=1, kernel=poly;, score=0.803 total time=   5.8s\n",
      "[CV 1/5] END .........C=10, gamma=1, kernel=rbf;, score=0.785 total time=   6.4s\n",
      "[CV 2/5] END .........C=10, gamma=1, kernel=rbf;, score=0.811 total time=   6.4s\n",
      "[CV 3/5] END .........C=10, gamma=1, kernel=rbf;, score=0.815 total time=   6.4s\n",
      "[CV 4/5] END .........C=10, gamma=1, kernel=rbf;, score=0.799 total time=   6.7s\n",
      "[CV 5/5] END .........C=10, gamma=1, kernel=rbf;, score=0.821 total time=   6.4s\n",
      "[CV 1/5] END .....C=10, gamma=1, kernel=sigmoid;, score=0.652 total time=   3.3s\n",
      "[CV 2/5] END .....C=10, gamma=1, kernel=sigmoid;, score=0.653 total time=   3.4s\n",
      "[CV 3/5] END .....C=10, gamma=1, kernel=sigmoid;, score=0.622 total time=   3.4s\n",
      "[CV 4/5] END .....C=10, gamma=1, kernel=sigmoid;, score=0.646 total time=   4.6s\n",
      "[CV 5/5] END .....C=10, gamma=1, kernel=sigmoid;, score=0.644 total time=   3.6s\n",
      "[CV 1/5] END ....C=10, gamma=0.1, kernel=linear;, score=0.768 total time=   5.4s\n",
      "[CV 2/5] END ....C=10, gamma=0.1, kernel=linear;, score=0.785 total time=   5.7s\n",
      "[CV 3/5] END ....C=10, gamma=0.1, kernel=linear;, score=0.782 total time=   6.0s\n",
      "[CV 4/5] END ....C=10, gamma=0.1, kernel=linear;, score=0.770 total time=   6.6s\n",
      "[CV 5/5] END ....C=10, gamma=0.1, kernel=linear;, score=0.779 total time=   6.3s\n",
      "[CV 1/5] END ......C=10, gamma=0.1, kernel=poly;, score=0.758 total time=   5.1s\n",
      "[CV 2/5] END ......C=10, gamma=0.1, kernel=poly;, score=0.758 total time=   5.2s\n",
      "[CV 3/5] END ......C=10, gamma=0.1, kernel=poly;, score=0.757 total time=   5.1s\n",
      "[CV 4/5] END ......C=10, gamma=0.1, kernel=poly;, score=0.757 total time=   5.2s\n",
      "[CV 5/5] END ......C=10, gamma=0.1, kernel=poly;, score=0.759 total time=   5.2s\n",
      "[CV 1/5] END .......C=10, gamma=0.1, kernel=rbf;, score=0.788 total time=   5.7s\n",
      "[CV 2/5] END .......C=10, gamma=0.1, kernel=rbf;, score=0.801 total time=   5.9s\n",
      "[CV 3/5] END .......C=10, gamma=0.1, kernel=rbf;, score=0.794 total time=   5.9s\n",
      "[CV 4/5] END .......C=10, gamma=0.1, kernel=rbf;, score=0.782 total time=   5.9s\n",
      "[CV 5/5] END .......C=10, gamma=0.1, kernel=rbf;, score=0.797 total time=   5.9s\n",
      "[CV 1/5] END ...C=10, gamma=0.1, kernel=sigmoid;, score=0.766 total time=   5.6s\n",
      "[CV 2/5] END ...C=10, gamma=0.1, kernel=sigmoid;, score=0.762 total time=   5.5s\n",
      "[CV 3/5] END ...C=10, gamma=0.1, kernel=sigmoid;, score=0.765 total time=   5.6s\n",
      "[CV 4/5] END ...C=10, gamma=0.1, kernel=sigmoid;, score=0.763 total time=   5.6s\n",
      "[CV 5/5] END ...C=10, gamma=0.1, kernel=sigmoid;, score=0.766 total time=   5.8s\n",
      "[CV 1/5] END ...C=10, gamma=0.01, kernel=linear;, score=0.768 total time=   6.1s\n",
      "[CV 2/5] END ...C=10, gamma=0.01, kernel=linear;, score=0.785 total time=   6.3s\n",
      "[CV 3/5] END ...C=10, gamma=0.01, kernel=linear;, score=0.782 total time=   6.2s\n",
      "[CV 4/5] END ...C=10, gamma=0.01, kernel=linear;, score=0.770 total time=   6.2s\n",
      "[CV 5/5] END ...C=10, gamma=0.01, kernel=linear;, score=0.779 total time=   6.2s\n",
      "[CV 1/5] END .....C=10, gamma=0.01, kernel=poly;, score=0.758 total time=   4.4s\n",
      "[CV 2/5] END .....C=10, gamma=0.01, kernel=poly;, score=0.758 total time=   4.4s\n",
      "[CV 3/5] END .....C=10, gamma=0.01, kernel=poly;, score=0.757 total time=   4.5s\n",
      "[CV 4/5] END .....C=10, gamma=0.01, kernel=poly;, score=0.757 total time=   4.6s\n",
      "[CV 5/5] END .....C=10, gamma=0.01, kernel=poly;, score=0.757 total time=   4.4s\n",
      "[CV 1/5] END ......C=10, gamma=0.01, kernel=rbf;, score=0.760 total time=   5.9s\n",
      "[CV 2/5] END ......C=10, gamma=0.01, kernel=rbf;, score=0.759 total time=   5.9s\n",
      "[CV 3/5] END ......C=10, gamma=0.01, kernel=rbf;, score=0.760 total time=   5.9s\n",
      "[CV 4/5] END ......C=10, gamma=0.01, kernel=rbf;, score=0.758 total time=   6.1s\n",
      "[CV 5/5] END ......C=10, gamma=0.01, kernel=rbf;, score=0.759 total time=   6.0s\n",
      "[CV 1/5] END ..C=10, gamma=0.01, kernel=sigmoid;, score=0.758 total time=   6.1s\n",
      "[CV 2/5] END ..C=10, gamma=0.01, kernel=sigmoid;, score=0.758 total time=   6.0s\n",
      "[CV 3/5] END ..C=10, gamma=0.01, kernel=sigmoid;, score=0.758 total time=   5.8s\n",
      "[CV 4/5] END ..C=10, gamma=0.01, kernel=sigmoid;, score=0.757 total time=   5.7s\n",
      "[CV 5/5] END ..C=10, gamma=0.01, kernel=sigmoid;, score=0.758 total time=   5.8s\n",
      "[CV 1/5] END ..C=10, gamma=0.001, kernel=linear;, score=0.768 total time=   6.3s\n",
      "[CV 2/5] END ..C=10, gamma=0.001, kernel=linear;, score=0.785 total time=   6.3s\n",
      "[CV 3/5] END ..C=10, gamma=0.001, kernel=linear;, score=0.782 total time=   6.6s\n",
      "[CV 4/5] END ..C=10, gamma=0.001, kernel=linear;, score=0.770 total time=   6.6s\n",
      "[CV 5/5] END ..C=10, gamma=0.001, kernel=linear;, score=0.779 total time=   6.8s\n",
      "[CV 1/5] END ....C=10, gamma=0.001, kernel=poly;, score=0.758 total time=   4.7s\n",
      "[CV 2/5] END ....C=10, gamma=0.001, kernel=poly;, score=0.758 total time=   4.5s\n",
      "[CV 3/5] END ....C=10, gamma=0.001, kernel=poly;, score=0.757 total time=   4.6s\n",
      "[CV 4/5] END ....C=10, gamma=0.001, kernel=poly;, score=0.757 total time=   4.5s\n",
      "[CV 5/5] END ....C=10, gamma=0.001, kernel=poly;, score=0.757 total time=   4.5s\n",
      "[CV 1/5] END .....C=10, gamma=0.001, kernel=rbf;, score=0.758 total time=   6.2s\n",
      "[CV 2/5] END .....C=10, gamma=0.001, kernel=rbf;, score=0.758 total time=   6.2s\n",
      "[CV 3/5] END .....C=10, gamma=0.001, kernel=rbf;, score=0.757 total time=   6.6s\n",
      "[CV 4/5] END .....C=10, gamma=0.001, kernel=rbf;, score=0.757 total time=   6.2s\n",
      "[CV 5/5] END .....C=10, gamma=0.001, kernel=rbf;, score=0.757 total time=   6.3s\n",
      "[CV 1/5] END .C=10, gamma=0.001, kernel=sigmoid;, score=0.758 total time=   5.8s\n",
      "[CV 2/5] END .C=10, gamma=0.001, kernel=sigmoid;, score=0.758 total time=   5.6s\n",
      "[CV 3/5] END .C=10, gamma=0.001, kernel=sigmoid;, score=0.757 total time=   5.5s\n",
      "[CV 4/5] END .C=10, gamma=0.001, kernel=sigmoid;, score=0.757 total time=   5.5s\n",
      "[CV 5/5] END .C=10, gamma=0.001, kernel=sigmoid;, score=0.757 total time=   5.5s\n",
      "[CV 1/5] END .C=10, gamma=0.0001, kernel=linear;, score=0.768 total time=   6.2s\n",
      "[CV 2/5] END .C=10, gamma=0.0001, kernel=linear;, score=0.785 total time=   6.4s\n",
      "[CV 3/5] END .C=10, gamma=0.0001, kernel=linear;, score=0.782 total time=   6.3s\n",
      "[CV 4/5] END .C=10, gamma=0.0001, kernel=linear;, score=0.770 total time=   6.3s\n",
      "[CV 5/5] END .C=10, gamma=0.0001, kernel=linear;, score=0.779 total time=   6.5s\n",
      "[CV 1/5] END ...C=10, gamma=0.0001, kernel=poly;, score=0.758 total time=   4.4s\n",
      "[CV 2/5] END ...C=10, gamma=0.0001, kernel=poly;, score=0.758 total time=   4.4s\n",
      "[CV 3/5] END ...C=10, gamma=0.0001, kernel=poly;, score=0.757 total time=   4.5s\n",
      "[CV 4/5] END ...C=10, gamma=0.0001, kernel=poly;, score=0.757 total time=   4.5s\n",
      "[CV 5/5] END ...C=10, gamma=0.0001, kernel=poly;, score=0.757 total time=   4.4s\n",
      "[CV 1/5] END ....C=10, gamma=0.0001, kernel=rbf;, score=0.758 total time=   6.5s\n",
      "[CV 2/5] END ....C=10, gamma=0.0001, kernel=rbf;, score=0.758 total time=   6.0s\n",
      "[CV 3/5] END ....C=10, gamma=0.0001, kernel=rbf;, score=0.757 total time=   5.9s\n",
      "[CV 4/5] END ....C=10, gamma=0.0001, kernel=rbf;, score=0.757 total time=   5.9s\n",
      "[CV 5/5] END ....C=10, gamma=0.0001, kernel=rbf;, score=0.757 total time=   6.1s\n",
      "[CV 1/5] END C=10, gamma=0.0001, kernel=sigmoid;, score=0.758 total time=   5.4s\n",
      "[CV 2/5] END C=10, gamma=0.0001, kernel=sigmoid;, score=0.758 total time=   5.1s\n",
      "[CV 3/5] END C=10, gamma=0.0001, kernel=sigmoid;, score=0.757 total time=   5.2s\n",
      "[CV 4/5] END C=10, gamma=0.0001, kernel=sigmoid;, score=0.757 total time=   5.1s\n",
      "[CV 5/5] END C=10, gamma=0.0001, kernel=sigmoid;, score=0.757 total time=   5.1s\n",
      "[CV 1/5] END .....C=100, gamma=1, kernel=linear;, score=0.770 total time=  12.6s\n",
      "[CV 2/5] END .....C=100, gamma=1, kernel=linear;, score=0.788 total time=  13.2s\n",
      "[CV 3/5] END .....C=100, gamma=1, kernel=linear;, score=0.784 total time=  13.8s\n",
      "[CV 4/5] END .....C=100, gamma=1, kernel=linear;, score=0.769 total time=  12.3s\n",
      "[CV 5/5] END .....C=100, gamma=1, kernel=linear;, score=0.779 total time=  13.3s\n"
     ]
    },
    {
     "name": "stdout",
     "output_type": "stream",
     "text": [
      "[CV 1/5] END .......C=100, gamma=1, kernel=poly;, score=0.751 total time=   8.5s\n",
      "[CV 2/5] END .......C=100, gamma=1, kernel=poly;, score=0.767 total time=   8.8s\n",
      "[CV 3/5] END .......C=100, gamma=1, kernel=poly;, score=0.764 total time=   9.1s\n",
      "[CV 4/5] END .......C=100, gamma=1, kernel=poly;, score=0.758 total time=  12.6s\n",
      "[CV 5/5] END .......C=100, gamma=1, kernel=poly;, score=0.763 total time=  11.3s\n",
      "[CV 1/5] END ........C=100, gamma=1, kernel=rbf;, score=0.761 total time=  10.7s\n",
      "[CV 2/5] END ........C=100, gamma=1, kernel=rbf;, score=0.786 total time=  10.4s\n",
      "[CV 3/5] END ........C=100, gamma=1, kernel=rbf;, score=0.783 total time=  11.4s\n",
      "[CV 4/5] END ........C=100, gamma=1, kernel=rbf;, score=0.777 total time=  10.7s\n",
      "[CV 5/5] END ........C=100, gamma=1, kernel=rbf;, score=0.780 total time=  12.4s\n",
      "[CV 1/5] END ....C=100, gamma=1, kernel=sigmoid;, score=0.650 total time=   4.9s\n",
      "[CV 2/5] END ....C=100, gamma=1, kernel=sigmoid;, score=0.652 total time=   5.0s\n",
      "[CV 3/5] END ....C=100, gamma=1, kernel=sigmoid;, score=0.620 total time=   4.0s\n",
      "[CV 4/5] END ....C=100, gamma=1, kernel=sigmoid;, score=0.644 total time=   4.3s\n",
      "[CV 5/5] END ....C=100, gamma=1, kernel=sigmoid;, score=0.642 total time=   4.7s\n",
      "[CV 1/5] END ...C=100, gamma=0.1, kernel=linear;, score=0.770 total time=  12.6s\n",
      "[CV 2/5] END ...C=100, gamma=0.1, kernel=linear;, score=0.788 total time=  13.6s\n",
      "[CV 3/5] END ...C=100, gamma=0.1, kernel=linear;, score=0.784 total time=  14.3s\n",
      "[CV 4/5] END ...C=100, gamma=0.1, kernel=linear;, score=0.769 total time=  12.7s\n",
      "[CV 5/5] END ...C=100, gamma=0.1, kernel=linear;, score=0.779 total time=  13.5s\n",
      "[CV 1/5] END .....C=100, gamma=0.1, kernel=poly;, score=0.767 total time=   5.5s\n",
      "[CV 2/5] END .....C=100, gamma=0.1, kernel=poly;, score=0.765 total time=   5.6s\n",
      "[CV 3/5] END .....C=100, gamma=0.1, kernel=poly;, score=0.766 total time=   5.6s\n",
      "[CV 4/5] END .....C=100, gamma=0.1, kernel=poly;, score=0.763 total time=   5.6s\n",
      "[CV 5/5] END .....C=100, gamma=0.1, kernel=poly;, score=0.766 total time=   5.5s\n",
      "[CV 1/5] END ......C=100, gamma=0.1, kernel=rbf;, score=0.783 total time=   7.1s\n",
      "[CV 2/5] END ......C=100, gamma=0.1, kernel=rbf;, score=0.811 total time=   7.3s\n",
      "[CV 3/5] END ......C=100, gamma=0.1, kernel=rbf;, score=0.807 total time=   7.3s\n",
      "[CV 4/5] END ......C=100, gamma=0.1, kernel=rbf;, score=0.792 total time=   7.4s\n",
      "[CV 5/5] END ......C=100, gamma=0.1, kernel=rbf;, score=0.809 total time=   7.4s\n",
      "[CV 1/5] END ..C=100, gamma=0.1, kernel=sigmoid;, score=0.723 total time=   5.4s\n",
      "[CV 2/5] END ..C=100, gamma=0.1, kernel=sigmoid;, score=0.728 total time=   5.4s\n",
      "[CV 3/5] END ..C=100, gamma=0.1, kernel=sigmoid;, score=0.730 total time=   5.4s\n",
      "[CV 4/5] END ..C=100, gamma=0.1, kernel=sigmoid;, score=0.721 total time=   5.1s\n",
      "[CV 5/5] END ..C=100, gamma=0.1, kernel=sigmoid;, score=0.721 total time=   5.3s\n",
      "[CV 1/5] END ..C=100, gamma=0.01, kernel=linear;, score=0.770 total time=  12.6s\n",
      "[CV 2/5] END ..C=100, gamma=0.01, kernel=linear;, score=0.788 total time=  13.7s\n",
      "[CV 3/5] END ..C=100, gamma=0.01, kernel=linear;, score=0.784 total time=  14.1s\n",
      "[CV 4/5] END ..C=100, gamma=0.01, kernel=linear;, score=0.769 total time=  12.6s\n",
      "[CV 5/5] END ..C=100, gamma=0.01, kernel=linear;, score=0.779 total time=  13.8s\n",
      "[CV 1/5] END ....C=100, gamma=0.01, kernel=poly;, score=0.758 total time=   5.3s\n",
      "[CV 2/5] END ....C=100, gamma=0.01, kernel=poly;, score=0.758 total time=   5.0s\n",
      "[CV 3/5] END ....C=100, gamma=0.01, kernel=poly;, score=0.757 total time=   5.2s\n",
      "[CV 4/5] END ....C=100, gamma=0.01, kernel=poly;, score=0.757 total time=   5.2s\n",
      "[CV 5/5] END ....C=100, gamma=0.01, kernel=poly;, score=0.757 total time=   5.4s\n",
      "[CV 1/5] END .....C=100, gamma=0.01, kernel=rbf;, score=0.781 total time=   6.4s\n",
      "[CV 2/5] END .....C=100, gamma=0.01, kernel=rbf;, score=0.790 total time=   6.5s\n",
      "[CV 3/5] END .....C=100, gamma=0.01, kernel=rbf;, score=0.787 total time=   6.3s\n",
      "[CV 4/5] END .....C=100, gamma=0.01, kernel=rbf;, score=0.778 total time=   6.2s\n",
      "[CV 5/5] END .....C=100, gamma=0.01, kernel=rbf;, score=0.789 total time=   6.4s\n",
      "[CV 1/5] END .C=100, gamma=0.01, kernel=sigmoid;, score=0.768 total time=   5.8s\n",
      "[CV 2/5] END .C=100, gamma=0.01, kernel=sigmoid;, score=0.766 total time=   6.9s\n",
      "[CV 3/5] END .C=100, gamma=0.01, kernel=sigmoid;, score=0.768 total time=   5.9s\n",
      "[CV 4/5] END .C=100, gamma=0.01, kernel=sigmoid;, score=0.766 total time=   5.9s\n",
      "[CV 5/5] END .C=100, gamma=0.01, kernel=sigmoid;, score=0.770 total time=   6.0s\n",
      "[CV 1/5] END .C=100, gamma=0.001, kernel=linear;, score=0.770 total time=  12.3s\n",
      "[CV 2/5] END .C=100, gamma=0.001, kernel=linear;, score=0.788 total time=  13.4s\n",
      "[CV 3/5] END .C=100, gamma=0.001, kernel=linear;, score=0.784 total time=  15.1s\n",
      "[CV 4/5] END .C=100, gamma=0.001, kernel=linear;, score=0.769 total time=  13.2s\n",
      "[CV 5/5] END .C=100, gamma=0.001, kernel=linear;, score=0.779 total time=  14.3s\n",
      "[CV 1/5] END ...C=100, gamma=0.001, kernel=poly;, score=0.758 total time=   4.5s\n",
      "[CV 2/5] END ...C=100, gamma=0.001, kernel=poly;, score=0.758 total time=   4.5s\n",
      "[CV 3/5] END ...C=100, gamma=0.001, kernel=poly;, score=0.757 total time=   4.5s\n",
      "[CV 4/5] END ...C=100, gamma=0.001, kernel=poly;, score=0.757 total time=   4.5s\n",
      "[CV 5/5] END ...C=100, gamma=0.001, kernel=poly;, score=0.757 total time=   4.6s\n",
      "[CV 1/5] END ....C=100, gamma=0.001, kernel=rbf;, score=0.759 total time=   6.3s\n",
      "[CV 2/5] END ....C=100, gamma=0.001, kernel=rbf;, score=0.759 total time=   6.4s\n",
      "[CV 3/5] END ....C=100, gamma=0.001, kernel=rbf;, score=0.759 total time=   6.4s\n",
      "[CV 4/5] END ....C=100, gamma=0.001, kernel=rbf;, score=0.757 total time=   6.4s\n",
      "[CV 5/5] END ....C=100, gamma=0.001, kernel=rbf;, score=0.759 total time=   7.4s\n",
      "[CV 1/5] END C=100, gamma=0.001, kernel=sigmoid;, score=0.758 total time=   6.0s\n",
      "[CV 2/5] END C=100, gamma=0.001, kernel=sigmoid;, score=0.758 total time=   6.0s\n",
      "[CV 3/5] END C=100, gamma=0.001, kernel=sigmoid;, score=0.758 total time=   6.2s\n",
      "[CV 4/5] END C=100, gamma=0.001, kernel=sigmoid;, score=0.757 total time=   5.8s\n",
      "[CV 5/5] END C=100, gamma=0.001, kernel=sigmoid;, score=0.758 total time=   5.7s\n",
      "[CV 1/5] END C=100, gamma=0.0001, kernel=linear;, score=0.770 total time=  12.7s\n",
      "[CV 2/5] END C=100, gamma=0.0001, kernel=linear;, score=0.788 total time=  13.6s\n",
      "[CV 3/5] END C=100, gamma=0.0001, kernel=linear;, score=0.784 total time=  14.4s\n",
      "[CV 4/5] END C=100, gamma=0.0001, kernel=linear;, score=0.769 total time=  12.5s\n",
      "[CV 5/5] END C=100, gamma=0.0001, kernel=linear;, score=0.779 total time=  13.5s\n",
      "[CV 1/5] END ..C=100, gamma=0.0001, kernel=poly;, score=0.758 total time=   4.5s\n",
      "[CV 2/5] END ..C=100, gamma=0.0001, kernel=poly;, score=0.758 total time=   4.6s\n",
      "[CV 3/5] END ..C=100, gamma=0.0001, kernel=poly;, score=0.757 total time=   4.6s\n",
      "[CV 4/5] END ..C=100, gamma=0.0001, kernel=poly;, score=0.757 total time=   4.5s\n",
      "[CV 5/5] END ..C=100, gamma=0.0001, kernel=poly;, score=0.757 total time=   4.5s\n",
      "[CV 1/5] END ...C=100, gamma=0.0001, kernel=rbf;, score=0.758 total time=   6.2s\n",
      "[CV 2/5] END ...C=100, gamma=0.0001, kernel=rbf;, score=0.758 total time=   6.2s\n",
      "[CV 3/5] END ...C=100, gamma=0.0001, kernel=rbf;, score=0.757 total time=   6.8s\n",
      "[CV 4/5] END ...C=100, gamma=0.0001, kernel=rbf;, score=0.757 total time=   6.5s\n",
      "[CV 5/5] END ...C=100, gamma=0.0001, kernel=rbf;, score=0.757 total time=   6.4s\n",
      "[CV 1/5] END C=100, gamma=0.0001, kernel=sigmoid;, score=0.758 total time=   5.8s\n",
      "[CV 2/5] END C=100, gamma=0.0001, kernel=sigmoid;, score=0.758 total time=   6.2s\n",
      "[CV 3/5] END C=100, gamma=0.0001, kernel=sigmoid;, score=0.757 total time=   6.6s\n",
      "[CV 4/5] END C=100, gamma=0.0001, kernel=sigmoid;, score=0.757 total time=   5.9s\n",
      "[CV 5/5] END C=100, gamma=0.0001, kernel=sigmoid;, score=0.757 total time=   5.7s\n",
      "[CV 1/5] END ....C=1000, gamma=1, kernel=linear;, score=0.771 total time= 1.2min\n",
      "[CV 2/5] END ....C=1000, gamma=1, kernel=linear;, score=0.788 total time= 1.2min\n",
      "[CV 3/5] END ....C=1000, gamma=1, kernel=linear;, score=0.785 total time= 1.3min\n",
      "[CV 4/5] END ....C=1000, gamma=1, kernel=linear;, score=0.770 total time= 1.1min\n",
      "[CV 5/5] END ....C=1000, gamma=1, kernel=linear;, score=0.779 total time= 1.3min\n",
      "[CV 1/5] END ......C=1000, gamma=1, kernel=poly;, score=0.751 total time=   8.7s\n",
      "[CV 2/5] END ......C=1000, gamma=1, kernel=poly;, score=0.766 total time=   8.8s\n"
     ]
    },
    {
     "name": "stdout",
     "output_type": "stream",
     "text": [
      "[CV 3/5] END ......C=1000, gamma=1, kernel=poly;, score=0.764 total time=   9.0s\n",
      "[CV 4/5] END ......C=1000, gamma=1, kernel=poly;, score=0.758 total time=  12.4s\n",
      "[CV 5/5] END ......C=1000, gamma=1, kernel=poly;, score=0.764 total time=  12.0s\n",
      "[CV 1/5] END .......C=1000, gamma=1, kernel=rbf;, score=0.761 total time=  10.2s\n",
      "[CV 2/5] END .......C=1000, gamma=1, kernel=rbf;, score=0.786 total time=  10.5s\n",
      "[CV 3/5] END .......C=1000, gamma=1, kernel=rbf;, score=0.780 total time=  10.5s\n",
      "[CV 4/5] END .......C=1000, gamma=1, kernel=rbf;, score=0.776 total time=  12.8s\n",
      "[CV 5/5] END .......C=1000, gamma=1, kernel=rbf;, score=0.780 total time=  10.2s\n",
      "[CV 1/5] END ...C=1000, gamma=1, kernel=sigmoid;, score=0.649 total time=   4.0s\n",
      "[CV 2/5] END ...C=1000, gamma=1, kernel=sigmoid;, score=0.651 total time=   4.5s\n",
      "[CV 3/5] END ...C=1000, gamma=1, kernel=sigmoid;, score=0.620 total time=   3.8s\n",
      "[CV 4/5] END ...C=1000, gamma=1, kernel=sigmoid;, score=0.644 total time=   5.4s\n",
      "[CV 5/5] END ...C=1000, gamma=1, kernel=sigmoid;, score=0.642 total time=   4.5s\n",
      "[CV 1/5] END ..C=1000, gamma=0.1, kernel=linear;, score=0.771 total time= 1.2min\n",
      "[CV 2/5] END ..C=1000, gamma=0.1, kernel=linear;, score=0.788 total time= 1.2min\n",
      "[CV 3/5] END ..C=1000, gamma=0.1, kernel=linear;, score=0.785 total time= 1.3min\n",
      "[CV 4/5] END ..C=1000, gamma=0.1, kernel=linear;, score=0.770 total time= 1.1min\n",
      "[CV 5/5] END ..C=1000, gamma=0.1, kernel=linear;, score=0.779 total time= 1.3min\n",
      "[CV 1/5] END ....C=1000, gamma=0.1, kernel=poly;, score=0.783 total time=   5.9s\n",
      "[CV 2/5] END ....C=1000, gamma=0.1, kernel=poly;, score=0.796 total time=   6.2s\n",
      "[CV 3/5] END ....C=1000, gamma=0.1, kernel=poly;, score=0.793 total time=   5.7s\n",
      "[CV 4/5] END ....C=1000, gamma=0.1, kernel=poly;, score=0.783 total time=   5.6s\n",
      "[CV 5/5] END ....C=1000, gamma=0.1, kernel=poly;, score=0.799 total time=   6.0s\n",
      "[CV 1/5] END .....C=1000, gamma=0.1, kernel=rbf;, score=0.771 total time=  11.6s\n",
      "[CV 2/5] END .....C=1000, gamma=0.1, kernel=rbf;, score=0.799 total time=  11.9s\n",
      "[CV 3/5] END .....C=1000, gamma=0.1, kernel=rbf;, score=0.805 total time=  11.7s\n",
      "[CV 4/5] END .....C=1000, gamma=0.1, kernel=rbf;, score=0.791 total time=  12.5s\n",
      "[CV 5/5] END .....C=1000, gamma=0.1, kernel=rbf;, score=0.808 total time=  12.4s\n",
      "[CV 1/5] END .C=1000, gamma=0.1, kernel=sigmoid;, score=0.676 total time=   4.3s\n",
      "[CV 2/5] END .C=1000, gamma=0.1, kernel=sigmoid;, score=0.697 total time=   4.9s\n",
      "[CV 3/5] END .C=1000, gamma=0.1, kernel=sigmoid;, score=0.679 total time=   4.8s\n",
      "[CV 4/5] END .C=1000, gamma=0.1, kernel=sigmoid;, score=0.678 total time=   4.7s\n",
      "[CV 5/5] END .C=1000, gamma=0.1, kernel=sigmoid;, score=0.694 total time=   4.1s\n",
      "[CV 1/5] END .C=1000, gamma=0.01, kernel=linear;, score=0.771 total time= 1.2min\n",
      "[CV 2/5] END .C=1000, gamma=0.01, kernel=linear;, score=0.788 total time= 1.2min\n",
      "[CV 3/5] END .C=1000, gamma=0.01, kernel=linear;, score=0.785 total time= 1.3min\n",
      "[CV 4/5] END .C=1000, gamma=0.01, kernel=linear;, score=0.770 total time= 1.1min\n",
      "[CV 5/5] END .C=1000, gamma=0.01, kernel=linear;, score=0.779 total time= 1.3min\n",
      "[CV 1/5] END ...C=1000, gamma=0.01, kernel=poly;, score=0.758 total time=   5.2s\n",
      "[CV 2/5] END ...C=1000, gamma=0.01, kernel=poly;, score=0.758 total time=   5.6s\n",
      "[CV 3/5] END ...C=1000, gamma=0.01, kernel=poly;, score=0.757 total time=   5.2s\n",
      "[CV 4/5] END ...C=1000, gamma=0.01, kernel=poly;, score=0.757 total time=   5.1s\n",
      "[CV 5/5] END ...C=1000, gamma=0.01, kernel=poly;, score=0.757 total time=   5.2s\n",
      "[CV 1/5] END ....C=1000, gamma=0.01, kernel=rbf;, score=0.781 total time=   7.2s\n",
      "[CV 2/5] END ....C=1000, gamma=0.01, kernel=rbf;, score=0.809 total time=   7.8s\n",
      "[CV 3/5] END ....C=1000, gamma=0.01, kernel=rbf;, score=0.802 total time=   7.5s\n",
      "[CV 4/5] END ....C=1000, gamma=0.01, kernel=rbf;, score=0.790 total time=   7.4s\n",
      "[CV 5/5] END ....C=1000, gamma=0.01, kernel=rbf;, score=0.803 total time=   7.5s\n",
      "[CV 1/5] END C=1000, gamma=0.01, kernel=sigmoid;, score=0.769 total time=   6.7s\n",
      "[CV 2/5] END C=1000, gamma=0.01, kernel=sigmoid;, score=0.786 total time=   7.0s\n",
      "[CV 3/5] END C=1000, gamma=0.01, kernel=sigmoid;, score=0.783 total time=   6.9s\n",
      "[CV 4/5] END C=1000, gamma=0.01, kernel=sigmoid;, score=0.769 total time=   6.7s\n",
      "[CV 5/5] END C=1000, gamma=0.01, kernel=sigmoid;, score=0.777 total time=   7.2s\n",
      "[CV 1/5] END C=1000, gamma=0.001, kernel=linear;, score=0.771 total time= 1.2min\n",
      "[CV 2/5] END C=1000, gamma=0.001, kernel=linear;, score=0.788 total time= 1.2min\n",
      "[CV 3/5] END C=1000, gamma=0.001, kernel=linear;, score=0.785 total time= 1.3min\n",
      "[CV 4/5] END C=1000, gamma=0.001, kernel=linear;, score=0.770 total time= 1.1min\n",
      "[CV 5/5] END C=1000, gamma=0.001, kernel=linear;, score=0.779 total time= 1.3min\n",
      "[CV 1/5] END ..C=1000, gamma=0.001, kernel=poly;, score=0.758 total time=   4.8s\n",
      "[CV 2/5] END ..C=1000, gamma=0.001, kernel=poly;, score=0.758 total time=   4.8s\n",
      "[CV 3/5] END ..C=1000, gamma=0.001, kernel=poly;, score=0.757 total time=   4.5s\n",
      "[CV 4/5] END ..C=1000, gamma=0.001, kernel=poly;, score=0.757 total time=   4.4s\n",
      "[CV 5/5] END ..C=1000, gamma=0.001, kernel=poly;, score=0.757 total time=   4.3s\n",
      "[CV 1/5] END ...C=1000, gamma=0.001, kernel=rbf;, score=0.772 total time=   6.4s\n",
      "[CV 2/5] END ...C=1000, gamma=0.001, kernel=rbf;, score=0.779 total time=   6.4s\n",
      "[CV 3/5] END ...C=1000, gamma=0.001, kernel=rbf;, score=0.779 total time=   6.9s\n",
      "[CV 4/5] END ...C=1000, gamma=0.001, kernel=rbf;, score=0.771 total time=   6.6s\n",
      "[CV 5/5] END ...C=1000, gamma=0.001, kernel=rbf;, score=0.773 total time=   6.5s\n",
      "[CV 1/5] END C=1000, gamma=0.001, kernel=sigmoid;, score=0.768 total time=   5.7s\n",
      "[CV 2/5] END C=1000, gamma=0.001, kernel=sigmoid;, score=0.767 total time=   5.8s\n",
      "[CV 3/5] END C=1000, gamma=0.001, kernel=sigmoid;, score=0.768 total time=   6.0s\n",
      "[CV 4/5] END C=1000, gamma=0.001, kernel=sigmoid;, score=0.766 total time=   6.0s\n",
      "[CV 5/5] END C=1000, gamma=0.001, kernel=sigmoid;, score=0.770 total time=   5.8s\n",
      "[CV 1/5] END C=1000, gamma=0.0001, kernel=linear;, score=0.771 total time= 1.2min\n",
      "[CV 2/5] END C=1000, gamma=0.0001, kernel=linear;, score=0.788 total time= 1.2min\n",
      "[CV 3/5] END C=1000, gamma=0.0001, kernel=linear;, score=0.785 total time= 1.3min\n",
      "[CV 4/5] END C=1000, gamma=0.0001, kernel=linear;, score=0.770 total time= 1.1min\n",
      "[CV 5/5] END C=1000, gamma=0.0001, kernel=linear;, score=0.779 total time= 1.2min\n",
      "[CV 1/5] END .C=1000, gamma=0.0001, kernel=poly;, score=0.758 total time=   4.5s\n",
      "[CV 2/5] END .C=1000, gamma=0.0001, kernel=poly;, score=0.758 total time=   4.4s\n",
      "[CV 3/5] END .C=1000, gamma=0.0001, kernel=poly;, score=0.757 total time=   4.4s\n",
      "[CV 4/5] END .C=1000, gamma=0.0001, kernel=poly;, score=0.757 total time=   4.4s\n",
      "[CV 5/5] END .C=1000, gamma=0.0001, kernel=poly;, score=0.757 total time=   4.3s\n",
      "[CV 1/5] END ..C=1000, gamma=0.0001, kernel=rbf;, score=0.759 total time=   6.1s\n",
      "[CV 2/5] END ..C=1000, gamma=0.0001, kernel=rbf;, score=0.758 total time=   6.2s\n",
      "[CV 3/5] END ..C=1000, gamma=0.0001, kernel=rbf;, score=0.759 total time=   6.2s\n",
      "[CV 4/5] END ..C=1000, gamma=0.0001, kernel=rbf;, score=0.757 total time=   6.2s\n",
      "[CV 5/5] END ..C=1000, gamma=0.0001, kernel=rbf;, score=0.759 total time=   6.2s\n",
      "[CV 1/5] END C=1000, gamma=0.0001, kernel=sigmoid;, score=0.758 total time=   5.4s\n",
      "[CV 2/5] END C=1000, gamma=0.0001, kernel=sigmoid;, score=0.758 total time=   5.6s\n",
      "[CV 3/5] END C=1000, gamma=0.0001, kernel=sigmoid;, score=0.758 total time=   5.9s\n",
      "[CV 4/5] END C=1000, gamma=0.0001, kernel=sigmoid;, score=0.757 total time=   5.6s\n",
      "[CV 5/5] END C=1000, gamma=0.0001, kernel=sigmoid;, score=0.758 total time=   5.5s\n"
     ]
    },
    {
     "data": {
      "text/html": [
       "<style>#sk-container-id-1 {color: black;background-color: white;}#sk-container-id-1 pre{padding: 0;}#sk-container-id-1 div.sk-toggleable {background-color: white;}#sk-container-id-1 label.sk-toggleable__label {cursor: pointer;display: block;width: 100%;margin-bottom: 0;padding: 0.3em;box-sizing: border-box;text-align: center;}#sk-container-id-1 label.sk-toggleable__label-arrow:before {content: \"▸\";float: left;margin-right: 0.25em;color: #696969;}#sk-container-id-1 label.sk-toggleable__label-arrow:hover:before {color: black;}#sk-container-id-1 div.sk-estimator:hover label.sk-toggleable__label-arrow:before {color: black;}#sk-container-id-1 div.sk-toggleable__content {max-height: 0;max-width: 0;overflow: hidden;text-align: left;background-color: #f0f8ff;}#sk-container-id-1 div.sk-toggleable__content pre {margin: 0.2em;color: black;border-radius: 0.25em;background-color: #f0f8ff;}#sk-container-id-1 input.sk-toggleable__control:checked~div.sk-toggleable__content {max-height: 200px;max-width: 100%;overflow: auto;}#sk-container-id-1 input.sk-toggleable__control:checked~label.sk-toggleable__label-arrow:before {content: \"▾\";}#sk-container-id-1 div.sk-estimator input.sk-toggleable__control:checked~label.sk-toggleable__label {background-color: #d4ebff;}#sk-container-id-1 div.sk-label input.sk-toggleable__control:checked~label.sk-toggleable__label {background-color: #d4ebff;}#sk-container-id-1 input.sk-hidden--visually {border: 0;clip: rect(1px 1px 1px 1px);clip: rect(1px, 1px, 1px, 1px);height: 1px;margin: -1px;overflow: hidden;padding: 0;position: absolute;width: 1px;}#sk-container-id-1 div.sk-estimator {font-family: monospace;background-color: #f0f8ff;border: 1px dotted black;border-radius: 0.25em;box-sizing: border-box;margin-bottom: 0.5em;}#sk-container-id-1 div.sk-estimator:hover {background-color: #d4ebff;}#sk-container-id-1 div.sk-parallel-item::after {content: \"\";width: 100%;border-bottom: 1px solid gray;flex-grow: 1;}#sk-container-id-1 div.sk-label:hover label.sk-toggleable__label {background-color: #d4ebff;}#sk-container-id-1 div.sk-serial::before {content: \"\";position: absolute;border-left: 1px solid gray;box-sizing: border-box;top: 0;bottom: 0;left: 50%;z-index: 0;}#sk-container-id-1 div.sk-serial {display: flex;flex-direction: column;align-items: center;background-color: white;padding-right: 0.2em;padding-left: 0.2em;position: relative;}#sk-container-id-1 div.sk-item {position: relative;z-index: 1;}#sk-container-id-1 div.sk-parallel {display: flex;align-items: stretch;justify-content: center;background-color: white;position: relative;}#sk-container-id-1 div.sk-item::before, #sk-container-id-1 div.sk-parallel-item::before {content: \"\";position: absolute;border-left: 1px solid gray;box-sizing: border-box;top: 0;bottom: 0;left: 50%;z-index: -1;}#sk-container-id-1 div.sk-parallel-item {display: flex;flex-direction: column;z-index: 1;position: relative;background-color: white;}#sk-container-id-1 div.sk-parallel-item:first-child::after {align-self: flex-end;width: 50%;}#sk-container-id-1 div.sk-parallel-item:last-child::after {align-self: flex-start;width: 50%;}#sk-container-id-1 div.sk-parallel-item:only-child::after {width: 0;}#sk-container-id-1 div.sk-dashed-wrapped {border: 1px dashed gray;margin: 0 0.4em 0.5em 0.4em;box-sizing: border-box;padding-bottom: 0.4em;background-color: white;}#sk-container-id-1 div.sk-label label {font-family: monospace;font-weight: bold;display: inline-block;line-height: 1.2em;}#sk-container-id-1 div.sk-label-container {text-align: center;}#sk-container-id-1 div.sk-container {/* jupyter's `normalize.less` sets `[hidden] { display: none; }` but bootstrap.min.css set `[hidden] { display: none !important; }` so we also need the `!important` here to be able to override the default hidden behavior on the sphinx rendered scikit-learn.org. See: https://github.com/scikit-learn/scikit-learn/issues/21755 */display: inline-block !important;position: relative;}#sk-container-id-1 div.sk-text-repr-fallback {display: none;}</style><div id=\"sk-container-id-1\" class=\"sk-top-container\"><div class=\"sk-text-repr-fallback\"><pre>GridSearchCV(estimator=SVC(),\n",
       "             param_grid={&#x27;C&#x27;: [0.1, 1, 10, 100, 1000],\n",
       "                         &#x27;gamma&#x27;: [1, 0.1, 0.01, 0.001, 0.0001],\n",
       "                         &#x27;kernel&#x27;: [&#x27;linear&#x27;, &#x27;poly&#x27;, &#x27;rbf&#x27;, &#x27;sigmoid&#x27;]},\n",
       "             verbose=3)</pre><b>In a Jupyter environment, please rerun this cell to show the HTML representation or trust the notebook. <br />On GitHub, the HTML representation is unable to render, please try loading this page with nbviewer.org.</b></div><div class=\"sk-container\" hidden><div class=\"sk-item sk-dashed-wrapped\"><div class=\"sk-label-container\"><div class=\"sk-label sk-toggleable\"><input class=\"sk-toggleable__control sk-hidden--visually\" id=\"sk-estimator-id-1\" type=\"checkbox\" ><label for=\"sk-estimator-id-1\" class=\"sk-toggleable__label sk-toggleable__label-arrow\">GridSearchCV</label><div class=\"sk-toggleable__content\"><pre>GridSearchCV(estimator=SVC(),\n",
       "             param_grid={&#x27;C&#x27;: [0.1, 1, 10, 100, 1000],\n",
       "                         &#x27;gamma&#x27;: [1, 0.1, 0.01, 0.001, 0.0001],\n",
       "                         &#x27;kernel&#x27;: [&#x27;linear&#x27;, &#x27;poly&#x27;, &#x27;rbf&#x27;, &#x27;sigmoid&#x27;]},\n",
       "             verbose=3)</pre></div></div></div><div class=\"sk-parallel\"><div class=\"sk-parallel-item\"><div class=\"sk-item\"><div class=\"sk-label-container\"><div class=\"sk-label sk-toggleable\"><input class=\"sk-toggleable__control sk-hidden--visually\" id=\"sk-estimator-id-2\" type=\"checkbox\" ><label for=\"sk-estimator-id-2\" class=\"sk-toggleable__label sk-toggleable__label-arrow\">estimator: SVC</label><div class=\"sk-toggleable__content\"><pre>SVC()</pre></div></div></div><div class=\"sk-serial\"><div class=\"sk-item\"><div class=\"sk-estimator sk-toggleable\"><input class=\"sk-toggleable__control sk-hidden--visually\" id=\"sk-estimator-id-3\" type=\"checkbox\" ><label for=\"sk-estimator-id-3\" class=\"sk-toggleable__label sk-toggleable__label-arrow\">SVC</label><div class=\"sk-toggleable__content\"><pre>SVC()</pre></div></div></div></div></div></div></div></div></div></div>"
      ],
      "text/plain": [
       "GridSearchCV(estimator=SVC(),\n",
       "             param_grid={'C': [0.1, 1, 10, 100, 1000],\n",
       "                         'gamma': [1, 0.1, 0.01, 0.001, 0.0001],\n",
       "                         'kernel': ['linear', 'poly', 'rbf', 'sigmoid']},\n",
       "             verbose=3)"
      ]
     },
     "execution_count": 30,
     "metadata": {},
     "output_type": "execute_result"
    }
   ],
   "source": [
    "from sklearn.model_selection import GridSearchCV\n",
    "\n",
    "# defining parameter range\n",
    "param_grid = {'C': [0.1, 1, 10, 100, 1000],\n",
    "\t\t\t'gamma': [1, 0.1, 0.01, 0.001, 0.0001],\n",
    "\t\t\t'kernel': ['linear', 'poly', 'rbf', 'sigmoid']}\n",
    "\n",
    "grid = GridSearchCV(SVC(), param_grid, refit = True, verbose = 3)\n",
    "\n",
    "# fitting the model for grid search\n",
    "grid.fit(nova_lista, lista_label)\n"
   ]
  },
  {
   "cell_type": "code",
   "execution_count": 32,
   "id": "2cb34f38",
   "metadata": {},
   "outputs": [
    {
     "name": "stdout",
     "output_type": "stream",
     "text": [
      "{'C': 10, 'gamma': 1, 'kernel': 'rbf'}\n",
      "SVC(C=10, gamma=1)\n"
     ]
    }
   ],
   "source": [
    "# print best parameter after tuning\n",
    "print(grid.best_params_)\n",
    "\n",
    "# print how our model looks after hyper-parameter tuning\n",
    "print(grid.best_estimator_)\n"
   ]
  },
  {
   "cell_type": "code",
   "execution_count": 74,
   "id": "6eea6145",
   "metadata": {},
   "outputs": [
    {
     "data": {
      "text/html": [
       "<style>#sk-container-id-6 {color: black;background-color: white;}#sk-container-id-6 pre{padding: 0;}#sk-container-id-6 div.sk-toggleable {background-color: white;}#sk-container-id-6 label.sk-toggleable__label {cursor: pointer;display: block;width: 100%;margin-bottom: 0;padding: 0.3em;box-sizing: border-box;text-align: center;}#sk-container-id-6 label.sk-toggleable__label-arrow:before {content: \"▸\";float: left;margin-right: 0.25em;color: #696969;}#sk-container-id-6 label.sk-toggleable__label-arrow:hover:before {color: black;}#sk-container-id-6 div.sk-estimator:hover label.sk-toggleable__label-arrow:before {color: black;}#sk-container-id-6 div.sk-toggleable__content {max-height: 0;max-width: 0;overflow: hidden;text-align: left;background-color: #f0f8ff;}#sk-container-id-6 div.sk-toggleable__content pre {margin: 0.2em;color: black;border-radius: 0.25em;background-color: #f0f8ff;}#sk-container-id-6 input.sk-toggleable__control:checked~div.sk-toggleable__content {max-height: 200px;max-width: 100%;overflow: auto;}#sk-container-id-6 input.sk-toggleable__control:checked~label.sk-toggleable__label-arrow:before {content: \"▾\";}#sk-container-id-6 div.sk-estimator input.sk-toggleable__control:checked~label.sk-toggleable__label {background-color: #d4ebff;}#sk-container-id-6 div.sk-label input.sk-toggleable__control:checked~label.sk-toggleable__label {background-color: #d4ebff;}#sk-container-id-6 input.sk-hidden--visually {border: 0;clip: rect(1px 1px 1px 1px);clip: rect(1px, 1px, 1px, 1px);height: 1px;margin: -1px;overflow: hidden;padding: 0;position: absolute;width: 1px;}#sk-container-id-6 div.sk-estimator {font-family: monospace;background-color: #f0f8ff;border: 1px dotted black;border-radius: 0.25em;box-sizing: border-box;margin-bottom: 0.5em;}#sk-container-id-6 div.sk-estimator:hover {background-color: #d4ebff;}#sk-container-id-6 div.sk-parallel-item::after {content: \"\";width: 100%;border-bottom: 1px solid gray;flex-grow: 1;}#sk-container-id-6 div.sk-label:hover label.sk-toggleable__label {background-color: #d4ebff;}#sk-container-id-6 div.sk-serial::before {content: \"\";position: absolute;border-left: 1px solid gray;box-sizing: border-box;top: 0;bottom: 0;left: 50%;z-index: 0;}#sk-container-id-6 div.sk-serial {display: flex;flex-direction: column;align-items: center;background-color: white;padding-right: 0.2em;padding-left: 0.2em;position: relative;}#sk-container-id-6 div.sk-item {position: relative;z-index: 1;}#sk-container-id-6 div.sk-parallel {display: flex;align-items: stretch;justify-content: center;background-color: white;position: relative;}#sk-container-id-6 div.sk-item::before, #sk-container-id-6 div.sk-parallel-item::before {content: \"\";position: absolute;border-left: 1px solid gray;box-sizing: border-box;top: 0;bottom: 0;left: 50%;z-index: -1;}#sk-container-id-6 div.sk-parallel-item {display: flex;flex-direction: column;z-index: 1;position: relative;background-color: white;}#sk-container-id-6 div.sk-parallel-item:first-child::after {align-self: flex-end;width: 50%;}#sk-container-id-6 div.sk-parallel-item:last-child::after {align-self: flex-start;width: 50%;}#sk-container-id-6 div.sk-parallel-item:only-child::after {width: 0;}#sk-container-id-6 div.sk-dashed-wrapped {border: 1px dashed gray;margin: 0 0.4em 0.5em 0.4em;box-sizing: border-box;padding-bottom: 0.4em;background-color: white;}#sk-container-id-6 div.sk-label label {font-family: monospace;font-weight: bold;display: inline-block;line-height: 1.2em;}#sk-container-id-6 div.sk-label-container {text-align: center;}#sk-container-id-6 div.sk-container {/* jupyter's `normalize.less` sets `[hidden] { display: none; }` but bootstrap.min.css set `[hidden] { display: none !important; }` so we also need the `!important` here to be able to override the default hidden behavior on the sphinx rendered scikit-learn.org. See: https://github.com/scikit-learn/scikit-learn/issues/21755 */display: inline-block !important;position: relative;}#sk-container-id-6 div.sk-text-repr-fallback {display: none;}</style><div id=\"sk-container-id-6\" class=\"sk-top-container\"><div class=\"sk-text-repr-fallback\"><pre>Pipeline(steps=[(&#x27;standardscaler&#x27;, StandardScaler()),\n",
       "                (&#x27;svc&#x27;, SVC(C=10, class_weight=&#x27;balanced&#x27;, gamma=1))])</pre><b>In a Jupyter environment, please rerun this cell to show the HTML representation or trust the notebook. <br />On GitHub, the HTML representation is unable to render, please try loading this page with nbviewer.org.</b></div><div class=\"sk-container\" hidden><div class=\"sk-item sk-dashed-wrapped\"><div class=\"sk-label-container\"><div class=\"sk-label sk-toggleable\"><input class=\"sk-toggleable__control sk-hidden--visually\" id=\"sk-estimator-id-16\" type=\"checkbox\" ><label for=\"sk-estimator-id-16\" class=\"sk-toggleable__label sk-toggleable__label-arrow\">Pipeline</label><div class=\"sk-toggleable__content\"><pre>Pipeline(steps=[(&#x27;standardscaler&#x27;, StandardScaler()),\n",
       "                (&#x27;svc&#x27;, SVC(C=10, class_weight=&#x27;balanced&#x27;, gamma=1))])</pre></div></div></div><div class=\"sk-serial\"><div class=\"sk-item\"><div class=\"sk-estimator sk-toggleable\"><input class=\"sk-toggleable__control sk-hidden--visually\" id=\"sk-estimator-id-17\" type=\"checkbox\" ><label for=\"sk-estimator-id-17\" class=\"sk-toggleable__label sk-toggleable__label-arrow\">StandardScaler</label><div class=\"sk-toggleable__content\"><pre>StandardScaler()</pre></div></div></div><div class=\"sk-item\"><div class=\"sk-estimator sk-toggleable\"><input class=\"sk-toggleable__control sk-hidden--visually\" id=\"sk-estimator-id-18\" type=\"checkbox\" ><label for=\"sk-estimator-id-18\" class=\"sk-toggleable__label sk-toggleable__label-arrow\">SVC</label><div class=\"sk-toggleable__content\"><pre>SVC(C=10, class_weight=&#x27;balanced&#x27;, gamma=1)</pre></div></div></div></div></div></div></div>"
      ],
      "text/plain": [
       "Pipeline(steps=[('standardscaler', StandardScaler()),\n",
       "                ('svc', SVC(C=10, class_weight='balanced', gamma=1))])"
      ]
     },
     "execution_count": 74,
     "metadata": {},
     "output_type": "execute_result"
    }
   ],
   "source": [
    "lista_label = np.array(df_valid[\"label\"])\n",
    "lista_label = le.fit_transform(lista_label)\n",
    "nova_lista = W2Vvectorize(df_valid[\"text\"])\n",
    "\n",
    "clf = make_pipeline(SVC(class_weight='balanced', C=10, gamma=1, kernel='rbf'))\n",
    "clf.fit(nova_lista, lista_label)\n"
   ]
  },
  {
   "cell_type": "code",
   "execution_count": 69,
   "id": "320abd12",
   "metadata": {},
   "outputs": [
    {
     "name": "stdout",
     "output_type": "stream",
     "text": [
      "Valid:1.0\n",
      "Training:0.7573469387755102\n"
     ]
    }
   ],
   "source": [
    "print(\"Valid:\"+str(clf.score(nova_lista, lista_label)))\n",
    "\n",
    "lista_label_train = np.array(df_train[\"label\"])\n",
    "lista_label_train = le.fit_transform(lista_label_train)\n",
    "nova_lista_train = W2Vvectorize(df_train[\"text\"])\n",
    "\n",
    "print(\"Training:\"+str(clf.score(nova_lista_train, lista_label_train)))\n"
   ]
  },
  {
   "cell_type": "code",
   "execution_count": 51,
   "id": "259219a4",
   "metadata": {},
   "outputs": [],
   "source": [
    "def evaluate(model, text, y_test, target_names=('not sexist', 'sexist')):\n",
    "    import matplotlib.pyplot as plt\n",
    "    from sklearn.metrics import classification_report\n",
    "    from sklearn.metrics import ConfusionMatrixDisplay\n",
    "    from sklearn.metrics import precision_recall_fscore_support\n",
    "\n",
    "    text_features = W2Vvectorize(text)\n",
    "    y_test_pred = model.predict(text_features)\n",
    "    print(classification_report(y_test, y_test_pred, target_names=target_names))\n",
    "\n",
    "    precision, recall, f1, _ = precision_recall_fscore_support(y_test, y_test_pred, average=\"micro\")\n",
    "    print(f\"Precision: {precision:6.2f}\")\n",
    "    print(f\"   Recall: {recall:6.2f}\")\n",
    "    print(f\"       F1: {f1:6.2f}\")\n",
    "\n",
    "    ConfusionMatrixDisplay.from_predictions(y_test, y_test_pred, display_labels=target_names)\n",
    "    plt.show()"
   ]
  },
  {
   "cell_type": "code",
   "execution_count": 71,
   "id": "53c82bd8",
   "metadata": {},
   "outputs": [
    {
     "name": "stdout",
     "output_type": "stream",
     "text": [
      "              precision    recall  f1-score   support\n",
      "\n",
      "  not sexist       1.00      1.00      1.00      1060\n",
      "      sexist       1.00      1.00      1.00       340\n",
      "\n",
      "    accuracy                           1.00      1400\n",
      "   macro avg       1.00      1.00      1.00      1400\n",
      "weighted avg       1.00      1.00      1.00      1400\n",
      "\n",
      "Precision:   1.00\n",
      "   Recall:   1.00\n",
      "       F1:   1.00\n"
     ]
    },
    {
     "data": {
      "image/png": "[encoded data removed]",
      "text/plain": [
       "<Figure size 640x480 with 2 Axes>"
      ]
     },
     "metadata": {},
     "output_type": "display_data"
    }
   ],
   "source": [
    "evaluate(clf, df_valid.text, lista_label)"
   ]
  },
  {
   "cell_type": "code",
   "execution_count": 75,
   "id": "0a306383",
   "metadata": {},
   "outputs": [],
   "source": [
    "import pickle\n",
    "word2vec_clf = pickle.dumps(clf)"
   ]
  },
  {
   "cell_type": "code",
   "execution_count": 122,
   "id": "5a1c6f7c",
   "metadata": {},
   "outputs": [
    {
     "name": "stdout",
     "output_type": "stream",
     "text": [
      "9800 1400\n",
      "9800 1400\n",
      "11200 11200\n"
     ]
    }
   ],
   "source": [
    "my_test_fold = []\n",
    "\n",
    "\n",
    "for i in range(len(df_train)):\n",
    "    my_test_fold.append(-1)\n",
    "\n",
    "for i in range(len(df_valid)):\n",
    "    my_test_fold.append(0)\n",
    "\n",
    "label_train = np.array(df_train[\"label\"])\n",
    "label_train = le.fit_transform(label_train)\n",
    "\n",
    "text_train = W2Vvectorize(df_train[\"text\"])\n",
    "\n",
    "label_valid = np.array(df_valid[\"label\"])\n",
    "label_valid = le.fit_transform(label_valid)\n",
    "\n",
    "text_valid = W2Vvectorize(df_valid[\"text\"])\n",
    "print(len(text_train), len(text_valid))\n",
    "print(len(label_train), len(label_valid))\n",
    "merged_ts = np.concatenate((text_train, text_valid),axis=0)\n",
    "merged_labels = np.concatenate((label_train,  label_valid),axis=0)\n",
    "print(len(merged_ts), len(merged_labels))"
   ]
  },
  {
   "cell_type": "code",
   "execution_count": 127,
   "id": "e111e95c",
   "metadata": {},
   "outputs": [],
   "source": [
    "from sklearn.model_selection import PredefinedSplit\n",
    "from sklearn.model_selection import GridSearchCV\n",
    "from sklearn.pipeline import Pipeline\n",
    "# defining parameter range\n",
    "param_grid = [{'svm__C': [0.1, 1, 10],\n",
    "\t      'svm__gamma': [1, 0.1, 0.01, 0.001],\n",
    "\t      'svm__kernel': ['linear', 'poly', 'rbf', 'sigmoid']}]\n",
    "ps = PredefinedSplit(test_fold=my_test_fold)\n",
    "pipeline = Pipeline([\n",
    "        (\"scaler\", StandardScaler()), \n",
    "        (\"svm\", SVC(class_weight='balanced'))])   \n",
    "grid = GridSearchCV(pipeline, param_grid, refit = True, verbose = 3, cv=ps)"
   ]
  },
  {
   "cell_type": "code",
   "execution_count": 128,
   "id": "bf729315",
   "metadata": {},
   "outputs": [
    {
     "name": "stdout",
     "output_type": "stream",
     "text": [
      "Fitting 1 folds for each of 48 candidates, totalling 48 fits\n",
      "[CV 1/1] END svm__C=0.1, svm__gamma=1, svm__kernel=linear;, score=0.689 total time=  28.8s\n",
      "[CV 1/1] END svm__C=0.1, svm__gamma=1, svm__kernel=poly;, score=0.739 total time=  54.6s\n",
      "[CV 1/1] END svm__C=0.1, svm__gamma=1, svm__kernel=rbf;, score=0.757 total time=  25.3s\n",
      "[CV 1/1] END svm__C=0.1, svm__gamma=1, svm__kernel=sigmoid;, score=0.543 total time=  13.0s\n",
      "[CV 1/1] END svm__C=0.1, svm__gamma=0.1, svm__kernel=linear;, score=0.689 total time=  28.4s\n",
      "[CV 1/1] END svm__C=0.1, svm__gamma=0.1, svm__kernel=poly;, score=0.739 total time=  55.2s\n",
      "[CV 1/1] END svm__C=0.1, svm__gamma=0.1, svm__kernel=rbf;, score=0.757 total time=  25.3s\n",
      "[CV 1/1] END svm__C=0.1, svm__gamma=0.1, svm__kernel=sigmoid;, score=0.539 total time=  16.4s\n",
      "[CV 1/1] END svm__C=0.1, svm__gamma=0.01, svm__kernel=linear;, score=0.689 total time=  28.4s\n",
      "[CV 1/1] END svm__C=0.1, svm__gamma=0.01, svm__kernel=poly;, score=0.749 total time=  22.3s\n",
      "[CV 1/1] END svm__C=0.1, svm__gamma=0.01, svm__kernel=rbf;, score=0.731 total time=  26.5s\n",
      "[CV 1/1] END svm__C=0.1, svm__gamma=0.01, svm__kernel=sigmoid;, score=0.613 total time=  16.4s\n",
      "[CV 1/1] END svm__C=0.1, svm__gamma=0.001, svm__kernel=linear;, score=0.689 total time=  28.4s\n",
      "[CV 1/1] END svm__C=0.1, svm__gamma=0.001, svm__kernel=poly;, score=0.764 total time=  24.7s\n",
      "[CV 1/1] END svm__C=0.1, svm__gamma=0.001, svm__kernel=rbf;, score=0.699 total time=  23.1s\n",
      "[CV 1/1] END svm__C=0.1, svm__gamma=0.001, svm__kernel=sigmoid;, score=0.692 total time=  23.9s\n",
      "[CV 1/1] END svm__C=1, svm__gamma=1, svm__kernel=linear;, score=0.691 total time= 1.3min\n",
      "[CV 1/1] END svm__C=1, svm__gamma=1, svm__kernel=poly;, score=0.739 total time=  51.9s\n",
      "[CV 1/1] END svm__C=1, svm__gamma=1, svm__kernel=rbf;, score=0.757 total time= 1.9min\n",
      "[CV 1/1] END svm__C=1, svm__gamma=1, svm__kernel=sigmoid;, score=0.544 total time=  12.6s\n",
      "[CV 1/1] END svm__C=1, svm__gamma=0.1, svm__kernel=linear;, score=0.691 total time= 1.3min\n",
      "[CV 1/1] END svm__C=1, svm__gamma=0.1, svm__kernel=poly;, score=0.739 total time=  54.4s\n",
      "[CV 1/1] END svm__C=1, svm__gamma=0.1, svm__kernel=rbf;, score=0.757 total time= 1.6min\n",
      "[CV 1/1] END svm__C=1, svm__gamma=0.1, svm__kernel=sigmoid;, score=0.540 total time=  14.8s\n",
      "[CV 1/1] END svm__C=1, svm__gamma=0.01, svm__kernel=linear;, score=0.691 total time= 1.3min\n",
      "[CV 1/1] END svm__C=1, svm__gamma=0.01, svm__kernel=poly;, score=0.741 total time=  49.9s\n",
      "[CV 1/1] END svm__C=1, svm__gamma=0.01, svm__kernel=rbf;, score=0.771 total time=  43.1s\n",
      "[CV 1/1] END svm__C=1, svm__gamma=0.01, svm__kernel=sigmoid;, score=0.581 total time=  11.7s\n",
      "[CV 1/1] END svm__C=1, svm__gamma=0.001, svm__kernel=linear;, score=0.691 total time= 1.3min\n",
      "[CV 1/1] END svm__C=1, svm__gamma=0.001, svm__kernel=poly;, score=0.765 total time=  24.1s\n",
      "[CV 1/1] END svm__C=1, svm__gamma=0.001, svm__kernel=rbf;, score=0.727 total time=  19.2s\n",
      "[CV 1/1] END svm__C=1, svm__gamma=0.001, svm__kernel=sigmoid;, score=0.686 total time=  21.6s\n",
      "[CV 1/1] END svm__C=10, svm__gamma=1, svm__kernel=linear;, score=0.691 total time=10.0min\n",
      "[CV 1/1] END svm__C=10, svm__gamma=1, svm__kernel=poly;, score=0.739 total time=  55.3s\n",
      "[CV 1/1] END svm__C=10, svm__gamma=1, svm__kernel=rbf;, score=0.757 total time= 1.4min\n",
      "[CV 1/1] END svm__C=10, svm__gamma=1, svm__kernel=sigmoid;, score=0.541 total time=  12.6s\n",
      "[CV 1/1] END svm__C=10, svm__gamma=0.1, svm__kernel=linear;, score=0.691 total time= 9.9min\n",
      "[CV 1/1] END svm__C=10, svm__gamma=0.1, svm__kernel=poly;, score=0.739 total time=  54.4s\n",
      "[CV 1/1] END svm__C=10, svm__gamma=0.1, svm__kernel=rbf;, score=0.757 total time= 1.4min\n",
      "[CV 1/1] END svm__C=10, svm__gamma=0.1, svm__kernel=sigmoid;, score=0.540 total time=  14.8s\n",
      "[CV 1/1] END svm__C=10, svm__gamma=0.01, svm__kernel=linear;, score=0.691 total time= 9.9min\n",
      "[CV 1/1] END svm__C=10, svm__gamma=0.01, svm__kernel=poly;, score=0.739 total time=  55.5s\n",
      "[CV 1/1] END svm__C=10, svm__gamma=0.01, svm__kernel=rbf;, score=0.788 total time= 1.0min\n",
      "[CV 1/1] END svm__C=10, svm__gamma=0.01, svm__kernel=sigmoid;, score=0.584 total time=  11.3s\n",
      "[CV 1/1] END svm__C=10, svm__gamma=0.001, svm__kernel=linear;, score=0.691 total time= 9.9min\n",
      "[CV 1/1] END svm__C=10, svm__gamma=0.001, svm__kernel=poly;, score=0.732 total time=  23.3s\n",
      "[CV 1/1] END svm__C=10, svm__gamma=0.001, svm__kernel=rbf;, score=0.743 total time=  17.8s\n",
      "[CV 1/1] END svm__C=10, svm__gamma=0.001, svm__kernel=sigmoid;, score=0.656 total time=  17.7s\n"
     ]
    },
    {
     "data": {
      "text/html": [
       "<style>#sk-container-id-23 {color: black;background-color: white;}#sk-container-id-23 pre{padding: 0;}#sk-container-id-23 div.sk-toggleable {background-color: white;}#sk-container-id-23 label.sk-toggleable__label {cursor: pointer;display: block;width: 100%;margin-bottom: 0;padding: 0.3em;box-sizing: border-box;text-align: center;}#sk-container-id-23 label.sk-toggleable__label-arrow:before {content: \"▸\";float: left;margin-right: 0.25em;color: #696969;}#sk-container-id-23 label.sk-toggleable__label-arrow:hover:before {color: black;}#sk-container-id-23 div.sk-estimator:hover label.sk-toggleable__label-arrow:before {color: black;}#sk-container-id-23 div.sk-toggleable__content {max-height: 0;max-width: 0;overflow: hidden;text-align: left;background-color: #f0f8ff;}#sk-container-id-23 div.sk-toggleable__content pre {margin: 0.2em;color: black;border-radius: 0.25em;background-color: #f0f8ff;}#sk-container-id-23 input.sk-toggleable__control:checked~div.sk-toggleable__content {max-height: 200px;max-width: 100%;overflow: auto;}#sk-container-id-23 input.sk-toggleable__control:checked~label.sk-toggleable__label-arrow:before {content: \"▾\";}#sk-container-id-23 div.sk-estimator input.sk-toggleable__control:checked~label.sk-toggleable__label {background-color: #d4ebff;}#sk-container-id-23 div.sk-label input.sk-toggleable__control:checked~label.sk-toggleable__label {background-color: #d4ebff;}#sk-container-id-23 input.sk-hidden--visually {border: 0;clip: rect(1px 1px 1px 1px);clip: rect(1px, 1px, 1px, 1px);height: 1px;margin: -1px;overflow: hidden;padding: 0;position: absolute;width: 1px;}#sk-container-id-23 div.sk-estimator {font-family: monospace;background-color: #f0f8ff;border: 1px dotted black;border-radius: 0.25em;box-sizing: border-box;margin-bottom: 0.5em;}#sk-container-id-23 div.sk-estimator:hover {background-color: #d4ebff;}#sk-container-id-23 div.sk-parallel-item::after {content: \"\";width: 100%;border-bottom: 1px solid gray;flex-grow: 1;}#sk-container-id-23 div.sk-label:hover label.sk-toggleable__label {background-color: #d4ebff;}#sk-container-id-23 div.sk-serial::before {content: \"\";position: absolute;border-left: 1px solid gray;box-sizing: border-box;top: 0;bottom: 0;left: 50%;z-index: 0;}#sk-container-id-23 div.sk-serial {display: flex;flex-direction: column;align-items: center;background-color: white;padding-right: 0.2em;padding-left: 0.2em;position: relative;}#sk-container-id-23 div.sk-item {position: relative;z-index: 1;}#sk-container-id-23 div.sk-parallel {display: flex;align-items: stretch;justify-content: center;background-color: white;position: relative;}#sk-container-id-23 div.sk-item::before, #sk-container-id-23 div.sk-parallel-item::before {content: \"\";position: absolute;border-left: 1px solid gray;box-sizing: border-box;top: 0;bottom: 0;left: 50%;z-index: -1;}#sk-container-id-23 div.sk-parallel-item {display: flex;flex-direction: column;z-index: 1;position: relative;background-color: white;}#sk-container-id-23 div.sk-parallel-item:first-child::after {align-self: flex-end;width: 50%;}#sk-container-id-23 div.sk-parallel-item:last-child::after {align-self: flex-start;width: 50%;}#sk-container-id-23 div.sk-parallel-item:only-child::after {width: 0;}#sk-container-id-23 div.sk-dashed-wrapped {border: 1px dashed gray;margin: 0 0.4em 0.5em 0.4em;box-sizing: border-box;padding-bottom: 0.4em;background-color: white;}#sk-container-id-23 div.sk-label label {font-family: monospace;font-weight: bold;display: inline-block;line-height: 1.2em;}#sk-container-id-23 div.sk-label-container {text-align: center;}#sk-container-id-23 div.sk-container {/* jupyter's `normalize.less` sets `[hidden] { display: none; }` but bootstrap.min.css set `[hidden] { display: none !important; }` so we also need the `!important` here to be able to override the default hidden behavior on the sphinx rendered scikit-learn.org. See: https://github.com/scikit-learn/scikit-learn/issues/21755 */display: inline-block !important;position: relative;}#sk-container-id-23 div.sk-text-repr-fallback {display: none;}</style><div id=\"sk-container-id-23\" class=\"sk-top-container\"><div class=\"sk-text-repr-fallback\"><pre>GridSearchCV(cv=PredefinedSplit(test_fold=array([-1, -1, ...,  0,  0])),\n",
       "             estimator=Pipeline(steps=[(&#x27;scaler&#x27;, StandardScaler()),\n",
       "                                       (&#x27;svm&#x27;, SVC(class_weight=&#x27;balanced&#x27;))]),\n",
       "             param_grid=[{&#x27;svm__C&#x27;: [0.1, 1, 10],\n",
       "                          &#x27;svm__gamma&#x27;: [1, 0.1, 0.01, 0.001],\n",
       "                          &#x27;svm__kernel&#x27;: [&#x27;linear&#x27;, &#x27;poly&#x27;, &#x27;rbf&#x27;, &#x27;sigmoid&#x27;]}],\n",
       "             verbose=3)</pre><b>In a Jupyter environment, please rerun this cell to show the HTML representation or trust the notebook. <br />On GitHub, the HTML representation is unable to render, please try loading this page with nbviewer.org.</b></div><div class=\"sk-container\" hidden><div class=\"sk-item sk-dashed-wrapped\"><div class=\"sk-label-container\"><div class=\"sk-label sk-toggleable\"><input class=\"sk-toggleable__control sk-hidden--visually\" id=\"sk-estimator-id-54\" type=\"checkbox\" ><label for=\"sk-estimator-id-54\" class=\"sk-toggleable__label sk-toggleable__label-arrow\">GridSearchCV</label><div class=\"sk-toggleable__content\"><pre>GridSearchCV(cv=PredefinedSplit(test_fold=array([-1, -1, ...,  0,  0])),\n",
       "             estimator=Pipeline(steps=[(&#x27;scaler&#x27;, StandardScaler()),\n",
       "                                       (&#x27;svm&#x27;, SVC(class_weight=&#x27;balanced&#x27;))]),\n",
       "             param_grid=[{&#x27;svm__C&#x27;: [0.1, 1, 10],\n",
       "                          &#x27;svm__gamma&#x27;: [1, 0.1, 0.01, 0.001],\n",
       "                          &#x27;svm__kernel&#x27;: [&#x27;linear&#x27;, &#x27;poly&#x27;, &#x27;rbf&#x27;, &#x27;sigmoid&#x27;]}],\n",
       "             verbose=3)</pre></div></div></div><div class=\"sk-parallel\"><div class=\"sk-parallel-item\"><div class=\"sk-item\"><div class=\"sk-label-container\"><div class=\"sk-label sk-toggleable\"><input class=\"sk-toggleable__control sk-hidden--visually\" id=\"sk-estimator-id-55\" type=\"checkbox\" ><label for=\"sk-estimator-id-55\" class=\"sk-toggleable__label sk-toggleable__label-arrow\">estimator: Pipeline</label><div class=\"sk-toggleable__content\"><pre>Pipeline(steps=[(&#x27;scaler&#x27;, StandardScaler()),\n",
       "                (&#x27;svm&#x27;, SVC(class_weight=&#x27;balanced&#x27;))])</pre></div></div></div><div class=\"sk-serial\"><div class=\"sk-item\"><div class=\"sk-serial\"><div class=\"sk-item\"><div class=\"sk-estimator sk-toggleable\"><input class=\"sk-toggleable__control sk-hidden--visually\" id=\"sk-estimator-id-56\" type=\"checkbox\" ><label for=\"sk-estimator-id-56\" class=\"sk-toggleable__label sk-toggleable__label-arrow\">StandardScaler</label><div class=\"sk-toggleable__content\"><pre>StandardScaler()</pre></div></div></div><div class=\"sk-item\"><div class=\"sk-estimator sk-toggleable\"><input class=\"sk-toggleable__control sk-hidden--visually\" id=\"sk-estimator-id-57\" type=\"checkbox\" ><label for=\"sk-estimator-id-57\" class=\"sk-toggleable__label sk-toggleable__label-arrow\">SVC</label><div class=\"sk-toggleable__content\"><pre>SVC(class_weight=&#x27;balanced&#x27;)</pre></div></div></div></div></div></div></div></div></div></div></div></div>"
      ],
      "text/plain": [
       "GridSearchCV(cv=PredefinedSplit(test_fold=array([-1, -1, ...,  0,  0])),\n",
       "             estimator=Pipeline(steps=[('scaler', StandardScaler()),\n",
       "                                       ('svm', SVC(class_weight='balanced'))]),\n",
       "             param_grid=[{'svm__C': [0.1, 1, 10],\n",
       "                          'svm__gamma': [1, 0.1, 0.01, 0.001],\n",
       "                          'svm__kernel': ['linear', 'poly', 'rbf', 'sigmoid']}],\n",
       "             verbose=3)"
      ]
     },
     "execution_count": 128,
     "metadata": {},
     "output_type": "execute_result"
    }
   ],
   "source": [
    "grid.fit(merged_ts, merged_labels)\n",
    "\n"
   ]
  },
  {
   "cell_type": "code",
   "execution_count": 129,
   "id": "c4ab077c",
   "metadata": {},
   "outputs": [
    {
     "name": "stdout",
     "output_type": "stream",
     "text": [
      "{'svm__C': 10, 'svm__gamma': 0.01, 'svm__kernel': 'rbf'}\n",
      "Pipeline(steps=[('scaler', StandardScaler()),\n",
      "                ('svm', SVC(C=10, class_weight='balanced', gamma=0.01))])\n",
      "0.7878571428571428\n"
     ]
    }
   ],
   "source": [
    "# print best parameter after tuning\n",
    "print(grid.best_params_)\n",
    "\n",
    "# print how our model looks after hyper-parameter tuning\n",
    "print(grid.best_estimator_)\n",
    "\n",
    "print(grid.best_score_)"
   ]
  },
  {
   "cell_type": "code",
   "execution_count": 130,
   "id": "64aad25a",
   "metadata": {},
   "outputs": [
    {
     "data": {
      "text/html": [
       "<style>#sk-container-id-24 {color: black;background-color: white;}#sk-container-id-24 pre{padding: 0;}#sk-container-id-24 div.sk-toggleable {background-color: white;}#sk-container-id-24 label.sk-toggleable__label {cursor: pointer;display: block;width: 100%;margin-bottom: 0;padding: 0.3em;box-sizing: border-box;text-align: center;}#sk-container-id-24 label.sk-toggleable__label-arrow:before {content: \"▸\";float: left;margin-right: 0.25em;color: #696969;}#sk-container-id-24 label.sk-toggleable__label-arrow:hover:before {color: black;}#sk-container-id-24 div.sk-estimator:hover label.sk-toggleable__label-arrow:before {color: black;}#sk-container-id-24 div.sk-toggleable__content {max-height: 0;max-width: 0;overflow: hidden;text-align: left;background-color: #f0f8ff;}#sk-container-id-24 div.sk-toggleable__content pre {margin: 0.2em;color: black;border-radius: 0.25em;background-color: #f0f8ff;}#sk-container-id-24 input.sk-toggleable__control:checked~div.sk-toggleable__content {max-height: 200px;max-width: 100%;overflow: auto;}#sk-container-id-24 input.sk-toggleable__control:checked~label.sk-toggleable__label-arrow:before {content: \"▾\";}#sk-container-id-24 div.sk-estimator input.sk-toggleable__control:checked~label.sk-toggleable__label {background-color: #d4ebff;}#sk-container-id-24 div.sk-label input.sk-toggleable__control:checked~label.sk-toggleable__label {background-color: #d4ebff;}#sk-container-id-24 input.sk-hidden--visually {border: 0;clip: rect(1px 1px 1px 1px);clip: rect(1px, 1px, 1px, 1px);height: 1px;margin: -1px;overflow: hidden;padding: 0;position: absolute;width: 1px;}#sk-container-id-24 div.sk-estimator {font-family: monospace;background-color: #f0f8ff;border: 1px dotted black;border-radius: 0.25em;box-sizing: border-box;margin-bottom: 0.5em;}#sk-container-id-24 div.sk-estimator:hover {background-color: #d4ebff;}#sk-container-id-24 div.sk-parallel-item::after {content: \"\";width: 100%;border-bottom: 1px solid gray;flex-grow: 1;}#sk-container-id-24 div.sk-label:hover label.sk-toggleable__label {background-color: #d4ebff;}#sk-container-id-24 div.sk-serial::before {content: \"\";position: absolute;border-left: 1px solid gray;box-sizing: border-box;top: 0;bottom: 0;left: 50%;z-index: 0;}#sk-container-id-24 div.sk-serial {display: flex;flex-direction: column;align-items: center;background-color: white;padding-right: 0.2em;padding-left: 0.2em;position: relative;}#sk-container-id-24 div.sk-item {position: relative;z-index: 1;}#sk-container-id-24 div.sk-parallel {display: flex;align-items: stretch;justify-content: center;background-color: white;position: relative;}#sk-container-id-24 div.sk-item::before, #sk-container-id-24 div.sk-parallel-item::before {content: \"\";position: absolute;border-left: 1px solid gray;box-sizing: border-box;top: 0;bottom: 0;left: 50%;z-index: -1;}#sk-container-id-24 div.sk-parallel-item {display: flex;flex-direction: column;z-index: 1;position: relative;background-color: white;}#sk-container-id-24 div.sk-parallel-item:first-child::after {align-self: flex-end;width: 50%;}#sk-container-id-24 div.sk-parallel-item:last-child::after {align-self: flex-start;width: 50%;}#sk-container-id-24 div.sk-parallel-item:only-child::after {width: 0;}#sk-container-id-24 div.sk-dashed-wrapped {border: 1px dashed gray;margin: 0 0.4em 0.5em 0.4em;box-sizing: border-box;padding-bottom: 0.4em;background-color: white;}#sk-container-id-24 div.sk-label label {font-family: monospace;font-weight: bold;display: inline-block;line-height: 1.2em;}#sk-container-id-24 div.sk-label-container {text-align: center;}#sk-container-id-24 div.sk-container {/* jupyter's `normalize.less` sets `[hidden] { display: none; }` but bootstrap.min.css set `[hidden] { display: none !important; }` so we also need the `!important` here to be able to override the default hidden behavior on the sphinx rendered scikit-learn.org. See: https://github.com/scikit-learn/scikit-learn/issues/21755 */display: inline-block !important;position: relative;}#sk-container-id-24 div.sk-text-repr-fallback {display: none;}</style><div id=\"sk-container-id-24\" class=\"sk-top-container\"><div class=\"sk-text-repr-fallback\"><pre>Pipeline(steps=[(&#x27;standardscaler&#x27;, StandardScaler()),\n",
       "                (&#x27;svc&#x27;, SVC(C=10, class_weight=&#x27;balanced&#x27;, gamma=0.01))])</pre><b>In a Jupyter environment, please rerun this cell to show the HTML representation or trust the notebook. <br />On GitHub, the HTML representation is unable to render, please try loading this page with nbviewer.org.</b></div><div class=\"sk-container\" hidden><div class=\"sk-item sk-dashed-wrapped\"><div class=\"sk-label-container\"><div class=\"sk-label sk-toggleable\"><input class=\"sk-toggleable__control sk-hidden--visually\" id=\"sk-estimator-id-58\" type=\"checkbox\" ><label for=\"sk-estimator-id-58\" class=\"sk-toggleable__label sk-toggleable__label-arrow\">Pipeline</label><div class=\"sk-toggleable__content\"><pre>Pipeline(steps=[(&#x27;standardscaler&#x27;, StandardScaler()),\n",
       "                (&#x27;svc&#x27;, SVC(C=10, class_weight=&#x27;balanced&#x27;, gamma=0.01))])</pre></div></div></div><div class=\"sk-serial\"><div class=\"sk-item\"><div class=\"sk-estimator sk-toggleable\"><input class=\"sk-toggleable__control sk-hidden--visually\" id=\"sk-estimator-id-59\" type=\"checkbox\" ><label for=\"sk-estimator-id-59\" class=\"sk-toggleable__label sk-toggleable__label-arrow\">StandardScaler</label><div class=\"sk-toggleable__content\"><pre>StandardScaler()</pre></div></div></div><div class=\"sk-item\"><div class=\"sk-estimator sk-toggleable\"><input class=\"sk-toggleable__control sk-hidden--visually\" id=\"sk-estimator-id-60\" type=\"checkbox\" ><label for=\"sk-estimator-id-60\" class=\"sk-toggleable__label sk-toggleable__label-arrow\">SVC</label><div class=\"sk-toggleable__content\"><pre>SVC(C=10, class_weight=&#x27;balanced&#x27;, gamma=0.01)</pre></div></div></div></div></div></div></div>"
      ],
      "text/plain": [
       "Pipeline(steps=[('standardscaler', StandardScaler()),\n",
       "                ('svc', SVC(C=10, class_weight='balanced', gamma=0.01))])"
      ]
     },
     "execution_count": 130,
     "metadata": {},
     "output_type": "execute_result"
    }
   ],
   "source": [
    "label_train = np.array(df_train[\"label\"])\n",
    "label_train = le.fit_transform(label_train)\n",
    "\n",
    "text_train = W2Vvectorize(df_train[\"text\"])\n",
    "\n",
    "label_test = np.array(df_test[\"label\"])\n",
    "label_test = le.fit_transform(label_test)\n",
    "\n",
    "clf = make_pipeline(StandardScaler(), SVC(class_weight='balanced', C=10, gamma=0.01))\n",
    "clf.fit(text_train, label_train)"
   ]
  },
  {
   "cell_type": "code",
   "execution_count": 131,
   "id": "ea1029f1",
   "metadata": {},
   "outputs": [
    {
     "name": "stdout",
     "output_type": "stream",
     "text": [
      "              precision    recall  f1-score   support\n",
      "\n",
      "  not sexist       0.81      0.96      0.88      2120\n",
      "      sexist       0.69      0.31      0.43       680\n",
      "\n",
      "    accuracy                           0.80      2800\n",
      "   macro avg       0.75      0.63      0.65      2800\n",
      "weighted avg       0.78      0.80      0.77      2800\n",
      "\n",
      "Precision:   0.80\n",
      "   Recall:   0.80\n",
      "       F1:   0.80\n"
     ]
    },
    {
     "data": {
      "image/png": "[encoded data removed]",
      "text/plain": [
       "<Figure size 432x288 with 2 Axes>"
      ]
     },
     "metadata": {
      "needs_background": "light"
     },
     "output_type": "display_data"
    }
   ],
   "source": [
    "evaluate(clf, df_test.text, label_test)"
   ]
  },
  {
   "cell_type": "markdown",
   "id": "f5b61017",
   "metadata": {},
   "source": [
    "SVM +TF_IDF"
   ]
  },
  {
   "cell_type": "markdown",
   "id": "a7edf4e5",
   "metadata": {},
   "source": [
    "TF_IDF prije optimizacije parametara:"
   ]
  },
  {
   "cell_type": "code",
   "execution_count": 37,
   "id": "fcd70ebe",
   "metadata": {},
   "outputs": [],
   "source": [
    "from sklearn.feature_extraction.text import TfidfVectorizer\n",
    "\n",
    "corpus = df_train[\"text\"]\n",
    "vectorizer = TfidfVectorizer()\n",
    "X = vectorizer.fit_transform(corpus)\n",
    "\n",
    "le = LabelEncoder()\n",
    "clf = SVC()\n",
    "\n",
    "lista_label = np.array(df_train[\"label\"])\n",
    "lista_label = le.fit_transform(lista_label)\n",
    "\n",
    "clf = make_pipeline(StandardScaler(with_mean=False), SVC(gamma='auto'))\n",
    "clf = clf.fit(X, lista_label)"
   ]
  },
  {
   "cell_type": "code",
   "execution_count": 38,
   "id": "5521b701",
   "metadata": {},
   "outputs": [
    {
     "name": "stdout",
     "output_type": "stream",
     "text": [
      "Training:0.9171428571428571\n",
      "Test:0.7610714285714286\n"
     ]
    }
   ],
   "source": [
    "print(\"Training:\"+str(clf.score(X, lista_label)))\n",
    "\n",
    "lista_label_test = np.array(df_test[\"label\"])\n",
    "lista_label_test = le.transform(lista_label_test)\n",
    "nova_lista_test = vectorizer.transform(df_test[\"text\"])\n",
    "\n",
    "print(\"Test:\"+str(clf.score(nova_lista_test,lista_label_test)))"
   ]
  },
  {
   "cell_type": "code",
   "execution_count": 39,
   "id": "8791d0cf",
   "metadata": {},
   "outputs": [],
   "source": [
    "def evaluate(model, tf_idf, text, y_test, target_names=('not sexist', 'sexist')):\n",
    "    import matplotlib.pyplot as plt\n",
    "    from sklearn.metrics import classification_report\n",
    "    from sklearn.metrics import ConfusionMatrixDisplay\n",
    "    from sklearn.metrics import precision_recall_fscore_support\n",
    "\n",
    "    text_features = tf_idf.transform(text)\n",
    "    y_test_pred = model.predict(text_features)\n",
    "    print(classification_report(y_test, y_test_pred, target_names=target_names))\n",
    "\n",
    "    precision, recall, f1, _ = precision_recall_fscore_support(y_test, y_test_pred, average=\"micro\")\n",
    "    print(f\"Precision: {precision:6.2f}\")\n",
    "    print(f\"   Recall: {recall:6.2f}\")\n",
    "    print(f\"       F1: {f1:6.2f}\")\n",
    "\n",
    "    ConfusionMatrixDisplay.from_predictions(y_test, y_test_pred, display_labels=target_names)\n",
    "    plt.show()"
   ]
  },
  {
   "cell_type": "code",
   "execution_count": 40,
   "id": "273137bc",
   "metadata": {},
   "outputs": [
    {
     "name": "stdout",
     "output_type": "stream",
     "text": [
      "              precision    recall  f1-score   support\n",
      "\n",
      "  not sexist       0.76      1.00      0.86      2120\n",
      "      sexist       0.92      0.02      0.03       680\n",
      "\n",
      "    accuracy                           0.76      2800\n",
      "   macro avg       0.84      0.51      0.45      2800\n",
      "weighted avg       0.80      0.76      0.66      2800\n",
      "\n",
      "Precision:   0.76\n",
      "   Recall:   0.76\n",
      "       F1:   0.76\n"
     ]
    },
    {
     "data": {
      "image/png": "[encoded data removed]",
      "text/plain": [
       "<Figure size 640x480 with 2 Axes>"
      ]
     },
     "metadata": {},
     "output_type": "display_data"
    }
   ],
   "source": [
    "evaluate(clf, vectorizer, df_test.text, lista_label_test)"
   ]
  },
  {
   "cell_type": "markdown",
   "id": "3afaf55f",
   "metadata": {},
   "source": [
    "TF_IDF nakon optimizacije hiperparametara:"
   ]
  },
  {
   "cell_type": "markdown",
   "id": "7e588664",
   "metadata": {},
   "source": [
    "Opet treniramo na train i provjeravamo na valid?"
   ]
  },
  {
   "cell_type": "code",
   "execution_count": 41,
   "id": "581f5283",
   "metadata": {},
   "outputs": [],
   "source": [
    "from sklearn.feature_extraction.text import TfidfVectorizer\n",
    "\n",
    "vectorizer = TfidfVectorizer()\n",
    "le = LabelEncoder()\n",
    "\n",
    "lista_label = np.array(df_train[\"label\"])\n",
    "lista_label = le.fit_transform(lista_label)\n",
    "nova_lista = vectorizer.fit_transform(df_train[\"text\"])"
   ]
  },
  {
   "cell_type": "code",
   "execution_count": 42,
   "id": "8ceec99c",
   "metadata": {},
   "outputs": [
    {
     "name": "stdout",
     "output_type": "stream",
     "text": [
      "Fitting 5 folds for each of 80 candidates, totalling 400 fits\n",
      "[CV 1/5] END .....C=0.1, gamma=1, kernel=linear;, score=0.765 total time=   6.2s\n",
      "[CV 2/5] END .....C=0.1, gamma=1, kernel=linear;, score=0.767 total time=   6.2s\n",
      "[CV 3/5] END .....C=0.1, gamma=1, kernel=linear;, score=0.765 total time=   6.3s\n",
      "[CV 4/5] END .....C=0.1, gamma=1, kernel=linear;, score=0.763 total time=   6.2s\n",
      "[CV 5/5] END .....C=0.1, gamma=1, kernel=linear;, score=0.764 total time=   6.3s\n",
      "[CV 1/5] END .......C=0.1, gamma=1, kernel=poly;, score=0.758 total time=   9.7s\n",
      "[CV 2/5] END .......C=0.1, gamma=1, kernel=poly;, score=0.758 total time=   9.7s\n",
      "[CV 3/5] END .......C=0.1, gamma=1, kernel=poly;, score=0.757 total time=   9.6s\n",
      "[CV 4/5] END .......C=0.1, gamma=1, kernel=poly;, score=0.757 total time=   9.6s\n",
      "[CV 5/5] END .......C=0.1, gamma=1, kernel=poly;, score=0.757 total time=   9.7s\n",
      "[CV 1/5] END ........C=0.1, gamma=1, kernel=rbf;, score=0.758 total time=   8.5s\n",
      "[CV 2/5] END ........C=0.1, gamma=1, kernel=rbf;, score=0.758 total time=   8.5s\n",
      "[CV 3/5] END ........C=0.1, gamma=1, kernel=rbf;, score=0.757 total time=   8.5s\n",
      "[CV 4/5] END ........C=0.1, gamma=1, kernel=rbf;, score=0.757 total time=   8.6s\n",
      "[CV 5/5] END ........C=0.1, gamma=1, kernel=rbf;, score=0.757 total time=   8.6s\n",
      "[CV 1/5] END ....C=0.1, gamma=1, kernel=sigmoid;, score=0.765 total time=   6.1s\n",
      "[CV 2/5] END ....C=0.1, gamma=1, kernel=sigmoid;, score=0.767 total time=   6.1s\n",
      "[CV 3/5] END ....C=0.1, gamma=1, kernel=sigmoid;, score=0.765 total time=   6.2s\n",
      "[CV 4/5] END ....C=0.1, gamma=1, kernel=sigmoid;, score=0.763 total time=   5.9s\n",
      "[CV 5/5] END ....C=0.1, gamma=1, kernel=sigmoid;, score=0.764 total time=   6.2s\n",
      "[CV 1/5] END ...C=0.1, gamma=0.1, kernel=linear;, score=0.765 total time=   6.3s\n",
      "[CV 2/5] END ...C=0.1, gamma=0.1, kernel=linear;, score=0.767 total time=   6.3s\n",
      "[CV 3/5] END ...C=0.1, gamma=0.1, kernel=linear;, score=0.765 total time=   6.2s\n",
      "[CV 4/5] END ...C=0.1, gamma=0.1, kernel=linear;, score=0.763 total time=   6.1s\n",
      "[CV 5/5] END ...C=0.1, gamma=0.1, kernel=linear;, score=0.764 total time=   6.2s\n",
      "[CV 1/5] END .....C=0.1, gamma=0.1, kernel=poly;, score=0.758 total time=   4.8s\n",
      "[CV 2/5] END .....C=0.1, gamma=0.1, kernel=poly;, score=0.758 total time=   4.8s\n",
      "[CV 3/5] END .....C=0.1, gamma=0.1, kernel=poly;, score=0.757 total time=   4.8s\n",
      "[CV 4/5] END .....C=0.1, gamma=0.1, kernel=poly;, score=0.757 total time=   4.7s\n",
      "[CV 5/5] END .....C=0.1, gamma=0.1, kernel=poly;, score=0.757 total time=   4.8s\n",
      "[CV 1/5] END ......C=0.1, gamma=0.1, kernel=rbf;, score=0.758 total time=   6.8s\n",
      "[CV 2/5] END ......C=0.1, gamma=0.1, kernel=rbf;, score=0.758 total time=   6.6s\n",
      "[CV 3/5] END ......C=0.1, gamma=0.1, kernel=rbf;, score=0.757 total time=   6.6s\n",
      "[CV 4/5] END ......C=0.1, gamma=0.1, kernel=rbf;, score=0.757 total time=   6.5s\n",
      "[CV 5/5] END ......C=0.1, gamma=0.1, kernel=rbf;, score=0.757 total time=   6.7s\n",
      "[CV 1/5] END ..C=0.1, gamma=0.1, kernel=sigmoid;, score=0.758 total time=   6.4s\n",
      "[CV 2/5] END ..C=0.1, gamma=0.1, kernel=sigmoid;, score=0.758 total time=   6.4s\n",
      "[CV 3/5] END ..C=0.1, gamma=0.1, kernel=sigmoid;, score=0.757 total time=   6.5s\n",
      "[CV 4/5] END ..C=0.1, gamma=0.1, kernel=sigmoid;, score=0.757 total time=   6.3s\n",
      "[CV 5/5] END ..C=0.1, gamma=0.1, kernel=sigmoid;, score=0.757 total time=   6.4s\n",
      "[CV 1/5] END ..C=0.1, gamma=0.01, kernel=linear;, score=0.765 total time=   6.3s\n",
      "[CV 2/5] END ..C=0.1, gamma=0.01, kernel=linear;, score=0.767 total time=   6.3s\n",
      "[CV 3/5] END ..C=0.1, gamma=0.01, kernel=linear;, score=0.765 total time=   6.2s\n",
      "[CV 4/5] END ..C=0.1, gamma=0.01, kernel=linear;, score=0.763 total time=   6.2s\n",
      "[CV 5/5] END ..C=0.1, gamma=0.01, kernel=linear;, score=0.764 total time=   6.3s\n",
      "[CV 1/5] END ....C=0.1, gamma=0.01, kernel=poly;, score=0.758 total time=   4.8s\n",
      "[CV 2/5] END ....C=0.1, gamma=0.01, kernel=poly;, score=0.758 total time=   4.8s\n",
      "[CV 3/5] END ....C=0.1, gamma=0.01, kernel=poly;, score=0.757 total time=   4.8s\n",
      "[CV 4/5] END ....C=0.1, gamma=0.01, kernel=poly;, score=0.757 total time=   4.7s\n",
      "[CV 5/5] END ....C=0.1, gamma=0.01, kernel=poly;, score=0.757 total time=   4.7s\n",
      "[CV 1/5] END .....C=0.1, gamma=0.01, kernel=rbf;, score=0.758 total time=   5.5s\n",
      "[CV 2/5] END .....C=0.1, gamma=0.01, kernel=rbf;, score=0.758 total time=   5.5s\n",
      "[CV 3/5] END .....C=0.1, gamma=0.01, kernel=rbf;, score=0.757 total time=   5.5s\n",
      "[CV 4/5] END .....C=0.1, gamma=0.01, kernel=rbf;, score=0.757 total time=   5.5s\n",
      "[CV 5/5] END .....C=0.1, gamma=0.01, kernel=rbf;, score=0.757 total time=   5.5s\n",
      "[CV 1/5] END .C=0.1, gamma=0.01, kernel=sigmoid;, score=0.758 total time=   5.4s\n",
      "[CV 2/5] END .C=0.1, gamma=0.01, kernel=sigmoid;, score=0.758 total time=   5.2s\n",
      "[CV 3/5] END .C=0.1, gamma=0.01, kernel=sigmoid;, score=0.757 total time=   5.1s\n",
      "[CV 4/5] END .C=0.1, gamma=0.01, kernel=sigmoid;, score=0.757 total time=   5.1s\n",
      "[CV 5/5] END .C=0.1, gamma=0.01, kernel=sigmoid;, score=0.757 total time=   5.1s\n",
      "[CV 1/5] END .C=0.1, gamma=0.001, kernel=linear;, score=0.765 total time=   6.2s\n",
      "[CV 2/5] END .C=0.1, gamma=0.001, kernel=linear;, score=0.767 total time=   6.2s\n",
      "[CV 3/5] END .C=0.1, gamma=0.001, kernel=linear;, score=0.765 total time=   6.2s\n",
      "[CV 4/5] END .C=0.1, gamma=0.001, kernel=linear;, score=0.763 total time=   6.2s\n",
      "[CV 5/5] END .C=0.1, gamma=0.001, kernel=linear;, score=0.764 total time=   6.2s\n",
      "[CV 1/5] END ...C=0.1, gamma=0.001, kernel=poly;, score=0.758 total time=   4.8s\n",
      "[CV 2/5] END ...C=0.1, gamma=0.001, kernel=poly;, score=0.758 total time=   4.8s\n",
      "[CV 3/5] END ...C=0.1, gamma=0.001, kernel=poly;, score=0.757 total time=   4.8s\n",
      "[CV 4/5] END ...C=0.1, gamma=0.001, kernel=poly;, score=0.757 total time=   4.8s\n",
      "[CV 5/5] END ...C=0.1, gamma=0.001, kernel=poly;, score=0.757 total time=   4.8s\n",
      "[CV 1/5] END ....C=0.1, gamma=0.001, kernel=rbf;, score=0.758 total time=   4.7s\n",
      "[CV 2/5] END ....C=0.1, gamma=0.001, kernel=rbf;, score=0.758 total time=   4.7s\n",
      "[CV 3/5] END ....C=0.1, gamma=0.001, kernel=rbf;, score=0.757 total time=   4.7s\n",
      "[CV 4/5] END ....C=0.1, gamma=0.001, kernel=rbf;, score=0.757 total time=   4.7s\n",
      "[CV 5/5] END ....C=0.1, gamma=0.001, kernel=rbf;, score=0.757 total time=   4.7s\n",
      "[CV 1/5] END C=0.1, gamma=0.001, kernel=sigmoid;, score=0.758 total time=   4.8s\n",
      "[CV 2/5] END C=0.1, gamma=0.001, kernel=sigmoid;, score=0.758 total time=   4.8s\n",
      "[CV 3/5] END C=0.1, gamma=0.001, kernel=sigmoid;, score=0.757 total time=   4.8s\n",
      "[CV 4/5] END C=0.1, gamma=0.001, kernel=sigmoid;, score=0.757 total time=   4.8s\n",
      "[CV 5/5] END C=0.1, gamma=0.001, kernel=sigmoid;, score=0.757 total time=   4.8s\n",
      "[CV 1/5] END C=0.1, gamma=0.0001, kernel=linear;, score=0.765 total time=   6.2s\n",
      "[CV 2/5] END C=0.1, gamma=0.0001, kernel=linear;, score=0.767 total time=   6.2s\n",
      "[CV 3/5] END C=0.1, gamma=0.0001, kernel=linear;, score=0.765 total time=   6.2s\n",
      "[CV 4/5] END C=0.1, gamma=0.0001, kernel=linear;, score=0.763 total time=   6.2s\n",
      "[CV 5/5] END C=0.1, gamma=0.0001, kernel=linear;, score=0.764 total time=   6.3s\n",
      "[CV 1/5] END ..C=0.1, gamma=0.0001, kernel=poly;, score=0.758 total time=   4.7s\n",
      "[CV 2/5] END ..C=0.1, gamma=0.0001, kernel=poly;, score=0.758 total time=   4.7s\n",
      "[CV 3/5] END ..C=0.1, gamma=0.0001, kernel=poly;, score=0.757 total time=   4.8s\n",
      "[CV 4/5] END ..C=0.1, gamma=0.0001, kernel=poly;, score=0.757 total time=   4.7s\n",
      "[CV 5/5] END ..C=0.1, gamma=0.0001, kernel=poly;, score=0.757 total time=   4.7s\n",
      "[CV 1/5] END ...C=0.1, gamma=0.0001, kernel=rbf;, score=0.758 total time=   5.0s\n",
      "[CV 2/5] END ...C=0.1, gamma=0.0001, kernel=rbf;, score=0.758 total time=   4.8s\n",
      "[CV 3/5] END ...C=0.1, gamma=0.0001, kernel=rbf;, score=0.757 total time=   4.7s\n",
      "[CV 4/5] END ...C=0.1, gamma=0.0001, kernel=rbf;, score=0.757 total time=   4.7s\n",
      "[CV 5/5] END ...C=0.1, gamma=0.0001, kernel=rbf;, score=0.757 total time=   4.7s\n",
      "[CV 1/5] END C=0.1, gamma=0.0001, kernel=sigmoid;, score=0.758 total time=   4.8s\n",
      "[CV 2/5] END C=0.1, gamma=0.0001, kernel=sigmoid;, score=0.758 total time=   4.8s\n",
      "[CV 3/5] END C=0.1, gamma=0.0001, kernel=sigmoid;, score=0.757 total time=   4.8s\n",
      "[CV 4/5] END C=0.1, gamma=0.0001, kernel=sigmoid;, score=0.757 total time=   4.8s\n",
      "[CV 5/5] END C=0.1, gamma=0.0001, kernel=sigmoid;, score=0.757 total time=   4.8s\n",
      "[CV 1/5] END .......C=1, gamma=1, kernel=linear;, score=0.820 total time=   5.9s\n"
     ]
    },
    {
     "name": "stdout",
     "output_type": "stream",
     "text": [
      "[CV 2/5] END .......C=1, gamma=1, kernel=linear;, score=0.838 total time=   6.0s\n",
      "[CV 3/5] END .......C=1, gamma=1, kernel=linear;, score=0.828 total time=   6.1s\n",
      "[CV 4/5] END .......C=1, gamma=1, kernel=linear;, score=0.827 total time=   6.1s\n",
      "[CV 5/5] END .......C=1, gamma=1, kernel=linear;, score=0.837 total time=   6.3s\n",
      "[CV 1/5] END .........C=1, gamma=1, kernel=poly;, score=0.758 total time=  10.9s\n",
      "[CV 2/5] END .........C=1, gamma=1, kernel=poly;, score=0.759 total time=  10.8s\n",
      "[CV 3/5] END .........C=1, gamma=1, kernel=poly;, score=0.757 total time=  10.8s\n",
      "[CV 4/5] END .........C=1, gamma=1, kernel=poly;, score=0.758 total time=  10.7s\n",
      "[CV 5/5] END .........C=1, gamma=1, kernel=poly;, score=0.757 total time=  10.6s\n",
      "[CV 1/5] END ..........C=1, gamma=1, kernel=rbf;, score=0.798 total time=   9.0s\n",
      "[CV 2/5] END ..........C=1, gamma=1, kernel=rbf;, score=0.822 total time=   8.9s\n",
      "[CV 3/5] END ..........C=1, gamma=1, kernel=rbf;, score=0.809 total time=   9.0s\n",
      "[CV 4/5] END ..........C=1, gamma=1, kernel=rbf;, score=0.811 total time=   9.0s\n",
      "[CV 5/5] END ..........C=1, gamma=1, kernel=rbf;, score=0.810 total time=   9.0s\n",
      "[CV 1/5] END ......C=1, gamma=1, kernel=sigmoid;, score=0.816 total time=   5.8s\n",
      "[CV 2/5] END ......C=1, gamma=1, kernel=sigmoid;, score=0.834 total time=   5.9s\n",
      "[CV 3/5] END ......C=1, gamma=1, kernel=sigmoid;, score=0.825 total time=   5.8s\n",
      "[CV 4/5] END ......C=1, gamma=1, kernel=sigmoid;, score=0.823 total time=   5.8s\n",
      "[CV 5/5] END ......C=1, gamma=1, kernel=sigmoid;, score=0.836 total time=   5.9s\n",
      "[CV 1/5] END .....C=1, gamma=0.1, kernel=linear;, score=0.820 total time=   5.9s\n",
      "[CV 2/5] END .....C=1, gamma=0.1, kernel=linear;, score=0.838 total time=   6.0s\n",
      "[CV 3/5] END .....C=1, gamma=0.1, kernel=linear;, score=0.828 total time=   6.0s\n",
      "[CV 4/5] END .....C=1, gamma=0.1, kernel=linear;, score=0.827 total time=   5.9s\n",
      "[CV 5/5] END .....C=1, gamma=0.1, kernel=linear;, score=0.837 total time=   6.0s\n",
      "[CV 1/5] END .......C=1, gamma=0.1, kernel=poly;, score=0.758 total time=   4.9s\n",
      "[CV 2/5] END .......C=1, gamma=0.1, kernel=poly;, score=0.758 total time=   4.9s\n",
      "[CV 3/5] END .......C=1, gamma=0.1, kernel=poly;, score=0.757 total time=   4.9s\n",
      "[CV 4/5] END .......C=1, gamma=0.1, kernel=poly;, score=0.757 total time=   4.9s\n",
      "[CV 5/5] END .......C=1, gamma=0.1, kernel=poly;, score=0.757 total time=   4.9s\n",
      "[CV 1/5] END ........C=1, gamma=0.1, kernel=rbf;, score=0.776 total time=   6.7s\n",
      "[CV 2/5] END ........C=1, gamma=0.1, kernel=rbf;, score=0.782 total time=   6.7s\n",
      "[CV 3/5] END ........C=1, gamma=0.1, kernel=rbf;, score=0.777 total time=   6.7s\n",
      "[CV 4/5] END ........C=1, gamma=0.1, kernel=rbf;, score=0.778 total time=   6.7s\n",
      "[CV 5/5] END ........C=1, gamma=0.1, kernel=rbf;, score=0.779 total time=   6.8s\n",
      "[CV 1/5] END ....C=1, gamma=0.1, kernel=sigmoid;, score=0.765 total time=   6.6s\n",
      "[CV 2/5] END ....C=1, gamma=0.1, kernel=sigmoid;, score=0.767 total time=   6.6s\n",
      "[CV 3/5] END ....C=1, gamma=0.1, kernel=sigmoid;, score=0.765 total time=   6.7s\n",
      "[CV 4/5] END ....C=1, gamma=0.1, kernel=sigmoid;, score=0.763 total time=   6.6s\n",
      "[CV 5/5] END ....C=1, gamma=0.1, kernel=sigmoid;, score=0.764 total time=   6.7s\n",
      "[CV 1/5] END ....C=1, gamma=0.01, kernel=linear;, score=0.820 total time=   5.9s\n",
      "[CV 2/5] END ....C=1, gamma=0.01, kernel=linear;, score=0.838 total time=   6.0s\n",
      "[CV 3/5] END ....C=1, gamma=0.01, kernel=linear;, score=0.828 total time=   6.0s\n",
      "[CV 4/5] END ....C=1, gamma=0.01, kernel=linear;, score=0.827 total time=   5.9s\n",
      "[CV 5/5] END ....C=1, gamma=0.01, kernel=linear;, score=0.837 total time=   6.0s\n",
      "[CV 1/5] END ......C=1, gamma=0.01, kernel=poly;, score=0.758 total time=   4.8s\n",
      "[CV 2/5] END ......C=1, gamma=0.01, kernel=poly;, score=0.758 total time=   4.7s\n",
      "[CV 3/5] END ......C=1, gamma=0.01, kernel=poly;, score=0.757 total time=   4.8s\n",
      "[CV 4/5] END ......C=1, gamma=0.01, kernel=poly;, score=0.757 total time=   4.7s\n",
      "[CV 5/5] END ......C=1, gamma=0.01, kernel=poly;, score=0.757 total time=   4.7s\n",
      "[CV 1/5] END .......C=1, gamma=0.01, kernel=rbf;, score=0.758 total time=   6.4s\n",
      "[CV 2/5] END .......C=1, gamma=0.01, kernel=rbf;, score=0.758 total time=   6.4s\n",
      "[CV 3/5] END .......C=1, gamma=0.01, kernel=rbf;, score=0.757 total time=   6.5s\n",
      "[CV 4/5] END .......C=1, gamma=0.01, kernel=rbf;, score=0.757 total time=   6.3s\n",
      "[CV 5/5] END .......C=1, gamma=0.01, kernel=rbf;, score=0.757 total time=   6.5s\n",
      "[CV 1/5] END ...C=1, gamma=0.01, kernel=sigmoid;, score=0.758 total time=   6.4s\n",
      "[CV 2/5] END ...C=1, gamma=0.01, kernel=sigmoid;, score=0.758 total time=   6.4s\n",
      "[CV 3/5] END ...C=1, gamma=0.01, kernel=sigmoid;, score=0.757 total time=   6.4s\n",
      "[CV 4/5] END ...C=1, gamma=0.01, kernel=sigmoid;, score=0.757 total time=   6.3s\n",
      "[CV 5/5] END ...C=1, gamma=0.01, kernel=sigmoid;, score=0.757 total time=   6.4s\n",
      "[CV 1/5] END ...C=1, gamma=0.001, kernel=linear;, score=0.820 total time=   5.9s\n",
      "[CV 2/5] END ...C=1, gamma=0.001, kernel=linear;, score=0.838 total time=   6.0s\n",
      "[CV 3/5] END ...C=1, gamma=0.001, kernel=linear;, score=0.828 total time=   6.0s\n",
      "[CV 4/5] END ...C=1, gamma=0.001, kernel=linear;, score=0.827 total time=   5.9s\n",
      "[CV 5/5] END ...C=1, gamma=0.001, kernel=linear;, score=0.837 total time=   6.0s\n",
      "[CV 1/5] END .....C=1, gamma=0.001, kernel=poly;, score=0.758 total time=   4.8s\n",
      "[CV 2/5] END .....C=1, gamma=0.001, kernel=poly;, score=0.758 total time=   4.7s\n",
      "[CV 3/5] END .....C=1, gamma=0.001, kernel=poly;, score=0.757 total time=   4.8s\n",
      "[CV 4/5] END .....C=1, gamma=0.001, kernel=poly;, score=0.757 total time=   4.7s\n",
      "[CV 5/5] END .....C=1, gamma=0.001, kernel=poly;, score=0.757 total time=   4.7s\n",
      "[CV 1/5] END ......C=1, gamma=0.001, kernel=rbf;, score=0.758 total time=   5.6s\n",
      "[CV 2/5] END ......C=1, gamma=0.001, kernel=rbf;, score=0.758 total time=   5.5s\n",
      "[CV 3/5] END ......C=1, gamma=0.001, kernel=rbf;, score=0.757 total time=   5.5s\n",
      "[CV 4/5] END ......C=1, gamma=0.001, kernel=rbf;, score=0.757 total time=   5.5s\n",
      "[CV 5/5] END ......C=1, gamma=0.001, kernel=rbf;, score=0.757 total time=   5.5s\n",
      "[CV 1/5] END ..C=1, gamma=0.001, kernel=sigmoid;, score=0.758 total time=   5.1s\n",
      "[CV 2/5] END ..C=1, gamma=0.001, kernel=sigmoid;, score=0.758 total time=   5.1s\n",
      "[CV 3/5] END ..C=1, gamma=0.001, kernel=sigmoid;, score=0.757 total time=   5.1s\n",
      "[CV 4/5] END ..C=1, gamma=0.001, kernel=sigmoid;, score=0.757 total time=   5.1s\n",
      "[CV 5/5] END ..C=1, gamma=0.001, kernel=sigmoid;, score=0.757 total time=   5.1s\n",
      "[CV 1/5] END ..C=1, gamma=0.0001, kernel=linear;, score=0.820 total time=   6.0s\n",
      "[CV 2/5] END ..C=1, gamma=0.0001, kernel=linear;, score=0.838 total time=   6.0s\n",
      "[CV 3/5] END ..C=1, gamma=0.0001, kernel=linear;, score=0.828 total time=   6.1s\n",
      "[CV 4/5] END ..C=1, gamma=0.0001, kernel=linear;, score=0.827 total time=   6.0s\n",
      "[CV 5/5] END ..C=1, gamma=0.0001, kernel=linear;, score=0.837 total time=   6.0s\n",
      "[CV 1/5] END ....C=1, gamma=0.0001, kernel=poly;, score=0.758 total time=   4.8s\n",
      "[CV 2/5] END ....C=1, gamma=0.0001, kernel=poly;, score=0.758 total time=   4.7s\n",
      "[CV 3/5] END ....C=1, gamma=0.0001, kernel=poly;, score=0.757 total time=   4.8s\n",
      "[CV 4/5] END ....C=1, gamma=0.0001, kernel=poly;, score=0.757 total time=   4.7s\n",
      "[CV 5/5] END ....C=1, gamma=0.0001, kernel=poly;, score=0.757 total time=   4.8s\n",
      "[CV 1/5] END .....C=1, gamma=0.0001, kernel=rbf;, score=0.758 total time=   4.7s\n",
      "[CV 2/5] END .....C=1, gamma=0.0001, kernel=rbf;, score=0.758 total time=   4.7s\n",
      "[CV 3/5] END .....C=1, gamma=0.0001, kernel=rbf;, score=0.757 total time=   4.7s\n",
      "[CV 4/5] END .....C=1, gamma=0.0001, kernel=rbf;, score=0.757 total time=   4.7s\n",
      "[CV 5/5] END .....C=1, gamma=0.0001, kernel=rbf;, score=0.757 total time=   4.7s\n",
      "[CV 1/5] END .C=1, gamma=0.0001, kernel=sigmoid;, score=0.758 total time=   4.8s\n",
      "[CV 2/5] END .C=1, gamma=0.0001, kernel=sigmoid;, score=0.758 total time=   4.8s\n",
      "[CV 3/5] END .C=1, gamma=0.0001, kernel=sigmoid;, score=0.757 total time=   4.8s\n",
      "[CV 4/5] END .C=1, gamma=0.0001, kernel=sigmoid;, score=0.757 total time=   4.8s\n",
      "[CV 5/5] END .C=1, gamma=0.0001, kernel=sigmoid;, score=0.757 total time=   4.8s\n",
      "[CV 1/5] END ......C=10, gamma=1, kernel=linear;, score=0.786 total time=   6.0s\n",
      "[CV 2/5] END ......C=10, gamma=1, kernel=linear;, score=0.793 total time=   9.3s\n",
      "[CV 3/5] END ......C=10, gamma=1, kernel=linear;, score=0.796 total time=   9.3s\n"
     ]
    },
    {
     "name": "stdout",
     "output_type": "stream",
     "text": [
      "[CV 4/5] END ......C=10, gamma=1, kernel=linear;, score=0.790 total time=   5.9s\n",
      "[CV 5/5] END ......C=10, gamma=1, kernel=linear;, score=0.802 total time=   6.0s\n",
      "[CV 1/5] END ........C=10, gamma=1, kernel=poly;, score=0.759 total time=  17.4s\n",
      "[CV 2/5] END ........C=10, gamma=1, kernel=poly;, score=0.761 total time=  17.5s\n",
      "[CV 3/5] END ........C=10, gamma=1, kernel=poly;, score=0.759 total time=  17.5s\n",
      "[CV 4/5] END ........C=10, gamma=1, kernel=poly;, score=0.760 total time=  17.6s\n",
      "[CV 5/5] END ........C=10, gamma=1, kernel=poly;, score=0.759 total time=  17.4s\n",
      "[CV 1/5] END .........C=10, gamma=1, kernel=rbf;, score=0.818 total time=  12.1s\n",
      "[CV 2/5] END .........C=10, gamma=1, kernel=rbf;, score=0.828 total time=  12.2s\n",
      "[CV 3/5] END .........C=10, gamma=1, kernel=rbf;, score=0.826 total time=  12.4s\n",
      "[CV 4/5] END .........C=10, gamma=1, kernel=rbf;, score=0.822 total time=  12.2s\n",
      "[CV 5/5] END .........C=10, gamma=1, kernel=rbf;, score=0.834 total time=  12.3s\n",
      "[CV 1/5] END .....C=10, gamma=1, kernel=sigmoid;, score=0.788 total time=   8.8s\n",
      "[CV 2/5] END .....C=10, gamma=1, kernel=sigmoid;, score=0.789 total time=  10.3s\n",
      "[CV 3/5] END .....C=10, gamma=1, kernel=sigmoid;, score=0.789 total time=  10.5s\n",
      "[CV 4/5] END .....C=10, gamma=1, kernel=sigmoid;, score=0.785 total time=   7.0s\n",
      "[CV 5/5] END .....C=10, gamma=1, kernel=sigmoid;, score=0.804 total time=   7.4s\n",
      "[CV 1/5] END ....C=10, gamma=0.1, kernel=linear;, score=0.786 total time=   6.0s\n",
      "[CV 2/5] END ....C=10, gamma=0.1, kernel=linear;, score=0.793 total time=   9.3s\n",
      "[CV 3/5] END ....C=10, gamma=0.1, kernel=linear;, score=0.796 total time=   9.2s\n",
      "[CV 4/5] END ....C=10, gamma=0.1, kernel=linear;, score=0.790 total time=   5.9s\n",
      "[CV 5/5] END ....C=10, gamma=0.1, kernel=linear;, score=0.802 total time=   6.0s\n",
      "[CV 1/5] END ......C=10, gamma=0.1, kernel=poly;, score=0.758 total time=  10.0s\n",
      "[CV 2/5] END ......C=10, gamma=0.1, kernel=poly;, score=0.758 total time=   9.4s\n",
      "[CV 3/5] END ......C=10, gamma=0.1, kernel=poly;, score=0.757 total time=   9.4s\n",
      "[CV 4/5] END ......C=10, gamma=0.1, kernel=poly;, score=0.757 total time=  10.0s\n",
      "[CV 5/5] END ......C=10, gamma=0.1, kernel=poly;, score=0.757 total time=   9.4s\n",
      "[CV 1/5] END .......C=10, gamma=0.1, kernel=rbf;, score=0.826 total time=   6.7s\n",
      "[CV 2/5] END .......C=10, gamma=0.1, kernel=rbf;, score=0.830 total time=   6.7s\n",
      "[CV 3/5] END .......C=10, gamma=0.1, kernel=rbf;, score=0.825 total time=   6.7s\n",
      "[CV 4/5] END .......C=10, gamma=0.1, kernel=rbf;, score=0.824 total time=   6.6s\n",
      "[CV 5/5] END .......C=10, gamma=0.1, kernel=rbf;, score=0.836 total time=   6.6s\n",
      "[CV 1/5] END ...C=10, gamma=0.1, kernel=sigmoid;, score=0.820 total time=   6.3s\n",
      "[CV 2/5] END ...C=10, gamma=0.1, kernel=sigmoid;, score=0.838 total time=   6.4s\n",
      "[CV 3/5] END ...C=10, gamma=0.1, kernel=sigmoid;, score=0.828 total time=   6.4s\n",
      "[CV 4/5] END ...C=10, gamma=0.1, kernel=sigmoid;, score=0.827 total time=   6.3s\n",
      "[CV 5/5] END ...C=10, gamma=0.1, kernel=sigmoid;, score=0.837 total time=   6.4s\n",
      "[CV 1/5] END ...C=10, gamma=0.01, kernel=linear;, score=0.786 total time=   6.0s\n",
      "[CV 2/5] END ...C=10, gamma=0.01, kernel=linear;, score=0.793 total time=   9.4s\n",
      "[CV 3/5] END ...C=10, gamma=0.01, kernel=linear;, score=0.796 total time=   9.2s\n",
      "[CV 4/5] END ...C=10, gamma=0.01, kernel=linear;, score=0.790 total time=   5.9s\n",
      "[CV 5/5] END ...C=10, gamma=0.01, kernel=linear;, score=0.802 total time=   6.0s\n",
      "[CV 1/5] END .....C=10, gamma=0.01, kernel=poly;, score=0.758 total time=   4.7s\n",
      "[CV 2/5] END .....C=10, gamma=0.01, kernel=poly;, score=0.758 total time=   4.8s\n",
      "[CV 3/5] END .....C=10, gamma=0.01, kernel=poly;, score=0.757 total time=   4.8s\n",
      "[CV 4/5] END .....C=10, gamma=0.01, kernel=poly;, score=0.757 total time=   4.7s\n",
      "[CV 5/5] END .....C=10, gamma=0.01, kernel=poly;, score=0.757 total time=   4.8s\n",
      "[CV 1/5] END ......C=10, gamma=0.01, kernel=rbf;, score=0.778 total time=   6.6s\n",
      "[CV 2/5] END ......C=10, gamma=0.01, kernel=rbf;, score=0.788 total time=   6.5s\n",
      "[CV 3/5] END ......C=10, gamma=0.01, kernel=rbf;, score=0.782 total time=   6.5s\n",
      "[CV 4/5] END ......C=10, gamma=0.01, kernel=rbf;, score=0.781 total time=   6.5s\n",
      "[CV 5/5] END ......C=10, gamma=0.01, kernel=rbf;, score=0.787 total time=   6.6s\n",
      "[CV 1/5] END ..C=10, gamma=0.01, kernel=sigmoid;, score=0.765 total time=   6.6s\n",
      "[CV 2/5] END ..C=10, gamma=0.01, kernel=sigmoid;, score=0.767 total time=   6.6s\n",
      "[CV 3/5] END ..C=10, gamma=0.01, kernel=sigmoid;, score=0.765 total time=   6.7s\n",
      "[CV 4/5] END ..C=10, gamma=0.01, kernel=sigmoid;, score=0.763 total time=   6.6s\n",
      "[CV 5/5] END ..C=10, gamma=0.01, kernel=sigmoid;, score=0.764 total time=   6.7s\n",
      "[CV 1/5] END ..C=10, gamma=0.001, kernel=linear;, score=0.786 total time=   5.9s\n",
      "[CV 2/5] END ..C=10, gamma=0.001, kernel=linear;, score=0.793 total time=   9.3s\n",
      "[CV 3/5] END ..C=10, gamma=0.001, kernel=linear;, score=0.796 total time=   9.3s\n",
      "[CV 4/5] END ..C=10, gamma=0.001, kernel=linear;, score=0.790 total time=   5.9s\n",
      "[CV 5/5] END ..C=10, gamma=0.001, kernel=linear;, score=0.802 total time=   6.0s\n",
      "[CV 1/5] END ....C=10, gamma=0.001, kernel=poly;, score=0.758 total time=   4.7s\n",
      "[CV 2/5] END ....C=10, gamma=0.001, kernel=poly;, score=0.758 total time=   4.7s\n",
      "[CV 3/5] END ....C=10, gamma=0.001, kernel=poly;, score=0.757 total time=   4.7s\n",
      "[CV 4/5] END ....C=10, gamma=0.001, kernel=poly;, score=0.757 total time=   4.7s\n",
      "[CV 5/5] END ....C=10, gamma=0.001, kernel=poly;, score=0.757 total time=   4.8s\n",
      "[CV 1/5] END .....C=10, gamma=0.001, kernel=rbf;, score=0.758 total time=   6.4s\n",
      "[CV 2/5] END .....C=10, gamma=0.001, kernel=rbf;, score=0.758 total time=   6.3s\n",
      "[CV 3/5] END .....C=10, gamma=0.001, kernel=rbf;, score=0.757 total time=   6.4s\n",
      "[CV 4/5] END .....C=10, gamma=0.001, kernel=rbf;, score=0.757 total time=   6.4s\n",
      "[CV 5/5] END .....C=10, gamma=0.001, kernel=rbf;, score=0.757 total time=   6.4s\n",
      "[CV 1/5] END .C=10, gamma=0.001, kernel=sigmoid;, score=0.758 total time=   6.4s\n",
      "[CV 2/5] END .C=10, gamma=0.001, kernel=sigmoid;, score=0.758 total time=   6.4s\n",
      "[CV 3/5] END .C=10, gamma=0.001, kernel=sigmoid;, score=0.757 total time=   6.4s\n",
      "[CV 4/5] END .C=10, gamma=0.001, kernel=sigmoid;, score=0.757 total time=   6.3s\n",
      "[CV 5/5] END .C=10, gamma=0.001, kernel=sigmoid;, score=0.757 total time=   6.4s\n",
      "[CV 1/5] END .C=10, gamma=0.0001, kernel=linear;, score=0.786 total time=   6.0s\n",
      "[CV 2/5] END .C=10, gamma=0.0001, kernel=linear;, score=0.793 total time=   9.3s\n",
      "[CV 3/5] END .C=10, gamma=0.0001, kernel=linear;, score=0.796 total time=   9.2s\n",
      "[CV 4/5] END .C=10, gamma=0.0001, kernel=linear;, score=0.790 total time=   5.9s\n",
      "[CV 5/5] END .C=10, gamma=0.0001, kernel=linear;, score=0.802 total time=   6.0s\n",
      "[CV 1/5] END ...C=10, gamma=0.0001, kernel=poly;, score=0.758 total time=   4.8s\n",
      "[CV 2/5] END ...C=10, gamma=0.0001, kernel=poly;, score=0.758 total time=   4.8s\n",
      "[CV 3/5] END ...C=10, gamma=0.0001, kernel=poly;, score=0.757 total time=   4.8s\n",
      "[CV 4/5] END ...C=10, gamma=0.0001, kernel=poly;, score=0.757 total time=   4.7s\n",
      "[CV 5/5] END ...C=10, gamma=0.0001, kernel=poly;, score=0.757 total time=   4.8s\n",
      "[CV 1/5] END ....C=10, gamma=0.0001, kernel=rbf;, score=0.758 total time=   5.5s\n",
      "[CV 2/5] END ....C=10, gamma=0.0001, kernel=rbf;, score=0.758 total time=   5.5s\n",
      "[CV 3/5] END ....C=10, gamma=0.0001, kernel=rbf;, score=0.757 total time=   5.5s\n",
      "[CV 4/5] END ....C=10, gamma=0.0001, kernel=rbf;, score=0.757 total time=   5.6s\n",
      "[CV 5/5] END ....C=10, gamma=0.0001, kernel=rbf;, score=0.757 total time=   5.6s\n",
      "[CV 1/5] END C=10, gamma=0.0001, kernel=sigmoid;, score=0.758 total time=   5.2s\n",
      "[CV 2/5] END C=10, gamma=0.0001, kernel=sigmoid;, score=0.758 total time=   5.1s\n",
      "[CV 3/5] END C=10, gamma=0.0001, kernel=sigmoid;, score=0.757 total time=   5.1s\n",
      "[CV 4/5] END C=10, gamma=0.0001, kernel=sigmoid;, score=0.757 total time=   5.1s\n",
      "[CV 5/5] END C=10, gamma=0.0001, kernel=sigmoid;, score=0.757 total time=   5.1s\n",
      "[CV 1/5] END .....C=100, gamma=1, kernel=linear;, score=0.780 total time=   5.9s\n",
      "[CV 2/5] END .....C=100, gamma=1, kernel=linear;, score=0.780 total time=   6.0s\n",
      "[CV 3/5] END .....C=100, gamma=1, kernel=linear;, score=0.781 total time=   5.9s\n",
      "[CV 4/5] END .....C=100, gamma=1, kernel=linear;, score=0.771 total time=   5.8s\n",
      "[CV 5/5] END .....C=100, gamma=1, kernel=linear;, score=0.779 total time=   5.9s\n"
     ]
    },
    {
     "name": "stdout",
     "output_type": "stream",
     "text": [
      "[CV 1/5] END .......C=100, gamma=1, kernel=poly;, score=0.759 total time=  19.0s\n",
      "[CV 2/5] END .......C=100, gamma=1, kernel=poly;, score=0.761 total time=  18.9s\n",
      "[CV 3/5] END .......C=100, gamma=1, kernel=poly;, score=0.759 total time=  16.7s\n",
      "[CV 4/5] END .......C=100, gamma=1, kernel=poly;, score=0.760 total time=  16.2s\n",
      "[CV 5/5] END .......C=100, gamma=1, kernel=poly;, score=0.759 total time=  18.7s\n",
      "[CV 1/5] END ........C=100, gamma=1, kernel=rbf;, score=0.818 total time=  12.0s\n",
      "[CV 2/5] END ........C=100, gamma=1, kernel=rbf;, score=0.828 total time=  12.2s\n",
      "[CV 3/5] END ........C=100, gamma=1, kernel=rbf;, score=0.826 total time=  12.4s\n",
      "[CV 4/5] END ........C=100, gamma=1, kernel=rbf;, score=0.822 total time=  12.2s\n",
      "[CV 5/5] END ........C=100, gamma=1, kernel=rbf;, score=0.834 total time=  12.3s\n",
      "[CV 1/5] END ....C=100, gamma=1, kernel=sigmoid;, score=0.753 total time=  19.4s\n",
      "[CV 2/5] END ....C=100, gamma=1, kernel=sigmoid;, score=0.745 total time=  12.4s\n",
      "[CV 3/5] END ....C=100, gamma=1, kernel=sigmoid;, score=0.767 total time=   9.1s\n",
      "[CV 4/5] END ....C=100, gamma=1, kernel=sigmoid;, score=0.752 total time=  11.0s\n",
      "[CV 5/5] END ....C=100, gamma=1, kernel=sigmoid;, score=0.759 total time=  11.6s\n",
      "[CV 1/5] END ...C=100, gamma=0.1, kernel=linear;, score=0.780 total time=   5.9s\n",
      "[CV 2/5] END ...C=100, gamma=0.1, kernel=linear;, score=0.780 total time=   5.9s\n",
      "[CV 3/5] END ...C=100, gamma=0.1, kernel=linear;, score=0.781 total time=   5.9s\n",
      "[CV 4/5] END ...C=100, gamma=0.1, kernel=linear;, score=0.771 total time=   5.8s\n",
      "[CV 5/5] END ...C=100, gamma=0.1, kernel=linear;, score=0.779 total time=   5.9s\n",
      "[CV 1/5] END .....C=100, gamma=0.1, kernel=poly;, score=0.758 total time=   9.6s\n",
      "[CV 2/5] END .....C=100, gamma=0.1, kernel=poly;, score=0.758 total time=   9.7s\n",
      "[CV 3/5] END .....C=100, gamma=0.1, kernel=poly;, score=0.757 total time=   9.7s\n",
      "[CV 4/5] END .....C=100, gamma=0.1, kernel=poly;, score=0.757 total time=   9.7s\n",
      "[CV 5/5] END .....C=100, gamma=0.1, kernel=poly;, score=0.757 total time=   9.6s\n",
      "[CV 1/5] END ......C=100, gamma=0.1, kernel=rbf;, score=0.803 total time=   8.4s\n",
      "[CV 2/5] END ......C=100, gamma=0.1, kernel=rbf;, score=0.803 total time=  10.2s\n",
      "[CV 3/5] END ......C=100, gamma=0.1, kernel=rbf;, score=0.805 total time=   8.5s\n",
      "[CV 4/5] END ......C=100, gamma=0.1, kernel=rbf;, score=0.798 total time=   8.3s\n",
      "[CV 5/5] END ......C=100, gamma=0.1, kernel=rbf;, score=0.806 total time=   8.5s\n",
      "[CV 1/5] END ..C=100, gamma=0.1, kernel=sigmoid;, score=0.785 total time=   6.2s\n",
      "[CV 2/5] END ..C=100, gamma=0.1, kernel=sigmoid;, score=0.792 total time=  10.0s\n",
      "[CV 3/5] END ..C=100, gamma=0.1, kernel=sigmoid;, score=0.797 total time=   6.4s\n",
      "[CV 4/5] END ..C=100, gamma=0.1, kernel=sigmoid;, score=0.789 total time=   6.2s\n",
      "[CV 5/5] END ..C=100, gamma=0.1, kernel=sigmoid;, score=0.800 total time=   6.4s\n",
      "[CV 1/5] END ..C=100, gamma=0.01, kernel=linear;, score=0.780 total time=   5.9s\n",
      "[CV 2/5] END ..C=100, gamma=0.01, kernel=linear;, score=0.780 total time=   6.0s\n",
      "[CV 3/5] END ..C=100, gamma=0.01, kernel=linear;, score=0.781 total time=   5.9s\n",
      "[CV 4/5] END ..C=100, gamma=0.01, kernel=linear;, score=0.771 total time=   5.8s\n",
      "[CV 5/5] END ..C=100, gamma=0.01, kernel=linear;, score=0.779 total time=   5.9s\n",
      "[CV 1/5] END ....C=100, gamma=0.01, kernel=poly;, score=0.758 total time=   4.8s\n",
      "[CV 2/5] END ....C=100, gamma=0.01, kernel=poly;, score=0.758 total time=   4.8s\n",
      "[CV 3/5] END ....C=100, gamma=0.01, kernel=poly;, score=0.757 total time=   4.8s\n",
      "[CV 4/5] END ....C=100, gamma=0.01, kernel=poly;, score=0.757 total time=   4.7s\n",
      "[CV 5/5] END ....C=100, gamma=0.01, kernel=poly;, score=0.757 total time=   4.8s\n",
      "[CV 1/5] END .....C=100, gamma=0.01, kernel=rbf;, score=0.828 total time=   6.3s\n",
      "[CV 2/5] END .....C=100, gamma=0.01, kernel=rbf;, score=0.826 total time=   6.4s\n",
      "[CV 3/5] END .....C=100, gamma=0.01, kernel=rbf;, score=0.825 total time=   6.4s\n",
      "[CV 4/5] END .....C=100, gamma=0.01, kernel=rbf;, score=0.826 total time=   6.3s\n",
      "[CV 5/5] END .....C=100, gamma=0.01, kernel=rbf;, score=0.835 total time=   6.3s\n",
      "[CV 1/5] END .C=100, gamma=0.01, kernel=sigmoid;, score=0.820 total time=   6.3s\n",
      "[CV 2/5] END .C=100, gamma=0.01, kernel=sigmoid;, score=0.838 total time=   6.3s\n",
      "[CV 3/5] END .C=100, gamma=0.01, kernel=sigmoid;, score=0.828 total time=   6.4s\n",
      "[CV 4/5] END .C=100, gamma=0.01, kernel=sigmoid;, score=0.827 total time=   6.3s\n",
      "[CV 5/5] END .C=100, gamma=0.01, kernel=sigmoid;, score=0.837 total time=   6.4s\n",
      "[CV 1/5] END .C=100, gamma=0.001, kernel=linear;, score=0.780 total time=   5.9s\n",
      "[CV 2/5] END .C=100, gamma=0.001, kernel=linear;, score=0.780 total time=   6.0s\n",
      "[CV 3/5] END .C=100, gamma=0.001, kernel=linear;, score=0.781 total time=   5.9s\n",
      "[CV 4/5] END .C=100, gamma=0.001, kernel=linear;, score=0.771 total time=   5.8s\n",
      "[CV 5/5] END .C=100, gamma=0.001, kernel=linear;, score=0.779 total time=   5.9s\n",
      "[CV 1/5] END ...C=100, gamma=0.001, kernel=poly;, score=0.758 total time=   4.7s\n",
      "[CV 2/5] END ...C=100, gamma=0.001, kernel=poly;, score=0.758 total time=   4.8s\n",
      "[CV 3/5] END ...C=100, gamma=0.001, kernel=poly;, score=0.757 total time=   4.7s\n",
      "[CV 4/5] END ...C=100, gamma=0.001, kernel=poly;, score=0.757 total time=   4.7s\n",
      "[CV 5/5] END ...C=100, gamma=0.001, kernel=poly;, score=0.757 total time=   4.7s\n",
      "[CV 1/5] END ....C=100, gamma=0.001, kernel=rbf;, score=0.779 total time=   6.5s\n",
      "[CV 2/5] END ....C=100, gamma=0.001, kernel=rbf;, score=0.789 total time=   6.5s\n",
      "[CV 3/5] END ....C=100, gamma=0.001, kernel=rbf;, score=0.783 total time=   6.5s\n",
      "[CV 4/5] END ....C=100, gamma=0.001, kernel=rbf;, score=0.782 total time=   6.5s\n",
      "[CV 5/5] END ....C=100, gamma=0.001, kernel=rbf;, score=0.787 total time=   6.6s\n",
      "[CV 1/5] END C=100, gamma=0.001, kernel=sigmoid;, score=0.765 total time=   6.7s\n",
      "[CV 2/5] END C=100, gamma=0.001, kernel=sigmoid;, score=0.767 total time=   6.6s\n",
      "[CV 3/5] END C=100, gamma=0.001, kernel=sigmoid;, score=0.765 total time=   6.7s\n",
      "[CV 4/5] END C=100, gamma=0.001, kernel=sigmoid;, score=0.763 total time=   6.7s\n",
      "[CV 5/5] END C=100, gamma=0.001, kernel=sigmoid;, score=0.764 total time=   6.7s\n",
      "[CV 1/5] END C=100, gamma=0.0001, kernel=linear;, score=0.780 total time=   5.9s\n",
      "[CV 2/5] END C=100, gamma=0.0001, kernel=linear;, score=0.780 total time=   6.0s\n",
      "[CV 3/5] END C=100, gamma=0.0001, kernel=linear;, score=0.781 total time=   5.9s\n",
      "[CV 4/5] END C=100, gamma=0.0001, kernel=linear;, score=0.771 total time=   5.8s\n",
      "[CV 5/5] END C=100, gamma=0.0001, kernel=linear;, score=0.779 total time=   5.9s\n",
      "[CV 1/5] END ..C=100, gamma=0.0001, kernel=poly;, score=0.758 total time=   4.8s\n",
      "[CV 2/5] END ..C=100, gamma=0.0001, kernel=poly;, score=0.758 total time=   4.8s\n",
      "[CV 3/5] END ..C=100, gamma=0.0001, kernel=poly;, score=0.757 total time=   4.8s\n",
      "[CV 4/5] END ..C=100, gamma=0.0001, kernel=poly;, score=0.757 total time=   4.8s\n",
      "[CV 5/5] END ..C=100, gamma=0.0001, kernel=poly;, score=0.757 total time=   4.8s\n",
      "[CV 1/5] END ...C=100, gamma=0.0001, kernel=rbf;, score=0.758 total time=   6.4s\n",
      "[CV 2/5] END ...C=100, gamma=0.0001, kernel=rbf;, score=0.758 total time=   6.6s\n",
      "[CV 3/5] END ...C=100, gamma=0.0001, kernel=rbf;, score=0.757 total time=   6.4s\n",
      "[CV 4/5] END ...C=100, gamma=0.0001, kernel=rbf;, score=0.757 total time=   6.3s\n",
      "[CV 5/5] END ...C=100, gamma=0.0001, kernel=rbf;, score=0.757 total time=   6.4s\n",
      "[CV 1/5] END C=100, gamma=0.0001, kernel=sigmoid;, score=0.758 total time=   6.4s\n",
      "[CV 2/5] END C=100, gamma=0.0001, kernel=sigmoid;, score=0.758 total time=   6.4s\n",
      "[CV 3/5] END C=100, gamma=0.0001, kernel=sigmoid;, score=0.757 total time=   6.5s\n",
      "[CV 4/5] END C=100, gamma=0.0001, kernel=sigmoid;, score=0.757 total time=   6.3s\n",
      "[CV 5/5] END C=100, gamma=0.0001, kernel=sigmoid;, score=0.757 total time=   6.5s\n"
     ]
    },
    {
     "data": {
      "text/html": [
       "<style>#sk-container-id-3 {color: black;background-color: white;}#sk-container-id-3 pre{padding: 0;}#sk-container-id-3 div.sk-toggleable {background-color: white;}#sk-container-id-3 label.sk-toggleable__label {cursor: pointer;display: block;width: 100%;margin-bottom: 0;padding: 0.3em;box-sizing: border-box;text-align: center;}#sk-container-id-3 label.sk-toggleable__label-arrow:before {content: \"▸\";float: left;margin-right: 0.25em;color: #696969;}#sk-container-id-3 label.sk-toggleable__label-arrow:hover:before {color: black;}#sk-container-id-3 div.sk-estimator:hover label.sk-toggleable__label-arrow:before {color: black;}#sk-container-id-3 div.sk-toggleable__content {max-height: 0;max-width: 0;overflow: hidden;text-align: left;background-color: #f0f8ff;}#sk-container-id-3 div.sk-toggleable__content pre {margin: 0.2em;color: black;border-radius: 0.25em;background-color: #f0f8ff;}#sk-container-id-3 input.sk-toggleable__control:checked~div.sk-toggleable__content {max-height: 200px;max-width: 100%;overflow: auto;}#sk-container-id-3 input.sk-toggleable__control:checked~label.sk-toggleable__label-arrow:before {content: \"▾\";}#sk-container-id-3 div.sk-estimator input.sk-toggleable__control:checked~label.sk-toggleable__label {background-color: #d4ebff;}#sk-container-id-3 div.sk-label input.sk-toggleable__control:checked~label.sk-toggleable__label {background-color: #d4ebff;}#sk-container-id-3 input.sk-hidden--visually {border: 0;clip: rect(1px 1px 1px 1px);clip: rect(1px, 1px, 1px, 1px);height: 1px;margin: -1px;overflow: hidden;padding: 0;position: absolute;width: 1px;}#sk-container-id-3 div.sk-estimator {font-family: monospace;background-color: #f0f8ff;border: 1px dotted black;border-radius: 0.25em;box-sizing: border-box;margin-bottom: 0.5em;}#sk-container-id-3 div.sk-estimator:hover {background-color: #d4ebff;}#sk-container-id-3 div.sk-parallel-item::after {content: \"\";width: 100%;border-bottom: 1px solid gray;flex-grow: 1;}#sk-container-id-3 div.sk-label:hover label.sk-toggleable__label {background-color: #d4ebff;}#sk-container-id-3 div.sk-serial::before {content: \"\";position: absolute;border-left: 1px solid gray;box-sizing: border-box;top: 0;bottom: 0;left: 50%;z-index: 0;}#sk-container-id-3 div.sk-serial {display: flex;flex-direction: column;align-items: center;background-color: white;padding-right: 0.2em;padding-left: 0.2em;position: relative;}#sk-container-id-3 div.sk-item {position: relative;z-index: 1;}#sk-container-id-3 div.sk-parallel {display: flex;align-items: stretch;justify-content: center;background-color: white;position: relative;}#sk-container-id-3 div.sk-item::before, #sk-container-id-3 div.sk-parallel-item::before {content: \"\";position: absolute;border-left: 1px solid gray;box-sizing: border-box;top: 0;bottom: 0;left: 50%;z-index: -1;}#sk-container-id-3 div.sk-parallel-item {display: flex;flex-direction: column;z-index: 1;position: relative;background-color: white;}#sk-container-id-3 div.sk-parallel-item:first-child::after {align-self: flex-end;width: 50%;}#sk-container-id-3 div.sk-parallel-item:last-child::after {align-self: flex-start;width: 50%;}#sk-container-id-3 div.sk-parallel-item:only-child::after {width: 0;}#sk-container-id-3 div.sk-dashed-wrapped {border: 1px dashed gray;margin: 0 0.4em 0.5em 0.4em;box-sizing: border-box;padding-bottom: 0.4em;background-color: white;}#sk-container-id-3 div.sk-label label {font-family: monospace;font-weight: bold;display: inline-block;line-height: 1.2em;}#sk-container-id-3 div.sk-label-container {text-align: center;}#sk-container-id-3 div.sk-container {/* jupyter's `normalize.less` sets `[hidden] { display: none; }` but bootstrap.min.css set `[hidden] { display: none !important; }` so we also need the `!important` here to be able to override the default hidden behavior on the sphinx rendered scikit-learn.org. See: https://github.com/scikit-learn/scikit-learn/issues/21755 */display: inline-block !important;position: relative;}#sk-container-id-3 div.sk-text-repr-fallback {display: none;}</style><div id=\"sk-container-id-3\" class=\"sk-top-container\"><div class=\"sk-text-repr-fallback\"><pre>GridSearchCV(estimator=SVC(),\n",
       "             param_grid={&#x27;C&#x27;: [0.1, 1, 10, 100],\n",
       "                         &#x27;gamma&#x27;: [1, 0.1, 0.01, 0.001, 0.0001],\n",
       "                         &#x27;kernel&#x27;: [&#x27;linear&#x27;, &#x27;poly&#x27;, &#x27;rbf&#x27;, &#x27;sigmoid&#x27;]},\n",
       "             verbose=3)</pre><b>In a Jupyter environment, please rerun this cell to show the HTML representation or trust the notebook. <br />On GitHub, the HTML representation is unable to render, please try loading this page with nbviewer.org.</b></div><div class=\"sk-container\" hidden><div class=\"sk-item sk-dashed-wrapped\"><div class=\"sk-label-container\"><div class=\"sk-label sk-toggleable\"><input class=\"sk-toggleable__control sk-hidden--visually\" id=\"sk-estimator-id-7\" type=\"checkbox\" ><label for=\"sk-estimator-id-7\" class=\"sk-toggleable__label sk-toggleable__label-arrow\">GridSearchCV</label><div class=\"sk-toggleable__content\"><pre>GridSearchCV(estimator=SVC(),\n",
       "             param_grid={&#x27;C&#x27;: [0.1, 1, 10, 100],\n",
       "                         &#x27;gamma&#x27;: [1, 0.1, 0.01, 0.001, 0.0001],\n",
       "                         &#x27;kernel&#x27;: [&#x27;linear&#x27;, &#x27;poly&#x27;, &#x27;rbf&#x27;, &#x27;sigmoid&#x27;]},\n",
       "             verbose=3)</pre></div></div></div><div class=\"sk-parallel\"><div class=\"sk-parallel-item\"><div class=\"sk-item\"><div class=\"sk-label-container\"><div class=\"sk-label sk-toggleable\"><input class=\"sk-toggleable__control sk-hidden--visually\" id=\"sk-estimator-id-8\" type=\"checkbox\" ><label for=\"sk-estimator-id-8\" class=\"sk-toggleable__label sk-toggleable__label-arrow\">estimator: SVC</label><div class=\"sk-toggleable__content\"><pre>SVC()</pre></div></div></div><div class=\"sk-serial\"><div class=\"sk-item\"><div class=\"sk-estimator sk-toggleable\"><input class=\"sk-toggleable__control sk-hidden--visually\" id=\"sk-estimator-id-9\" type=\"checkbox\" ><label for=\"sk-estimator-id-9\" class=\"sk-toggleable__label sk-toggleable__label-arrow\">SVC</label><div class=\"sk-toggleable__content\"><pre>SVC()</pre></div></div></div></div></div></div></div></div></div></div>"
      ],
      "text/plain": [
       "GridSearchCV(estimator=SVC(),\n",
       "             param_grid={'C': [0.1, 1, 10, 100],\n",
       "                         'gamma': [1, 0.1, 0.01, 0.001, 0.0001],\n",
       "                         'kernel': ['linear', 'poly', 'rbf', 'sigmoid']},\n",
       "             verbose=3)"
      ]
     },
     "execution_count": 42,
     "metadata": {},
     "output_type": "execute_result"
    }
   ],
   "source": [
    "from sklearn.model_selection import GridSearchCV\n",
    "\n",
    "# defining parameter range\n",
    "param_grid = {'C': [0.1, 1, 10, 100], #maknuo C = 1000 jer traje predugo\n",
    "\t\t\t'gamma': [1, 0.1, 0.01, 0.001, 0.0001],\n",
    "\t\t\t'kernel': ['linear', 'poly', 'rbf', 'sigmoid']}\n",
    "\n",
    "grid = GridSearchCV(SVC(), param_grid, refit = True, verbose = 3)\n",
    "\n",
    "# fitting the model for grid search\n",
    "grid.fit(nova_lista, lista_label)\n",
    "\n"
   ]
  },
  {
   "cell_type": "code",
   "execution_count": 43,
   "id": "b0ce43a4",
   "metadata": {},
   "outputs": [
    {
     "name": "stdout",
     "output_type": "stream",
     "text": [
      "{'C': 10, 'gamma': 0.1, 'kernel': 'sigmoid'}\n",
      "SVC(C=10, gamma=0.1, kernel='sigmoid')\n"
     ]
    }
   ],
   "source": [
    "# print best parameter after tuning\n",
    "print(grid.best_params_)\n",
    "\n",
    "# print how our model looks after hyper-parameter tuning\n",
    "print(grid.best_estimator_)\n"
   ]
  },
  {
   "cell_type": "code",
   "execution_count": 44,
   "id": "764c18a6",
   "metadata": {},
   "outputs": [],
   "source": [
    "corpus = df_valid[\"text\"]\n",
    "X = vectorizer.fit_transform(corpus)"
   ]
  },
  {
   "cell_type": "code",
   "execution_count": 72,
   "id": "fb4143a6",
   "metadata": {},
   "outputs": [],
   "source": [
    "lista_label = np.array(df_valid[\"label\"])\n",
    "lista_label = le.fit_transform(lista_label)\n",
    "\n",
    "clf = make_pipeline(SVC(class_weight='balanced', C=10, gamma=0.1, kernel='sigmoid'))\n",
    "clf = clf.fit(X, lista_label)\n"
   ]
  },
  {
   "cell_type": "code",
   "execution_count": 46,
   "id": "1feb13bb",
   "metadata": {},
   "outputs": [
    {
     "name": "stdout",
     "output_type": "stream",
     "text": [
      "Valid:0.9714285714285714\n",
      "Training:0.7491836734693877\n"
     ]
    }
   ],
   "source": [
    "print(\"Valid:\"+str(clf.score(X, lista_label)))\n",
    "\n",
    "lista_label_train = np.array(df_train[\"label\"])\n",
    "lista_label_train = le.transform(lista_label_train)\n",
    "nova_lista_train = vectorizer.transform(df_train[\"text\"])\n",
    "\n",
    "print(\"Training:\"+str(clf.score(nova_lista_train,lista_label_train)))"
   ]
  },
  {
   "cell_type": "code",
   "execution_count": 47,
   "id": "840c8f90",
   "metadata": {},
   "outputs": [],
   "source": [
    "def evaluate(model, tf_idf, text, y_test, target_names=('not sexist', 'sexist')):\n",
    "    import matplotlib.pyplot as plt\n",
    "    from sklearn.metrics import classification_report\n",
    "    from sklearn.metrics import ConfusionMatrixDisplay\n",
    "    from sklearn.metrics import precision_recall_fscore_support\n",
    "\n",
    "    text_features = tf_idf.transform(text)\n",
    "    y_test_pred = model.predict(text_features)\n",
    "    print(classification_report(y_test, y_test_pred, target_names=target_names))\n",
    "\n",
    "    precision, recall, f1, _ = precision_recall_fscore_support(y_test, y_test_pred, average=\"micro\")\n",
    "    print(f\"Precision: {precision:6.2f}\")\n",
    "    print(f\"   Recall: {recall:6.2f}\")\n",
    "    print(f\"       F1: {f1:6.2f}\")\n",
    "\n",
    "    ConfusionMatrixDisplay.from_predictions(y_test, y_test_pred, display_labels=target_names)\n",
    "    plt.show()"
   ]
  },
  {
   "cell_type": "code",
   "execution_count": 48,
   "id": "c8d6b0f8",
   "metadata": {},
   "outputs": [
    {
     "name": "stdout",
     "output_type": "stream",
     "text": [
      "              precision    recall  f1-score   support\n",
      "\n",
      "  not sexist       1.00      0.97      0.98      1060\n",
      "      sexist       0.90      0.99      0.94       340\n",
      "\n",
      "    accuracy                           0.97      1400\n",
      "   macro avg       0.95      0.98      0.96      1400\n",
      "weighted avg       0.97      0.97      0.97      1400\n",
      "\n",
      "Precision:   0.97\n",
      "   Recall:   0.97\n",
      "       F1:   0.97\n"
     ]
    },
    {
     "data": {
      "image/png": "[encoded data removed]",
      "text/plain": [
       "<Figure size 640x480 with 2 Axes>"
      ]
     },
     "metadata": {},
     "output_type": "display_data"
    }
   ],
   "source": [
    "evaluate(clf, vectorizer, df_valid.text, lista_label)"
   ]
  },
  {
   "cell_type": "code",
   "execution_count": 73,
   "id": "116d2e0f",
   "metadata": {},
   "outputs": [],
   "source": [
    "import pickle\n",
    "tfidf_clf = pickle.dumps(clf)"
   ]
  },
  {
   "cell_type": "code",
   "execution_count": 81,
   "id": "4403d40b",
   "metadata": {},
   "outputs": [
    {
     "name": "stdout",
     "output_type": "stream",
     "text": [
      "not sexist\n"
     ]
    }
   ],
   "source": [
    "load_w2v_clf = pickle.loads(word2vec_clf)\n",
    "tekst = \"hate all women\"\n",
    "tekst_v = W2Vvectorize(tekst)\n",
    "if round(np.mean(load_w2v_clf.predict(tekst_v))) == 1: print('sexist')\n",
    "else: print('not sexist')"
   ]
  },
  {
   "cell_type": "code",
   "execution_count": 87,
   "id": "a2cbcfb2",
   "metadata": {},
   "outputs": [
    {
     "name": "stdout",
     "output_type": "stream",
     "text": [
      "not sexist\n"
     ]
    }
   ],
   "source": [
    "load_tfidf_clf = pickle.loads(tfidf_clf)\n",
    "tekst = \"women are the best thing\"\n",
    "tekst_v = vectorizer.transform([tekst])\n",
    "if round(np.mean(load_tfidf_clf.predict(tekst_v))) == 1: print('sexist')\n",
    "else: print('not sexist')"
   ]
  },
  {
   "cell_type": "code",
   "execution_count": null,
   "id": "9715c2e8",
   "metadata": {},
   "outputs": [],
   "source": []
  },
  {
   "cell_type": "code",
   "execution_count": null,
   "id": "0e763433",
   "metadata": {},
   "outputs": [],
   "source": []
  }
 ],
 "metadata": {
  "kernelspec": {
   "display_name": "Python 3.10.0 64-bit",
   "language": "python",
   "name": "python3"
  },
  "language_info": {
   "codemirror_mode": {
    "name": "ipython",
    "version": 3
   },
   "file_extension": ".py",
   "mimetype": "text/x-python",
   "name": "python",
   "nbconvert_exporter": "python",
   "pygments_lexer": "ipython3",
   "version": "3.10.0"
  },
  "vscode": {
   "interpreter": {
    "hash": "a4dbf14aa9149df7da5047131b4f5a980e4602c9d39113889227f0df846bcbd3"
   }
  }
 },
 "nbformat": 4,
 "nbformat_minor": 5
}
