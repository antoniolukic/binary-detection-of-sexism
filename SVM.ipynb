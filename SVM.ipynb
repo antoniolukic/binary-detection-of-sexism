{
 "cells": [
  {
   "cell_type": "markdown",
   "id": "13d94d2a",
   "metadata": {},
   "source": [
    "Podaci nisu podijeljeni na train/valid/test"
   ]
  },
  {
   "cell_type": "code",
   "execution_count": 1,
   "id": "bfc0298d",
   "metadata": {},
   "outputs": [],
   "source": [
    "import re\n",
    "import spacy\n",
    "import pandas as pd\n",
    "from nltk.corpus import stopwords\n",
    "from collections import Counter\n",
    "nlp = spacy.load(\n",
    "    \"en_core_web_lg\"\n",
    ")\n",
    "df = pd.read_csv(\"train_all_tasks.csv\")"
   ]
  },
  {
   "cell_type": "markdown",
   "id": "bba1f986",
   "metadata": {},
   "source": [
    "Svaki redak uzorka sadržava:"
   ]
  },
  {
   "cell_type": "code",
   "execution_count": 2,
   "id": "cce21613",
   "metadata": {
    "scrolled": true
   },
   "outputs": [
    {
     "name": "stdout",
     "output_type": "stream",
     "text": [
      "Index(['rewire_id', 'text', 'label_sexist', 'label_category', 'label_vector'], dtype='object')\n"
     ]
    }
   ],
   "source": [
    "print(df.columns)"
   ]
  },
  {
   "cell_type": "markdown",
   "id": "1e99a6a4",
   "metadata": {},
   "source": [
    "Broj redaka:"
   ]
  },
  {
   "cell_type": "code",
   "execution_count": 3,
   "id": "fd1e816d",
   "metadata": {
    "scrolled": true
   },
   "outputs": [
    {
     "name": "stdout",
     "output_type": "stream",
     "text": [
      "14000\n"
     ]
    }
   ],
   "source": [
    "print(df.shape[0])"
   ]
  },
  {
   "cell_type": "markdown",
   "id": "4295b9f9",
   "metadata": {},
   "source": [
    "Radimo s nebalansiranim skupom podataka\n",
    "\n",
    "Broj redaka iz klase seksistički:"
   ]
  },
  {
   "cell_type": "code",
   "execution_count": 4,
   "id": "88bf7539",
   "metadata": {},
   "outputs": [
    {
     "name": "stdout",
     "output_type": "stream",
     "text": [
      "3398\n"
     ]
    }
   ],
   "source": [
    "print(len(df[df['label_sexist'] == 'sexist']))"
   ]
  },
  {
   "cell_type": "markdown",
   "id": "be9aa1ec",
   "metadata": {},
   "source": [
    "Broj redaka iz klase neseksistički:"
   ]
  },
  {
   "cell_type": "code",
   "execution_count": 5,
   "id": "2e2d69b7",
   "metadata": {},
   "outputs": [
    {
     "name": "stdout",
     "output_type": "stream",
     "text": [
      "10602\n"
     ]
    }
   ],
   "source": [
    "print(len(df[df['label_sexist'] == 'not sexist']))"
   ]
  },
  {
   "cell_type": "markdown",
   "id": "c827de28",
   "metadata": {},
   "source": [
    "Nema Nan podataka:"
   ]
  },
  {
   "cell_type": "code",
   "execution_count": 6,
   "id": "df09f0b4",
   "metadata": {},
   "outputs": [
    {
     "name": "stdout",
     "output_type": "stream",
     "text": [
      "False\n"
     ]
    }
   ],
   "source": [
    "print(df.isnull().values.any())"
   ]
  },
  {
   "cell_type": "code",
   "execution_count": 7,
   "id": "9d46be00",
   "metadata": {},
   "outputs": [],
   "source": [
    "najvise = 0\n",
    "seksisti = []\n",
    "neseksisti = []\n",
    "prosrijeci = [0, 0]\n",
    "djelitelj = [0, 0]\n",
    "for i in df.itertuples():\n",
    "    doc = nlp(i.text.lower())\n",
    "    najvise = max(najvise, len(doc))\n",
    "    br_rijeci = len(doc)\n",
    "    tret = [token.lemma_\n",
    "         for token in doc\n",
    "         if not token.is_stop and not token.is_punct and token.is_alpha]\n",
    "    if i.label_sexist == 'sexist':\n",
    "        prosrijeci[0] += br_rijeci\n",
    "        djelitelj[0] += 1\n",
    "        for j in tret:\n",
    "            seksisti.append(j)\n",
    "    else:\n",
    "        prosrijeci[1] += br_rijeci\n",
    "        djelitelj[1] += 1\n",
    "        for j in tret:\n",
    "            neseksisti.append(j)"
   ]
  },
  {
   "cell_type": "markdown",
   "id": "cd59f4e0",
   "metadata": {},
   "source": [
    "Najčešće riječi za klasu seksisti:"
   ]
  },
  {
   "cell_type": "code",
   "execution_count": 8,
   "id": "a9b61414",
   "metadata": {},
   "outputs": [
    {
     "name": "stdout",
     "output_type": "stream",
     "text": [
      "('woman', 1726)\n",
      "('man', 729)\n",
      "('like', 502)\n",
      "('bitch', 498)\n",
      "('fuck', 359)\n"
     ]
    }
   ],
   "source": [
    "word_freq = Counter(seksisti)\n",
    "common_words = word_freq.most_common(5)\n",
    "for i in common_words:\n",
    "    print(i)"
   ]
  },
  {
   "cell_type": "markdown",
   "id": "64daf304",
   "metadata": {},
   "source": [
    "Najčešće riječi za klasu ne seksisti:"
   ]
  },
  {
   "cell_type": "code",
   "execution_count": 9,
   "id": "ca749319",
   "metadata": {},
   "outputs": [
    {
     "name": "stdout",
     "output_type": "stream",
     "text": [
      "('woman', 2626)\n",
      "('url', 1516)\n",
      "('like', 1300)\n",
      "('girl', 1228)\n",
      "('man', 1033)\n"
     ]
    }
   ],
   "source": [
    "word_freq = Counter(neseksisti)\n",
    "common_words = word_freq.most_common(5)\n",
    "for i in common_words:\n",
    "    print(i)"
   ]
  },
  {
   "cell_type": "markdown",
   "id": "8c31a79c",
   "metadata": {},
   "source": [
    "Broj prosječnih riječi: (tokena)\n",
    "[seksisti, neseksisti]"
   ]
  },
  {
   "cell_type": "code",
   "execution_count": 10,
   "id": "3942a564",
   "metadata": {},
   "outputs": [
    {
     "name": "stdout",
     "output_type": "stream",
     "text": [
      "86\n",
      "[29.620364920541494, 27.688077721184683]\n"
     ]
    }
   ],
   "source": [
    "print(najvise)\n",
    "prosrijeci[0] /= djelitelj[0]\n",
    "prosrijeci[1] /= djelitelj[1]\n",
    "print(prosrijeci)"
   ]
  },
  {
   "cell_type": "markdown",
   "id": "7a95cf87",
   "metadata": {},
   "source": [
    "Razdvojimo na train/valid/test:"
   ]
  },
  {
   "cell_type": "code",
   "execution_count": 11,
   "id": "0b33652d",
   "metadata": {},
   "outputs": [
    {
     "name": "stdout",
     "output_type": "stream",
     "text": [
      "2800 1400 9800\n"
     ]
    }
   ],
   "source": [
    "import numpy as np\n",
    "from sklearn.model_selection import StratifiedShuffleSplit\n",
    "\n",
    "sss = StratifiedShuffleSplit(n_splits=1, test_size=0.2, random_state=42)\n",
    "\n",
    "lista_tekst = df[\"text\"]\n",
    "lista_label = df[\"label_sexist\"]\n",
    "\n",
    "for train_index, test_index in sss.split(lista_tekst, lista_label):\n",
    "    X_train, X_test = lista_tekst[train_index], lista_tekst[test_index]\n",
    "    y_train, y_test = lista_label[train_index], lista_label[test_index]\n",
    "    d_train = {\"text\": X_train, \"label\": y_train}\n",
    "    df_train = pd.DataFrame(d_train)\n",
    "    d_test = {\"text\": X_test, \"label\": y_test}\n",
    "    df_test = pd.DataFrame(d_test)\n",
    "\n",
    "sss = StratifiedShuffleSplit(n_splits=1, test_size=0.125, random_state=42)\n",
    "\n",
    "lista_tekst = np.array(df_train[\"text\"])\n",
    "lista_label = np.array(df_train[\"label\"])\n",
    "\n",
    "for train_index, valid_index in sss.split(lista_tekst, lista_label):\n",
    "    X_train, X_valid = lista_tekst[train_index], lista_tekst[valid_index]\n",
    "    y_train, y_valid = lista_label[train_index], lista_label[valid_index]\n",
    "    d_train = {\"text\": X_train, \"label\": y_train}\n",
    "    df_train = pd.DataFrame(d_train)\n",
    "    d_valid = {\"text\": X_valid, \"label\": y_valid}\n",
    "    df_valid = pd.DataFrame(d_valid)\n",
    "\n",
    "print(len(df_test), len(df_valid), len(df_train))\n"
   ]
  },
  {
   "cell_type": "markdown",
   "id": "7901d7e6",
   "metadata": {},
   "source": [
    "Pogledajmo [URL], [USER], emoji:"
   ]
  },
  {
   "cell_type": "markdown",
   "id": "127be996",
   "metadata": {},
   "source": [
    "Za [URL]:"
   ]
  },
  {
   "cell_type": "code",
   "execution_count": 12,
   "id": "652a8bfc",
   "metadata": {},
   "outputs": [
    {
     "name": "stdout",
     "output_type": "stream",
     "text": [
      "[141, 1081]\n",
      "0.059293523969722456 0.018997574777687955\n"
     ]
    }
   ],
   "source": [
    "urlovi = [0, 0]\n",
    "sexist_c = len(df_train[df_train['label'] == 'sexist'])\n",
    "nsexist_c = len(df_train[df_train['label'] == 'not sexist'])\n",
    "for i in df_train.itertuples():\n",
    "    kolko = i.text.count(\"[URL]\")\n",
    "    if i.label == 'sexist':\n",
    "        urlovi[0] += kolko\n",
    "    else:\n",
    "        urlovi[1] += kolko\n",
    "print(urlovi)\n",
    "print(urlovi[0] / sexist_c, urlovi[0] / nsexist_c)"
   ]
  },
  {
   "cell_type": "markdown",
   "id": "900c7109",
   "metadata": {},
   "source": [
    "Za [USER]:"
   ]
  },
  {
   "cell_type": "code",
   "execution_count": 13,
   "id": "793f111c",
   "metadata": {},
   "outputs": [
    {
     "name": "stdout",
     "output_type": "stream",
     "text": [
      "[104, 567]\n",
      "0.04373423044575273 0.07639450282942603\n"
     ]
    }
   ],
   "source": [
    "useri = [0, 0]\n",
    "for i in df_train.itertuples():\n",
    "    kolko = i.text.count(\"[USER]\")\n",
    "    if i.label == 'sexist':\n",
    "        useri[0] += kolko\n",
    "    else:\n",
    "        useri[1] += kolko\n",
    "print(useri)\n",
    "print(useri[0] / sexist_c, useri[1] / nsexist_c)"
   ]
  },
  {
   "cell_type": "markdown",
   "id": "dc74838a",
   "metadata": {},
   "source": [
    "Za emoji:"
   ]
  },
  {
   "cell_type": "code",
   "execution_count": 14,
   "id": "51614faf",
   "metadata": {},
   "outputs": [
    {
     "data": {
      "text/plain": [
       "['🤔', '🙈', '😌', '💕', '👭', '👙']"
      ]
     },
     "execution_count": 14,
     "metadata": {},
     "output_type": "execute_result"
    }
   ],
   "source": [
    "import re\n",
    "a_list = ['🤔 🙈 me así, bla es se 😌 ds 💕👭👙']\n",
    "re.findall(r'[^\\w\\s,]', a_list[0])"
   ]
  },
  {
   "cell_type": "code",
   "execution_count": 15,
   "id": "e302f4bf",
   "metadata": {},
   "outputs": [
    {
     "name": "stdout",
     "output_type": "stream",
     "text": [
      "[118, 614]\n",
      "0.0496215306980656 0.08272702775532202\n"
     ]
    }
   ],
   "source": [
    "emojiji = [0, 0]\n",
    "for i in df_train.itertuples():\n",
    "    doc = nlp(i.text)\n",
    "    kolko = len(re.findall(r'[^\\w\\s,]', str(doc)[0]))\n",
    "    if i.label == 'sexist':\n",
    "        emojiji[0] += kolko\n",
    "    else:\n",
    "        emojiji[1] += kolko\n",
    "print(emojiji)\n",
    "print(emojiji[0] / sexist_c, emojiji[1] / nsexist_c)"
   ]
  },
  {
   "cell_type": "markdown",
   "id": "6aed3631",
   "metadata": {},
   "source": [
    "SVM + WORD2VEC"
   ]
  },
  {
   "cell_type": "code",
   "execution_count": 16,
   "id": "7d8b70a0",
   "metadata": {},
   "outputs": [],
   "source": [
    "from gensim.models import KeyedVectors\n",
    "from gensim import models\n",
    "from gensim.utils import simple_preprocess\n",
    "\n",
    "word2vec_path = 'GoogleNews-vectors-negative300.bin'\n",
    "model = models.KeyedVectors.load_word2vec_format(word2vec_path, binary = True)\n",
    "\n"
   ]
  },
  {
   "cell_type": "code",
   "execution_count": 17,
   "id": "0534d082",
   "metadata": {},
   "outputs": [
    {
     "data": {
      "text/plain": [
       "[('woman', 0.7664012908935547),\n",
       " ('boy', 0.6824871301651001),\n",
       " ('teenager', 0.6586930155754089),\n",
       " ('teenage_girl', 0.6147903203964233),\n",
       " ('girl', 0.5921714305877686),\n",
       " ('suspected_purse_snatcher', 0.571636438369751),\n",
       " ('robber', 0.5585119128227234),\n",
       " ('Robbery_suspect', 0.5584409832954407),\n",
       " ('teen_ager', 0.5549196600914001),\n",
       " ('men', 0.5489763021469116)]"
      ]
     },
     "execution_count": 17,
     "metadata": {},
     "output_type": "execute_result"
    }
   ],
   "source": [
    "model.most_similar(positive=[\"man\"])\n"
   ]
  },
  {
   "cell_type": "code",
   "execution_count": 18,
   "id": "e03e3bd9",
   "metadata": {},
   "outputs": [],
   "source": [
    "def W2Vvectorize(train):\n",
    "    corpus_text = '\\n'.join(train)\n",
    "    sentences = corpus_text.split('\\n')\n",
    "    sentences = [line.lower().split(' ') for line in sentences]\n",
    "\n",
    "    def clean(s):\n",
    "        return [w.strip(',.\"!?:;()\\'') for w in s]\n",
    "\n",
    "    sentences = [clean(s) for s in sentences if len(s) > 0]\n",
    "    vector=[]\n",
    "    for sent in sentences:\n",
    "        sent_vec=np.zeros(300)\n",
    "        count =0\n",
    "        for word in sent: \n",
    "            if word in model:\n",
    "                vec = model[word]\n",
    "                sent_vec += vec \n",
    "                count += 1\n",
    "        if count != 0:\n",
    "            sent_vec /= count #normalize\n",
    "        vector.append(sent_vec)\n",
    "    return vector"
   ]
  },
  {
   "cell_type": "code",
   "execution_count": 33,
   "id": "7d5290a1",
   "metadata": {},
   "outputs": [],
   "source": [
    "from sklearn.svm import SVC\n",
    "from sklearn.pipeline import make_pipeline\n",
    "from sklearn.preprocessing import StandardScaler\n",
    "from sklearn.preprocessing import LabelEncoder\n",
    "\n",
    "le = LabelEncoder()\n",
    "\n",
    "lista_label = np.array(df_valid[\"label\"])\n",
    "lista_label = le.fit_transform(lista_label)\n",
    "\n",
    "nova_lista = W2Vvectorize(df_valid[\"text\"])"
   ]
  },
  {
   "cell_type": "code",
   "execution_count": 50,
   "id": "372a0e2f",
   "metadata": {},
   "outputs": [
    {
     "name": "stdout",
     "output_type": "stream",
     "text": [
      "Fitting 5 folds for each of 100 candidates, totalling 500 fits\n",
      "[CV 1/5] END .....C=0.1, gamma=1, kernel=linear;, score=0.757 total time=   0.0s\n",
      "[CV 2/5] END .....C=0.1, gamma=1, kernel=linear;, score=0.757 total time=   0.0s\n",
      "[CV 3/5] END .....C=0.1, gamma=1, kernel=linear;, score=0.757 total time=   0.0s\n",
      "[CV 4/5] END .....C=0.1, gamma=1, kernel=linear;, score=0.757 total time=   0.0s\n",
      "[CV 5/5] END .....C=0.1, gamma=1, kernel=linear;, score=0.757 total time=   0.0s\n",
      "[CV 1/5] END .......C=0.1, gamma=1, kernel=poly;, score=0.761 total time=   0.0s\n",
      "[CV 2/5] END .......C=0.1, gamma=1, kernel=poly;, score=0.757 total time=   0.0s\n",
      "[CV 3/5] END .......C=0.1, gamma=1, kernel=poly;, score=0.754 total time=   0.0s\n",
      "[CV 4/5] END .......C=0.1, gamma=1, kernel=poly;, score=0.761 total time=   0.0s\n",
      "[CV 5/5] END .......C=0.1, gamma=1, kernel=poly;, score=0.761 total time=   0.0s\n",
      "[CV 1/5] END ........C=0.1, gamma=1, kernel=rbf;, score=0.757 total time=   0.0s\n",
      "[CV 2/5] END ........C=0.1, gamma=1, kernel=rbf;, score=0.757 total time=   0.0s\n",
      "[CV 3/5] END ........C=0.1, gamma=1, kernel=rbf;, score=0.757 total time=   0.0s\n",
      "[CV 4/5] END ........C=0.1, gamma=1, kernel=rbf;, score=0.757 total time=   0.0s\n",
      "[CV 5/5] END ........C=0.1, gamma=1, kernel=rbf;, score=0.757 total time=   0.0s\n",
      "[CV 1/5] END ....C=0.1, gamma=1, kernel=sigmoid;, score=0.757 total time=   0.0s\n",
      "[CV 2/5] END ....C=0.1, gamma=1, kernel=sigmoid;, score=0.757 total time=   0.0s\n",
      "[CV 3/5] END ....C=0.1, gamma=1, kernel=sigmoid;, score=0.757 total time=   0.0s\n",
      "[CV 4/5] END ....C=0.1, gamma=1, kernel=sigmoid;, score=0.757 total time=   0.0s\n",
      "[CV 5/5] END ....C=0.1, gamma=1, kernel=sigmoid;, score=0.757 total time=   0.0s\n",
      "[CV 1/5] END ...C=0.1, gamma=0.1, kernel=linear;, score=0.757 total time=   0.0s\n",
      "[CV 2/5] END ...C=0.1, gamma=0.1, kernel=linear;, score=0.757 total time=   0.0s\n",
      "[CV 3/5] END ...C=0.1, gamma=0.1, kernel=linear;, score=0.757 total time=   0.0s\n",
      "[CV 4/5] END ...C=0.1, gamma=0.1, kernel=linear;, score=0.757 total time=   0.0s\n",
      "[CV 5/5] END ...C=0.1, gamma=0.1, kernel=linear;, score=0.757 total time=   0.0s\n",
      "[CV 1/5] END .....C=0.1, gamma=0.1, kernel=poly;, score=0.757 total time=   0.0s\n",
      "[CV 2/5] END .....C=0.1, gamma=0.1, kernel=poly;, score=0.757 total time=   0.0s\n",
      "[CV 3/5] END .....C=0.1, gamma=0.1, kernel=poly;, score=0.757 total time=   0.0s\n",
      "[CV 4/5] END .....C=0.1, gamma=0.1, kernel=poly;, score=0.757 total time=   0.0s\n",
      "[CV 5/5] END .....C=0.1, gamma=0.1, kernel=poly;, score=0.757 total time=   0.0s\n",
      "[CV 1/5] END ......C=0.1, gamma=0.1, kernel=rbf;, score=0.757 total time=   0.0s\n",
      "[CV 2/5] END ......C=0.1, gamma=0.1, kernel=rbf;, score=0.757 total time=   0.0s\n",
      "[CV 3/5] END ......C=0.1, gamma=0.1, kernel=rbf;, score=0.757 total time=   0.0s\n",
      "[CV 4/5] END ......C=0.1, gamma=0.1, kernel=rbf;, score=0.757 total time=   0.0s\n",
      "[CV 5/5] END ......C=0.1, gamma=0.1, kernel=rbf;, score=0.757 total time=   0.0s\n",
      "[CV 1/5] END ..C=0.1, gamma=0.1, kernel=sigmoid;, score=0.757 total time=   0.0s\n",
      "[CV 2/5] END ..C=0.1, gamma=0.1, kernel=sigmoid;, score=0.757 total time=   0.0s\n",
      "[CV 3/5] END ..C=0.1, gamma=0.1, kernel=sigmoid;, score=0.757 total time=   0.0s\n",
      "[CV 4/5] END ..C=0.1, gamma=0.1, kernel=sigmoid;, score=0.757 total time=   0.0s\n",
      "[CV 5/5] END ..C=0.1, gamma=0.1, kernel=sigmoid;, score=0.757 total time=   0.0s\n",
      "[CV 1/5] END ..C=0.1, gamma=0.01, kernel=linear;, score=0.757 total time=   0.0s\n",
      "[CV 2/5] END ..C=0.1, gamma=0.01, kernel=linear;, score=0.757 total time=   0.0s\n",
      "[CV 3/5] END ..C=0.1, gamma=0.01, kernel=linear;, score=0.757 total time=   0.0s\n",
      "[CV 4/5] END ..C=0.1, gamma=0.01, kernel=linear;, score=0.757 total time=   0.0s\n",
      "[CV 5/5] END ..C=0.1, gamma=0.01, kernel=linear;, score=0.757 total time=   0.0s\n",
      "[CV 1/5] END ....C=0.1, gamma=0.01, kernel=poly;, score=0.757 total time=   0.0s\n",
      "[CV 2/5] END ....C=0.1, gamma=0.01, kernel=poly;, score=0.757 total time=   0.0s\n",
      "[CV 3/5] END ....C=0.1, gamma=0.01, kernel=poly;, score=0.757 total time=   0.0s\n",
      "[CV 4/5] END ....C=0.1, gamma=0.01, kernel=poly;, score=0.757 total time=   0.0s\n",
      "[CV 5/5] END ....C=0.1, gamma=0.01, kernel=poly;, score=0.757 total time=   0.0s\n",
      "[CV 1/5] END .....C=0.1, gamma=0.01, kernel=rbf;, score=0.757 total time=   0.0s\n",
      "[CV 2/5] END .....C=0.1, gamma=0.01, kernel=rbf;, score=0.757 total time=   0.0s\n",
      "[CV 3/5] END .....C=0.1, gamma=0.01, kernel=rbf;, score=0.757 total time=   0.0s\n",
      "[CV 4/5] END .....C=0.1, gamma=0.01, kernel=rbf;, score=0.757 total time=   0.0s\n",
      "[CV 5/5] END .....C=0.1, gamma=0.01, kernel=rbf;, score=0.757 total time=   0.0s\n",
      "[CV 1/5] END .C=0.1, gamma=0.01, kernel=sigmoid;, score=0.757 total time=   0.0s\n",
      "[CV 2/5] END .C=0.1, gamma=0.01, kernel=sigmoid;, score=0.757 total time=   0.0s\n",
      "[CV 3/5] END .C=0.1, gamma=0.01, kernel=sigmoid;, score=0.757 total time=   0.0s\n",
      "[CV 4/5] END .C=0.1, gamma=0.01, kernel=sigmoid;, score=0.757 total time=   0.0s\n",
      "[CV 5/5] END .C=0.1, gamma=0.01, kernel=sigmoid;, score=0.757 total time=   0.0s\n",
      "[CV 1/5] END .C=0.1, gamma=0.001, kernel=linear;, score=0.757 total time=   0.0s\n",
      "[CV 2/5] END .C=0.1, gamma=0.001, kernel=linear;, score=0.757 total time=   0.0s\n",
      "[CV 3/5] END .C=0.1, gamma=0.001, kernel=linear;, score=0.757 total time=   0.0s\n",
      "[CV 4/5] END .C=0.1, gamma=0.001, kernel=linear;, score=0.757 total time=   0.0s\n",
      "[CV 5/5] END .C=0.1, gamma=0.001, kernel=linear;, score=0.757 total time=   0.0s\n",
      "[CV 1/5] END ...C=0.1, gamma=0.001, kernel=poly;, score=0.757 total time=   0.0s\n",
      "[CV 2/5] END ...C=0.1, gamma=0.001, kernel=poly;, score=0.757 total time=   0.0s\n",
      "[CV 3/5] END ...C=0.1, gamma=0.001, kernel=poly;, score=0.757 total time=   0.0s\n",
      "[CV 4/5] END ...C=0.1, gamma=0.001, kernel=poly;, score=0.757 total time=   0.0s\n",
      "[CV 5/5] END ...C=0.1, gamma=0.001, kernel=poly;, score=0.757 total time=   0.0s\n",
      "[CV 1/5] END ....C=0.1, gamma=0.001, kernel=rbf;, score=0.757 total time=   0.0s\n",
      "[CV 2/5] END ....C=0.1, gamma=0.001, kernel=rbf;, score=0.757 total time=   0.0s\n",
      "[CV 3/5] END ....C=0.1, gamma=0.001, kernel=rbf;, score=0.757 total time=   0.0s\n",
      "[CV 4/5] END ....C=0.1, gamma=0.001, kernel=rbf;, score=0.757 total time=   0.0s\n",
      "[CV 5/5] END ....C=0.1, gamma=0.001, kernel=rbf;, score=0.757 total time=   0.0s\n",
      "[CV 1/5] END C=0.1, gamma=0.001, kernel=sigmoid;, score=0.757 total time=   0.0s\n",
      "[CV 2/5] END C=0.1, gamma=0.001, kernel=sigmoid;, score=0.757 total time=   0.0s\n",
      "[CV 3/5] END C=0.1, gamma=0.001, kernel=sigmoid;, score=0.757 total time=   0.0s\n",
      "[CV 4/5] END C=0.1, gamma=0.001, kernel=sigmoid;, score=0.757 total time=   0.0s\n",
      "[CV 5/5] END C=0.1, gamma=0.001, kernel=sigmoid;, score=0.757 total time=   0.0s\n",
      "[CV 1/5] END C=0.1, gamma=0.0001, kernel=linear;, score=0.757 total time=   0.0s\n",
      "[CV 2/5] END C=0.1, gamma=0.0001, kernel=linear;, score=0.757 total time=   0.0s\n",
      "[CV 3/5] END C=0.1, gamma=0.0001, kernel=linear;, score=0.757 total time=   0.0s\n",
      "[CV 4/5] END C=0.1, gamma=0.0001, kernel=linear;, score=0.757 total time=   0.0s\n",
      "[CV 5/5] END C=0.1, gamma=0.0001, kernel=linear;, score=0.757 total time=   0.0s\n",
      "[CV 1/5] END ..C=0.1, gamma=0.0001, kernel=poly;, score=0.757 total time=   0.0s\n",
      "[CV 2/5] END ..C=0.1, gamma=0.0001, kernel=poly;, score=0.757 total time=   0.0s\n",
      "[CV 3/5] END ..C=0.1, gamma=0.0001, kernel=poly;, score=0.757 total time=   0.0s\n",
      "[CV 4/5] END ..C=0.1, gamma=0.0001, kernel=poly;, score=0.757 total time=   0.0s\n",
      "[CV 5/5] END ..C=0.1, gamma=0.0001, kernel=poly;, score=0.757 total time=   0.0s\n",
      "[CV 1/5] END ...C=0.1, gamma=0.0001, kernel=rbf;, score=0.757 total time=   0.0s\n",
      "[CV 2/5] END ...C=0.1, gamma=0.0001, kernel=rbf;, score=0.757 total time=   0.0s\n",
      "[CV 3/5] END ...C=0.1, gamma=0.0001, kernel=rbf;, score=0.757 total time=   0.0s\n",
      "[CV 4/5] END ...C=0.1, gamma=0.0001, kernel=rbf;, score=0.757 total time=   0.0s\n",
      "[CV 5/5] END ...C=0.1, gamma=0.0001, kernel=rbf;, score=0.757 total time=   0.0s\n",
      "[CV 1/5] END C=0.1, gamma=0.0001, kernel=sigmoid;, score=0.757 total time=   0.0s\n",
      "[CV 2/5] END C=0.1, gamma=0.0001, kernel=sigmoid;, score=0.757 total time=   0.0s\n",
      "[CV 3/5] END C=0.1, gamma=0.0001, kernel=sigmoid;, score=0.757 total time=   0.0s\n",
      "[CV 4/5] END C=0.1, gamma=0.0001, kernel=sigmoid;, score=0.757 total time=   0.0s\n",
      "[CV 5/5] END C=0.1, gamma=0.0001, kernel=sigmoid;, score=0.757 total time=   0.0s\n",
      "[CV 1/5] END .......C=1, gamma=1, kernel=linear;, score=0.764 total time=   0.0s\n",
      "[CV 2/5] END .......C=1, gamma=1, kernel=linear;, score=0.757 total time=   0.0s\n"
     ]
    },
    {
     "name": "stdout",
     "output_type": "stream",
     "text": [
      "[CV 3/5] END .......C=1, gamma=1, kernel=linear;, score=0.750 total time=   0.0s\n",
      "[CV 4/5] END .......C=1, gamma=1, kernel=linear;, score=0.761 total time=   0.0s\n",
      "[CV 5/5] END .......C=1, gamma=1, kernel=linear;, score=0.771 total time=   0.0s\n",
      "[CV 1/5] END .........C=1, gamma=1, kernel=poly;, score=0.761 total time=   0.0s\n",
      "[CV 2/5] END .........C=1, gamma=1, kernel=poly;, score=0.736 total time=   0.0s\n",
      "[CV 3/5] END .........C=1, gamma=1, kernel=poly;, score=0.782 total time=   0.0s\n",
      "[CV 4/5] END .........C=1, gamma=1, kernel=poly;, score=0.761 total time=   0.0s\n",
      "[CV 5/5] END .........C=1, gamma=1, kernel=poly;, score=0.771 total time=   0.0s\n",
      "[CV 1/5] END ..........C=1, gamma=1, kernel=rbf;, score=0.754 total time=   0.0s\n",
      "[CV 2/5] END ..........C=1, gamma=1, kernel=rbf;, score=0.757 total time=   0.0s\n",
      "[CV 3/5] END ..........C=1, gamma=1, kernel=rbf;, score=0.757 total time=   0.0s\n",
      "[CV 4/5] END ..........C=1, gamma=1, kernel=rbf;, score=0.757 total time=   0.0s\n",
      "[CV 5/5] END ..........C=1, gamma=1, kernel=rbf;, score=0.761 total time=   0.0s\n",
      "[CV 1/5] END ......C=1, gamma=1, kernel=sigmoid;, score=0.750 total time=   0.0s\n",
      "[CV 2/5] END ......C=1, gamma=1, kernel=sigmoid;, score=0.736 total time=   0.0s\n",
      "[CV 3/5] END ......C=1, gamma=1, kernel=sigmoid;, score=0.739 total time=   0.0s\n",
      "[CV 4/5] END ......C=1, gamma=1, kernel=sigmoid;, score=0.746 total time=   0.0s\n",
      "[CV 5/5] END ......C=1, gamma=1, kernel=sigmoid;, score=0.746 total time=   0.0s\n",
      "[CV 1/5] END .....C=1, gamma=0.1, kernel=linear;, score=0.764 total time=   0.0s\n",
      "[CV 2/5] END .....C=1, gamma=0.1, kernel=linear;, score=0.757 total time=   0.0s\n",
      "[CV 3/5] END .....C=1, gamma=0.1, kernel=linear;, score=0.750 total time=   0.0s\n",
      "[CV 4/5] END .....C=1, gamma=0.1, kernel=linear;, score=0.761 total time=   0.0s\n",
      "[CV 5/5] END .....C=1, gamma=0.1, kernel=linear;, score=0.771 total time=   0.0s\n",
      "[CV 1/5] END .......C=1, gamma=0.1, kernel=poly;, score=0.757 total time=   0.0s\n",
      "[CV 2/5] END .......C=1, gamma=0.1, kernel=poly;, score=0.757 total time=   0.0s\n",
      "[CV 3/5] END .......C=1, gamma=0.1, kernel=poly;, score=0.757 total time=   0.0s\n",
      "[CV 4/5] END .......C=1, gamma=0.1, kernel=poly;, score=0.757 total time=   0.0s\n",
      "[CV 5/5] END .......C=1, gamma=0.1, kernel=poly;, score=0.757 total time=   0.0s\n",
      "[CV 1/5] END ........C=1, gamma=0.1, kernel=rbf;, score=0.757 total time=   0.0s\n",
      "[CV 2/5] END ........C=1, gamma=0.1, kernel=rbf;, score=0.757 total time=   0.0s\n",
      "[CV 3/5] END ........C=1, gamma=0.1, kernel=rbf;, score=0.757 total time=   0.0s\n",
      "[CV 4/5] END ........C=1, gamma=0.1, kernel=rbf;, score=0.757 total time=   0.0s\n",
      "[CV 5/5] END ........C=1, gamma=0.1, kernel=rbf;, score=0.757 total time=   0.0s\n",
      "[CV 1/5] END ....C=1, gamma=0.1, kernel=sigmoid;, score=0.757 total time=   0.0s\n",
      "[CV 2/5] END ....C=1, gamma=0.1, kernel=sigmoid;, score=0.757 total time=   0.0s\n",
      "[CV 3/5] END ....C=1, gamma=0.1, kernel=sigmoid;, score=0.757 total time=   0.0s\n",
      "[CV 4/5] END ....C=1, gamma=0.1, kernel=sigmoid;, score=0.757 total time=   0.0s\n",
      "[CV 5/5] END ....C=1, gamma=0.1, kernel=sigmoid;, score=0.757 total time=   0.0s\n",
      "[CV 1/5] END ....C=1, gamma=0.01, kernel=linear;, score=0.764 total time=   0.0s\n",
      "[CV 2/5] END ....C=1, gamma=0.01, kernel=linear;, score=0.757 total time=   0.0s\n",
      "[CV 3/5] END ....C=1, gamma=0.01, kernel=linear;, score=0.750 total time=   0.0s\n",
      "[CV 4/5] END ....C=1, gamma=0.01, kernel=linear;, score=0.761 total time=   0.0s\n",
      "[CV 5/5] END ....C=1, gamma=0.01, kernel=linear;, score=0.771 total time=   0.0s\n",
      "[CV 1/5] END ......C=1, gamma=0.01, kernel=poly;, score=0.757 total time=   0.0s\n",
      "[CV 2/5] END ......C=1, gamma=0.01, kernel=poly;, score=0.757 total time=   0.0s\n",
      "[CV 3/5] END ......C=1, gamma=0.01, kernel=poly;, score=0.757 total time=   0.0s\n",
      "[CV 4/5] END ......C=1, gamma=0.01, kernel=poly;, score=0.757 total time=   0.0s\n",
      "[CV 5/5] END ......C=1, gamma=0.01, kernel=poly;, score=0.757 total time=   0.0s\n",
      "[CV 1/5] END .......C=1, gamma=0.01, kernel=rbf;, score=0.757 total time=   0.0s\n",
      "[CV 2/5] END .......C=1, gamma=0.01, kernel=rbf;, score=0.757 total time=   0.0s\n",
      "[CV 3/5] END .......C=1, gamma=0.01, kernel=rbf;, score=0.757 total time=   0.0s\n",
      "[CV 4/5] END .......C=1, gamma=0.01, kernel=rbf;, score=0.757 total time=   0.0s\n",
      "[CV 5/5] END .......C=1, gamma=0.01, kernel=rbf;, score=0.757 total time=   0.0s\n",
      "[CV 1/5] END ...C=1, gamma=0.01, kernel=sigmoid;, score=0.757 total time=   0.0s\n",
      "[CV 2/5] END ...C=1, gamma=0.01, kernel=sigmoid;, score=0.757 total time=   0.0s\n",
      "[CV 3/5] END ...C=1, gamma=0.01, kernel=sigmoid;, score=0.757 total time=   0.0s\n",
      "[CV 4/5] END ...C=1, gamma=0.01, kernel=sigmoid;, score=0.757 total time=   0.0s\n",
      "[CV 5/5] END ...C=1, gamma=0.01, kernel=sigmoid;, score=0.757 total time=   0.0s\n",
      "[CV 1/5] END ...C=1, gamma=0.001, kernel=linear;, score=0.764 total time=   0.0s\n",
      "[CV 2/5] END ...C=1, gamma=0.001, kernel=linear;, score=0.757 total time=   0.0s\n",
      "[CV 3/5] END ...C=1, gamma=0.001, kernel=linear;, score=0.750 total time=   0.0s\n",
      "[CV 4/5] END ...C=1, gamma=0.001, kernel=linear;, score=0.761 total time=   0.0s\n",
      "[CV 5/5] END ...C=1, gamma=0.001, kernel=linear;, score=0.771 total time=   0.0s\n",
      "[CV 1/5] END .....C=1, gamma=0.001, kernel=poly;, score=0.757 total time=   0.0s\n",
      "[CV 2/5] END .....C=1, gamma=0.001, kernel=poly;, score=0.757 total time=   0.0s\n",
      "[CV 3/5] END .....C=1, gamma=0.001, kernel=poly;, score=0.757 total time=   0.0s\n",
      "[CV 4/5] END .....C=1, gamma=0.001, kernel=poly;, score=0.757 total time=   0.0s\n",
      "[CV 5/5] END .....C=1, gamma=0.001, kernel=poly;, score=0.757 total time=   0.0s\n",
      "[CV 1/5] END ......C=1, gamma=0.001, kernel=rbf;, score=0.757 total time=   0.0s\n",
      "[CV 2/5] END ......C=1, gamma=0.001, kernel=rbf;, score=0.757 total time=   0.0s\n",
      "[CV 3/5] END ......C=1, gamma=0.001, kernel=rbf;, score=0.757 total time=   0.0s\n",
      "[CV 4/5] END ......C=1, gamma=0.001, kernel=rbf;, score=0.757 total time=   0.0s\n",
      "[CV 5/5] END ......C=1, gamma=0.001, kernel=rbf;, score=0.757 total time=   0.0s\n",
      "[CV 1/5] END ..C=1, gamma=0.001, kernel=sigmoid;, score=0.757 total time=   0.0s\n",
      "[CV 2/5] END ..C=1, gamma=0.001, kernel=sigmoid;, score=0.757 total time=   0.0s\n",
      "[CV 3/5] END ..C=1, gamma=0.001, kernel=sigmoid;, score=0.757 total time=   0.0s\n",
      "[CV 4/5] END ..C=1, gamma=0.001, kernel=sigmoid;, score=0.757 total time=   0.0s\n",
      "[CV 5/5] END ..C=1, gamma=0.001, kernel=sigmoid;, score=0.757 total time=   0.0s\n",
      "[CV 1/5] END ..C=1, gamma=0.0001, kernel=linear;, score=0.764 total time=   0.0s\n",
      "[CV 2/5] END ..C=1, gamma=0.0001, kernel=linear;, score=0.757 total time=   0.0s\n",
      "[CV 3/5] END ..C=1, gamma=0.0001, kernel=linear;, score=0.750 total time=   0.0s\n",
      "[CV 4/5] END ..C=1, gamma=0.0001, kernel=linear;, score=0.761 total time=   0.0s\n",
      "[CV 5/5] END ..C=1, gamma=0.0001, kernel=linear;, score=0.771 total time=   0.0s\n",
      "[CV 1/5] END ....C=1, gamma=0.0001, kernel=poly;, score=0.757 total time=   0.0s\n",
      "[CV 2/5] END ....C=1, gamma=0.0001, kernel=poly;, score=0.757 total time=   0.0s\n",
      "[CV 3/5] END ....C=1, gamma=0.0001, kernel=poly;, score=0.757 total time=   0.0s\n",
      "[CV 4/5] END ....C=1, gamma=0.0001, kernel=poly;, score=0.757 total time=   0.0s\n",
      "[CV 5/5] END ....C=1, gamma=0.0001, kernel=poly;, score=0.757 total time=   0.0s\n",
      "[CV 1/5] END .....C=1, gamma=0.0001, kernel=rbf;, score=0.757 total time=   0.0s\n",
      "[CV 2/5] END .....C=1, gamma=0.0001, kernel=rbf;, score=0.757 total time=   0.0s\n",
      "[CV 3/5] END .....C=1, gamma=0.0001, kernel=rbf;, score=0.757 total time=   0.0s\n",
      "[CV 4/5] END .....C=1, gamma=0.0001, kernel=rbf;, score=0.757 total time=   0.0s\n",
      "[CV 5/5] END .....C=1, gamma=0.0001, kernel=rbf;, score=0.757 total time=   0.0s\n",
      "[CV 1/5] END .C=1, gamma=0.0001, kernel=sigmoid;, score=0.757 total time=   0.0s\n",
      "[CV 2/5] END .C=1, gamma=0.0001, kernel=sigmoid;, score=0.757 total time=   0.0s\n",
      "[CV 3/5] END .C=1, gamma=0.0001, kernel=sigmoid;, score=0.757 total time=   0.0s\n",
      "[CV 4/5] END .C=1, gamma=0.0001, kernel=sigmoid;, score=0.757 total time=   0.0s\n",
      "[CV 5/5] END .C=1, gamma=0.0001, kernel=sigmoid;, score=0.757 total time=   0.0s\n",
      "[CV 1/5] END ......C=10, gamma=1, kernel=linear;, score=0.754 total time=   0.0s\n",
      "[CV 2/5] END ......C=10, gamma=1, kernel=linear;, score=0.729 total time=   0.0s\n",
      "[CV 3/5] END ......C=10, gamma=1, kernel=linear;, score=0.764 total time=   0.0s\n",
      "[CV 4/5] END ......C=10, gamma=1, kernel=linear;, score=0.736 total time=   0.0s\n",
      "[CV 5/5] END ......C=10, gamma=1, kernel=linear;, score=0.746 total time=   0.0s\n",
      "[CV 1/5] END ........C=10, gamma=1, kernel=poly;, score=0.721 total time=   0.0s\n"
     ]
    },
    {
     "name": "stdout",
     "output_type": "stream",
     "text": [
      "[CV 2/5] END ........C=10, gamma=1, kernel=poly;, score=0.736 total time=   0.0s\n",
      "[CV 3/5] END ........C=10, gamma=1, kernel=poly;, score=0.739 total time=   0.0s\n",
      "[CV 4/5] END ........C=10, gamma=1, kernel=poly;, score=0.725 total time=   0.0s\n",
      "[CV 5/5] END ........C=10, gamma=1, kernel=poly;, score=0.732 total time=   0.0s\n",
      "[CV 1/5] END .........C=10, gamma=1, kernel=rbf;, score=0.750 total time=   0.0s\n",
      "[CV 2/5] END .........C=10, gamma=1, kernel=rbf;, score=0.750 total time=   0.0s\n",
      "[CV 3/5] END .........C=10, gamma=1, kernel=rbf;, score=0.746 total time=   0.0s\n",
      "[CV 4/5] END .........C=10, gamma=1, kernel=rbf;, score=0.768 total time=   0.0s\n",
      "[CV 5/5] END .........C=10, gamma=1, kernel=rbf;, score=0.736 total time=   0.0s\n",
      "[CV 1/5] END .....C=10, gamma=1, kernel=sigmoid;, score=0.668 total time=   0.0s\n",
      "[CV 2/5] END .....C=10, gamma=1, kernel=sigmoid;, score=0.621 total time=   0.0s\n",
      "[CV 3/5] END .....C=10, gamma=1, kernel=sigmoid;, score=0.682 total time=   0.0s\n",
      "[CV 4/5] END .....C=10, gamma=1, kernel=sigmoid;, score=0.654 total time=   0.0s\n",
      "[CV 5/5] END .....C=10, gamma=1, kernel=sigmoid;, score=0.632 total time=   0.0s\n",
      "[CV 1/5] END ....C=10, gamma=0.1, kernel=linear;, score=0.754 total time=   0.0s\n",
      "[CV 2/5] END ....C=10, gamma=0.1, kernel=linear;, score=0.729 total time=   0.0s\n",
      "[CV 3/5] END ....C=10, gamma=0.1, kernel=linear;, score=0.764 total time=   0.0s\n",
      "[CV 4/5] END ....C=10, gamma=0.1, kernel=linear;, score=0.736 total time=   0.0s\n",
      "[CV 5/5] END ....C=10, gamma=0.1, kernel=linear;, score=0.746 total time=   0.0s\n",
      "[CV 1/5] END ......C=10, gamma=0.1, kernel=poly;, score=0.757 total time=   0.0s\n",
      "[CV 2/5] END ......C=10, gamma=0.1, kernel=poly;, score=0.757 total time=   0.0s\n",
      "[CV 3/5] END ......C=10, gamma=0.1, kernel=poly;, score=0.757 total time=   0.0s\n",
      "[CV 4/5] END ......C=10, gamma=0.1, kernel=poly;, score=0.757 total time=   0.0s\n",
      "[CV 5/5] END ......C=10, gamma=0.1, kernel=poly;, score=0.757 total time=   0.0s\n",
      "[CV 1/5] END .......C=10, gamma=0.1, kernel=rbf;, score=0.761 total time=   0.0s\n",
      "[CV 2/5] END .......C=10, gamma=0.1, kernel=rbf;, score=0.746 total time=   0.0s\n",
      "[CV 3/5] END .......C=10, gamma=0.1, kernel=rbf;, score=0.771 total time=   0.0s\n",
      "[CV 4/5] END .......C=10, gamma=0.1, kernel=rbf;, score=0.764 total time=   0.0s\n",
      "[CV 5/5] END .......C=10, gamma=0.1, kernel=rbf;, score=0.771 total time=   0.0s\n",
      "[CV 1/5] END ...C=10, gamma=0.1, kernel=sigmoid;, score=0.764 total time=   0.0s\n",
      "[CV 2/5] END ...C=10, gamma=0.1, kernel=sigmoid;, score=0.757 total time=   0.0s\n",
      "[CV 3/5] END ...C=10, gamma=0.1, kernel=sigmoid;, score=0.757 total time=   0.0s\n",
      "[CV 4/5] END ...C=10, gamma=0.1, kernel=sigmoid;, score=0.761 total time=   0.0s\n",
      "[CV 5/5] END ...C=10, gamma=0.1, kernel=sigmoid;, score=0.771 total time=   0.0s\n",
      "[CV 1/5] END ...C=10, gamma=0.01, kernel=linear;, score=0.754 total time=   0.0s\n",
      "[CV 2/5] END ...C=10, gamma=0.01, kernel=linear;, score=0.729 total time=   0.0s\n",
      "[CV 3/5] END ...C=10, gamma=0.01, kernel=linear;, score=0.764 total time=   0.0s\n",
      "[CV 4/5] END ...C=10, gamma=0.01, kernel=linear;, score=0.736 total time=   0.0s\n",
      "[CV 5/5] END ...C=10, gamma=0.01, kernel=linear;, score=0.746 total time=   0.0s\n",
      "[CV 1/5] END .....C=10, gamma=0.01, kernel=poly;, score=0.757 total time=   0.0s\n",
      "[CV 2/5] END .....C=10, gamma=0.01, kernel=poly;, score=0.757 total time=   0.0s\n",
      "[CV 3/5] END .....C=10, gamma=0.01, kernel=poly;, score=0.757 total time=   0.0s\n",
      "[CV 4/5] END .....C=10, gamma=0.01, kernel=poly;, score=0.757 total time=   0.0s\n",
      "[CV 5/5] END .....C=10, gamma=0.01, kernel=poly;, score=0.757 total time=   0.0s\n",
      "[CV 1/5] END ......C=10, gamma=0.01, kernel=rbf;, score=0.757 total time=   0.0s\n",
      "[CV 2/5] END ......C=10, gamma=0.01, kernel=rbf;, score=0.757 total time=   0.0s\n",
      "[CV 3/5] END ......C=10, gamma=0.01, kernel=rbf;, score=0.757 total time=   0.0s\n",
      "[CV 4/5] END ......C=10, gamma=0.01, kernel=rbf;, score=0.757 total time=   0.0s\n",
      "[CV 5/5] END ......C=10, gamma=0.01, kernel=rbf;, score=0.757 total time=   0.0s\n",
      "[CV 1/5] END ..C=10, gamma=0.01, kernel=sigmoid;, score=0.757 total time=   0.0s\n",
      "[CV 2/5] END ..C=10, gamma=0.01, kernel=sigmoid;, score=0.757 total time=   0.0s\n",
      "[CV 3/5] END ..C=10, gamma=0.01, kernel=sigmoid;, score=0.757 total time=   0.0s\n",
      "[CV 4/5] END ..C=10, gamma=0.01, kernel=sigmoid;, score=0.757 total time=   0.0s\n",
      "[CV 5/5] END ..C=10, gamma=0.01, kernel=sigmoid;, score=0.757 total time=   0.0s\n",
      "[CV 1/5] END ..C=10, gamma=0.001, kernel=linear;, score=0.754 total time=   0.0s\n",
      "[CV 2/5] END ..C=10, gamma=0.001, kernel=linear;, score=0.729 total time=   0.0s\n",
      "[CV 3/5] END ..C=10, gamma=0.001, kernel=linear;, score=0.764 total time=   0.0s\n",
      "[CV 4/5] END ..C=10, gamma=0.001, kernel=linear;, score=0.736 total time=   0.0s\n",
      "[CV 5/5] END ..C=10, gamma=0.001, kernel=linear;, score=0.746 total time=   0.0s\n",
      "[CV 1/5] END ....C=10, gamma=0.001, kernel=poly;, score=0.757 total time=   0.0s\n",
      "[CV 2/5] END ....C=10, gamma=0.001, kernel=poly;, score=0.757 total time=   0.0s\n",
      "[CV 3/5] END ....C=10, gamma=0.001, kernel=poly;, score=0.757 total time=   0.0s\n",
      "[CV 4/5] END ....C=10, gamma=0.001, kernel=poly;, score=0.757 total time=   0.0s\n",
      "[CV 5/5] END ....C=10, gamma=0.001, kernel=poly;, score=0.757 total time=   0.0s\n",
      "[CV 1/5] END .....C=10, gamma=0.001, kernel=rbf;, score=0.757 total time=   0.0s\n",
      "[CV 2/5] END .....C=10, gamma=0.001, kernel=rbf;, score=0.757 total time=   0.0s\n",
      "[CV 3/5] END .....C=10, gamma=0.001, kernel=rbf;, score=0.757 total time=   0.0s\n",
      "[CV 4/5] END .....C=10, gamma=0.001, kernel=rbf;, score=0.757 total time=   0.0s\n",
      "[CV 5/5] END .....C=10, gamma=0.001, kernel=rbf;, score=0.757 total time=   0.0s\n",
      "[CV 1/5] END .C=10, gamma=0.001, kernel=sigmoid;, score=0.757 total time=   0.0s\n",
      "[CV 2/5] END .C=10, gamma=0.001, kernel=sigmoid;, score=0.757 total time=   0.0s\n",
      "[CV 3/5] END .C=10, gamma=0.001, kernel=sigmoid;, score=0.757 total time=   0.0s\n",
      "[CV 4/5] END .C=10, gamma=0.001, kernel=sigmoid;, score=0.757 total time=   0.0s\n",
      "[CV 5/5] END .C=10, gamma=0.001, kernel=sigmoid;, score=0.757 total time=   0.0s\n",
      "[CV 1/5] END .C=10, gamma=0.0001, kernel=linear;, score=0.754 total time=   0.0s\n",
      "[CV 2/5] END .C=10, gamma=0.0001, kernel=linear;, score=0.729 total time=   0.0s\n",
      "[CV 3/5] END .C=10, gamma=0.0001, kernel=linear;, score=0.764 total time=   0.0s\n",
      "[CV 4/5] END .C=10, gamma=0.0001, kernel=linear;, score=0.736 total time=   0.0s\n",
      "[CV 5/5] END .C=10, gamma=0.0001, kernel=linear;, score=0.746 total time=   0.0s\n",
      "[CV 1/5] END ...C=10, gamma=0.0001, kernel=poly;, score=0.757 total time=   0.0s\n",
      "[CV 2/5] END ...C=10, gamma=0.0001, kernel=poly;, score=0.757 total time=   0.0s\n",
      "[CV 3/5] END ...C=10, gamma=0.0001, kernel=poly;, score=0.757 total time=   0.0s\n",
      "[CV 4/5] END ...C=10, gamma=0.0001, kernel=poly;, score=0.757 total time=   0.0s\n",
      "[CV 5/5] END ...C=10, gamma=0.0001, kernel=poly;, score=0.757 total time=   0.0s\n",
      "[CV 1/5] END ....C=10, gamma=0.0001, kernel=rbf;, score=0.757 total time=   0.0s\n",
      "[CV 2/5] END ....C=10, gamma=0.0001, kernel=rbf;, score=0.757 total time=   0.0s\n",
      "[CV 3/5] END ....C=10, gamma=0.0001, kernel=rbf;, score=0.757 total time=   0.0s\n",
      "[CV 4/5] END ....C=10, gamma=0.0001, kernel=rbf;, score=0.757 total time=   0.0s\n",
      "[CV 5/5] END ....C=10, gamma=0.0001, kernel=rbf;, score=0.757 total time=   0.0s\n",
      "[CV 1/5] END C=10, gamma=0.0001, kernel=sigmoid;, score=0.757 total time=   0.0s\n",
      "[CV 2/5] END C=10, gamma=0.0001, kernel=sigmoid;, score=0.757 total time=   0.0s\n",
      "[CV 3/5] END C=10, gamma=0.0001, kernel=sigmoid;, score=0.757 total time=   0.0s\n",
      "[CV 4/5] END C=10, gamma=0.0001, kernel=sigmoid;, score=0.757 total time=   0.0s\n",
      "[CV 5/5] END C=10, gamma=0.0001, kernel=sigmoid;, score=0.757 total time=   0.0s\n",
      "[CV 1/5] END .....C=100, gamma=1, kernel=linear;, score=0.729 total time=   0.3s\n",
      "[CV 2/5] END .....C=100, gamma=1, kernel=linear;, score=0.718 total time=   0.1s\n",
      "[CV 3/5] END .....C=100, gamma=1, kernel=linear;, score=0.743 total time=   0.3s\n",
      "[CV 4/5] END .....C=100, gamma=1, kernel=linear;, score=0.696 total time=   0.2s\n",
      "[CV 5/5] END .....C=100, gamma=1, kernel=linear;, score=0.729 total time=   0.2s\n",
      "[CV 1/5] END .......C=100, gamma=1, kernel=poly;, score=0.711 total time=   0.0s\n",
      "[CV 2/5] END .......C=100, gamma=1, kernel=poly;, score=0.700 total time=   0.0s\n",
      "[CV 3/5] END .......C=100, gamma=1, kernel=poly;, score=0.736 total time=   0.0s\n"
     ]
    },
    {
     "name": "stdout",
     "output_type": "stream",
     "text": [
      "[CV 4/5] END .......C=100, gamma=1, kernel=poly;, score=0.721 total time=   0.0s\n",
      "[CV 5/5] END .......C=100, gamma=1, kernel=poly;, score=0.725 total time=   0.0s\n",
      "[CV 1/5] END ........C=100, gamma=1, kernel=rbf;, score=0.718 total time=   0.0s\n",
      "[CV 2/5] END ........C=100, gamma=1, kernel=rbf;, score=0.711 total time=   0.0s\n",
      "[CV 3/5] END ........C=100, gamma=1, kernel=rbf;, score=0.761 total time=   0.0s\n",
      "[CV 4/5] END ........C=100, gamma=1, kernel=rbf;, score=0.721 total time=   0.0s\n",
      "[CV 5/5] END ........C=100, gamma=1, kernel=rbf;, score=0.732 total time=   0.0s\n",
      "[CV 1/5] END ....C=100, gamma=1, kernel=sigmoid;, score=0.646 total time=   0.0s\n",
      "[CV 2/5] END ....C=100, gamma=1, kernel=sigmoid;, score=0.618 total time=   0.0s\n",
      "[CV 3/5] END ....C=100, gamma=1, kernel=sigmoid;, score=0.671 total time=   0.0s\n",
      "[CV 4/5] END ....C=100, gamma=1, kernel=sigmoid;, score=0.657 total time=   0.0s\n",
      "[CV 5/5] END ....C=100, gamma=1, kernel=sigmoid;, score=0.625 total time=   0.0s\n",
      "[CV 1/5] END ...C=100, gamma=0.1, kernel=linear;, score=0.729 total time=   0.2s\n",
      "[CV 2/5] END ...C=100, gamma=0.1, kernel=linear;, score=0.718 total time=   0.1s\n",
      "[CV 3/5] END ...C=100, gamma=0.1, kernel=linear;, score=0.743 total time=   0.3s\n",
      "[CV 4/5] END ...C=100, gamma=0.1, kernel=linear;, score=0.696 total time=   0.2s\n",
      "[CV 5/5] END ...C=100, gamma=0.1, kernel=linear;, score=0.729 total time=   0.1s\n",
      "[CV 1/5] END .....C=100, gamma=0.1, kernel=poly;, score=0.761 total time=   0.0s\n",
      "[CV 2/5] END .....C=100, gamma=0.1, kernel=poly;, score=0.757 total time=   0.0s\n",
      "[CV 3/5] END .....C=100, gamma=0.1, kernel=poly;, score=0.754 total time=   0.0s\n",
      "[CV 4/5] END .....C=100, gamma=0.1, kernel=poly;, score=0.761 total time=   0.0s\n",
      "[CV 5/5] END .....C=100, gamma=0.1, kernel=poly;, score=0.761 total time=   0.0s\n",
      "[CV 1/5] END ......C=100, gamma=0.1, kernel=rbf;, score=0.757 total time=   0.0s\n",
      "[CV 2/5] END ......C=100, gamma=0.1, kernel=rbf;, score=0.732 total time=   0.0s\n",
      "[CV 3/5] END ......C=100, gamma=0.1, kernel=rbf;, score=0.779 total time=   0.0s\n",
      "[CV 4/5] END ......C=100, gamma=0.1, kernel=rbf;, score=0.757 total time=   0.0s\n",
      "[CV 5/5] END ......C=100, gamma=0.1, kernel=rbf;, score=0.754 total time=   0.0s\n",
      "[CV 1/5] END ..C=100, gamma=0.1, kernel=sigmoid;, score=0.761 total time=   0.0s\n",
      "[CV 2/5] END ..C=100, gamma=0.1, kernel=sigmoid;, score=0.732 total time=   0.0s\n",
      "[CV 3/5] END ..C=100, gamma=0.1, kernel=sigmoid;, score=0.775 total time=   0.0s\n",
      "[CV 4/5] END ..C=100, gamma=0.1, kernel=sigmoid;, score=0.754 total time=   0.0s\n",
      "[CV 5/5] END ..C=100, gamma=0.1, kernel=sigmoid;, score=0.736 total time=   0.0s\n",
      "[CV 1/5] END ..C=100, gamma=0.01, kernel=linear;, score=0.729 total time=   0.2s\n",
      "[CV 2/5] END ..C=100, gamma=0.01, kernel=linear;, score=0.718 total time=   0.1s\n",
      "[CV 3/5] END ..C=100, gamma=0.01, kernel=linear;, score=0.743 total time=   0.3s\n",
      "[CV 4/5] END ..C=100, gamma=0.01, kernel=linear;, score=0.696 total time=   0.2s\n",
      "[CV 5/5] END ..C=100, gamma=0.01, kernel=linear;, score=0.729 total time=   0.1s\n",
      "[CV 1/5] END ....C=100, gamma=0.01, kernel=poly;, score=0.757 total time=   0.0s\n",
      "[CV 2/5] END ....C=100, gamma=0.01, kernel=poly;, score=0.757 total time=   0.0s\n",
      "[CV 3/5] END ....C=100, gamma=0.01, kernel=poly;, score=0.757 total time=   0.0s\n",
      "[CV 4/5] END ....C=100, gamma=0.01, kernel=poly;, score=0.757 total time=   0.0s\n",
      "[CV 5/5] END ....C=100, gamma=0.01, kernel=poly;, score=0.757 total time=   0.0s\n",
      "[CV 1/5] END .....C=100, gamma=0.01, kernel=rbf;, score=0.757 total time=   0.0s\n",
      "[CV 2/5] END .....C=100, gamma=0.01, kernel=rbf;, score=0.746 total time=   0.0s\n",
      "[CV 3/5] END .....C=100, gamma=0.01, kernel=rbf;, score=0.768 total time=   0.0s\n",
      "[CV 4/5] END .....C=100, gamma=0.01, kernel=rbf;, score=0.761 total time=   0.0s\n",
      "[CV 5/5] END .....C=100, gamma=0.01, kernel=rbf;, score=0.771 total time=   0.0s\n",
      "[CV 1/5] END .C=100, gamma=0.01, kernel=sigmoid;, score=0.764 total time=   0.0s\n",
      "[CV 2/5] END .C=100, gamma=0.01, kernel=sigmoid;, score=0.757 total time=   0.0s\n",
      "[CV 3/5] END .C=100, gamma=0.01, kernel=sigmoid;, score=0.750 total time=   0.0s\n",
      "[CV 4/5] END .C=100, gamma=0.01, kernel=sigmoid;, score=0.761 total time=   0.0s\n",
      "[CV 5/5] END .C=100, gamma=0.01, kernel=sigmoid;, score=0.771 total time=   0.0s\n",
      "[CV 1/5] END .C=100, gamma=0.001, kernel=linear;, score=0.729 total time=   0.2s\n",
      "[CV 2/5] END .C=100, gamma=0.001, kernel=linear;, score=0.718 total time=   0.1s\n",
      "[CV 3/5] END .C=100, gamma=0.001, kernel=linear;, score=0.743 total time=   0.3s\n",
      "[CV 4/5] END .C=100, gamma=0.001, kernel=linear;, score=0.696 total time=   0.2s\n",
      "[CV 5/5] END .C=100, gamma=0.001, kernel=linear;, score=0.729 total time=   0.1s\n",
      "[CV 1/5] END ...C=100, gamma=0.001, kernel=poly;, score=0.757 total time=   0.0s\n",
      "[CV 2/5] END ...C=100, gamma=0.001, kernel=poly;, score=0.757 total time=   0.0s\n",
      "[CV 3/5] END ...C=100, gamma=0.001, kernel=poly;, score=0.757 total time=   0.0s\n",
      "[CV 4/5] END ...C=100, gamma=0.001, kernel=poly;, score=0.757 total time=   0.0s\n",
      "[CV 5/5] END ...C=100, gamma=0.001, kernel=poly;, score=0.757 total time=   0.0s\n",
      "[CV 1/5] END ....C=100, gamma=0.001, kernel=rbf;, score=0.757 total time=   0.0s\n",
      "[CV 2/5] END ....C=100, gamma=0.001, kernel=rbf;, score=0.757 total time=   0.0s\n",
      "[CV 3/5] END ....C=100, gamma=0.001, kernel=rbf;, score=0.757 total time=   0.0s\n",
      "[CV 4/5] END ....C=100, gamma=0.001, kernel=rbf;, score=0.757 total time=   0.0s\n",
      "[CV 5/5] END ....C=100, gamma=0.001, kernel=rbf;, score=0.757 total time=   0.0s\n",
      "[CV 1/5] END C=100, gamma=0.001, kernel=sigmoid;, score=0.757 total time=   0.0s\n",
      "[CV 2/5] END C=100, gamma=0.001, kernel=sigmoid;, score=0.757 total time=   0.0s\n",
      "[CV 3/5] END C=100, gamma=0.001, kernel=sigmoid;, score=0.757 total time=   0.0s\n",
      "[CV 4/5] END C=100, gamma=0.001, kernel=sigmoid;, score=0.757 total time=   0.0s\n",
      "[CV 5/5] END C=100, gamma=0.001, kernel=sigmoid;, score=0.757 total time=   0.0s\n",
      "[CV 1/5] END C=100, gamma=0.0001, kernel=linear;, score=0.729 total time=   0.2s\n",
      "[CV 2/5] END C=100, gamma=0.0001, kernel=linear;, score=0.718 total time=   0.1s\n",
      "[CV 3/5] END C=100, gamma=0.0001, kernel=linear;, score=0.743 total time=   0.3s\n",
      "[CV 4/5] END C=100, gamma=0.0001, kernel=linear;, score=0.696 total time=   0.2s\n",
      "[CV 5/5] END C=100, gamma=0.0001, kernel=linear;, score=0.729 total time=   0.1s\n",
      "[CV 1/5] END ..C=100, gamma=0.0001, kernel=poly;, score=0.757 total time=   0.0s\n",
      "[CV 2/5] END ..C=100, gamma=0.0001, kernel=poly;, score=0.757 total time=   0.0s\n",
      "[CV 3/5] END ..C=100, gamma=0.0001, kernel=poly;, score=0.757 total time=   0.0s\n",
      "[CV 4/5] END ..C=100, gamma=0.0001, kernel=poly;, score=0.757 total time=   0.0s\n",
      "[CV 5/5] END ..C=100, gamma=0.0001, kernel=poly;, score=0.757 total time=   0.0s\n",
      "[CV 1/5] END ...C=100, gamma=0.0001, kernel=rbf;, score=0.757 total time=   0.0s\n",
      "[CV 2/5] END ...C=100, gamma=0.0001, kernel=rbf;, score=0.757 total time=   0.0s\n",
      "[CV 3/5] END ...C=100, gamma=0.0001, kernel=rbf;, score=0.757 total time=   0.0s\n",
      "[CV 4/5] END ...C=100, gamma=0.0001, kernel=rbf;, score=0.757 total time=   0.0s\n",
      "[CV 5/5] END ...C=100, gamma=0.0001, kernel=rbf;, score=0.757 total time=   0.0s\n",
      "[CV 1/5] END C=100, gamma=0.0001, kernel=sigmoid;, score=0.757 total time=   0.0s\n",
      "[CV 2/5] END C=100, gamma=0.0001, kernel=sigmoid;, score=0.757 total time=   0.0s\n",
      "[CV 3/5] END C=100, gamma=0.0001, kernel=sigmoid;, score=0.757 total time=   0.0s\n",
      "[CV 4/5] END C=100, gamma=0.0001, kernel=sigmoid;, score=0.757 total time=   0.0s\n",
      "[CV 5/5] END C=100, gamma=0.0001, kernel=sigmoid;, score=0.757 total time=   0.0s\n",
      "[CV 1/5] END ....C=1000, gamma=1, kernel=linear;, score=0.718 total time=   2.3s\n",
      "[CV 2/5] END ....C=1000, gamma=1, kernel=linear;, score=0.682 total time=   1.9s\n",
      "[CV 3/5] END ....C=1000, gamma=1, kernel=linear;, score=0.711 total time=   4.5s\n",
      "[CV 4/5] END ....C=1000, gamma=1, kernel=linear;, score=0.693 total time=   2.5s\n",
      "[CV 5/5] END ....C=1000, gamma=1, kernel=linear;, score=0.682 total time=   2.3s\n",
      "[CV 1/5] END ......C=1000, gamma=1, kernel=poly;, score=0.711 total time=   0.0s\n",
      "[CV 2/5] END ......C=1000, gamma=1, kernel=poly;, score=0.700 total time=   0.0s\n",
      "[CV 3/5] END ......C=1000, gamma=1, kernel=poly;, score=0.736 total time=   0.0s\n",
      "[CV 4/5] END ......C=1000, gamma=1, kernel=poly;, score=0.721 total time=   0.0s\n",
      "[CV 5/5] END ......C=1000, gamma=1, kernel=poly;, score=0.725 total time=   0.0s\n",
      "[CV 1/5] END .......C=1000, gamma=1, kernel=rbf;, score=0.718 total time=   0.0s\n"
     ]
    },
    {
     "name": "stdout",
     "output_type": "stream",
     "text": [
      "[CV 2/5] END .......C=1000, gamma=1, kernel=rbf;, score=0.711 total time=   0.0s\n",
      "[CV 3/5] END .......C=1000, gamma=1, kernel=rbf;, score=0.761 total time=   0.0s\n",
      "[CV 4/5] END .......C=1000, gamma=1, kernel=rbf;, score=0.721 total time=   0.0s\n",
      "[CV 5/5] END .......C=1000, gamma=1, kernel=rbf;, score=0.732 total time=   0.0s\n",
      "[CV 1/5] END ...C=1000, gamma=1, kernel=sigmoid;, score=0.657 total time=   0.0s\n",
      "[CV 2/5] END ...C=1000, gamma=1, kernel=sigmoid;, score=0.614 total time=   0.0s\n",
      "[CV 3/5] END ...C=1000, gamma=1, kernel=sigmoid;, score=0.675 total time=   0.0s\n",
      "[CV 4/5] END ...C=1000, gamma=1, kernel=sigmoid;, score=0.657 total time=   0.0s\n",
      "[CV 5/5] END ...C=1000, gamma=1, kernel=sigmoid;, score=0.629 total time=   0.0s\n",
      "[CV 1/5] END ..C=1000, gamma=0.1, kernel=linear;, score=0.718 total time=   2.3s\n",
      "[CV 2/5] END ..C=1000, gamma=0.1, kernel=linear;, score=0.682 total time=   1.9s\n",
      "[CV 3/5] END ..C=1000, gamma=0.1, kernel=linear;, score=0.711 total time=   4.5s\n",
      "[CV 4/5] END ..C=1000, gamma=0.1, kernel=linear;, score=0.693 total time=   2.5s\n",
      "[CV 5/5] END ..C=1000, gamma=0.1, kernel=linear;, score=0.682 total time=   2.3s\n",
      "[CV 1/5] END ....C=1000, gamma=0.1, kernel=poly;, score=0.761 total time=   0.0s\n",
      "[CV 2/5] END ....C=1000, gamma=0.1, kernel=poly;, score=0.736 total time=   0.0s\n",
      "[CV 3/5] END ....C=1000, gamma=0.1, kernel=poly;, score=0.782 total time=   0.0s\n",
      "[CV 4/5] END ....C=1000, gamma=0.1, kernel=poly;, score=0.761 total time=   0.0s\n",
      "[CV 5/5] END ....C=1000, gamma=0.1, kernel=poly;, score=0.771 total time=   0.0s\n",
      "[CV 1/5] END .....C=1000, gamma=0.1, kernel=rbf;, score=0.714 total time=   0.0s\n",
      "[CV 2/5] END .....C=1000, gamma=0.1, kernel=rbf;, score=0.682 total time=   0.0s\n",
      "[CV 3/5] END .....C=1000, gamma=0.1, kernel=rbf;, score=0.743 total time=   0.1s\n",
      "[CV 4/5] END .....C=1000, gamma=0.1, kernel=rbf;, score=0.725 total time=   0.0s\n",
      "[CV 5/5] END .....C=1000, gamma=0.1, kernel=rbf;, score=0.718 total time=   0.0s\n",
      "[CV 1/5] END .C=1000, gamma=0.1, kernel=sigmoid;, score=0.700 total time=   0.1s\n",
      "[CV 2/5] END .C=1000, gamma=0.1, kernel=sigmoid;, score=0.700 total time=   0.1s\n",
      "[CV 3/5] END .C=1000, gamma=0.1, kernel=sigmoid;, score=0.689 total time=   0.1s\n",
      "[CV 4/5] END .C=1000, gamma=0.1, kernel=sigmoid;, score=0.654 total time=   0.0s\n",
      "[CV 5/5] END .C=1000, gamma=0.1, kernel=sigmoid;, score=0.671 total time=   0.2s\n",
      "[CV 1/5] END .C=1000, gamma=0.01, kernel=linear;, score=0.718 total time=   2.3s\n",
      "[CV 2/5] END .C=1000, gamma=0.01, kernel=linear;, score=0.682 total time=   2.0s\n",
      "[CV 3/5] END .C=1000, gamma=0.01, kernel=linear;, score=0.711 total time=   4.6s\n",
      "[CV 4/5] END .C=1000, gamma=0.01, kernel=linear;, score=0.693 total time=   2.5s\n",
      "[CV 5/5] END .C=1000, gamma=0.01, kernel=linear;, score=0.682 total time=   2.4s\n",
      "[CV 1/5] END ...C=1000, gamma=0.01, kernel=poly;, score=0.757 total time=   0.0s\n",
      "[CV 2/5] END ...C=1000, gamma=0.01, kernel=poly;, score=0.757 total time=   0.0s\n",
      "[CV 3/5] END ...C=1000, gamma=0.01, kernel=poly;, score=0.757 total time=   0.0s\n",
      "[CV 4/5] END ...C=1000, gamma=0.01, kernel=poly;, score=0.757 total time=   0.0s\n",
      "[CV 5/5] END ...C=1000, gamma=0.01, kernel=poly;, score=0.757 total time=   0.0s\n",
      "[CV 1/5] END ....C=1000, gamma=0.01, kernel=rbf;, score=0.750 total time=   0.0s\n",
      "[CV 2/5] END ....C=1000, gamma=0.01, kernel=rbf;, score=0.739 total time=   0.0s\n",
      "[CV 3/5] END ....C=1000, gamma=0.01, kernel=rbf;, score=0.786 total time=   0.0s\n",
      "[CV 4/5] END ....C=1000, gamma=0.01, kernel=rbf;, score=0.743 total time=   0.0s\n",
      "[CV 5/5] END ....C=1000, gamma=0.01, kernel=rbf;, score=0.743 total time=   0.0s\n",
      "[CV 1/5] END C=1000, gamma=0.01, kernel=sigmoid;, score=0.754 total time=   0.0s\n",
      "[CV 2/5] END C=1000, gamma=0.01, kernel=sigmoid;, score=0.721 total time=   0.0s\n",
      "[CV 3/5] END C=1000, gamma=0.01, kernel=sigmoid;, score=0.764 total time=   0.0s\n",
      "[CV 4/5] END C=1000, gamma=0.01, kernel=sigmoid;, score=0.736 total time=   0.0s\n",
      "[CV 5/5] END C=1000, gamma=0.01, kernel=sigmoid;, score=0.746 total time=   0.0s\n",
      "[CV 1/5] END C=1000, gamma=0.001, kernel=linear;, score=0.718 total time=   2.3s\n",
      "[CV 2/5] END C=1000, gamma=0.001, kernel=linear;, score=0.682 total time=   1.9s\n",
      "[CV 3/5] END C=1000, gamma=0.001, kernel=linear;, score=0.711 total time=   4.5s\n",
      "[CV 4/5] END C=1000, gamma=0.001, kernel=linear;, score=0.693 total time=   2.6s\n",
      "[CV 5/5] END C=1000, gamma=0.001, kernel=linear;, score=0.682 total time=   2.3s\n",
      "[CV 1/5] END ..C=1000, gamma=0.001, kernel=poly;, score=0.757 total time=   0.0s\n",
      "[CV 2/5] END ..C=1000, gamma=0.001, kernel=poly;, score=0.757 total time=   0.0s\n",
      "[CV 3/5] END ..C=1000, gamma=0.001, kernel=poly;, score=0.757 total time=   0.0s\n",
      "[CV 4/5] END ..C=1000, gamma=0.001, kernel=poly;, score=0.757 total time=   0.0s\n",
      "[CV 5/5] END ..C=1000, gamma=0.001, kernel=poly;, score=0.757 total time=   0.0s\n",
      "[CV 1/5] END ...C=1000, gamma=0.001, kernel=rbf;, score=0.754 total time=   0.0s\n",
      "[CV 2/5] END ...C=1000, gamma=0.001, kernel=rbf;, score=0.739 total time=   0.0s\n",
      "[CV 3/5] END ...C=1000, gamma=0.001, kernel=rbf;, score=0.761 total time=   0.0s\n",
      "[CV 4/5] END ...C=1000, gamma=0.001, kernel=rbf;, score=0.761 total time=   0.0s\n",
      "[CV 5/5] END ...C=1000, gamma=0.001, kernel=rbf;, score=0.775 total time=   0.0s\n",
      "[CV 1/5] END C=1000, gamma=0.001, kernel=sigmoid;, score=0.764 total time=   0.0s\n",
      "[CV 2/5] END C=1000, gamma=0.001, kernel=sigmoid;, score=0.757 total time=   0.0s\n",
      "[CV 3/5] END C=1000, gamma=0.001, kernel=sigmoid;, score=0.750 total time=   0.0s\n",
      "[CV 4/5] END C=1000, gamma=0.001, kernel=sigmoid;, score=0.761 total time=   0.0s\n",
      "[CV 5/5] END C=1000, gamma=0.001, kernel=sigmoid;, score=0.771 total time=   0.0s\n",
      "[CV 1/5] END C=1000, gamma=0.0001, kernel=linear;, score=0.718 total time=   2.2s\n",
      "[CV 2/5] END C=1000, gamma=0.0001, kernel=linear;, score=0.682 total time=   1.9s\n",
      "[CV 3/5] END C=1000, gamma=0.0001, kernel=linear;, score=0.711 total time=   4.6s\n",
      "[CV 4/5] END C=1000, gamma=0.0001, kernel=linear;, score=0.693 total time=   2.5s\n",
      "[CV 5/5] END C=1000, gamma=0.0001, kernel=linear;, score=0.682 total time=   2.3s\n",
      "[CV 1/5] END .C=1000, gamma=0.0001, kernel=poly;, score=0.757 total time=   0.0s\n",
      "[CV 2/5] END .C=1000, gamma=0.0001, kernel=poly;, score=0.757 total time=   0.0s\n",
      "[CV 3/5] END .C=1000, gamma=0.0001, kernel=poly;, score=0.757 total time=   0.0s\n",
      "[CV 4/5] END .C=1000, gamma=0.0001, kernel=poly;, score=0.757 total time=   0.0s\n",
      "[CV 5/5] END .C=1000, gamma=0.0001, kernel=poly;, score=0.757 total time=   0.0s\n",
      "[CV 1/5] END ..C=1000, gamma=0.0001, kernel=rbf;, score=0.757 total time=   0.0s\n",
      "[CV 2/5] END ..C=1000, gamma=0.0001, kernel=rbf;, score=0.757 total time=   0.0s\n",
      "[CV 3/5] END ..C=1000, gamma=0.0001, kernel=rbf;, score=0.757 total time=   0.0s\n",
      "[CV 4/5] END ..C=1000, gamma=0.0001, kernel=rbf;, score=0.757 total time=   0.0s\n",
      "[CV 5/5] END ..C=1000, gamma=0.0001, kernel=rbf;, score=0.757 total time=   0.0s\n",
      "[CV 1/5] END C=1000, gamma=0.0001, kernel=sigmoid;, score=0.757 total time=   0.0s\n",
      "[CV 2/5] END C=1000, gamma=0.0001, kernel=sigmoid;, score=0.757 total time=   0.0s\n",
      "[CV 3/5] END C=1000, gamma=0.0001, kernel=sigmoid;, score=0.757 total time=   0.0s\n",
      "[CV 4/5] END C=1000, gamma=0.0001, kernel=sigmoid;, score=0.757 total time=   0.0s\n",
      "[CV 5/5] END C=1000, gamma=0.0001, kernel=sigmoid;, score=0.757 total time=   0.0s\n"
     ]
    },
    {
     "data": {
      "text/html": [
       "<style>#sk-container-id-2 {color: black;background-color: white;}#sk-container-id-2 pre{padding: 0;}#sk-container-id-2 div.sk-toggleable {background-color: white;}#sk-container-id-2 label.sk-toggleable__label {cursor: pointer;display: block;width: 100%;margin-bottom: 0;padding: 0.3em;box-sizing: border-box;text-align: center;}#sk-container-id-2 label.sk-toggleable__label-arrow:before {content: \"▸\";float: left;margin-right: 0.25em;color: #696969;}#sk-container-id-2 label.sk-toggleable__label-arrow:hover:before {color: black;}#sk-container-id-2 div.sk-estimator:hover label.sk-toggleable__label-arrow:before {color: black;}#sk-container-id-2 div.sk-toggleable__content {max-height: 0;max-width: 0;overflow: hidden;text-align: left;background-color: #f0f8ff;}#sk-container-id-2 div.sk-toggleable__content pre {margin: 0.2em;color: black;border-radius: 0.25em;background-color: #f0f8ff;}#sk-container-id-2 input.sk-toggleable__control:checked~div.sk-toggleable__content {max-height: 200px;max-width: 100%;overflow: auto;}#sk-container-id-2 input.sk-toggleable__control:checked~label.sk-toggleable__label-arrow:before {content: \"▾\";}#sk-container-id-2 div.sk-estimator input.sk-toggleable__control:checked~label.sk-toggleable__label {background-color: #d4ebff;}#sk-container-id-2 div.sk-label input.sk-toggleable__control:checked~label.sk-toggleable__label {background-color: #d4ebff;}#sk-container-id-2 input.sk-hidden--visually {border: 0;clip: rect(1px 1px 1px 1px);clip: rect(1px, 1px, 1px, 1px);height: 1px;margin: -1px;overflow: hidden;padding: 0;position: absolute;width: 1px;}#sk-container-id-2 div.sk-estimator {font-family: monospace;background-color: #f0f8ff;border: 1px dotted black;border-radius: 0.25em;box-sizing: border-box;margin-bottom: 0.5em;}#sk-container-id-2 div.sk-estimator:hover {background-color: #d4ebff;}#sk-container-id-2 div.sk-parallel-item::after {content: \"\";width: 100%;border-bottom: 1px solid gray;flex-grow: 1;}#sk-container-id-2 div.sk-label:hover label.sk-toggleable__label {background-color: #d4ebff;}#sk-container-id-2 div.sk-serial::before {content: \"\";position: absolute;border-left: 1px solid gray;box-sizing: border-box;top: 0;bottom: 0;left: 50%;z-index: 0;}#sk-container-id-2 div.sk-serial {display: flex;flex-direction: column;align-items: center;background-color: white;padding-right: 0.2em;padding-left: 0.2em;position: relative;}#sk-container-id-2 div.sk-item {position: relative;z-index: 1;}#sk-container-id-2 div.sk-parallel {display: flex;align-items: stretch;justify-content: center;background-color: white;position: relative;}#sk-container-id-2 div.sk-item::before, #sk-container-id-2 div.sk-parallel-item::before {content: \"\";position: absolute;border-left: 1px solid gray;box-sizing: border-box;top: 0;bottom: 0;left: 50%;z-index: -1;}#sk-container-id-2 div.sk-parallel-item {display: flex;flex-direction: column;z-index: 1;position: relative;background-color: white;}#sk-container-id-2 div.sk-parallel-item:first-child::after {align-self: flex-end;width: 50%;}#sk-container-id-2 div.sk-parallel-item:last-child::after {align-self: flex-start;width: 50%;}#sk-container-id-2 div.sk-parallel-item:only-child::after {width: 0;}#sk-container-id-2 div.sk-dashed-wrapped {border: 1px dashed gray;margin: 0 0.4em 0.5em 0.4em;box-sizing: border-box;padding-bottom: 0.4em;background-color: white;}#sk-container-id-2 div.sk-label label {font-family: monospace;font-weight: bold;display: inline-block;line-height: 1.2em;}#sk-container-id-2 div.sk-label-container {text-align: center;}#sk-container-id-2 div.sk-container {/* jupyter's `normalize.less` sets `[hidden] { display: none; }` but bootstrap.min.css set `[hidden] { display: none !important; }` so we also need the `!important` here to be able to override the default hidden behavior on the sphinx rendered scikit-learn.org. See: https://github.com/scikit-learn/scikit-learn/issues/21755 */display: inline-block !important;position: relative;}#sk-container-id-2 div.sk-text-repr-fallback {display: none;}</style><div id=\"sk-container-id-2\" class=\"sk-top-container\"><div class=\"sk-text-repr-fallback\"><pre>GridSearchCV(estimator=SVC(),\n",
       "             param_grid={&#x27;C&#x27;: [0.1, 1, 10, 100, 1000],\n",
       "                         &#x27;gamma&#x27;: [1, 0.1, 0.01, 0.001, 0.0001],\n",
       "                         &#x27;kernel&#x27;: [&#x27;linear&#x27;, &#x27;poly&#x27;, &#x27;rbf&#x27;, &#x27;sigmoid&#x27;]},\n",
       "             verbose=3)</pre><b>In a Jupyter environment, please rerun this cell to show the HTML representation or trust the notebook. <br />On GitHub, the HTML representation is unable to render, please try loading this page with nbviewer.org.</b></div><div class=\"sk-container\" hidden><div class=\"sk-item sk-dashed-wrapped\"><div class=\"sk-label-container\"><div class=\"sk-label sk-toggleable\"><input class=\"sk-toggleable__control sk-hidden--visually\" id=\"sk-estimator-id-4\" type=\"checkbox\" ><label for=\"sk-estimator-id-4\" class=\"sk-toggleable__label sk-toggleable__label-arrow\">GridSearchCV</label><div class=\"sk-toggleable__content\"><pre>GridSearchCV(estimator=SVC(),\n",
       "             param_grid={&#x27;C&#x27;: [0.1, 1, 10, 100, 1000],\n",
       "                         &#x27;gamma&#x27;: [1, 0.1, 0.01, 0.001, 0.0001],\n",
       "                         &#x27;kernel&#x27;: [&#x27;linear&#x27;, &#x27;poly&#x27;, &#x27;rbf&#x27;, &#x27;sigmoid&#x27;]},\n",
       "             verbose=3)</pre></div></div></div><div class=\"sk-parallel\"><div class=\"sk-parallel-item\"><div class=\"sk-item\"><div class=\"sk-label-container\"><div class=\"sk-label sk-toggleable\"><input class=\"sk-toggleable__control sk-hidden--visually\" id=\"sk-estimator-id-5\" type=\"checkbox\" ><label for=\"sk-estimator-id-5\" class=\"sk-toggleable__label sk-toggleable__label-arrow\">estimator: SVC</label><div class=\"sk-toggleable__content\"><pre>SVC()</pre></div></div></div><div class=\"sk-serial\"><div class=\"sk-item\"><div class=\"sk-estimator sk-toggleable\"><input class=\"sk-toggleable__control sk-hidden--visually\" id=\"sk-estimator-id-6\" type=\"checkbox\" ><label for=\"sk-estimator-id-6\" class=\"sk-toggleable__label sk-toggleable__label-arrow\">SVC</label><div class=\"sk-toggleable__content\"><pre>SVC()</pre></div></div></div></div></div></div></div></div></div></div>"
      ],
      "text/plain": [
       "GridSearchCV(estimator=SVC(),\n",
       "             param_grid={'C': [0.1, 1, 10, 100, 1000],\n",
       "                         'gamma': [1, 0.1, 0.01, 0.001, 0.0001],\n",
       "                         'kernel': ['linear', 'poly', 'rbf', 'sigmoid']},\n",
       "             verbose=3)"
      ]
     },
     "execution_count": 50,
     "metadata": {},
     "output_type": "execute_result"
    }
   ],
   "source": [
    "from sklearn.model_selection import GridSearchCV\n",
    "\n",
    "# defining parameter range\n",
    "param_grid = {'C': [0.1, 1, 10, 100, 1000],\n",
    "\t\t\t'gamma': [1, 0.1, 0.01, 0.001, 0.0001],\n",
    "\t\t\t'kernel': ['linear', 'poly', 'rbf', 'sigmoid']}\n",
    "\n",
    "grid = GridSearchCV(SVC(), param_grid, refit = True, verbose = 3)\n",
    "\n",
    "# fitting the model for grid search\n",
    "grid.fit(nova_lista, lista_label)\n"
   ]
  },
  {
   "cell_type": "code",
   "execution_count": 52,
   "id": "2cb34f38",
   "metadata": {},
   "outputs": [
    {
     "name": "stdout",
     "output_type": "stream",
     "text": [
      "{'C': 10, 'gamma': 0.1, 'kernel': 'rbf'}\n",
      "SVC(C=10, gamma=0.1)\n"
     ]
    }
   ],
   "source": [
    "# print best parameter after tuning\n",
    "print(grid.best_params_)\n",
    "\n",
    "# print how our model looks after hyper-parameter tuning\n",
    "print(grid.best_estimator_)\n"
   ]
  },
  {
   "cell_type": "code",
   "execution_count": 53,
   "id": "6262b704",
   "metadata": {},
   "outputs": [
    {
     "name": "stdout",
     "output_type": "stream",
     "text": [
      "              precision    recall  f1-score   support\n",
      "\n",
      "           0       0.78      0.99      0.87      2120\n",
      "           1       0.79      0.11      0.19       680\n",
      "\n",
      "    accuracy                           0.78      2800\n",
      "   macro avg       0.78      0.55      0.53      2800\n",
      "weighted avg       0.78      0.78      0.70      2800\n",
      "\n"
     ]
    }
   ],
   "source": [
    "import sklearn.metrics\n",
    "\n",
    "lista_label_test = np.array(df_test[\"label\"])\n",
    "lista_label_test = le.fit_transform(lista_label_test)\n",
    "nova_lista_test = W2Vvectorize(df_test[\"text\"])\n",
    "\n",
    "grid_predictions = grid.predict(nova_lista_test)\n",
    "\n",
    "# print classification report\n",
    "print(sklearn.metrics.classification_report(lista_label_test, grid_predictions))\n"
   ]
  },
  {
   "cell_type": "code",
   "execution_count": 67,
   "id": "6eea6145",
   "metadata": {},
   "outputs": [],
   "source": [
    "lista_label = np.array(df_train[\"label\"])\n",
    "lista_label = le.fit_transform(lista_label)\n",
    "\n",
    "nova_lista = W2Vvectorize(df_train[\"text\"])\n",
    "\n",
    "clf = make_pipeline(StandardScaler(), SVC(class_weight='balanced', C=10, gamma=0.1, kernel='rbf'))\n",
    "clf = clf.fit(nova_lista, lista_label)\n"
   ]
  },
  {
   "cell_type": "code",
   "execution_count": 68,
   "id": "320abd12",
   "metadata": {},
   "outputs": [
    {
     "name": "stdout",
     "output_type": "stream",
     "text": [
      "Training:0.9996938775510205\n",
      "Test:0.7571428571428571\n"
     ]
    }
   ],
   "source": [
    "print(\"Training:\"+str(clf.score(nova_lista, lista_label)))\n",
    "\n",
    "lista_label_test = np.array(df_test[\"label\"])\n",
    "lista_label_test = le.fit_transform(lista_label_test)\n",
    "nova_lista_test = W2Vvectorize(df_test[\"text\"])\n",
    "\n",
    "print(\"Test:\"+str(clf.score(nova_lista_test,lista_label_test)))\n"
   ]
  },
  {
   "cell_type": "code",
   "execution_count": 69,
   "id": "259219a4",
   "metadata": {},
   "outputs": [],
   "source": [
    "def evaluate(model, text, y_test, target_names=('not sexist', 'sexist')):\n",
    "    import matplotlib.pyplot as plt\n",
    "    from sklearn.metrics import classification_report\n",
    "    from sklearn.metrics import ConfusionMatrixDisplay\n",
    "    from sklearn.metrics import precision_recall_fscore_support\n",
    "\n",
    "    text_features = W2Vvectorize(text)\n",
    "    y_test_pred = model.predict(text_features)\n",
    "    print(classification_report(y_test, y_test_pred, target_names=target_names))\n",
    "\n",
    "    precision, recall, f1, _ = precision_recall_fscore_support(y_test, y_test_pred, average=\"micro\")\n",
    "    print(f\"Precision: {precision:6.2f}\")\n",
    "    print(f\"   Recall: {recall:6.2f}\")\n",
    "    print(f\"       F1: {f1:6.2f}\")\n",
    "\n",
    "    ConfusionMatrixDisplay.from_predictions(y_test, y_test_pred, display_labels=target_names)\n",
    "    plt.show()"
   ]
  },
  {
   "cell_type": "code",
   "execution_count": 70,
   "id": "53c82bd8",
   "metadata": {},
   "outputs": [
    {
     "name": "stdout",
     "output_type": "stream",
     "text": [
      "              precision    recall  f1-score   support\n",
      "\n",
      "  not sexist       0.76      1.00      0.86      2120\n",
      "      sexist       0.00      0.00      0.00       680\n",
      "\n",
      "    accuracy                           0.76      2800\n",
      "   macro avg       0.38      0.50      0.43      2800\n",
      "weighted avg       0.57      0.76      0.65      2800\n",
      "\n",
      "Precision:   0.76\n",
      "   Recall:   0.76\n",
      "       F1:   0.76\n"
     ]
    },
    {
     "name": "stderr",
     "output_type": "stream",
     "text": [
      "C:\\Users\\Antonio\\AppData\\Local\\Programs\\Python\\Python310\\lib\\site-packages\\sklearn\\metrics\\_classification.py:1334: UndefinedMetricWarning: Precision and F-score are ill-defined and being set to 0.0 in labels with no predicted samples. Use `zero_division` parameter to control this behavior.\n",
      "  _warn_prf(average, modifier, msg_start, len(result))\n",
      "C:\\Users\\Antonio\\AppData\\Local\\Programs\\Python\\Python310\\lib\\site-packages\\sklearn\\metrics\\_classification.py:1334: UndefinedMetricWarning: Precision and F-score are ill-defined and being set to 0.0 in labels with no predicted samples. Use `zero_division` parameter to control this behavior.\n",
      "  _warn_prf(average, modifier, msg_start, len(result))\n",
      "C:\\Users\\Antonio\\AppData\\Local\\Programs\\Python\\Python310\\lib\\site-packages\\sklearn\\metrics\\_classification.py:1334: UndefinedMetricWarning: Precision and F-score are ill-defined and being set to 0.0 in labels with no predicted samples. Use `zero_division` parameter to control this behavior.\n",
      "  _warn_prf(average, modifier, msg_start, len(result))\n"
     ]
    },
    {
     "data": {
      "image/png": "[encoded data removed]",
      "text/plain": [
       "<Figure size 640x480 with 2 Axes>"
      ]
     },
     "metadata": {},
     "output_type": "display_data"
    }
   ],
   "source": [
    "evaluate(clf, df_test.text, lista_label_test)"
   ]
  },
  {
   "cell_type": "code",
   "execution_count": 18,
   "id": "0a306383",
   "metadata": {},
   "outputs": [],
   "source": [
    "import pickle\n",
    "word2vec_clf = pickle.dumps(clf)"
   ]
  },
  {
   "cell_type": "markdown",
   "id": "f5b61017",
   "metadata": {},
   "source": [
    "SVM +TF_IDF"
   ]
  },
  {
   "cell_type": "code",
   "execution_count": 72,
   "id": "581f5283",
   "metadata": {},
   "outputs": [],
   "source": [
    "from sklearn.svm import SVC\n",
    "from sklearn.pipeline import make_pipeline\n",
    "from sklearn.preprocessing import StandardScaler\n",
    "from sklearn.preprocessing import LabelEncoder\n",
    "from sklearn.feature_extraction.text import TfidfVectorizer\n",
    "\n",
    "corpus = df_train[\"text\"]\n",
    "vectorizer = TfidfVectorizer()\n",
    "le = LabelEncoder()\n",
    "\n",
    "lista_label = np.array(df_valid[\"label\"])\n",
    "lista_label = le.fit_transform(lista_label)\n",
    "nova_lista = vectorizer.fit_transform(df_valid[\"text\"])"
   ]
  },
  {
   "cell_type": "code",
   "execution_count": 74,
   "id": "8ceec99c",
   "metadata": {},
   "outputs": [
    {
     "name": "stdout",
     "output_type": "stream",
     "text": [
      "Fitting 5 folds for each of 100 candidates, totalling 500 fits\n",
      "[CV 1/5] END .....C=0.1, gamma=1, kernel=linear;, score=0.757 total time=   0.1s\n",
      "[CV 2/5] END .....C=0.1, gamma=1, kernel=linear;, score=0.757 total time=   0.1s\n",
      "[CV 3/5] END .....C=0.1, gamma=1, kernel=linear;, score=0.757 total time=   0.1s\n",
      "[CV 4/5] END .....C=0.1, gamma=1, kernel=linear;, score=0.757 total time=   0.1s\n",
      "[CV 5/5] END .....C=0.1, gamma=1, kernel=linear;, score=0.757 total time=   0.1s\n",
      "[CV 1/5] END .......C=0.1, gamma=1, kernel=poly;, score=0.757 total time=   0.1s\n",
      "[CV 2/5] END .......C=0.1, gamma=1, kernel=poly;, score=0.757 total time=   0.1s\n",
      "[CV 3/5] END .......C=0.1, gamma=1, kernel=poly;, score=0.757 total time=   0.1s\n",
      "[CV 4/5] END .......C=0.1, gamma=1, kernel=poly;, score=0.757 total time=   0.1s\n",
      "[CV 5/5] END .......C=0.1, gamma=1, kernel=poly;, score=0.757 total time=   0.1s\n",
      "[CV 1/5] END ........C=0.1, gamma=1, kernel=rbf;, score=0.757 total time=   0.1s\n",
      "[CV 2/5] END ........C=0.1, gamma=1, kernel=rbf;, score=0.757 total time=   0.1s\n",
      "[CV 3/5] END ........C=0.1, gamma=1, kernel=rbf;, score=0.757 total time=   0.1s\n",
      "[CV 4/5] END ........C=0.1, gamma=1, kernel=rbf;, score=0.757 total time=   0.1s\n",
      "[CV 5/5] END ........C=0.1, gamma=1, kernel=rbf;, score=0.757 total time=   0.1s\n",
      "[CV 1/5] END ....C=0.1, gamma=1, kernel=sigmoid;, score=0.757 total time=   0.1s\n",
      "[CV 2/5] END ....C=0.1, gamma=1, kernel=sigmoid;, score=0.757 total time=   0.1s\n",
      "[CV 3/5] END ....C=0.1, gamma=1, kernel=sigmoid;, score=0.757 total time=   0.1s\n",
      "[CV 4/5] END ....C=0.1, gamma=1, kernel=sigmoid;, score=0.757 total time=   0.1s\n",
      "[CV 5/5] END ....C=0.1, gamma=1, kernel=sigmoid;, score=0.757 total time=   0.1s\n",
      "[CV 1/5] END ...C=0.1, gamma=0.1, kernel=linear;, score=0.757 total time=   0.1s\n",
      "[CV 2/5] END ...C=0.1, gamma=0.1, kernel=linear;, score=0.757 total time=   0.1s\n",
      "[CV 3/5] END ...C=0.1, gamma=0.1, kernel=linear;, score=0.757 total time=   0.1s\n",
      "[CV 4/5] END ...C=0.1, gamma=0.1, kernel=linear;, score=0.757 total time=   0.1s\n",
      "[CV 5/5] END ...C=0.1, gamma=0.1, kernel=linear;, score=0.757 total time=   0.1s\n",
      "[CV 1/5] END .....C=0.1, gamma=0.1, kernel=poly;, score=0.757 total time=   0.0s\n",
      "[CV 2/5] END .....C=0.1, gamma=0.1, kernel=poly;, score=0.757 total time=   0.0s\n",
      "[CV 3/5] END .....C=0.1, gamma=0.1, kernel=poly;, score=0.757 total time=   0.0s\n",
      "[CV 4/5] END .....C=0.1, gamma=0.1, kernel=poly;, score=0.757 total time=   0.0s\n",
      "[CV 5/5] END .....C=0.1, gamma=0.1, kernel=poly;, score=0.757 total time=   0.0s\n",
      "[CV 1/5] END ......C=0.1, gamma=0.1, kernel=rbf;, score=0.757 total time=   0.1s\n",
      "[CV 2/5] END ......C=0.1, gamma=0.1, kernel=rbf;, score=0.757 total time=   0.1s\n",
      "[CV 3/5] END ......C=0.1, gamma=0.1, kernel=rbf;, score=0.757 total time=   0.1s\n",
      "[CV 4/5] END ......C=0.1, gamma=0.1, kernel=rbf;, score=0.757 total time=   0.1s\n",
      "[CV 5/5] END ......C=0.1, gamma=0.1, kernel=rbf;, score=0.757 total time=   0.1s\n",
      "[CV 1/5] END ..C=0.1, gamma=0.1, kernel=sigmoid;, score=0.757 total time=   0.1s\n",
      "[CV 2/5] END ..C=0.1, gamma=0.1, kernel=sigmoid;, score=0.757 total time=   0.1s\n",
      "[CV 3/5] END ..C=0.1, gamma=0.1, kernel=sigmoid;, score=0.757 total time=   0.1s\n",
      "[CV 4/5] END ..C=0.1, gamma=0.1, kernel=sigmoid;, score=0.757 total time=   0.1s\n",
      "[CV 5/5] END ..C=0.1, gamma=0.1, kernel=sigmoid;, score=0.757 total time=   0.1s\n",
      "[CV 1/5] END ..C=0.1, gamma=0.01, kernel=linear;, score=0.757 total time=   0.1s\n",
      "[CV 2/5] END ..C=0.1, gamma=0.01, kernel=linear;, score=0.757 total time=   0.1s\n",
      "[CV 3/5] END ..C=0.1, gamma=0.01, kernel=linear;, score=0.757 total time=   0.1s\n",
      "[CV 4/5] END ..C=0.1, gamma=0.01, kernel=linear;, score=0.757 total time=   0.1s\n",
      "[CV 5/5] END ..C=0.1, gamma=0.01, kernel=linear;, score=0.757 total time=   0.1s\n",
      "[CV 1/5] END ....C=0.1, gamma=0.01, kernel=poly;, score=0.757 total time=   0.0s\n",
      "[CV 2/5] END ....C=0.1, gamma=0.01, kernel=poly;, score=0.757 total time=   0.0s\n",
      "[CV 3/5] END ....C=0.1, gamma=0.01, kernel=poly;, score=0.757 total time=   0.0s\n",
      "[CV 4/5] END ....C=0.1, gamma=0.01, kernel=poly;, score=0.757 total time=   0.0s\n",
      "[CV 5/5] END ....C=0.1, gamma=0.01, kernel=poly;, score=0.757 total time=   0.0s\n",
      "[CV 1/5] END .....C=0.1, gamma=0.01, kernel=rbf;, score=0.757 total time=   0.0s\n",
      "[CV 2/5] END .....C=0.1, gamma=0.01, kernel=rbf;, score=0.757 total time=   0.0s\n",
      "[CV 3/5] END .....C=0.1, gamma=0.01, kernel=rbf;, score=0.757 total time=   0.0s\n",
      "[CV 4/5] END .....C=0.1, gamma=0.01, kernel=rbf;, score=0.757 total time=   0.0s\n",
      "[CV 5/5] END .....C=0.1, gamma=0.01, kernel=rbf;, score=0.757 total time=   0.0s\n",
      "[CV 1/5] END .C=0.1, gamma=0.01, kernel=sigmoid;, score=0.757 total time=   0.0s\n",
      "[CV 2/5] END .C=0.1, gamma=0.01, kernel=sigmoid;, score=0.757 total time=   0.0s\n",
      "[CV 3/5] END .C=0.1, gamma=0.01, kernel=sigmoid;, score=0.757 total time=   0.0s\n",
      "[CV 4/5] END .C=0.1, gamma=0.01, kernel=sigmoid;, score=0.757 total time=   0.0s\n",
      "[CV 5/5] END .C=0.1, gamma=0.01, kernel=sigmoid;, score=0.757 total time=   0.0s\n",
      "[CV 1/5] END .C=0.1, gamma=0.001, kernel=linear;, score=0.757 total time=   0.1s\n",
      "[CV 2/5] END .C=0.1, gamma=0.001, kernel=linear;, score=0.757 total time=   0.1s\n",
      "[CV 3/5] END .C=0.1, gamma=0.001, kernel=linear;, score=0.757 total time=   0.1s\n",
      "[CV 4/5] END .C=0.1, gamma=0.001, kernel=linear;, score=0.757 total time=   0.1s\n",
      "[CV 5/5] END .C=0.1, gamma=0.001, kernel=linear;, score=0.757 total time=   0.1s\n",
      "[CV 1/5] END ...C=0.1, gamma=0.001, kernel=poly;, score=0.757 total time=   0.0s\n",
      "[CV 2/5] END ...C=0.1, gamma=0.001, kernel=poly;, score=0.757 total time=   0.0s\n",
      "[CV 3/5] END ...C=0.1, gamma=0.001, kernel=poly;, score=0.757 total time=   0.0s\n",
      "[CV 4/5] END ...C=0.1, gamma=0.001, kernel=poly;, score=0.757 total time=   0.0s\n",
      "[CV 5/5] END ...C=0.1, gamma=0.001, kernel=poly;, score=0.757 total time=   0.0s\n",
      "[CV 1/5] END ....C=0.1, gamma=0.001, kernel=rbf;, score=0.757 total time=   0.0s\n",
      "[CV 2/5] END ....C=0.1, gamma=0.001, kernel=rbf;, score=0.757 total time=   0.0s\n",
      "[CV 3/5] END ....C=0.1, gamma=0.001, kernel=rbf;, score=0.757 total time=   0.0s\n",
      "[CV 4/5] END ....C=0.1, gamma=0.001, kernel=rbf;, score=0.757 total time=   0.0s\n",
      "[CV 5/5] END ....C=0.1, gamma=0.001, kernel=rbf;, score=0.757 total time=   0.0s\n",
      "[CV 1/5] END C=0.1, gamma=0.001, kernel=sigmoid;, score=0.757 total time=   0.0s\n",
      "[CV 2/5] END C=0.1, gamma=0.001, kernel=sigmoid;, score=0.757 total time=   0.0s\n",
      "[CV 3/5] END C=0.1, gamma=0.001, kernel=sigmoid;, score=0.757 total time=   0.0s\n",
      "[CV 4/5] END C=0.1, gamma=0.001, kernel=sigmoid;, score=0.757 total time=   0.0s\n",
      "[CV 5/5] END C=0.1, gamma=0.001, kernel=sigmoid;, score=0.757 total time=   0.0s\n",
      "[CV 1/5] END C=0.1, gamma=0.0001, kernel=linear;, score=0.757 total time=   0.1s\n",
      "[CV 2/5] END C=0.1, gamma=0.0001, kernel=linear;, score=0.757 total time=   0.1s\n",
      "[CV 3/5] END C=0.1, gamma=0.0001, kernel=linear;, score=0.757 total time=   0.1s\n",
      "[CV 4/5] END C=0.1, gamma=0.0001, kernel=linear;, score=0.757 total time=   0.1s\n",
      "[CV 5/5] END C=0.1, gamma=0.0001, kernel=linear;, score=0.757 total time=   0.1s\n",
      "[CV 1/5] END ..C=0.1, gamma=0.0001, kernel=poly;, score=0.757 total time=   0.0s\n",
      "[CV 2/5] END ..C=0.1, gamma=0.0001, kernel=poly;, score=0.757 total time=   0.0s\n",
      "[CV 3/5] END ..C=0.1, gamma=0.0001, kernel=poly;, score=0.757 total time=   0.0s\n",
      "[CV 4/5] END ..C=0.1, gamma=0.0001, kernel=poly;, score=0.757 total time=   0.0s\n",
      "[CV 5/5] END ..C=0.1, gamma=0.0001, kernel=poly;, score=0.757 total time=   0.0s\n",
      "[CV 1/5] END ...C=0.1, gamma=0.0001, kernel=rbf;, score=0.757 total time=   0.0s\n",
      "[CV 2/5] END ...C=0.1, gamma=0.0001, kernel=rbf;, score=0.757 total time=   0.0s\n",
      "[CV 3/5] END ...C=0.1, gamma=0.0001, kernel=rbf;, score=0.757 total time=   0.0s\n",
      "[CV 4/5] END ...C=0.1, gamma=0.0001, kernel=rbf;, score=0.757 total time=   0.0s\n",
      "[CV 5/5] END ...C=0.1, gamma=0.0001, kernel=rbf;, score=0.757 total time=   0.0s\n",
      "[CV 1/5] END C=0.1, gamma=0.0001, kernel=sigmoid;, score=0.757 total time=   0.0s\n",
      "[CV 2/5] END C=0.1, gamma=0.0001, kernel=sigmoid;, score=0.757 total time=   0.0s\n",
      "[CV 3/5] END C=0.1, gamma=0.0001, kernel=sigmoid;, score=0.757 total time=   0.0s\n",
      "[CV 4/5] END C=0.1, gamma=0.0001, kernel=sigmoid;, score=0.757 total time=   0.0s\n",
      "[CV 5/5] END C=0.1, gamma=0.0001, kernel=sigmoid;, score=0.757 total time=   0.0s\n",
      "[CV 1/5] END .......C=1, gamma=1, kernel=linear;, score=0.779 total time=   0.1s\n",
      "[CV 2/5] END .......C=1, gamma=1, kernel=linear;, score=0.789 total time=   0.1s\n"
     ]
    },
    {
     "name": "stdout",
     "output_type": "stream",
     "text": [
      "[CV 3/5] END .......C=1, gamma=1, kernel=linear;, score=0.793 total time=   0.1s\n",
      "[CV 4/5] END .......C=1, gamma=1, kernel=linear;, score=0.764 total time=   0.1s\n",
      "[CV 5/5] END .......C=1, gamma=1, kernel=linear;, score=0.800 total time=   0.1s\n",
      "[CV 1/5] END .........C=1, gamma=1, kernel=poly;, score=0.757 total time=   0.1s\n",
      "[CV 2/5] END .........C=1, gamma=1, kernel=poly;, score=0.757 total time=   0.1s\n",
      "[CV 3/5] END .........C=1, gamma=1, kernel=poly;, score=0.757 total time=   0.1s\n",
      "[CV 4/5] END .........C=1, gamma=1, kernel=poly;, score=0.757 total time=   0.1s\n",
      "[CV 5/5] END .........C=1, gamma=1, kernel=poly;, score=0.757 total time=   0.1s\n",
      "[CV 1/5] END ..........C=1, gamma=1, kernel=rbf;, score=0.761 total time=   0.1s\n",
      "[CV 2/5] END ..........C=1, gamma=1, kernel=rbf;, score=0.757 total time=   0.1s\n",
      "[CV 3/5] END ..........C=1, gamma=1, kernel=rbf;, score=0.757 total time=   0.1s\n",
      "[CV 4/5] END ..........C=1, gamma=1, kernel=rbf;, score=0.761 total time=   0.1s\n",
      "[CV 5/5] END ..........C=1, gamma=1, kernel=rbf;, score=0.761 total time=   0.1s\n",
      "[CV 1/5] END ......C=1, gamma=1, kernel=sigmoid;, score=0.771 total time=   0.1s\n",
      "[CV 2/5] END ......C=1, gamma=1, kernel=sigmoid;, score=0.789 total time=   0.1s\n",
      "[CV 3/5] END ......C=1, gamma=1, kernel=sigmoid;, score=0.789 total time=   0.1s\n",
      "[CV 4/5] END ......C=1, gamma=1, kernel=sigmoid;, score=0.768 total time=   0.1s\n",
      "[CV 5/5] END ......C=1, gamma=1, kernel=sigmoid;, score=0.793 total time=   0.1s\n",
      "[CV 1/5] END .....C=1, gamma=0.1, kernel=linear;, score=0.779 total time=   0.1s\n",
      "[CV 2/5] END .....C=1, gamma=0.1, kernel=linear;, score=0.789 total time=   0.1s\n",
      "[CV 3/5] END .....C=1, gamma=0.1, kernel=linear;, score=0.793 total time=   0.1s\n",
      "[CV 4/5] END .....C=1, gamma=0.1, kernel=linear;, score=0.764 total time=   0.1s\n",
      "[CV 5/5] END .....C=1, gamma=0.1, kernel=linear;, score=0.800 total time=   0.1s\n",
      "[CV 1/5] END .......C=1, gamma=0.1, kernel=poly;, score=0.757 total time=   0.0s\n",
      "[CV 2/5] END .......C=1, gamma=0.1, kernel=poly;, score=0.757 total time=   0.0s\n",
      "[CV 3/5] END .......C=1, gamma=0.1, kernel=poly;, score=0.757 total time=   0.0s\n",
      "[CV 4/5] END .......C=1, gamma=0.1, kernel=poly;, score=0.757 total time=   0.0s\n",
      "[CV 5/5] END .......C=1, gamma=0.1, kernel=poly;, score=0.757 total time=   0.0s\n",
      "[CV 1/5] END ........C=1, gamma=0.1, kernel=rbf;, score=0.757 total time=   0.1s\n",
      "[CV 2/5] END ........C=1, gamma=0.1, kernel=rbf;, score=0.757 total time=   0.1s\n",
      "[CV 3/5] END ........C=1, gamma=0.1, kernel=rbf;, score=0.757 total time=   0.1s\n",
      "[CV 4/5] END ........C=1, gamma=0.1, kernel=rbf;, score=0.757 total time=   0.1s\n",
      "[CV 5/5] END ........C=1, gamma=0.1, kernel=rbf;, score=0.757 total time=   0.1s\n",
      "[CV 1/5] END ....C=1, gamma=0.1, kernel=sigmoid;, score=0.757 total time=   0.1s\n",
      "[CV 2/5] END ....C=1, gamma=0.1, kernel=sigmoid;, score=0.757 total time=   0.1s\n",
      "[CV 3/5] END ....C=1, gamma=0.1, kernel=sigmoid;, score=0.757 total time=   0.1s\n",
      "[CV 4/5] END ....C=1, gamma=0.1, kernel=sigmoid;, score=0.757 total time=   0.1s\n",
      "[CV 5/5] END ....C=1, gamma=0.1, kernel=sigmoid;, score=0.757 total time=   0.1s\n",
      "[CV 1/5] END ....C=1, gamma=0.01, kernel=linear;, score=0.779 total time=   0.1s\n",
      "[CV 2/5] END ....C=1, gamma=0.01, kernel=linear;, score=0.789 total time=   0.1s\n",
      "[CV 3/5] END ....C=1, gamma=0.01, kernel=linear;, score=0.793 total time=   0.1s\n",
      "[CV 4/5] END ....C=1, gamma=0.01, kernel=linear;, score=0.764 total time=   0.1s\n",
      "[CV 5/5] END ....C=1, gamma=0.01, kernel=linear;, score=0.800 total time=   0.1s\n",
      "[CV 1/5] END ......C=1, gamma=0.01, kernel=poly;, score=0.757 total time=   0.0s\n",
      "[CV 2/5] END ......C=1, gamma=0.01, kernel=poly;, score=0.757 total time=   0.0s\n",
      "[CV 3/5] END ......C=1, gamma=0.01, kernel=poly;, score=0.757 total time=   0.0s\n",
      "[CV 4/5] END ......C=1, gamma=0.01, kernel=poly;, score=0.757 total time=   0.0s\n",
      "[CV 5/5] END ......C=1, gamma=0.01, kernel=poly;, score=0.757 total time=   0.0s\n",
      "[CV 1/5] END .......C=1, gamma=0.01, kernel=rbf;, score=0.757 total time=   0.1s\n",
      "[CV 2/5] END .......C=1, gamma=0.01, kernel=rbf;, score=0.757 total time=   0.1s\n",
      "[CV 3/5] END .......C=1, gamma=0.01, kernel=rbf;, score=0.757 total time=   0.1s\n",
      "[CV 4/5] END .......C=1, gamma=0.01, kernel=rbf;, score=0.757 total time=   0.1s\n",
      "[CV 5/5] END .......C=1, gamma=0.01, kernel=rbf;, score=0.757 total time=   0.1s\n",
      "[CV 1/5] END ...C=1, gamma=0.01, kernel=sigmoid;, score=0.757 total time=   0.1s\n",
      "[CV 2/5] END ...C=1, gamma=0.01, kernel=sigmoid;, score=0.757 total time=   0.1s\n",
      "[CV 3/5] END ...C=1, gamma=0.01, kernel=sigmoid;, score=0.757 total time=   0.1s\n",
      "[CV 4/5] END ...C=1, gamma=0.01, kernel=sigmoid;, score=0.757 total time=   0.1s\n",
      "[CV 5/5] END ...C=1, gamma=0.01, kernel=sigmoid;, score=0.757 total time=   0.1s\n",
      "[CV 1/5] END ...C=1, gamma=0.001, kernel=linear;, score=0.779 total time=   0.1s\n",
      "[CV 2/5] END ...C=1, gamma=0.001, kernel=linear;, score=0.789 total time=   0.1s\n",
      "[CV 3/5] END ...C=1, gamma=0.001, kernel=linear;, score=0.793 total time=   0.1s\n",
      "[CV 4/5] END ...C=1, gamma=0.001, kernel=linear;, score=0.764 total time=   0.1s\n",
      "[CV 5/5] END ...C=1, gamma=0.001, kernel=linear;, score=0.800 total time=   0.1s\n",
      "[CV 1/5] END .....C=1, gamma=0.001, kernel=poly;, score=0.757 total time=   0.0s\n",
      "[CV 2/5] END .....C=1, gamma=0.001, kernel=poly;, score=0.757 total time=   0.0s\n",
      "[CV 3/5] END .....C=1, gamma=0.001, kernel=poly;, score=0.757 total time=   0.0s\n",
      "[CV 4/5] END .....C=1, gamma=0.001, kernel=poly;, score=0.757 total time=   0.0s\n",
      "[CV 5/5] END .....C=1, gamma=0.001, kernel=poly;, score=0.757 total time=   0.0s\n",
      "[CV 1/5] END ......C=1, gamma=0.001, kernel=rbf;, score=0.757 total time=   0.0s\n",
      "[CV 2/5] END ......C=1, gamma=0.001, kernel=rbf;, score=0.757 total time=   0.0s\n",
      "[CV 3/5] END ......C=1, gamma=0.001, kernel=rbf;, score=0.757 total time=   0.0s\n",
      "[CV 4/5] END ......C=1, gamma=0.001, kernel=rbf;, score=0.757 total time=   0.0s\n",
      "[CV 5/5] END ......C=1, gamma=0.001, kernel=rbf;, score=0.757 total time=   0.0s\n",
      "[CV 1/5] END ..C=1, gamma=0.001, kernel=sigmoid;, score=0.757 total time=   0.0s\n",
      "[CV 2/5] END ..C=1, gamma=0.001, kernel=sigmoid;, score=0.757 total time=   0.0s\n",
      "[CV 3/5] END ..C=1, gamma=0.001, kernel=sigmoid;, score=0.757 total time=   0.0s\n",
      "[CV 4/5] END ..C=1, gamma=0.001, kernel=sigmoid;, score=0.757 total time=   0.0s\n",
      "[CV 5/5] END ..C=1, gamma=0.001, kernel=sigmoid;, score=0.757 total time=   0.0s\n",
      "[CV 1/5] END ..C=1, gamma=0.0001, kernel=linear;, score=0.779 total time=   0.1s\n",
      "[CV 2/5] END ..C=1, gamma=0.0001, kernel=linear;, score=0.789 total time=   0.1s\n",
      "[CV 3/5] END ..C=1, gamma=0.0001, kernel=linear;, score=0.793 total time=   0.1s\n",
      "[CV 4/5] END ..C=1, gamma=0.0001, kernel=linear;, score=0.764 total time=   0.1s\n",
      "[CV 5/5] END ..C=1, gamma=0.0001, kernel=linear;, score=0.800 total time=   0.1s\n",
      "[CV 1/5] END ....C=1, gamma=0.0001, kernel=poly;, score=0.757 total time=   0.0s\n",
      "[CV 2/5] END ....C=1, gamma=0.0001, kernel=poly;, score=0.757 total time=   0.0s\n",
      "[CV 3/5] END ....C=1, gamma=0.0001, kernel=poly;, score=0.757 total time=   0.0s\n",
      "[CV 4/5] END ....C=1, gamma=0.0001, kernel=poly;, score=0.757 total time=   0.0s\n",
      "[CV 5/5] END ....C=1, gamma=0.0001, kernel=poly;, score=0.757 total time=   0.0s\n",
      "[CV 1/5] END .....C=1, gamma=0.0001, kernel=rbf;, score=0.757 total time=   0.0s\n",
      "[CV 2/5] END .....C=1, gamma=0.0001, kernel=rbf;, score=0.757 total time=   0.0s\n",
      "[CV 3/5] END .....C=1, gamma=0.0001, kernel=rbf;, score=0.757 total time=   0.0s\n",
      "[CV 4/5] END .....C=1, gamma=0.0001, kernel=rbf;, score=0.757 total time=   0.0s\n",
      "[CV 5/5] END .....C=1, gamma=0.0001, kernel=rbf;, score=0.757 total time=   0.0s\n",
      "[CV 1/5] END .C=1, gamma=0.0001, kernel=sigmoid;, score=0.757 total time=   0.0s\n",
      "[CV 2/5] END .C=1, gamma=0.0001, kernel=sigmoid;, score=0.757 total time=   0.0s\n",
      "[CV 3/5] END .C=1, gamma=0.0001, kernel=sigmoid;, score=0.757 total time=   0.0s\n",
      "[CV 4/5] END .C=1, gamma=0.0001, kernel=sigmoid;, score=0.757 total time=   0.0s\n",
      "[CV 5/5] END .C=1, gamma=0.0001, kernel=sigmoid;, score=0.757 total time=   0.0s\n",
      "[CV 1/5] END ......C=10, gamma=1, kernel=linear;, score=0.757 total time=   0.1s\n",
      "[CV 2/5] END ......C=10, gamma=1, kernel=linear;, score=0.786 total time=   0.1s\n",
      "[CV 3/5] END ......C=10, gamma=1, kernel=linear;, score=0.796 total time=   0.1s\n",
      "[CV 4/5] END ......C=10, gamma=1, kernel=linear;, score=0.746 total time=   0.1s\n"
     ]
    },
    {
     "name": "stdout",
     "output_type": "stream",
     "text": [
      "[CV 5/5] END ......C=10, gamma=1, kernel=linear;, score=0.771 total time=   0.1s\n",
      "[CV 1/5] END ........C=10, gamma=1, kernel=poly;, score=0.757 total time=   0.1s\n",
      "[CV 2/5] END ........C=10, gamma=1, kernel=poly;, score=0.757 total time=   0.1s\n",
      "[CV 3/5] END ........C=10, gamma=1, kernel=poly;, score=0.757 total time=   0.1s\n",
      "[CV 4/5] END ........C=10, gamma=1, kernel=poly;, score=0.757 total time=   0.1s\n",
      "[CV 5/5] END ........C=10, gamma=1, kernel=poly;, score=0.757 total time=   0.1s\n",
      "[CV 1/5] END .........C=10, gamma=1, kernel=rbf;, score=0.761 total time=   0.1s\n",
      "[CV 2/5] END .........C=10, gamma=1, kernel=rbf;, score=0.771 total time=   0.1s\n",
      "[CV 3/5] END .........C=10, gamma=1, kernel=rbf;, score=0.771 total time=   0.1s\n",
      "[CV 4/5] END .........C=10, gamma=1, kernel=rbf;, score=0.757 total time=   0.1s\n",
      "[CV 5/5] END .........C=10, gamma=1, kernel=rbf;, score=0.775 total time=   0.1s\n",
      "[CV 1/5] END .....C=10, gamma=1, kernel=sigmoid;, score=0.729 total time=   0.1s\n",
      "[CV 2/5] END .....C=10, gamma=1, kernel=sigmoid;, score=0.775 total time=   0.1s\n",
      "[CV 3/5] END .....C=10, gamma=1, kernel=sigmoid;, score=0.764 total time=   0.2s\n",
      "[CV 4/5] END .....C=10, gamma=1, kernel=sigmoid;, score=0.714 total time=   0.1s\n",
      "[CV 5/5] END .....C=10, gamma=1, kernel=sigmoid;, score=0.729 total time=   0.2s\n",
      "[CV 1/5] END ....C=10, gamma=0.1, kernel=linear;, score=0.757 total time=   0.1s\n",
      "[CV 2/5] END ....C=10, gamma=0.1, kernel=linear;, score=0.786 total time=   0.1s\n",
      "[CV 3/5] END ....C=10, gamma=0.1, kernel=linear;, score=0.796 total time=   0.1s\n",
      "[CV 4/5] END ....C=10, gamma=0.1, kernel=linear;, score=0.746 total time=   0.1s\n",
      "[CV 5/5] END ....C=10, gamma=0.1, kernel=linear;, score=0.771 total time=   0.1s\n",
      "[CV 1/5] END ......C=10, gamma=0.1, kernel=poly;, score=0.757 total time=   0.1s\n",
      "[CV 2/5] END ......C=10, gamma=0.1, kernel=poly;, score=0.757 total time=   0.1s\n",
      "[CV 3/5] END ......C=10, gamma=0.1, kernel=poly;, score=0.757 total time=   0.1s\n",
      "[CV 4/5] END ......C=10, gamma=0.1, kernel=poly;, score=0.757 total time=   0.1s\n",
      "[CV 5/5] END ......C=10, gamma=0.1, kernel=poly;, score=0.757 total time=   0.1s\n",
      "[CV 1/5] END .......C=10, gamma=0.1, kernel=rbf;, score=0.761 total time=   0.1s\n",
      "[CV 2/5] END .......C=10, gamma=0.1, kernel=rbf;, score=0.800 total time=   0.1s\n",
      "[CV 3/5] END .......C=10, gamma=0.1, kernel=rbf;, score=0.789 total time=   0.1s\n",
      "[CV 4/5] END .......C=10, gamma=0.1, kernel=rbf;, score=0.768 total time=   0.1s\n",
      "[CV 5/5] END .......C=10, gamma=0.1, kernel=rbf;, score=0.793 total time=   0.1s\n",
      "[CV 1/5] END ...C=10, gamma=0.1, kernel=sigmoid;, score=0.779 total time=   0.1s\n",
      "[CV 2/5] END ...C=10, gamma=0.1, kernel=sigmoid;, score=0.789 total time=   0.1s\n",
      "[CV 3/5] END ...C=10, gamma=0.1, kernel=sigmoid;, score=0.793 total time=   0.1s\n",
      "[CV 4/5] END ...C=10, gamma=0.1, kernel=sigmoid;, score=0.764 total time=   0.1s\n",
      "[CV 5/5] END ...C=10, gamma=0.1, kernel=sigmoid;, score=0.800 total time=   0.1s\n",
      "[CV 1/5] END ...C=10, gamma=0.01, kernel=linear;, score=0.757 total time=   0.1s\n",
      "[CV 2/5] END ...C=10, gamma=0.01, kernel=linear;, score=0.786 total time=   0.1s\n",
      "[CV 3/5] END ...C=10, gamma=0.01, kernel=linear;, score=0.796 total time=   0.1s\n",
      "[CV 4/5] END ...C=10, gamma=0.01, kernel=linear;, score=0.746 total time=   0.1s\n",
      "[CV 5/5] END ...C=10, gamma=0.01, kernel=linear;, score=0.771 total time=   0.1s\n",
      "[CV 1/5] END .....C=10, gamma=0.01, kernel=poly;, score=0.757 total time=   0.0s\n",
      "[CV 2/5] END .....C=10, gamma=0.01, kernel=poly;, score=0.757 total time=   0.0s\n",
      "[CV 3/5] END .....C=10, gamma=0.01, kernel=poly;, score=0.757 total time=   0.0s\n",
      "[CV 4/5] END .....C=10, gamma=0.01, kernel=poly;, score=0.757 total time=   0.0s\n",
      "[CV 5/5] END .....C=10, gamma=0.01, kernel=poly;, score=0.757 total time=   0.0s\n",
      "[CV 1/5] END ......C=10, gamma=0.01, kernel=rbf;, score=0.757 total time=   0.1s\n",
      "[CV 2/5] END ......C=10, gamma=0.01, kernel=rbf;, score=0.757 total time=   0.1s\n",
      "[CV 3/5] END ......C=10, gamma=0.01, kernel=rbf;, score=0.757 total time=   0.1s\n",
      "[CV 4/5] END ......C=10, gamma=0.01, kernel=rbf;, score=0.757 total time=   0.1s\n",
      "[CV 5/5] END ......C=10, gamma=0.01, kernel=rbf;, score=0.757 total time=   0.1s\n",
      "[CV 1/5] END ..C=10, gamma=0.01, kernel=sigmoid;, score=0.757 total time=   0.1s\n",
      "[CV 2/5] END ..C=10, gamma=0.01, kernel=sigmoid;, score=0.757 total time=   0.1s\n",
      "[CV 3/5] END ..C=10, gamma=0.01, kernel=sigmoid;, score=0.757 total time=   0.1s\n",
      "[CV 4/5] END ..C=10, gamma=0.01, kernel=sigmoid;, score=0.757 total time=   0.1s\n",
      "[CV 5/5] END ..C=10, gamma=0.01, kernel=sigmoid;, score=0.757 total time=   0.1s\n",
      "[CV 1/5] END ..C=10, gamma=0.001, kernel=linear;, score=0.757 total time=   0.1s\n",
      "[CV 2/5] END ..C=10, gamma=0.001, kernel=linear;, score=0.786 total time=   0.1s\n",
      "[CV 3/5] END ..C=10, gamma=0.001, kernel=linear;, score=0.796 total time=   0.1s\n",
      "[CV 4/5] END ..C=10, gamma=0.001, kernel=linear;, score=0.746 total time=   0.1s\n",
      "[CV 5/5] END ..C=10, gamma=0.001, kernel=linear;, score=0.771 total time=   0.1s\n",
      "[CV 1/5] END ....C=10, gamma=0.001, kernel=poly;, score=0.757 total time=   0.0s\n",
      "[CV 2/5] END ....C=10, gamma=0.001, kernel=poly;, score=0.757 total time=   0.0s\n",
      "[CV 3/5] END ....C=10, gamma=0.001, kernel=poly;, score=0.757 total time=   0.0s\n",
      "[CV 4/5] END ....C=10, gamma=0.001, kernel=poly;, score=0.757 total time=   0.0s\n",
      "[CV 5/5] END ....C=10, gamma=0.001, kernel=poly;, score=0.757 total time=   0.0s\n",
      "[CV 1/5] END .....C=10, gamma=0.001, kernel=rbf;, score=0.757 total time=   0.1s\n",
      "[CV 2/5] END .....C=10, gamma=0.001, kernel=rbf;, score=0.757 total time=   0.1s\n",
      "[CV 3/5] END .....C=10, gamma=0.001, kernel=rbf;, score=0.757 total time=   0.1s\n",
      "[CV 4/5] END .....C=10, gamma=0.001, kernel=rbf;, score=0.757 total time=   0.1s\n",
      "[CV 5/5] END .....C=10, gamma=0.001, kernel=rbf;, score=0.757 total time=   0.1s\n",
      "[CV 1/5] END .C=10, gamma=0.001, kernel=sigmoid;, score=0.757 total time=   0.1s\n",
      "[CV 2/5] END .C=10, gamma=0.001, kernel=sigmoid;, score=0.757 total time=   0.1s\n",
      "[CV 3/5] END .C=10, gamma=0.001, kernel=sigmoid;, score=0.757 total time=   0.1s\n",
      "[CV 4/5] END .C=10, gamma=0.001, kernel=sigmoid;, score=0.757 total time=   0.1s\n",
      "[CV 5/5] END .C=10, gamma=0.001, kernel=sigmoid;, score=0.757 total time=   0.1s\n",
      "[CV 1/5] END .C=10, gamma=0.0001, kernel=linear;, score=0.757 total time=   0.1s\n",
      "[CV 2/5] END .C=10, gamma=0.0001, kernel=linear;, score=0.786 total time=   0.1s\n",
      "[CV 3/5] END .C=10, gamma=0.0001, kernel=linear;, score=0.796 total time=   0.1s\n",
      "[CV 4/5] END .C=10, gamma=0.0001, kernel=linear;, score=0.746 total time=   0.1s\n",
      "[CV 5/5] END .C=10, gamma=0.0001, kernel=linear;, score=0.771 total time=   0.1s\n",
      "[CV 1/5] END ...C=10, gamma=0.0001, kernel=poly;, score=0.757 total time=   0.0s\n",
      "[CV 2/5] END ...C=10, gamma=0.0001, kernel=poly;, score=0.757 total time=   0.0s\n",
      "[CV 3/5] END ...C=10, gamma=0.0001, kernel=poly;, score=0.757 total time=   0.0s\n",
      "[CV 4/5] END ...C=10, gamma=0.0001, kernel=poly;, score=0.757 total time=   0.0s\n",
      "[CV 5/5] END ...C=10, gamma=0.0001, kernel=poly;, score=0.757 total time=   0.0s\n",
      "[CV 1/5] END ....C=10, gamma=0.0001, kernel=rbf;, score=0.757 total time=   0.0s\n",
      "[CV 2/5] END ....C=10, gamma=0.0001, kernel=rbf;, score=0.757 total time=   0.0s\n",
      "[CV 3/5] END ....C=10, gamma=0.0001, kernel=rbf;, score=0.757 total time=   0.0s\n",
      "[CV 4/5] END ....C=10, gamma=0.0001, kernel=rbf;, score=0.757 total time=   0.0s\n",
      "[CV 5/5] END ....C=10, gamma=0.0001, kernel=rbf;, score=0.757 total time=   0.0s\n",
      "[CV 1/5] END C=10, gamma=0.0001, kernel=sigmoid;, score=0.757 total time=   0.0s\n",
      "[CV 2/5] END C=10, gamma=0.0001, kernel=sigmoid;, score=0.757 total time=   0.0s\n",
      "[CV 3/5] END C=10, gamma=0.0001, kernel=sigmoid;, score=0.757 total time=   0.0s\n",
      "[CV 4/5] END C=10, gamma=0.0001, kernel=sigmoid;, score=0.757 total time=   0.0s\n",
      "[CV 5/5] END C=10, gamma=0.0001, kernel=sigmoid;, score=0.757 total time=   0.0s\n",
      "[CV 1/5] END .....C=100, gamma=1, kernel=linear;, score=0.757 total time=   0.1s\n",
      "[CV 2/5] END .....C=100, gamma=1, kernel=linear;, score=0.786 total time=   0.1s\n",
      "[CV 3/5] END .....C=100, gamma=1, kernel=linear;, score=0.796 total time=   0.1s\n",
      "[CV 4/5] END .....C=100, gamma=1, kernel=linear;, score=0.746 total time=   0.1s\n",
      "[CV 5/5] END .....C=100, gamma=1, kernel=linear;, score=0.771 total time=   0.1s\n",
      "[CV 1/5] END .......C=100, gamma=1, kernel=poly;, score=0.757 total time=   0.1s\n"
     ]
    },
    {
     "name": "stdout",
     "output_type": "stream",
     "text": [
      "[CV 2/5] END .......C=100, gamma=1, kernel=poly;, score=0.757 total time=   0.1s\n",
      "[CV 3/5] END .......C=100, gamma=1, kernel=poly;, score=0.757 total time=   0.1s\n",
      "[CV 4/5] END .......C=100, gamma=1, kernel=poly;, score=0.757 total time=   0.1s\n",
      "[CV 5/5] END .......C=100, gamma=1, kernel=poly;, score=0.757 total time=   0.1s\n",
      "[CV 1/5] END ........C=100, gamma=1, kernel=rbf;, score=0.761 total time=   0.1s\n",
      "[CV 2/5] END ........C=100, gamma=1, kernel=rbf;, score=0.771 total time=   0.1s\n",
      "[CV 3/5] END ........C=100, gamma=1, kernel=rbf;, score=0.771 total time=   0.1s\n",
      "[CV 4/5] END ........C=100, gamma=1, kernel=rbf;, score=0.757 total time=   0.1s\n",
      "[CV 5/5] END ........C=100, gamma=1, kernel=rbf;, score=0.775 total time=   0.1s\n",
      "[CV 1/5] END ....C=100, gamma=1, kernel=sigmoid;, score=0.696 total time=   0.1s\n",
      "[CV 2/5] END ....C=100, gamma=1, kernel=sigmoid;, score=0.689 total time=   0.1s\n",
      "[CV 3/5] END ....C=100, gamma=1, kernel=sigmoid;, score=0.718 total time=   0.1s\n",
      "[CV 4/5] END ....C=100, gamma=1, kernel=sigmoid;, score=0.704 total time=   0.1s\n",
      "[CV 5/5] END ....C=100, gamma=1, kernel=sigmoid;, score=0.714 total time=   0.0s\n",
      "[CV 1/5] END ...C=100, gamma=0.1, kernel=linear;, score=0.757 total time=   0.1s\n",
      "[CV 2/5] END ...C=100, gamma=0.1, kernel=linear;, score=0.786 total time=   0.1s\n",
      "[CV 3/5] END ...C=100, gamma=0.1, kernel=linear;, score=0.796 total time=   0.1s\n",
      "[CV 4/5] END ...C=100, gamma=0.1, kernel=linear;, score=0.746 total time=   0.1s\n",
      "[CV 5/5] END ...C=100, gamma=0.1, kernel=linear;, score=0.771 total time=   0.1s\n",
      "[CV 1/5] END .....C=100, gamma=0.1, kernel=poly;, score=0.757 total time=   0.1s\n",
      "[CV 2/5] END .....C=100, gamma=0.1, kernel=poly;, score=0.757 total time=   0.1s\n",
      "[CV 3/5] END .....C=100, gamma=0.1, kernel=poly;, score=0.757 total time=   0.1s\n",
      "[CV 4/5] END .....C=100, gamma=0.1, kernel=poly;, score=0.757 total time=   0.1s\n",
      "[CV 5/5] END .....C=100, gamma=0.1, kernel=poly;, score=0.757 total time=   0.1s\n",
      "[CV 1/5] END ......C=100, gamma=0.1, kernel=rbf;, score=0.764 total time=   0.1s\n",
      "[CV 2/5] END ......C=100, gamma=0.1, kernel=rbf;, score=0.786 total time=   0.1s\n",
      "[CV 3/5] END ......C=100, gamma=0.1, kernel=rbf;, score=0.804 total time=   0.1s\n",
      "[CV 4/5] END ......C=100, gamma=0.1, kernel=rbf;, score=0.754 total time=   0.1s\n",
      "[CV 5/5] END ......C=100, gamma=0.1, kernel=rbf;, score=0.779 total time=   0.1s\n",
      "[CV 1/5] END ..C=100, gamma=0.1, kernel=sigmoid;, score=0.757 total time=   0.1s\n",
      "[CV 2/5] END ..C=100, gamma=0.1, kernel=sigmoid;, score=0.786 total time=   0.1s\n",
      "[CV 3/5] END ..C=100, gamma=0.1, kernel=sigmoid;, score=0.796 total time=   0.1s\n",
      "[CV 4/5] END ..C=100, gamma=0.1, kernel=sigmoid;, score=0.743 total time=   0.1s\n",
      "[CV 5/5] END ..C=100, gamma=0.1, kernel=sigmoid;, score=0.771 total time=   0.1s\n",
      "[CV 1/5] END ..C=100, gamma=0.01, kernel=linear;, score=0.757 total time=   0.1s\n",
      "[CV 2/5] END ..C=100, gamma=0.01, kernel=linear;, score=0.786 total time=   0.1s\n",
      "[CV 3/5] END ..C=100, gamma=0.01, kernel=linear;, score=0.796 total time=   0.1s\n",
      "[CV 4/5] END ..C=100, gamma=0.01, kernel=linear;, score=0.746 total time=   0.1s\n",
      "[CV 5/5] END ..C=100, gamma=0.01, kernel=linear;, score=0.771 total time=   0.1s\n",
      "[CV 1/5] END ....C=100, gamma=0.01, kernel=poly;, score=0.757 total time=   0.0s\n",
      "[CV 2/5] END ....C=100, gamma=0.01, kernel=poly;, score=0.757 total time=   0.0s\n",
      "[CV 3/5] END ....C=100, gamma=0.01, kernel=poly;, score=0.757 total time=   0.0s\n",
      "[CV 4/5] END ....C=100, gamma=0.01, kernel=poly;, score=0.757 total time=   0.0s\n",
      "[CV 5/5] END ....C=100, gamma=0.01, kernel=poly;, score=0.757 total time=   0.0s\n",
      "[CV 1/5] END .....C=100, gamma=0.01, kernel=rbf;, score=0.771 total time=   0.1s\n",
      "[CV 2/5] END .....C=100, gamma=0.01, kernel=rbf;, score=0.800 total time=   0.1s\n",
      "[CV 3/5] END .....C=100, gamma=0.01, kernel=rbf;, score=0.786 total time=   0.1s\n",
      "[CV 4/5] END .....C=100, gamma=0.01, kernel=rbf;, score=0.764 total time=   0.1s\n",
      "[CV 5/5] END .....C=100, gamma=0.01, kernel=rbf;, score=0.779 total time=   0.1s\n",
      "[CV 1/5] END .C=100, gamma=0.01, kernel=sigmoid;, score=0.779 total time=   0.1s\n",
      "[CV 2/5] END .C=100, gamma=0.01, kernel=sigmoid;, score=0.789 total time=   0.1s\n",
      "[CV 3/5] END .C=100, gamma=0.01, kernel=sigmoid;, score=0.793 total time=   0.1s\n",
      "[CV 4/5] END .C=100, gamma=0.01, kernel=sigmoid;, score=0.764 total time=   0.1s\n",
      "[CV 5/5] END .C=100, gamma=0.01, kernel=sigmoid;, score=0.800 total time=   0.1s\n",
      "[CV 1/5] END .C=100, gamma=0.001, kernel=linear;, score=0.757 total time=   0.1s\n",
      "[CV 2/5] END .C=100, gamma=0.001, kernel=linear;, score=0.786 total time=   0.1s\n",
      "[CV 3/5] END .C=100, gamma=0.001, kernel=linear;, score=0.796 total time=   0.1s\n",
      "[CV 4/5] END .C=100, gamma=0.001, kernel=linear;, score=0.746 total time=   0.1s\n",
      "[CV 5/5] END .C=100, gamma=0.001, kernel=linear;, score=0.771 total time=   0.1s\n",
      "[CV 1/5] END ...C=100, gamma=0.001, kernel=poly;, score=0.757 total time=   0.0s\n",
      "[CV 2/5] END ...C=100, gamma=0.001, kernel=poly;, score=0.757 total time=   0.0s\n",
      "[CV 3/5] END ...C=100, gamma=0.001, kernel=poly;, score=0.757 total time=   0.0s\n",
      "[CV 4/5] END ...C=100, gamma=0.001, kernel=poly;, score=0.757 total time=   0.0s\n",
      "[CV 5/5] END ...C=100, gamma=0.001, kernel=poly;, score=0.757 total time=   0.0s\n",
      "[CV 1/5] END ....C=100, gamma=0.001, kernel=rbf;, score=0.757 total time=   0.1s\n",
      "[CV 2/5] END ....C=100, gamma=0.001, kernel=rbf;, score=0.757 total time=   0.1s\n",
      "[CV 3/5] END ....C=100, gamma=0.001, kernel=rbf;, score=0.757 total time=   0.1s\n",
      "[CV 4/5] END ....C=100, gamma=0.001, kernel=rbf;, score=0.757 total time=   0.1s\n",
      "[CV 5/5] END ....C=100, gamma=0.001, kernel=rbf;, score=0.757 total time=   0.1s\n",
      "[CV 1/5] END C=100, gamma=0.001, kernel=sigmoid;, score=0.757 total time=   0.1s\n",
      "[CV 2/5] END C=100, gamma=0.001, kernel=sigmoid;, score=0.757 total time=   0.1s\n",
      "[CV 3/5] END C=100, gamma=0.001, kernel=sigmoid;, score=0.757 total time=   0.1s\n",
      "[CV 4/5] END C=100, gamma=0.001, kernel=sigmoid;, score=0.757 total time=   0.1s\n",
      "[CV 5/5] END C=100, gamma=0.001, kernel=sigmoid;, score=0.757 total time=   0.1s\n",
      "[CV 1/5] END C=100, gamma=0.0001, kernel=linear;, score=0.757 total time=   0.1s\n",
      "[CV 2/5] END C=100, gamma=0.0001, kernel=linear;, score=0.786 total time=   0.1s\n",
      "[CV 3/5] END C=100, gamma=0.0001, kernel=linear;, score=0.796 total time=   0.1s\n",
      "[CV 4/5] END C=100, gamma=0.0001, kernel=linear;, score=0.746 total time=   0.1s\n",
      "[CV 5/5] END C=100, gamma=0.0001, kernel=linear;, score=0.771 total time=   0.1s\n",
      "[CV 1/5] END ..C=100, gamma=0.0001, kernel=poly;, score=0.757 total time=   0.0s\n",
      "[CV 2/5] END ..C=100, gamma=0.0001, kernel=poly;, score=0.757 total time=   0.0s\n",
      "[CV 3/5] END ..C=100, gamma=0.0001, kernel=poly;, score=0.757 total time=   0.0s\n",
      "[CV 4/5] END ..C=100, gamma=0.0001, kernel=poly;, score=0.757 total time=   0.0s\n",
      "[CV 5/5] END ..C=100, gamma=0.0001, kernel=poly;, score=0.757 total time=   0.0s\n",
      "[CV 1/5] END ...C=100, gamma=0.0001, kernel=rbf;, score=0.757 total time=   0.1s\n",
      "[CV 2/5] END ...C=100, gamma=0.0001, kernel=rbf;, score=0.757 total time=   0.1s\n",
      "[CV 3/5] END ...C=100, gamma=0.0001, kernel=rbf;, score=0.757 total time=   0.1s\n",
      "[CV 4/5] END ...C=100, gamma=0.0001, kernel=rbf;, score=0.757 total time=   0.1s\n",
      "[CV 5/5] END ...C=100, gamma=0.0001, kernel=rbf;, score=0.757 total time=   0.1s\n",
      "[CV 1/5] END C=100, gamma=0.0001, kernel=sigmoid;, score=0.757 total time=   0.1s\n",
      "[CV 2/5] END C=100, gamma=0.0001, kernel=sigmoid;, score=0.757 total time=   0.1s\n",
      "[CV 3/5] END C=100, gamma=0.0001, kernel=sigmoid;, score=0.757 total time=   0.1s\n",
      "[CV 4/5] END C=100, gamma=0.0001, kernel=sigmoid;, score=0.757 total time=   0.1s\n",
      "[CV 5/5] END C=100, gamma=0.0001, kernel=sigmoid;, score=0.757 total time=   0.1s\n",
      "[CV 1/5] END ....C=1000, gamma=1, kernel=linear;, score=0.757 total time=   0.1s\n",
      "[CV 2/5] END ....C=1000, gamma=1, kernel=linear;, score=0.786 total time=   0.1s\n",
      "[CV 3/5] END ....C=1000, gamma=1, kernel=linear;, score=0.796 total time=   0.1s\n",
      "[CV 4/5] END ....C=1000, gamma=1, kernel=linear;, score=0.746 total time=   0.1s\n",
      "[CV 5/5] END ....C=1000, gamma=1, kernel=linear;, score=0.771 total time=   0.1s\n",
      "[CV 1/5] END ......C=1000, gamma=1, kernel=poly;, score=0.757 total time=   0.1s\n",
      "[CV 2/5] END ......C=1000, gamma=1, kernel=poly;, score=0.757 total time=   0.1s\n",
      "[CV 3/5] END ......C=1000, gamma=1, kernel=poly;, score=0.757 total time=   0.1s\n"
     ]
    },
    {
     "name": "stdout",
     "output_type": "stream",
     "text": [
      "[CV 4/5] END ......C=1000, gamma=1, kernel=poly;, score=0.757 total time=   0.1s\n",
      "[CV 5/5] END ......C=1000, gamma=1, kernel=poly;, score=0.757 total time=   0.1s\n",
      "[CV 1/5] END .......C=1000, gamma=1, kernel=rbf;, score=0.761 total time=   0.1s\n",
      "[CV 2/5] END .......C=1000, gamma=1, kernel=rbf;, score=0.771 total time=   0.1s\n",
      "[CV 3/5] END .......C=1000, gamma=1, kernel=rbf;, score=0.771 total time=   0.1s\n",
      "[CV 4/5] END .......C=1000, gamma=1, kernel=rbf;, score=0.757 total time=   0.1s\n",
      "[CV 5/5] END .......C=1000, gamma=1, kernel=rbf;, score=0.775 total time=   0.1s\n",
      "[CV 1/5] END ...C=1000, gamma=1, kernel=sigmoid;, score=0.671 total time=   0.0s\n",
      "[CV 2/5] END ...C=1000, gamma=1, kernel=sigmoid;, score=0.657 total time=   0.1s\n",
      "[CV 3/5] END ...C=1000, gamma=1, kernel=sigmoid;, score=0.729 total time=   0.0s\n",
      "[CV 4/5] END ...C=1000, gamma=1, kernel=sigmoid;, score=0.679 total time=   0.0s\n",
      "[CV 5/5] END ...C=1000, gamma=1, kernel=sigmoid;, score=0.714 total time=   0.0s\n",
      "[CV 1/5] END ..C=1000, gamma=0.1, kernel=linear;, score=0.757 total time=   0.1s\n",
      "[CV 2/5] END ..C=1000, gamma=0.1, kernel=linear;, score=0.786 total time=   0.1s\n",
      "[CV 3/5] END ..C=1000, gamma=0.1, kernel=linear;, score=0.796 total time=   0.1s\n",
      "[CV 4/5] END ..C=1000, gamma=0.1, kernel=linear;, score=0.746 total time=   0.1s\n",
      "[CV 5/5] END ..C=1000, gamma=0.1, kernel=linear;, score=0.771 total time=   0.1s\n",
      "[CV 1/5] END ....C=1000, gamma=0.1, kernel=poly;, score=0.757 total time=   0.1s\n",
      "[CV 2/5] END ....C=1000, gamma=0.1, kernel=poly;, score=0.757 total time=   0.1s\n",
      "[CV 3/5] END ....C=1000, gamma=0.1, kernel=poly;, score=0.757 total time=   0.1s\n",
      "[CV 4/5] END ....C=1000, gamma=0.1, kernel=poly;, score=0.757 total time=   0.1s\n",
      "[CV 5/5] END ....C=1000, gamma=0.1, kernel=poly;, score=0.757 total time=   0.1s\n",
      "[CV 1/5] END .....C=1000, gamma=0.1, kernel=rbf;, score=0.764 total time=   0.1s\n",
      "[CV 2/5] END .....C=1000, gamma=0.1, kernel=rbf;, score=0.786 total time=   0.1s\n",
      "[CV 3/5] END .....C=1000, gamma=0.1, kernel=rbf;, score=0.804 total time=   0.1s\n",
      "[CV 4/5] END .....C=1000, gamma=0.1, kernel=rbf;, score=0.754 total time=   0.1s\n",
      "[CV 5/5] END .....C=1000, gamma=0.1, kernel=rbf;, score=0.779 total time=   0.1s\n",
      "[CV 1/5] END .C=1000, gamma=0.1, kernel=sigmoid;, score=0.757 total time=   0.1s\n",
      "[CV 2/5] END .C=1000, gamma=0.1, kernel=sigmoid;, score=0.786 total time=   0.1s\n",
      "[CV 3/5] END .C=1000, gamma=0.1, kernel=sigmoid;, score=0.796 total time=   0.1s\n",
      "[CV 4/5] END .C=1000, gamma=0.1, kernel=sigmoid;, score=0.743 total time=   0.1s\n",
      "[CV 5/5] END .C=1000, gamma=0.1, kernel=sigmoid;, score=0.771 total time=   0.1s\n",
      "[CV 1/5] END .C=1000, gamma=0.01, kernel=linear;, score=0.757 total time=   0.1s\n",
      "[CV 2/5] END .C=1000, gamma=0.01, kernel=linear;, score=0.786 total time=   0.1s\n",
      "[CV 3/5] END .C=1000, gamma=0.01, kernel=linear;, score=0.796 total time=   0.1s\n",
      "[CV 4/5] END .C=1000, gamma=0.01, kernel=linear;, score=0.746 total time=   0.1s\n",
      "[CV 5/5] END .C=1000, gamma=0.01, kernel=linear;, score=0.771 total time=   0.1s\n",
      "[CV 1/5] END ...C=1000, gamma=0.01, kernel=poly;, score=0.757 total time=   0.0s\n",
      "[CV 2/5] END ...C=1000, gamma=0.01, kernel=poly;, score=0.757 total time=   0.0s\n",
      "[CV 3/5] END ...C=1000, gamma=0.01, kernel=poly;, score=0.757 total time=   0.0s\n",
      "[CV 4/5] END ...C=1000, gamma=0.01, kernel=poly;, score=0.757 total time=   0.0s\n",
      "[CV 5/5] END ...C=1000, gamma=0.01, kernel=poly;, score=0.757 total time=   0.0s\n",
      "[CV 1/5] END ....C=1000, gamma=0.01, kernel=rbf;, score=0.757 total time=   0.1s\n",
      "[CV 2/5] END ....C=1000, gamma=0.01, kernel=rbf;, score=0.789 total time=   0.1s\n",
      "[CV 3/5] END ....C=1000, gamma=0.01, kernel=rbf;, score=0.793 total time=   0.1s\n",
      "[CV 4/5] END ....C=1000, gamma=0.01, kernel=rbf;, score=0.746 total time=   0.1s\n",
      "[CV 5/5] END ....C=1000, gamma=0.01, kernel=rbf;, score=0.775 total time=   0.1s\n",
      "[CV 1/5] END C=1000, gamma=0.01, kernel=sigmoid;, score=0.757 total time=   0.1s\n",
      "[CV 2/5] END C=1000, gamma=0.01, kernel=sigmoid;, score=0.786 total time=   0.1s\n",
      "[CV 3/5] END C=1000, gamma=0.01, kernel=sigmoid;, score=0.796 total time=   0.1s\n",
      "[CV 4/5] END C=1000, gamma=0.01, kernel=sigmoid;, score=0.746 total time=   0.1s\n",
      "[CV 5/5] END C=1000, gamma=0.01, kernel=sigmoid;, score=0.771 total time=   0.1s\n",
      "[CV 1/5] END C=1000, gamma=0.001, kernel=linear;, score=0.757 total time=   0.1s\n",
      "[CV 2/5] END C=1000, gamma=0.001, kernel=linear;, score=0.786 total time=   0.1s\n",
      "[CV 3/5] END C=1000, gamma=0.001, kernel=linear;, score=0.796 total time=   0.1s\n",
      "[CV 4/5] END C=1000, gamma=0.001, kernel=linear;, score=0.746 total time=   0.1s\n",
      "[CV 5/5] END C=1000, gamma=0.001, kernel=linear;, score=0.771 total time=   0.1s\n",
      "[CV 1/5] END ..C=1000, gamma=0.001, kernel=poly;, score=0.757 total time=   0.0s\n",
      "[CV 2/5] END ..C=1000, gamma=0.001, kernel=poly;, score=0.757 total time=   0.0s\n",
      "[CV 3/5] END ..C=1000, gamma=0.001, kernel=poly;, score=0.757 total time=   0.0s\n",
      "[CV 4/5] END ..C=1000, gamma=0.001, kernel=poly;, score=0.757 total time=   0.0s\n",
      "[CV 5/5] END ..C=1000, gamma=0.001, kernel=poly;, score=0.757 total time=   0.0s\n",
      "[CV 1/5] END ...C=1000, gamma=0.001, kernel=rbf;, score=0.771 total time=   0.1s\n",
      "[CV 2/5] END ...C=1000, gamma=0.001, kernel=rbf;, score=0.800 total time=   0.1s\n",
      "[CV 3/5] END ...C=1000, gamma=0.001, kernel=rbf;, score=0.786 total time=   0.1s\n",
      "[CV 4/5] END ...C=1000, gamma=0.001, kernel=rbf;, score=0.768 total time=   0.1s\n",
      "[CV 5/5] END ...C=1000, gamma=0.001, kernel=rbf;, score=0.775 total time=   0.1s\n",
      "[CV 1/5] END C=1000, gamma=0.001, kernel=sigmoid;, score=0.779 total time=   0.1s\n",
      "[CV 2/5] END C=1000, gamma=0.001, kernel=sigmoid;, score=0.789 total time=   0.1s\n",
      "[CV 3/5] END C=1000, gamma=0.001, kernel=sigmoid;, score=0.793 total time=   0.1s\n",
      "[CV 4/5] END C=1000, gamma=0.001, kernel=sigmoid;, score=0.764 total time=   0.1s\n",
      "[CV 5/5] END C=1000, gamma=0.001, kernel=sigmoid;, score=0.800 total time=   0.1s\n",
      "[CV 1/5] END C=1000, gamma=0.0001, kernel=linear;, score=0.757 total time=   0.1s\n",
      "[CV 2/5] END C=1000, gamma=0.0001, kernel=linear;, score=0.786 total time=   0.1s\n",
      "[CV 3/5] END C=1000, gamma=0.0001, kernel=linear;, score=0.796 total time=   0.1s\n",
      "[CV 4/5] END C=1000, gamma=0.0001, kernel=linear;, score=0.746 total time=   0.1s\n",
      "[CV 5/5] END C=1000, gamma=0.0001, kernel=linear;, score=0.771 total time=   0.1s\n",
      "[CV 1/5] END .C=1000, gamma=0.0001, kernel=poly;, score=0.757 total time=   0.0s\n",
      "[CV 2/5] END .C=1000, gamma=0.0001, kernel=poly;, score=0.757 total time=   0.0s\n",
      "[CV 3/5] END .C=1000, gamma=0.0001, kernel=poly;, score=0.757 total time=   0.0s\n",
      "[CV 4/5] END .C=1000, gamma=0.0001, kernel=poly;, score=0.757 total time=   0.0s\n",
      "[CV 5/5] END .C=1000, gamma=0.0001, kernel=poly;, score=0.757 total time=   0.0s\n",
      "[CV 1/5] END ..C=1000, gamma=0.0001, kernel=rbf;, score=0.757 total time=   0.1s\n",
      "[CV 2/5] END ..C=1000, gamma=0.0001, kernel=rbf;, score=0.757 total time=   0.1s\n",
      "[CV 3/5] END ..C=1000, gamma=0.0001, kernel=rbf;, score=0.757 total time=   0.1s\n",
      "[CV 4/5] END ..C=1000, gamma=0.0001, kernel=rbf;, score=0.757 total time=   0.1s\n",
      "[CV 5/5] END ..C=1000, gamma=0.0001, kernel=rbf;, score=0.757 total time=   0.1s\n",
      "[CV 1/5] END C=1000, gamma=0.0001, kernel=sigmoid;, score=0.757 total time=   0.1s\n",
      "[CV 2/5] END C=1000, gamma=0.0001, kernel=sigmoid;, score=0.757 total time=   0.1s\n",
      "[CV 3/5] END C=1000, gamma=0.0001, kernel=sigmoid;, score=0.757 total time=   0.1s\n",
      "[CV 4/5] END C=1000, gamma=0.0001, kernel=sigmoid;, score=0.757 total time=   0.1s\n",
      "[CV 5/5] END C=1000, gamma=0.0001, kernel=sigmoid;, score=0.757 total time=   0.1s\n"
     ]
    },
    {
     "data": {
      "text/html": [
       "<style>#sk-container-id-3 {color: black;background-color: white;}#sk-container-id-3 pre{padding: 0;}#sk-container-id-3 div.sk-toggleable {background-color: white;}#sk-container-id-3 label.sk-toggleable__label {cursor: pointer;display: block;width: 100%;margin-bottom: 0;padding: 0.3em;box-sizing: border-box;text-align: center;}#sk-container-id-3 label.sk-toggleable__label-arrow:before {content: \"▸\";float: left;margin-right: 0.25em;color: #696969;}#sk-container-id-3 label.sk-toggleable__label-arrow:hover:before {color: black;}#sk-container-id-3 div.sk-estimator:hover label.sk-toggleable__label-arrow:before {color: black;}#sk-container-id-3 div.sk-toggleable__content {max-height: 0;max-width: 0;overflow: hidden;text-align: left;background-color: #f0f8ff;}#sk-container-id-3 div.sk-toggleable__content pre {margin: 0.2em;color: black;border-radius: 0.25em;background-color: #f0f8ff;}#sk-container-id-3 input.sk-toggleable__control:checked~div.sk-toggleable__content {max-height: 200px;max-width: 100%;overflow: auto;}#sk-container-id-3 input.sk-toggleable__control:checked~label.sk-toggleable__label-arrow:before {content: \"▾\";}#sk-container-id-3 div.sk-estimator input.sk-toggleable__control:checked~label.sk-toggleable__label {background-color: #d4ebff;}#sk-container-id-3 div.sk-label input.sk-toggleable__control:checked~label.sk-toggleable__label {background-color: #d4ebff;}#sk-container-id-3 input.sk-hidden--visually {border: 0;clip: rect(1px 1px 1px 1px);clip: rect(1px, 1px, 1px, 1px);height: 1px;margin: -1px;overflow: hidden;padding: 0;position: absolute;width: 1px;}#sk-container-id-3 div.sk-estimator {font-family: monospace;background-color: #f0f8ff;border: 1px dotted black;border-radius: 0.25em;box-sizing: border-box;margin-bottom: 0.5em;}#sk-container-id-3 div.sk-estimator:hover {background-color: #d4ebff;}#sk-container-id-3 div.sk-parallel-item::after {content: \"\";width: 100%;border-bottom: 1px solid gray;flex-grow: 1;}#sk-container-id-3 div.sk-label:hover label.sk-toggleable__label {background-color: #d4ebff;}#sk-container-id-3 div.sk-serial::before {content: \"\";position: absolute;border-left: 1px solid gray;box-sizing: border-box;top: 0;bottom: 0;left: 50%;z-index: 0;}#sk-container-id-3 div.sk-serial {display: flex;flex-direction: column;align-items: center;background-color: white;padding-right: 0.2em;padding-left: 0.2em;position: relative;}#sk-container-id-3 div.sk-item {position: relative;z-index: 1;}#sk-container-id-3 div.sk-parallel {display: flex;align-items: stretch;justify-content: center;background-color: white;position: relative;}#sk-container-id-3 div.sk-item::before, #sk-container-id-3 div.sk-parallel-item::before {content: \"\";position: absolute;border-left: 1px solid gray;box-sizing: border-box;top: 0;bottom: 0;left: 50%;z-index: -1;}#sk-container-id-3 div.sk-parallel-item {display: flex;flex-direction: column;z-index: 1;position: relative;background-color: white;}#sk-container-id-3 div.sk-parallel-item:first-child::after {align-self: flex-end;width: 50%;}#sk-container-id-3 div.sk-parallel-item:last-child::after {align-self: flex-start;width: 50%;}#sk-container-id-3 div.sk-parallel-item:only-child::after {width: 0;}#sk-container-id-3 div.sk-dashed-wrapped {border: 1px dashed gray;margin: 0 0.4em 0.5em 0.4em;box-sizing: border-box;padding-bottom: 0.4em;background-color: white;}#sk-container-id-3 div.sk-label label {font-family: monospace;font-weight: bold;display: inline-block;line-height: 1.2em;}#sk-container-id-3 div.sk-label-container {text-align: center;}#sk-container-id-3 div.sk-container {/* jupyter's `normalize.less` sets `[hidden] { display: none; }` but bootstrap.min.css set `[hidden] { display: none !important; }` so we also need the `!important` here to be able to override the default hidden behavior on the sphinx rendered scikit-learn.org. See: https://github.com/scikit-learn/scikit-learn/issues/21755 */display: inline-block !important;position: relative;}#sk-container-id-3 div.sk-text-repr-fallback {display: none;}</style><div id=\"sk-container-id-3\" class=\"sk-top-container\"><div class=\"sk-text-repr-fallback\"><pre>GridSearchCV(estimator=SVC(),\n",
       "             param_grid={&#x27;C&#x27;: [0.1, 1, 10, 100, 1000],\n",
       "                         &#x27;gamma&#x27;: [1, 0.1, 0.01, 0.001, 0.0001],\n",
       "                         &#x27;kernel&#x27;: [&#x27;linear&#x27;, &#x27;poly&#x27;, &#x27;rbf&#x27;, &#x27;sigmoid&#x27;]},\n",
       "             verbose=3)</pre><b>In a Jupyter environment, please rerun this cell to show the HTML representation or trust the notebook. <br />On GitHub, the HTML representation is unable to render, please try loading this page with nbviewer.org.</b></div><div class=\"sk-container\" hidden><div class=\"sk-item sk-dashed-wrapped\"><div class=\"sk-label-container\"><div class=\"sk-label sk-toggleable\"><input class=\"sk-toggleable__control sk-hidden--visually\" id=\"sk-estimator-id-7\" type=\"checkbox\" ><label for=\"sk-estimator-id-7\" class=\"sk-toggleable__label sk-toggleable__label-arrow\">GridSearchCV</label><div class=\"sk-toggleable__content\"><pre>GridSearchCV(estimator=SVC(),\n",
       "             param_grid={&#x27;C&#x27;: [0.1, 1, 10, 100, 1000],\n",
       "                         &#x27;gamma&#x27;: [1, 0.1, 0.01, 0.001, 0.0001],\n",
       "                         &#x27;kernel&#x27;: [&#x27;linear&#x27;, &#x27;poly&#x27;, &#x27;rbf&#x27;, &#x27;sigmoid&#x27;]},\n",
       "             verbose=3)</pre></div></div></div><div class=\"sk-parallel\"><div class=\"sk-parallel-item\"><div class=\"sk-item\"><div class=\"sk-label-container\"><div class=\"sk-label sk-toggleable\"><input class=\"sk-toggleable__control sk-hidden--visually\" id=\"sk-estimator-id-8\" type=\"checkbox\" ><label for=\"sk-estimator-id-8\" class=\"sk-toggleable__label sk-toggleable__label-arrow\">estimator: SVC</label><div class=\"sk-toggleable__content\"><pre>SVC()</pre></div></div></div><div class=\"sk-serial\"><div class=\"sk-item\"><div class=\"sk-estimator sk-toggleable\"><input class=\"sk-toggleable__control sk-hidden--visually\" id=\"sk-estimator-id-9\" type=\"checkbox\" ><label for=\"sk-estimator-id-9\" class=\"sk-toggleable__label sk-toggleable__label-arrow\">SVC</label><div class=\"sk-toggleable__content\"><pre>SVC()</pre></div></div></div></div></div></div></div></div></div></div>"
      ],
      "text/plain": [
       "GridSearchCV(estimator=SVC(),\n",
       "             param_grid={'C': [0.1, 1, 10, 100, 1000],\n",
       "                         'gamma': [1, 0.1, 0.01, 0.001, 0.0001],\n",
       "                         'kernel': ['linear', 'poly', 'rbf', 'sigmoid']},\n",
       "             verbose=3)"
      ]
     },
     "execution_count": 74,
     "metadata": {},
     "output_type": "execute_result"
    }
   ],
   "source": [
    "from sklearn.model_selection import GridSearchCV\n",
    "\n",
    "# defining parameter range\n",
    "param_grid = {'C': [0.1, 1, 10, 100, 1000],\n",
    "\t\t\t'gamma': [1, 0.1, 0.01, 0.001, 0.0001],\n",
    "\t\t\t'kernel': ['linear', 'poly', 'rbf', 'sigmoid']}\n",
    "\n",
    "grid = GridSearchCV(SVC(), param_grid, refit = True, verbose = 3)\n",
    "\n",
    "# fitting the model for grid search\n",
    "grid.fit(nova_lista, lista_label)\n",
    "\n",
    "\n",
    "# from sklearn.feature_extraction.text import CountVectorizer\n",
    "# import sklearn.pipeline\n",
    "\n",
    "# pipeline = sklearn.pipeline.Pipeline([\n",
    "#            ('vect', TfidfVectorizer()),\n",
    "#            ('clf', SVC()),\n",
    "# ])\n",
    "\n",
    "# parameters = [{\n",
    "#     'vect__max_df': (0.5, 0.75, 1.0),\n",
    "#     'vect__max_features': (None, 5000, 10000, 50000),\n",
    "#     'vect__ngram_range': ((1, 1), (1, 2), (1,3)),  \n",
    "#     'tfidf__use_idf': (True, False),\n",
    "#     'tfidf__norm': ('l1', 'l2', None),\n",
    "#     'clf__max_iter': (20,),\n",
    "#     'clf__alpha': (0.00001, 0.000001),\n",
    "#     'clf__penalty': ('l2', 'elasticnet'),\n",
    "#     'clf__max_iter': (10, 50, 80)},\n",
    "# \t{\n",
    "#     'vect': (CountVectorizer(),)\n",
    "#     # count_vect_params...\n",
    "#     'clf__max_iter': (20,),\n",
    "#     'clf__alpha': (0.00001, 0.000001),\n",
    "#     'clf__penalty': ('l2', 'elasticnet'),\n",
    "#     'clf__max_iter': (10, 50, 80)\n",
    "# }]\n",
    "\n",
    "# grid_search = GridSearchCV(pipeline, parameters)\n",
    "\n",
    "# # fitting the model for grid search\n",
    "# grid.fit(nova_lista, lista_label)\n"
   ]
  },
  {
   "cell_type": "code",
   "execution_count": 75,
   "id": "b0ce43a4",
   "metadata": {},
   "outputs": [
    {
     "name": "stdout",
     "output_type": "stream",
     "text": [
      "{'C': 1, 'gamma': 1, 'kernel': 'linear'}\n",
      "SVC(C=1, gamma=1, kernel='linear')\n"
     ]
    }
   ],
   "source": [
    "# print best parameter after tuning\n",
    "print(grid.best_params_)\n",
    "\n",
    "# print how our model looks after hyper-parameter tuning\n",
    "print(grid.best_estimator_)\n"
   ]
  },
  {
   "cell_type": "code",
   "execution_count": 77,
   "id": "764c18a6",
   "metadata": {},
   "outputs": [],
   "source": [
    "corpus = df_train[\"text\"]\n",
    "X = vectorizer.fit_transform(corpus)"
   ]
  },
  {
   "cell_type": "code",
   "execution_count": 79,
   "id": "fb4143a6",
   "metadata": {},
   "outputs": [],
   "source": [
    "lista_label = np.array(df_train[\"label\"])\n",
    "lista_label = le.fit_transform(lista_label)\n",
    "\n",
    "clf = make_pipeline(SVC(class_weight='balanced', C=1, gamma=1, kernel='linear'))\n",
    "clf = clf.fit(X, lista_label)\n"
   ]
  },
  {
   "cell_type": "code",
   "execution_count": 80,
   "id": "1feb13bb",
   "metadata": {},
   "outputs": [
    {
     "name": "stdout",
     "output_type": "stream",
     "text": [
      "Training:0.924795918367347\n",
      "Test:0.7753571428571429\n"
     ]
    }
   ],
   "source": [
    "print(\"Training:\"+str(clf.score(X, lista_label)))\n",
    "\n",
    "lista_label_test = np.array(df_test[\"label\"])\n",
    "lista_label_test = le.transform(lista_label_test)\n",
    "nova_lista_test = vectorizer.transform(df_test[\"text\"])\n",
    "\n",
    "print(\"Test:\"+str(clf.score(nova_lista_test,lista_label_test)))"
   ]
  },
  {
   "cell_type": "code",
   "execution_count": 81,
   "id": "840c8f90",
   "metadata": {},
   "outputs": [],
   "source": [
    "def evaluate(model, tf_idf, text, y_test, target_names=('not sexist', 'sexist')):\n",
    "    import matplotlib.pyplot as plt\n",
    "    from sklearn.metrics import classification_report\n",
    "    from sklearn.metrics import ConfusionMatrixDisplay\n",
    "    from sklearn.metrics import precision_recall_fscore_support\n",
    "\n",
    "    text_features = tf_idf.transform(text)\n",
    "    y_test_pred = model.predict(text_features)\n",
    "    print(classification_report(y_test, y_test_pred, target_names=target_names))\n",
    "\n",
    "    precision, recall, f1, _ = precision_recall_fscore_support(y_test, y_test_pred, average=\"micro\")\n",
    "    print(f\"Precision: {precision:6.2f}\")\n",
    "    print(f\"   Recall: {recall:6.2f}\")\n",
    "    print(f\"       F1: {f1:6.2f}\")\n",
    "\n",
    "    ConfusionMatrixDisplay.from_predictions(y_test, y_test_pred, display_labels=target_names)\n",
    "    plt.show()"
   ]
  },
  {
   "cell_type": "code",
   "execution_count": 82,
   "id": "c8d6b0f8",
   "metadata": {},
   "outputs": [
    {
     "name": "stdout",
     "output_type": "stream",
     "text": [
      "              precision    recall  f1-score   support\n",
      "\n",
      "  not sexist       0.88      0.82      0.85      2120\n",
      "      sexist       0.53      0.65      0.58       680\n",
      "\n",
      "    accuracy                           0.78      2800\n",
      "   macro avg       0.70      0.73      0.71      2800\n",
      "weighted avg       0.79      0.78      0.78      2800\n",
      "\n",
      "Precision:   0.78\n",
      "   Recall:   0.78\n",
      "       F1:   0.78\n"
     ]
    },
    {
     "data": {
      "image/png": "[encoded data removed]",
      "text/plain": [
       "<Figure size 640x480 with 2 Axes>"
      ]
     },
     "metadata": {},
     "output_type": "display_data"
    }
   ],
   "source": [
    "evaluate(clf, vectorizer, df_test.text, lista_label_test)"
   ]
  },
  {
   "cell_type": "code",
   "execution_count": 56,
   "id": "116d2e0f",
   "metadata": {},
   "outputs": [],
   "source": [
    "import pickle\n",
    "tfidf_clf = pickle.dumps(clf)"
   ]
  },
  {
   "cell_type": "code",
   "execution_count": 25,
   "id": "4403d40b",
   "metadata": {},
   "outputs": [
    {
     "name": "stdout",
     "output_type": "stream",
     "text": [
      "not sexist\n"
     ]
    }
   ],
   "source": [
    "load_w2v_clf = pickle.loads(word2vec_clf)\n",
    "tekst = \"woman is nothing\"\n",
    "tekst_v = W2Vvectorize(tekst)\n",
    "if round(np.mean(load_w2v_clf.predict(tekst_v))) == 1: print('sexist')\n",
    "else: print('not sexist')"
   ]
  },
  {
   "cell_type": "code",
   "execution_count": 59,
   "id": "a2cbcfb2",
   "metadata": {},
   "outputs": [
    {
     "name": "stdout",
     "output_type": "stream",
     "text": [
      "not sexist\n"
     ]
    }
   ],
   "source": [
    "load_tfidf_clf = pickle.loads(tfidf_clf)\n",
    "tekst = \"you are nice\"\n",
    "tekst_v = vectorizer.transform([tekst])\n",
    "if round(np.mean(load_tfidf_clf.predict(tekst_v))) == 1: print('sexist')\n",
    "else: print('not sexist')"
   ]
  }
 ],
 "metadata": {
  "kernelspec": {
   "display_name": "Python 3 (ipykernel)",
   "language": "python",
   "name": "python3"
  },
  "language_info": {
   "codemirror_mode": {
    "name": "ipython",
    "version": 3
   },
   "file_extension": ".py",
   "mimetype": "text/x-python",
   "name": "python",
   "nbconvert_exporter": "python",
   "pygments_lexer": "ipython3",
   "version": "3.10.8"
  },
  "vscode": {
   "interpreter": {
    "hash": "dcf522520c4ab294874b08ad2d5e2f4ff47a53358720a277eb0c4174011f720e"
   }
  }
 },
 "nbformat": 4,
 "nbformat_minor": 5
}
