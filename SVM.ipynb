{
 "cells": [
  {
   "cell_type": "markdown",
   "id": "13d94d2a",
   "metadata": {},
   "source": [
    "Podaci nisu podijeljeni na train/valid/test"
   ]
  },
  {
   "cell_type": "code",
   "execution_count": 2,
   "id": "bfc0298d",
   "metadata": {},
   "outputs": [],
   "source": [
    "import re\n",
    "import spacy\n",
    "import pandas as pd\n",
    "from nltk.corpus import stopwords\n",
    "from collections import Counter\n",
    "nlp = spacy.load(\n",
    "    \"en_core_web_lg\"\n",
    ")\n",
    "df = pd.read_csv(\"train_all_tasks.csv\")"
   ]
  },
  {
   "cell_type": "markdown",
   "id": "bba1f986",
   "metadata": {},
   "source": [
    "Svaki redak uzorka sadržava:"
   ]
  },
  {
   "cell_type": "code",
   "execution_count": null,
   "id": "cce21613",
   "metadata": {
    "scrolled": true
   },
   "outputs": [],
   "source": [
    "print(df.columns)"
   ]
  },
  {
   "cell_type": "markdown",
   "id": "1e99a6a4",
   "metadata": {},
   "source": [
    "Broj redaka:"
   ]
  },
  {
   "cell_type": "code",
   "execution_count": null,
   "id": "fd1e816d",
   "metadata": {
    "scrolled": true
   },
   "outputs": [],
   "source": [
    "print(df.shape[0])"
   ]
  },
  {
   "cell_type": "markdown",
   "id": "4295b9f9",
   "metadata": {},
   "source": [
    "Radimo s nebalansiranim skupom podataka\n",
    "\n",
    "Broj redaka iz klase seksistički:"
   ]
  },
  {
   "cell_type": "code",
   "execution_count": null,
   "id": "88bf7539",
   "metadata": {},
   "outputs": [],
   "source": [
    "print(len(df[df['label_sexist'] == 'sexist']))"
   ]
  },
  {
   "cell_type": "markdown",
   "id": "be9aa1ec",
   "metadata": {},
   "source": [
    "Broj redaka iz klase neseksistički:"
   ]
  },
  {
   "cell_type": "code",
   "execution_count": null,
   "id": "2e2d69b7",
   "metadata": {},
   "outputs": [],
   "source": [
    "print(len(df[df['label_sexist'] == 'not sexist']))"
   ]
  },
  {
   "cell_type": "markdown",
   "id": "c827de28",
   "metadata": {},
   "source": [
    "Nema Nan podataka:"
   ]
  },
  {
   "cell_type": "code",
   "execution_count": null,
   "id": "df09f0b4",
   "metadata": {},
   "outputs": [],
   "source": [
    "print(df.isnull().values.any())"
   ]
  },
  {
   "cell_type": "code",
   "execution_count": null,
   "id": "9d46be00",
   "metadata": {},
   "outputs": [],
   "source": [
    "najvise = 0\n",
    "seksisti = []\n",
    "neseksisti = []\n",
    "prosrijeci = [0, 0]\n",
    "djelitelj = [0, 0]\n",
    "for i in df.itertuples():\n",
    "    doc = nlp(i.text.lower())\n",
    "    najvise = max(najvise, len(doc))\n",
    "    br_rijeci = len(doc)\n",
    "    tret = [token.lemma_\n",
    "         for token in doc\n",
    "         if not token.is_stop and not token.is_punct and token.is_alpha]\n",
    "    if i.label_sexist == 'sexist':\n",
    "        prosrijeci[0] += br_rijeci\n",
    "        djelitelj[0] += 1\n",
    "        for j in tret:\n",
    "            seksisti.append(j)\n",
    "    else:\n",
    "        prosrijeci[1] += br_rijeci\n",
    "        djelitelj[1] += 1\n",
    "        for j in tret:\n",
    "            neseksisti.append(j)"
   ]
  },
  {
   "cell_type": "markdown",
   "id": "cd59f4e0",
   "metadata": {},
   "source": [
    "Najčešće riječi za klasu seksisti:"
   ]
  },
  {
   "cell_type": "code",
   "execution_count": null,
   "id": "a9b61414",
   "metadata": {},
   "outputs": [],
   "source": [
    "word_freq = Counter(seksisti)\n",
    "common_words = word_freq.most_common(5)\n",
    "for i in common_words:\n",
    "    print(i)"
   ]
  },
  {
   "cell_type": "markdown",
   "id": "64daf304",
   "metadata": {},
   "source": [
    "Najčešće riječi za klasu ne seksisti:"
   ]
  },
  {
   "cell_type": "code",
   "execution_count": null,
   "id": "ca749319",
   "metadata": {},
   "outputs": [],
   "source": [
    "word_freq = Counter(neseksisti)\n",
    "common_words = word_freq.most_common(5)\n",
    "for i in common_words:\n",
    "    print(i)"
   ]
  },
  {
   "cell_type": "markdown",
   "id": "8c31a79c",
   "metadata": {},
   "source": [
    "Broj prosječnih riječi: (tokena)\n",
    "[seksisti, neseksisti]"
   ]
  },
  {
   "cell_type": "code",
   "execution_count": null,
   "id": "3942a564",
   "metadata": {},
   "outputs": [],
   "source": [
    "print(najvise)\n",
    "prosrijeci[0] /= djelitelj[0]\n",
    "prosrijeci[1] /= djelitelj[1]\n",
    "print(prosrijeci)"
   ]
  },
  {
   "cell_type": "markdown",
   "id": "7a95cf87",
   "metadata": {},
   "source": [
    "Razdvojimo na train/valid/test:"
   ]
  },
  {
   "cell_type": "code",
   "execution_count": 3,
   "id": "0b33652d",
   "metadata": {},
   "outputs": [
    {
     "name": "stdout",
     "output_type": "stream",
     "text": [
      "2800 1400 9800\n"
     ]
    }
   ],
   "source": [
    "import numpy as np\n",
    "from sklearn.model_selection import StratifiedShuffleSplit\n",
    "\n",
    "sss = StratifiedShuffleSplit(n_splits=1, test_size=0.2, random_state=42)\n",
    "\n",
    "lista_tekst = df[\"text\"]\n",
    "lista_label = df[\"label_sexist\"]\n",
    "\n",
    "for train_index, test_index in sss.split(lista_tekst, lista_label):\n",
    "    X_train, X_test = lista_tekst[train_index], lista_tekst[test_index]\n",
    "    y_train, y_test = lista_label[train_index], lista_label[test_index]\n",
    "    d_train = {\"text\": X_train, \"label\": y_train}\n",
    "    df_train = pd.DataFrame(d_train)\n",
    "    d_test = {\"text\": X_test, \"label\": y_test}\n",
    "    df_test = pd.DataFrame(d_test)\n",
    "\n",
    "sss = StratifiedShuffleSplit(n_splits=1, test_size=0.125, random_state=42)\n",
    "\n",
    "lista_tekst = np.array(df_train[\"text\"])\n",
    "lista_label = np.array(df_train[\"label\"])\n",
    "\n",
    "for train_index, valid_index in sss.split(lista_tekst, lista_label):\n",
    "    X_train, X_valid = lista_tekst[train_index], lista_tekst[valid_index]\n",
    "    y_train, y_valid = lista_label[train_index], lista_label[valid_index]\n",
    "    d_train = {\"text\": X_train, \"label\": y_train}\n",
    "    df_train = pd.DataFrame(d_train)\n",
    "    d_valid = {\"text\": X_valid, \"label\": y_valid}\n",
    "    df_valid = pd.DataFrame(d_valid)\n",
    "\n",
    "print(len(df_test), len(df_valid), len(df_train))\n"
   ]
  },
  {
   "cell_type": "markdown",
   "id": "7901d7e6",
   "metadata": {},
   "source": [
    "Pogledajmo [URL], [USER], emoji:"
   ]
  },
  {
   "cell_type": "markdown",
   "id": "127be996",
   "metadata": {},
   "source": [
    "Za [URL]:"
   ]
  },
  {
   "cell_type": "code",
   "execution_count": null,
   "id": "652a8bfc",
   "metadata": {},
   "outputs": [],
   "source": [
    "urlovi = [0, 0]\n",
    "sexist_c = len(df_train[df_train['label'] == 'sexist'])\n",
    "nsexist_c = len(df_train[df_train['label'] == 'not sexist'])\n",
    "for i in df_train.itertuples():\n",
    "    kolko = i.text.count(\"[URL]\")\n",
    "    if i.label == 'sexist':\n",
    "        urlovi[0] += kolko\n",
    "    else:\n",
    "        urlovi[1] += kolko\n",
    "print(urlovi)\n",
    "print(urlovi[0] / sexist_c, urlovi[0] / nsexist_c)"
   ]
  },
  {
   "cell_type": "markdown",
   "id": "900c7109",
   "metadata": {},
   "source": [
    "Za [USER]:"
   ]
  },
  {
   "cell_type": "code",
   "execution_count": null,
   "id": "793f111c",
   "metadata": {},
   "outputs": [],
   "source": [
    "useri = [0, 0]\n",
    "for i in df_train.itertuples():\n",
    "    kolko = i.text.count(\"[USER]\")\n",
    "    if i.label == 'sexist':\n",
    "        useri[0] += kolko\n",
    "    else:\n",
    "        useri[1] += kolko\n",
    "print(useri)\n",
    "print(useri[0] / sexist_c, useri[1] / nsexist_c)"
   ]
  },
  {
   "cell_type": "markdown",
   "id": "dc74838a",
   "metadata": {},
   "source": [
    "Za emoji:"
   ]
  },
  {
   "cell_type": "code",
   "execution_count": null,
   "id": "51614faf",
   "metadata": {},
   "outputs": [],
   "source": [
    "import re\n",
    "a_list = ['🤔 🙈 me así, bla es se 😌 ds 💕👭👙']\n",
    "re.findall(r'[^\\w\\s,]', a_list[0])"
   ]
  },
  {
   "cell_type": "code",
   "execution_count": null,
   "id": "e302f4bf",
   "metadata": {},
   "outputs": [],
   "source": [
    "emojiji = [0, 0]\n",
    "for i in df_train.itertuples():\n",
    "    doc = nlp(i.text)\n",
    "    kolko = len(re.findall(r'[^\\w\\s,]', str(doc)[0]))\n",
    "    if i.label == 'sexist':\n",
    "        emojiji[0] += kolko\n",
    "    else:\n",
    "        emojiji[1] += kolko\n",
    "print(emojiji)\n",
    "print(emojiji[0] / sexist_c, emojiji[1] / nsexist_c)"
   ]
  },
  {
   "cell_type": "markdown",
   "id": "6aed3631",
   "metadata": {},
   "source": [
    "SVM + WORD2VEC"
   ]
  },
  {
   "cell_type": "code",
   "execution_count": 4,
   "id": "7d8b70a0",
   "metadata": {},
   "outputs": [],
   "source": [
    "from gensim.models import KeyedVectors\n",
    "from gensim import models\n",
    "from gensim.utils import simple_preprocess\n",
    "\n",
    "word2vec_path = '.\\word2vec_pretrained\\GoogleNews-vectors-negative300.bin'\n",
    "model = models.KeyedVectors.load_word2vec_format(word2vec_path, binary = True)\n",
    "\n"
   ]
  },
  {
   "cell_type": "code",
   "execution_count": 4,
   "id": "0534d082",
   "metadata": {},
   "outputs": [
    {
     "data": {
      "text/plain": [
       "[('woman', 0.7664012908935547),\n",
       " ('boy', 0.6824871301651001),\n",
       " ('teenager', 0.6586930155754089),\n",
       " ('teenage_girl', 0.6147903203964233),\n",
       " ('girl', 0.5921714305877686),\n",
       " ('suspected_purse_snatcher', 0.571636438369751),\n",
       " ('robber', 0.5585119128227234),\n",
       " ('Robbery_suspect', 0.5584409832954407),\n",
       " ('teen_ager', 0.5549196600914001),\n",
       " ('men', 0.5489763021469116)]"
      ]
     },
     "execution_count": 4,
     "metadata": {},
     "output_type": "execute_result"
    }
   ],
   "source": [
    "model.most_similar(positive=[\"man\"])\n"
   ]
  },
  {
   "cell_type": "code",
   "execution_count": 5,
   "id": "e03e3bd9",
   "metadata": {},
   "outputs": [],
   "source": [
    "def W2Vvectorize(train):\n",
    "    corpus_text = '\\n'.join(train)\n",
    "    sentences = corpus_text.split('\\n')\n",
    "    sentences = [line.lower().split(' ') for line in sentences]\n",
    "\n",
    "    def clean(s):\n",
    "        return [w.strip(',.\"!?:;()\\'') for w in s]\n",
    "\n",
    "    sentences = [clean(s) for s in sentences if len(s) > 0]\n",
    "    vector=[]\n",
    "    for sent in sentences:\n",
    "        sent_vec=np.zeros(300)\n",
    "        count =0\n",
    "        for word in sent: \n",
    "            if word in model:\n",
    "                vec = model[word]\n",
    "                sent_vec += vec \n",
    "                count += 1\n",
    "        if count != 0:\n",
    "            sent_vec /= count #normalize\n",
    "        vector.append(sent_vec)\n",
    "    return vector"
   ]
  },
  {
   "cell_type": "markdown",
   "id": "5797c28a",
   "metadata": {},
   "source": [
    "W2v prije optimizacije hiperparametara:"
   ]
  },
  {
   "cell_type": "code",
   "execution_count": 6,
   "id": "381d51cf",
   "metadata": {},
   "outputs": [],
   "source": [
    "from sklearn.svm import SVC\n",
    "from sklearn.pipeline import make_pipeline\n",
    "from sklearn.preprocessing import StandardScaler\n",
    "from sklearn.preprocessing import LabelEncoder\n",
    "\n",
    "le = LabelEncoder()\n",
    "clf = SVC()\n",
    "\n",
    "label_train = np.array(df_train[\"label\"])\n",
    "label_train = le.fit_transform(label_train)\n",
    "\n",
    "text_train = W2Vvectorize(df_train[\"text\"])\n",
    "\n",
    "clf = make_pipeline(StandardScaler(),SVC(gamma='auto'))\n",
    "clf = clf.fit(text_train, label_train)"
   ]
  },
  {
   "cell_type": "code",
   "execution_count": 7,
   "id": "93ce5f45",
   "metadata": {},
   "outputs": [
    {
     "name": "stdout",
     "output_type": "stream",
     "text": [
      "Training:0.8760204081632653\n",
      "Test:0.8039285714285714\n"
     ]
    }
   ],
   "source": [
    "print(\"Training:\"+str(clf.score(text_train, label_train)))\n",
    "\n",
    "label_test = np.array(df_test[\"label\"])\n",
    "label_test = le.fit_transform(label_test)\n",
    "text_test = W2Vvectorize(df_test[\"text\"])\n",
    "\n",
    "print(\"Test:\"+str(clf.score(text_test,label_test)))"
   ]
  },
  {
   "cell_type": "code",
   "execution_count": 8,
   "id": "59fefde5",
   "metadata": {},
   "outputs": [],
   "source": [
    "def evaluate(model, text, y_test, target_names=('not sexist', 'sexist')):\n",
    "    import matplotlib.pyplot as plt\n",
    "    from sklearn.metrics import classification_report\n",
    "    from sklearn.metrics import ConfusionMatrixDisplay\n",
    "    from sklearn.metrics import precision_recall_fscore_support\n",
    "\n",
    "    text_features = W2Vvectorize(text)\n",
    "    y_test_pred = model.predict(text_features)\n",
    "    print(classification_report(y_test, y_test_pred, target_names=target_names))\n",
    "\n",
    "    precision, recall, f1, _ = precision_recall_fscore_support(y_test, y_test_pred, average=\"micro\")\n",
    "    print(f\"Precision: {precision:6.2f}\")\n",
    "    print(f\"   Recall: {recall:6.2f}\")\n",
    "    print(f\"       F1: {f1:6.2f}\")\n",
    "\n",
    "    ConfusionMatrixDisplay.from_predictions(y_test, y_test_pred, display_labels=target_names)\n",
    "    plt.show()"
   ]
  },
  {
   "cell_type": "code",
   "execution_count": 9,
   "id": "538b0708",
   "metadata": {},
   "outputs": [
    {
     "name": "stdout",
     "output_type": "stream",
     "text": [
      "              precision    recall  f1-score   support\n",
      "\n",
      "  not sexist       0.81      0.97      0.88      2120\n",
      "      sexist       0.75      0.29      0.42       680\n",
      "\n",
      "    accuracy                           0.80      2800\n",
      "   macro avg       0.78      0.63      0.65      2800\n",
      "weighted avg       0.80      0.80      0.77      2800\n",
      "\n",
      "Precision:   0.80\n",
      "   Recall:   0.80\n",
      "       F1:   0.80\n"
     ]
    },
    {
     "data": {
      "image/png": "[encoded data removed]",
      "text/plain": [
       "<Figure size 432x288 with 2 Axes>"
      ]
     },
     "metadata": {
      "needs_background": "light"
     },
     "output_type": "display_data"
    }
   ],
   "source": [
    "evaluate(clf, df_test.text, label_test)"
   ]
  },
  {
   "cell_type": "markdown",
   "id": "f193dd93",
   "metadata": {},
   "source": [
    "W2v poslije optimizacije hiperparametara:"
   ]
  },
  {
   "cell_type": "markdown",
   "id": "e610421d",
   "metadata": {},
   "source": [
    "Tražimo na train i provjeravamo nad valid"
   ]
  },
  {
   "cell_type": "code",
   "execution_count": 10,
   "id": "5a1c6f7c",
   "metadata": {},
   "outputs": [
    {
     "name": "stdout",
     "output_type": "stream",
     "text": [
      "9800 1400\n",
      "9800 1400\n",
      "11200 11200\n"
     ]
    }
   ],
   "source": [
    "from sklearn.preprocessing import LabelEncoder\n",
    "\n",
    "le = LabelEncoder()\n",
    "my_test_fold = []\n",
    "\n",
    "\n",
    "for i in range(len(df_train)):\n",
    "    my_test_fold.append(-1)\n",
    "\n",
    "for i in range(len(df_valid)):\n",
    "    my_test_fold.append(0)\n",
    "\n",
    "label_train = np.array(df_train[\"label\"])\n",
    "label_train = le.fit_transform(label_train)\n",
    "text_train = W2Vvectorize(df_train[\"text\"])\n",
    "label_valid = np.array(df_valid[\"label\"])\n",
    "label_valid = le.fit_transform(label_valid)\n",
    "text_valid = W2Vvectorize(df_valid[\"text\"])\n",
    "\n",
    "print(len(text_train), len(text_valid))\n",
    "print(len(label_train), len(label_valid))\n",
    "\n",
    "merged_ts = np.concatenate((text_train, text_valid),axis=0)\n",
    "merged_labels = np.concatenate((label_train,  label_valid),axis=0)\n",
    "\n",
    "print(len(merged_ts), len(merged_labels))"
   ]
  },
  {
   "cell_type": "code",
   "execution_count": 11,
   "id": "e111e95c",
   "metadata": {},
   "outputs": [],
   "source": [
    "from sklearn.model_selection import PredefinedSplit\n",
    "from sklearn.model_selection import GridSearchCV\n",
    "from sklearn.preprocessing import StandardScaler\n",
    "from sklearn.svm import SVC\n",
    "from sklearn.pipeline import Pipeline\n",
    "# defining parameter range\n",
    "param_grid = [{'svm__C': [0.1, 1, 10],\n",
    "\t      'svm__gamma': [1, 0.1, 0.01, 0.001, 0.0001],\n",
    "\t      'svm__kernel': ['linear', 'poly', 'rbf', 'sigmoid']}]\n",
    "ps = PredefinedSplit(test_fold=my_test_fold)\n",
    "pipeline = Pipeline([\n",
    "        (\"scaler\", StandardScaler()), \n",
    "        (\"svm\", SVC(class_weight='balanced'))])   \n",
    "grid = GridSearchCV(pipeline, param_grid, refit = True, verbose = 3, cv=ps)"
   ]
  },
  {
   "cell_type": "code",
   "execution_count": 12,
   "id": "bf729315",
   "metadata": {},
   "outputs": [
    {
     "name": "stdout",
     "output_type": "stream",
     "text": [
      "Fitting 1 folds for each of 60 candidates, totalling 60 fits\n",
      "[CV 1/1] END svm__C=0.1, svm__gamma=1, svm__kernel=linear;, score=0.689 total time=  27.9s\n",
      "[CV 1/1] END svm__C=0.1, svm__gamma=1, svm__kernel=poly;, score=0.739 total time=  49.9s\n",
      "[CV 1/1] END svm__C=0.1, svm__gamma=1, svm__kernel=rbf;, score=0.757 total time=  22.5s\n",
      "[CV 1/1] END svm__C=0.1, svm__gamma=1, svm__kernel=sigmoid;, score=0.543 total time=  11.4s\n",
      "[CV 1/1] END svm__C=0.1, svm__gamma=0.1, svm__kernel=linear;, score=0.689 total time=  25.1s\n",
      "[CV 1/1] END svm__C=0.1, svm__gamma=0.1, svm__kernel=poly;, score=0.739 total time=  48.1s\n",
      "[CV 1/1] END svm__C=0.1, svm__gamma=0.1, svm__kernel=rbf;, score=0.757 total time=  22.5s\n",
      "[CV 1/1] END svm__C=0.1, svm__gamma=0.1, svm__kernel=sigmoid;, score=0.539 total time=  14.2s\n",
      "[CV 1/1] END svm__C=0.1, svm__gamma=0.01, svm__kernel=linear;, score=0.689 total time=  25.1s\n",
      "[CV 1/1] END svm__C=0.1, svm__gamma=0.01, svm__kernel=poly;, score=0.749 total time=  19.5s\n",
      "[CV 1/1] END svm__C=0.1, svm__gamma=0.01, svm__kernel=rbf;, score=0.731 total time=  23.4s\n",
      "[CV 1/1] END svm__C=0.1, svm__gamma=0.01, svm__kernel=sigmoid;, score=0.613 total time=  14.4s\n",
      "[CV 1/1] END svm__C=0.1, svm__gamma=0.001, svm__kernel=linear;, score=0.689 total time=  25.1s\n",
      "[CV 1/1] END svm__C=0.1, svm__gamma=0.001, svm__kernel=poly;, score=0.764 total time=  21.7s\n",
      "[CV 1/1] END svm__C=0.1, svm__gamma=0.001, svm__kernel=rbf;, score=0.699 total time=  20.5s\n",
      "[CV 1/1] END svm__C=0.1, svm__gamma=0.001, svm__kernel=sigmoid;, score=0.692 total time=  21.2s\n",
      "[CV 1/1] END svm__C=0.1, svm__gamma=0.0001, svm__kernel=linear;, score=0.689 total time=  25.3s\n",
      "[CV 1/1] END svm__C=0.1, svm__gamma=0.0001, svm__kernel=poly;, score=0.757 total time=  22.0s\n",
      "[CV 1/1] END svm__C=0.1, svm__gamma=0.0001, svm__kernel=rbf;, score=0.715 total time=  24.3s\n",
      "[CV 1/1] END svm__C=0.1, svm__gamma=0.0001, svm__kernel=sigmoid;, score=0.760 total time=  23.5s\n",
      "[CV 1/1] END svm__C=1, svm__gamma=1, svm__kernel=linear;, score=0.691 total time= 1.2min\n",
      "[CV 1/1] END svm__C=1, svm__gamma=1, svm__kernel=poly;, score=0.739 total time=  46.0s\n",
      "[CV 1/1] END svm__C=1, svm__gamma=1, svm__kernel=rbf;, score=0.757 total time= 1.7min\n",
      "[CV 1/1] END svm__C=1, svm__gamma=1, svm__kernel=sigmoid;, score=0.544 total time=  11.0s\n",
      "[CV 1/1] END svm__C=1, svm__gamma=0.1, svm__kernel=linear;, score=0.691 total time= 1.2min\n",
      "[CV 1/1] END svm__C=1, svm__gamma=0.1, svm__kernel=poly;, score=0.739 total time=  47.9s\n",
      "[CV 1/1] END svm__C=1, svm__gamma=0.1, svm__kernel=rbf;, score=0.757 total time= 1.4min\n",
      "[CV 1/1] END svm__C=1, svm__gamma=0.1, svm__kernel=sigmoid;, score=0.540 total time=  13.2s\n",
      "[CV 1/1] END svm__C=1, svm__gamma=0.01, svm__kernel=linear;, score=0.691 total time= 1.2min\n",
      "[CV 1/1] END svm__C=1, svm__gamma=0.01, svm__kernel=poly;, score=0.741 total time=  44.4s\n",
      "[CV 1/1] END svm__C=1, svm__gamma=0.01, svm__kernel=rbf;, score=0.771 total time=  38.7s\n",
      "[CV 1/1] END svm__C=1, svm__gamma=0.01, svm__kernel=sigmoid;, score=0.581 total time=  10.5s\n",
      "[CV 1/1] END svm__C=1, svm__gamma=0.001, svm__kernel=linear;, score=0.691 total time= 1.2min\n",
      "[CV 1/1] END svm__C=1, svm__gamma=0.001, svm__kernel=poly;, score=0.765 total time=  21.5s\n",
      "[CV 1/1] END svm__C=1, svm__gamma=0.001, svm__kernel=rbf;, score=0.727 total time=  16.7s\n",
      "[CV 1/1] END svm__C=1, svm__gamma=0.001, svm__kernel=sigmoid;, score=0.686 total time=  18.8s\n",
      "[CV 1/1] END svm__C=1, svm__gamma=0.0001, svm__kernel=linear;, score=0.691 total time= 1.2min\n",
      "[CV 1/1] END svm__C=1, svm__gamma=0.0001, svm__kernel=poly;, score=0.757 total time=  21.3s\n",
      "[CV 1/1] END svm__C=1, svm__gamma=0.0001, svm__kernel=rbf;, score=0.710 total time=  19.5s\n",
      "[CV 1/1] END svm__C=1, svm__gamma=0.0001, svm__kernel=sigmoid;, score=0.695 total time=  20.6s\n",
      "[CV 1/1] END svm__C=10, svm__gamma=1, svm__kernel=linear;, score=0.691 total time= 8.7min\n",
      "[CV 1/1] END svm__C=10, svm__gamma=1, svm__kernel=poly;, score=0.739 total time=  48.6s\n",
      "[CV 1/1] END svm__C=10, svm__gamma=1, svm__kernel=rbf;, score=0.757 total time= 1.2min\n",
      "[CV 1/1] END svm__C=10, svm__gamma=1, svm__kernel=sigmoid;, score=0.541 total time=  11.1s\n",
      "[CV 1/1] END svm__C=10, svm__gamma=0.1, svm__kernel=linear;, score=0.691 total time= 8.8min\n",
      "[CV 1/1] END svm__C=10, svm__gamma=0.1, svm__kernel=poly;, score=0.739 total time=  48.6s\n",
      "[CV 1/1] END svm__C=10, svm__gamma=0.1, svm__kernel=rbf;, score=0.757 total time= 1.2min\n",
      "[CV 1/1] END svm__C=10, svm__gamma=0.1, svm__kernel=sigmoid;, score=0.540 total time=  13.1s\n",
      "[CV 1/1] END svm__C=10, svm__gamma=0.01, svm__kernel=linear;, score=0.691 total time= 8.8min\n",
      "[CV 1/1] END svm__C=10, svm__gamma=0.01, svm__kernel=poly;, score=0.739 total time=  50.2s\n",
      "[CV 1/1] END svm__C=10, svm__gamma=0.01, svm__kernel=rbf;, score=0.788 total time=  55.1s\n",
      "[CV 1/1] END svm__C=10, svm__gamma=0.01, svm__kernel=sigmoid;, score=0.584 total time=  10.4s\n",
      "[CV 1/1] END svm__C=10, svm__gamma=0.001, svm__kernel=linear;, score=0.691 total time= 8.8min\n",
      "[CV 1/1] END svm__C=10, svm__gamma=0.001, svm__kernel=poly;, score=0.732 total time=  20.0s\n",
      "[CV 1/1] END svm__C=10, svm__gamma=0.001, svm__kernel=rbf;, score=0.743 total time=  15.4s\n",
      "[CV 1/1] END svm__C=10, svm__gamma=0.001, svm__kernel=sigmoid;, score=0.656 total time=  15.3s\n",
      "[CV 1/1] END svm__C=10, svm__gamma=0.0001, svm__kernel=linear;, score=0.691 total time= 8.7min\n",
      "[CV 1/1] END svm__C=10, svm__gamma=0.0001, svm__kernel=poly;, score=0.243 total time=  21.4s\n",
      "[CV 1/1] END svm__C=10, svm__gamma=0.0001, svm__kernel=rbf;, score=0.723 total time=  16.2s\n",
      "[CV 1/1] END svm__C=10, svm__gamma=0.0001, svm__kernel=sigmoid;, score=0.704 total time=  18.0s\n"
     ]
    },
    {
     "data": {
      "text/html": [
       "<style>#sk-container-id-1 {color: black;background-color: white;}#sk-container-id-1 pre{padding: 0;}#sk-container-id-1 div.sk-toggleable {background-color: white;}#sk-container-id-1 label.sk-toggleable__label {cursor: pointer;display: block;width: 100%;margin-bottom: 0;padding: 0.3em;box-sizing: border-box;text-align: center;}#sk-container-id-1 label.sk-toggleable__label-arrow:before {content: \"▸\";float: left;margin-right: 0.25em;color: #696969;}#sk-container-id-1 label.sk-toggleable__label-arrow:hover:before {color: black;}#sk-container-id-1 div.sk-estimator:hover label.sk-toggleable__label-arrow:before {color: black;}#sk-container-id-1 div.sk-toggleable__content {max-height: 0;max-width: 0;overflow: hidden;text-align: left;background-color: #f0f8ff;}#sk-container-id-1 div.sk-toggleable__content pre {margin: 0.2em;color: black;border-radius: 0.25em;background-color: #f0f8ff;}#sk-container-id-1 input.sk-toggleable__control:checked~div.sk-toggleable__content {max-height: 200px;max-width: 100%;overflow: auto;}#sk-container-id-1 input.sk-toggleable__control:checked~label.sk-toggleable__label-arrow:before {content: \"▾\";}#sk-container-id-1 div.sk-estimator input.sk-toggleable__control:checked~label.sk-toggleable__label {background-color: #d4ebff;}#sk-container-id-1 div.sk-label input.sk-toggleable__control:checked~label.sk-toggleable__label {background-color: #d4ebff;}#sk-container-id-1 input.sk-hidden--visually {border: 0;clip: rect(1px 1px 1px 1px);clip: rect(1px, 1px, 1px, 1px);height: 1px;margin: -1px;overflow: hidden;padding: 0;position: absolute;width: 1px;}#sk-container-id-1 div.sk-estimator {font-family: monospace;background-color: #f0f8ff;border: 1px dotted black;border-radius: 0.25em;box-sizing: border-box;margin-bottom: 0.5em;}#sk-container-id-1 div.sk-estimator:hover {background-color: #d4ebff;}#sk-container-id-1 div.sk-parallel-item::after {content: \"\";width: 100%;border-bottom: 1px solid gray;flex-grow: 1;}#sk-container-id-1 div.sk-label:hover label.sk-toggleable__label {background-color: #d4ebff;}#sk-container-id-1 div.sk-serial::before {content: \"\";position: absolute;border-left: 1px solid gray;box-sizing: border-box;top: 0;bottom: 0;left: 50%;z-index: 0;}#sk-container-id-1 div.sk-serial {display: flex;flex-direction: column;align-items: center;background-color: white;padding-right: 0.2em;padding-left: 0.2em;position: relative;}#sk-container-id-1 div.sk-item {position: relative;z-index: 1;}#sk-container-id-1 div.sk-parallel {display: flex;align-items: stretch;justify-content: center;background-color: white;position: relative;}#sk-container-id-1 div.sk-item::before, #sk-container-id-1 div.sk-parallel-item::before {content: \"\";position: absolute;border-left: 1px solid gray;box-sizing: border-box;top: 0;bottom: 0;left: 50%;z-index: -1;}#sk-container-id-1 div.sk-parallel-item {display: flex;flex-direction: column;z-index: 1;position: relative;background-color: white;}#sk-container-id-1 div.sk-parallel-item:first-child::after {align-self: flex-end;width: 50%;}#sk-container-id-1 div.sk-parallel-item:last-child::after {align-self: flex-start;width: 50%;}#sk-container-id-1 div.sk-parallel-item:only-child::after {width: 0;}#sk-container-id-1 div.sk-dashed-wrapped {border: 1px dashed gray;margin: 0 0.4em 0.5em 0.4em;box-sizing: border-box;padding-bottom: 0.4em;background-color: white;}#sk-container-id-1 div.sk-label label {font-family: monospace;font-weight: bold;display: inline-block;line-height: 1.2em;}#sk-container-id-1 div.sk-label-container {text-align: center;}#sk-container-id-1 div.sk-container {/* jupyter's `normalize.less` sets `[hidden] { display: none; }` but bootstrap.min.css set `[hidden] { display: none !important; }` so we also need the `!important` here to be able to override the default hidden behavior on the sphinx rendered scikit-learn.org. See: https://github.com/scikit-learn/scikit-learn/issues/21755 */display: inline-block !important;position: relative;}#sk-container-id-1 div.sk-text-repr-fallback {display: none;}</style><div id=\"sk-container-id-1\" class=\"sk-top-container\"><div class=\"sk-text-repr-fallback\"><pre>GridSearchCV(cv=PredefinedSplit(test_fold=array([-1, -1, ...,  0,  0])),\n",
       "             estimator=Pipeline(steps=[(&#x27;scaler&#x27;, StandardScaler()),\n",
       "                                       (&#x27;svm&#x27;, SVC(class_weight=&#x27;balanced&#x27;))]),\n",
       "             param_grid=[{&#x27;svm__C&#x27;: [0.1, 1, 10],\n",
       "                          &#x27;svm__gamma&#x27;: [1, 0.1, 0.01, 0.001, 0.0001],\n",
       "                          &#x27;svm__kernel&#x27;: [&#x27;linear&#x27;, &#x27;poly&#x27;, &#x27;rbf&#x27;, &#x27;sigmoid&#x27;]}],\n",
       "             verbose=3)</pre><b>In a Jupyter environment, please rerun this cell to show the HTML representation or trust the notebook. <br />On GitHub, the HTML representation is unable to render, please try loading this page with nbviewer.org.</b></div><div class=\"sk-container\" hidden><div class=\"sk-item sk-dashed-wrapped\"><div class=\"sk-label-container\"><div class=\"sk-label sk-toggleable\"><input class=\"sk-toggleable__control sk-hidden--visually\" id=\"sk-estimator-id-1\" type=\"checkbox\" ><label for=\"sk-estimator-id-1\" class=\"sk-toggleable__label sk-toggleable__label-arrow\">GridSearchCV</label><div class=\"sk-toggleable__content\"><pre>GridSearchCV(cv=PredefinedSplit(test_fold=array([-1, -1, ...,  0,  0])),\n",
       "             estimator=Pipeline(steps=[(&#x27;scaler&#x27;, StandardScaler()),\n",
       "                                       (&#x27;svm&#x27;, SVC(class_weight=&#x27;balanced&#x27;))]),\n",
       "             param_grid=[{&#x27;svm__C&#x27;: [0.1, 1, 10],\n",
       "                          &#x27;svm__gamma&#x27;: [1, 0.1, 0.01, 0.001, 0.0001],\n",
       "                          &#x27;svm__kernel&#x27;: [&#x27;linear&#x27;, &#x27;poly&#x27;, &#x27;rbf&#x27;, &#x27;sigmoid&#x27;]}],\n",
       "             verbose=3)</pre></div></div></div><div class=\"sk-parallel\"><div class=\"sk-parallel-item\"><div class=\"sk-item\"><div class=\"sk-label-container\"><div class=\"sk-label sk-toggleable\"><input class=\"sk-toggleable__control sk-hidden--visually\" id=\"sk-estimator-id-2\" type=\"checkbox\" ><label for=\"sk-estimator-id-2\" class=\"sk-toggleable__label sk-toggleable__label-arrow\">estimator: Pipeline</label><div class=\"sk-toggleable__content\"><pre>Pipeline(steps=[(&#x27;scaler&#x27;, StandardScaler()),\n",
       "                (&#x27;svm&#x27;, SVC(class_weight=&#x27;balanced&#x27;))])</pre></div></div></div><div class=\"sk-serial\"><div class=\"sk-item\"><div class=\"sk-serial\"><div class=\"sk-item\"><div class=\"sk-estimator sk-toggleable\"><input class=\"sk-toggleable__control sk-hidden--visually\" id=\"sk-estimator-id-3\" type=\"checkbox\" ><label for=\"sk-estimator-id-3\" class=\"sk-toggleable__label sk-toggleable__label-arrow\">StandardScaler</label><div class=\"sk-toggleable__content\"><pre>StandardScaler()</pre></div></div></div><div class=\"sk-item\"><div class=\"sk-estimator sk-toggleable\"><input class=\"sk-toggleable__control sk-hidden--visually\" id=\"sk-estimator-id-4\" type=\"checkbox\" ><label for=\"sk-estimator-id-4\" class=\"sk-toggleable__label sk-toggleable__label-arrow\">SVC</label><div class=\"sk-toggleable__content\"><pre>SVC(class_weight=&#x27;balanced&#x27;)</pre></div></div></div></div></div></div></div></div></div></div></div></div>"
      ],
      "text/plain": [
       "GridSearchCV(cv=PredefinedSplit(test_fold=array([-1, -1, ...,  0,  0])),\n",
       "             estimator=Pipeline(steps=[('scaler', StandardScaler()),\n",
       "                                       ('svm', SVC(class_weight='balanced'))]),\n",
       "             param_grid=[{'svm__C': [0.1, 1, 10],\n",
       "                          'svm__gamma': [1, 0.1, 0.01, 0.001, 0.0001],\n",
       "                          'svm__kernel': ['linear', 'poly', 'rbf', 'sigmoid']}],\n",
       "             verbose=3)"
      ]
     },
     "execution_count": 12,
     "metadata": {},
     "output_type": "execute_result"
    }
   ],
   "source": [
    "grid.fit(merged_ts, merged_labels)"
   ]
  },
  {
   "cell_type": "code",
   "execution_count": 14,
   "id": "c4ab077c",
   "metadata": {},
   "outputs": [
    {
     "name": "stdout",
     "output_type": "stream",
     "text": [
      "{'svm__C': 10, 'svm__gamma': 0.01, 'svm__kernel': 'rbf'}\n",
      "Pipeline(steps=[('scaler', StandardScaler()),\n",
      "                ('svm', SVC(C=10, class_weight='balanced', gamma=0.01))])\n",
      "0.7878571428571428\n"
     ]
    }
   ],
   "source": [
    "# print best parameter after tuning\n",
    "print(grid.best_params_)\n",
    "\n",
    "# print how our model looks after hyper-parameter tuning\n",
    "print(grid.best_estimator_)\n",
    "\n",
    "print(grid.best_score_)"
   ]
  },
  {
   "cell_type": "code",
   "execution_count": 15,
   "id": "64aad25a",
   "metadata": {},
   "outputs": [
    {
     "data": {
      "text/html": [
       "<style>#sk-container-id-2 {color: black;background-color: white;}#sk-container-id-2 pre{padding: 0;}#sk-container-id-2 div.sk-toggleable {background-color: white;}#sk-container-id-2 label.sk-toggleable__label {cursor: pointer;display: block;width: 100%;margin-bottom: 0;padding: 0.3em;box-sizing: border-box;text-align: center;}#sk-container-id-2 label.sk-toggleable__label-arrow:before {content: \"▸\";float: left;margin-right: 0.25em;color: #696969;}#sk-container-id-2 label.sk-toggleable__label-arrow:hover:before {color: black;}#sk-container-id-2 div.sk-estimator:hover label.sk-toggleable__label-arrow:before {color: black;}#sk-container-id-2 div.sk-toggleable__content {max-height: 0;max-width: 0;overflow: hidden;text-align: left;background-color: #f0f8ff;}#sk-container-id-2 div.sk-toggleable__content pre {margin: 0.2em;color: black;border-radius: 0.25em;background-color: #f0f8ff;}#sk-container-id-2 input.sk-toggleable__control:checked~div.sk-toggleable__content {max-height: 200px;max-width: 100%;overflow: auto;}#sk-container-id-2 input.sk-toggleable__control:checked~label.sk-toggleable__label-arrow:before {content: \"▾\";}#sk-container-id-2 div.sk-estimator input.sk-toggleable__control:checked~label.sk-toggleable__label {background-color: #d4ebff;}#sk-container-id-2 div.sk-label input.sk-toggleable__control:checked~label.sk-toggleable__label {background-color: #d4ebff;}#sk-container-id-2 input.sk-hidden--visually {border: 0;clip: rect(1px 1px 1px 1px);clip: rect(1px, 1px, 1px, 1px);height: 1px;margin: -1px;overflow: hidden;padding: 0;position: absolute;width: 1px;}#sk-container-id-2 div.sk-estimator {font-family: monospace;background-color: #f0f8ff;border: 1px dotted black;border-radius: 0.25em;box-sizing: border-box;margin-bottom: 0.5em;}#sk-container-id-2 div.sk-estimator:hover {background-color: #d4ebff;}#sk-container-id-2 div.sk-parallel-item::after {content: \"\";width: 100%;border-bottom: 1px solid gray;flex-grow: 1;}#sk-container-id-2 div.sk-label:hover label.sk-toggleable__label {background-color: #d4ebff;}#sk-container-id-2 div.sk-serial::before {content: \"\";position: absolute;border-left: 1px solid gray;box-sizing: border-box;top: 0;bottom: 0;left: 50%;z-index: 0;}#sk-container-id-2 div.sk-serial {display: flex;flex-direction: column;align-items: center;background-color: white;padding-right: 0.2em;padding-left: 0.2em;position: relative;}#sk-container-id-2 div.sk-item {position: relative;z-index: 1;}#sk-container-id-2 div.sk-parallel {display: flex;align-items: stretch;justify-content: center;background-color: white;position: relative;}#sk-container-id-2 div.sk-item::before, #sk-container-id-2 div.sk-parallel-item::before {content: \"\";position: absolute;border-left: 1px solid gray;box-sizing: border-box;top: 0;bottom: 0;left: 50%;z-index: -1;}#sk-container-id-2 div.sk-parallel-item {display: flex;flex-direction: column;z-index: 1;position: relative;background-color: white;}#sk-container-id-2 div.sk-parallel-item:first-child::after {align-self: flex-end;width: 50%;}#sk-container-id-2 div.sk-parallel-item:last-child::after {align-self: flex-start;width: 50%;}#sk-container-id-2 div.sk-parallel-item:only-child::after {width: 0;}#sk-container-id-2 div.sk-dashed-wrapped {border: 1px dashed gray;margin: 0 0.4em 0.5em 0.4em;box-sizing: border-box;padding-bottom: 0.4em;background-color: white;}#sk-container-id-2 div.sk-label label {font-family: monospace;font-weight: bold;display: inline-block;line-height: 1.2em;}#sk-container-id-2 div.sk-label-container {text-align: center;}#sk-container-id-2 div.sk-container {/* jupyter's `normalize.less` sets `[hidden] { display: none; }` but bootstrap.min.css set `[hidden] { display: none !important; }` so we also need the `!important` here to be able to override the default hidden behavior on the sphinx rendered scikit-learn.org. See: https://github.com/scikit-learn/scikit-learn/issues/21755 */display: inline-block !important;position: relative;}#sk-container-id-2 div.sk-text-repr-fallback {display: none;}</style><div id=\"sk-container-id-2\" class=\"sk-top-container\"><div class=\"sk-text-repr-fallback\"><pre>Pipeline(steps=[(&#x27;standardscaler&#x27;, StandardScaler()),\n",
       "                (&#x27;svc&#x27;, SVC(C=10, class_weight=&#x27;balanced&#x27;, gamma=0.01))])</pre><b>In a Jupyter environment, please rerun this cell to show the HTML representation or trust the notebook. <br />On GitHub, the HTML representation is unable to render, please try loading this page with nbviewer.org.</b></div><div class=\"sk-container\" hidden><div class=\"sk-item sk-dashed-wrapped\"><div class=\"sk-label-container\"><div class=\"sk-label sk-toggleable\"><input class=\"sk-toggleable__control sk-hidden--visually\" id=\"sk-estimator-id-5\" type=\"checkbox\" ><label for=\"sk-estimator-id-5\" class=\"sk-toggleable__label sk-toggleable__label-arrow\">Pipeline</label><div class=\"sk-toggleable__content\"><pre>Pipeline(steps=[(&#x27;standardscaler&#x27;, StandardScaler()),\n",
       "                (&#x27;svc&#x27;, SVC(C=10, class_weight=&#x27;balanced&#x27;, gamma=0.01))])</pre></div></div></div><div class=\"sk-serial\"><div class=\"sk-item\"><div class=\"sk-estimator sk-toggleable\"><input class=\"sk-toggleable__control sk-hidden--visually\" id=\"sk-estimator-id-6\" type=\"checkbox\" ><label for=\"sk-estimator-id-6\" class=\"sk-toggleable__label sk-toggleable__label-arrow\">StandardScaler</label><div class=\"sk-toggleable__content\"><pre>StandardScaler()</pre></div></div></div><div class=\"sk-item\"><div class=\"sk-estimator sk-toggleable\"><input class=\"sk-toggleable__control sk-hidden--visually\" id=\"sk-estimator-id-7\" type=\"checkbox\" ><label for=\"sk-estimator-id-7\" class=\"sk-toggleable__label sk-toggleable__label-arrow\">SVC</label><div class=\"sk-toggleable__content\"><pre>SVC(C=10, class_weight=&#x27;balanced&#x27;, gamma=0.01)</pre></div></div></div></div></div></div></div>"
      ],
      "text/plain": [
       "Pipeline(steps=[('standardscaler', StandardScaler()),\n",
       "                ('svc', SVC(C=10, class_weight='balanced', gamma=0.01))])"
      ]
     },
     "execution_count": 15,
     "metadata": {},
     "output_type": "execute_result"
    }
   ],
   "source": [
    "label_train = np.array(df_train[\"label\"])\n",
    "label_train = le.fit_transform(label_train)\n",
    "\n",
    "text_train = W2Vvectorize(df_train[\"text\"])\n",
    "\n",
    "label_test = np.array(df_test[\"label\"])\n",
    "label_test = le.fit_transform(label_test)\n",
    "\n",
    "clf = make_pipeline(StandardScaler(), SVC(class_weight='balanced', C=10, gamma=0.01))\n",
    "clf.fit(text_train, label_train)"
   ]
  },
  {
   "cell_type": "code",
   "execution_count": 16,
   "id": "ea1029f1",
   "metadata": {},
   "outputs": [
    {
     "name": "stdout",
     "output_type": "stream",
     "text": [
      "              precision    recall  f1-score   support\n",
      "\n",
      "  not sexist       0.81      0.96      0.88      2120\n",
      "      sexist       0.69      0.31      0.43       680\n",
      "\n",
      "    accuracy                           0.80      2800\n",
      "   macro avg       0.75      0.63      0.65      2800\n",
      "weighted avg       0.78      0.80      0.77      2800\n",
      "\n",
      "Precision:   0.80\n",
      "   Recall:   0.80\n",
      "       F1:   0.80\n"
     ]
    },
    {
     "data": {
      "image/png": "[encoded data removed]",
      "text/plain": [
       "<Figure size 432x288 with 2 Axes>"
      ]
     },
     "metadata": {
      "needs_background": "light"
     },
     "output_type": "display_data"
    }
   ],
   "source": [
    "evaluate(clf, df_test.text, label_test)"
   ]
  },
  {
   "cell_type": "code",
   "execution_count": 17,
   "id": "47cd14c2",
   "metadata": {},
   "outputs": [],
   "source": [
    "import pickle\n",
    "word2vec_clf = pickle.dumps(clf)"
   ]
  },
  {
   "cell_type": "markdown",
   "id": "f5b61017",
   "metadata": {},
   "source": [
    "SVM +TF_IDF"
   ]
  },
  {
   "cell_type": "markdown",
   "id": "a7edf4e5",
   "metadata": {},
   "source": [
    "TF_IDF prije optimizacije parametara:"
   ]
  },
  {
   "cell_type": "code",
   "execution_count": 3,
   "id": "fcd70ebe",
   "metadata": {},
   "outputs": [
    {
     "data": {
      "text/html": [
       "<style>#sk-container-id-1 {color: black;background-color: white;}#sk-container-id-1 pre{padding: 0;}#sk-container-id-1 div.sk-toggleable {background-color: white;}#sk-container-id-1 label.sk-toggleable__label {cursor: pointer;display: block;width: 100%;margin-bottom: 0;padding: 0.3em;box-sizing: border-box;text-align: center;}#sk-container-id-1 label.sk-toggleable__label-arrow:before {content: \"▸\";float: left;margin-right: 0.25em;color: #696969;}#sk-container-id-1 label.sk-toggleable__label-arrow:hover:before {color: black;}#sk-container-id-1 div.sk-estimator:hover label.sk-toggleable__label-arrow:before {color: black;}#sk-container-id-1 div.sk-toggleable__content {max-height: 0;max-width: 0;overflow: hidden;text-align: left;background-color: #f0f8ff;}#sk-container-id-1 div.sk-toggleable__content pre {margin: 0.2em;color: black;border-radius: 0.25em;background-color: #f0f8ff;}#sk-container-id-1 input.sk-toggleable__control:checked~div.sk-toggleable__content {max-height: 200px;max-width: 100%;overflow: auto;}#sk-container-id-1 input.sk-toggleable__control:checked~label.sk-toggleable__label-arrow:before {content: \"▾\";}#sk-container-id-1 div.sk-estimator input.sk-toggleable__control:checked~label.sk-toggleable__label {background-color: #d4ebff;}#sk-container-id-1 div.sk-label input.sk-toggleable__control:checked~label.sk-toggleable__label {background-color: #d4ebff;}#sk-container-id-1 input.sk-hidden--visually {border: 0;clip: rect(1px 1px 1px 1px);clip: rect(1px, 1px, 1px, 1px);height: 1px;margin: -1px;overflow: hidden;padding: 0;position: absolute;width: 1px;}#sk-container-id-1 div.sk-estimator {font-family: monospace;background-color: #f0f8ff;border: 1px dotted black;border-radius: 0.25em;box-sizing: border-box;margin-bottom: 0.5em;}#sk-container-id-1 div.sk-estimator:hover {background-color: #d4ebff;}#sk-container-id-1 div.sk-parallel-item::after {content: \"\";width: 100%;border-bottom: 1px solid gray;flex-grow: 1;}#sk-container-id-1 div.sk-label:hover label.sk-toggleable__label {background-color: #d4ebff;}#sk-container-id-1 div.sk-serial::before {content: \"\";position: absolute;border-left: 1px solid gray;box-sizing: border-box;top: 0;bottom: 0;left: 50%;z-index: 0;}#sk-container-id-1 div.sk-serial {display: flex;flex-direction: column;align-items: center;background-color: white;padding-right: 0.2em;padding-left: 0.2em;position: relative;}#sk-container-id-1 div.sk-item {position: relative;z-index: 1;}#sk-container-id-1 div.sk-parallel {display: flex;align-items: stretch;justify-content: center;background-color: white;position: relative;}#sk-container-id-1 div.sk-item::before, #sk-container-id-1 div.sk-parallel-item::before {content: \"\";position: absolute;border-left: 1px solid gray;box-sizing: border-box;top: 0;bottom: 0;left: 50%;z-index: -1;}#sk-container-id-1 div.sk-parallel-item {display: flex;flex-direction: column;z-index: 1;position: relative;background-color: white;}#sk-container-id-1 div.sk-parallel-item:first-child::after {align-self: flex-end;width: 50%;}#sk-container-id-1 div.sk-parallel-item:last-child::after {align-self: flex-start;width: 50%;}#sk-container-id-1 div.sk-parallel-item:only-child::after {width: 0;}#sk-container-id-1 div.sk-dashed-wrapped {border: 1px dashed gray;margin: 0 0.4em 0.5em 0.4em;box-sizing: border-box;padding-bottom: 0.4em;background-color: white;}#sk-container-id-1 div.sk-label label {font-family: monospace;font-weight: bold;display: inline-block;line-height: 1.2em;}#sk-container-id-1 div.sk-label-container {text-align: center;}#sk-container-id-1 div.sk-container {/* jupyter's `normalize.less` sets `[hidden] { display: none; }` but bootstrap.min.css set `[hidden] { display: none !important; }` so we also need the `!important` here to be able to override the default hidden behavior on the sphinx rendered scikit-learn.org. See: https://github.com/scikit-learn/scikit-learn/issues/21755 */display: inline-block !important;position: relative;}#sk-container-id-1 div.sk-text-repr-fallback {display: none;}</style><div id=\"sk-container-id-1\" class=\"sk-top-container\"><div class=\"sk-text-repr-fallback\"><pre>SVC(C=0.1, gamma=1, kernel=&#x27;linear&#x27;)</pre><b>In a Jupyter environment, please rerun this cell to show the HTML representation or trust the notebook. <br />On GitHub, the HTML representation is unable to render, please try loading this page with nbviewer.org.</b></div><div class=\"sk-container\" hidden><div class=\"sk-item\"><div class=\"sk-estimator sk-toggleable\"><input class=\"sk-toggleable__control sk-hidden--visually\" id=\"sk-estimator-id-1\" type=\"checkbox\" checked><label for=\"sk-estimator-id-1\" class=\"sk-toggleable__label sk-toggleable__label-arrow\">SVC</label><div class=\"sk-toggleable__content\"><pre>SVC(C=0.1, gamma=1, kernel=&#x27;linear&#x27;)</pre></div></div></div></div></div>"
      ],
      "text/plain": [
       "SVC(C=0.1, gamma=1, kernel='linear')"
      ]
     },
     "execution_count": 3,
     "metadata": {},
     "output_type": "execute_result"
    }
   ],
   "source": [
    "from sklearn.feature_extraction.text import TfidfVectorizer\n",
    "from sklearn.svm import SVC\n",
    "from sklearn.pipeline import make_pipeline\n",
    "from sklearn.preprocessing import StandardScaler\n",
    "from sklearn.preprocessing import LabelEncoder\n",
    "\n",
    "corpus = df_train[\"text\"]\n",
    "vectorizer = TfidfVectorizer()\n",
    "X = vectorizer.fit_transform(corpus)\n",
    "le = LabelEncoder()\n",
    "lista_label = np.array(df_train[\"label\"])\n",
    "lista_label = le.fit_transform(lista_label)\n",
    "\n",
    "clf = SVC(C=0.1, gamma = 1, kernel = 'linear')\n",
    "clf.fit(X, lista_label)"
   ]
  },
  {
   "cell_type": "code",
   "execution_count": 5,
   "id": "5521b701",
   "metadata": {},
   "outputs": [
    {
     "name": "stdout",
     "output_type": "stream",
     "text": [
      "Training:0.9590816326530612\n",
      "Test:0.8135714285714286\n"
     ]
    }
   ],
   "source": [
    "print(\"Training:\"+str(clf.score(X, lista_label)))\n",
    "\n",
    "label_test = np.array(df_test[\"label\"])\n",
    "label_test = le.transform(label_test)\n",
    "text_test = vectorizer.transform(df_test[\"text\"])\n",
    "\n",
    "print(\"Test:\"+str(clf.score(text_test,label_test)))"
   ]
  },
  {
   "cell_type": "code",
   "execution_count": 28,
   "id": "8791d0cf",
   "metadata": {},
   "outputs": [],
   "source": [
    "def evaluate(model, tf_idf, text, y_test, target_names=('not sexist', 'sexist')):\n",
    "    import matplotlib.pyplot as plt\n",
    "    from sklearn.metrics import classification_report\n",
    "    from sklearn.metrics import ConfusionMatrixDisplay\n",
    "    from sklearn.metrics import precision_recall_fscore_support\n",
    "\n",
    "    text_features = tf_idf.transform(text)\n",
    "    y_test_pred = model.predict(text_features)\n",
    "    print(classification_report(y_test, y_test_pred, target_names=target_names))\n",
    "\n",
    "    precision, recall, f1, _ = precision_recall_fscore_support(y_test, y_test_pred, average=\"micro\")\n",
    "    print(f\"Precision: {precision:6.2f}\")\n",
    "    print(f\"   Recall: {recall:6.2f}\")\n",
    "    print(f\"       F1: {f1:6.2f}\")\n",
    "\n",
    "    ConfusionMatrixDisplay.from_predictions(y_test, y_test_pred, display_labels=target_names)\n",
    "    plt.show()"
   ]
  },
  {
   "cell_type": "code",
   "execution_count": 7,
   "id": "273137bc",
   "metadata": {},
   "outputs": [
    {
     "name": "stdout",
     "output_type": "stream",
     "text": [
      "              precision    recall  f1-score   support\n",
      "\n",
      "  not sexist       0.81      0.99      0.89      2120\n",
      "      sexist       0.88      0.27      0.41       680\n",
      "\n",
      "    accuracy                           0.81      2800\n",
      "   macro avg       0.84      0.63      0.65      2800\n",
      "weighted avg       0.83      0.81      0.77      2800\n",
      "\n",
      "Precision:   0.81\n",
      "   Recall:   0.81\n",
      "       F1:   0.81\n"
     ]
    },
    {
     "data": {
      "image/png": "[encoded data removed]",
      "text/plain": [
       "<Figure size 432x288 with 2 Axes>"
      ]
     },
     "metadata": {
      "needs_background": "light"
     },
     "output_type": "display_data"
    }
   ],
   "source": [
    "evaluate(clf, vectorizer, df_test.text, label_test)"
   ]
  },
  {
   "cell_type": "markdown",
   "id": "3afaf55f",
   "metadata": {},
   "source": [
    "TF_IDF nakon optimizacije hiperparametara:"
   ]
  },
  {
   "cell_type": "markdown",
   "id": "7e588664",
   "metadata": {},
   "source": [
    "Opet treniramo na train i provjeravamo na valid"
   ]
  },
  {
   "cell_type": "code",
   "execution_count": 4,
   "id": "52e85740",
   "metadata": {},
   "outputs": [],
   "source": [
    "my_test_fold = []\n",
    "\n",
    "\n",
    "for i in range(len(df_train)):\n",
    "    my_test_fold.append(-1)\n",
    "\n",
    "for i in range(len(df_valid)):\n",
    "    my_test_fold.append(0)\n",
    "\n",
    "label_train = np.array(df_train[\"label\"])\n",
    "label_train = le.fit_transform(label_train)\n",
    "text_train = vectorizer.transform(df_train[\"text\"])\n",
    "text_train = text_train.toarray()\n",
    "\n",
    "label_valid = np.array(df_valid[\"label\"])\n",
    "label_valid = le.fit_transform(label_valid)\n",
    "text_valid = vectorizer.transform(df_valid[\"text\"])\n",
    "text_valid = text_valid.toarray()\n",
    "\n",
    "merged_ts = np.concatenate((text_train, text_valid),axis=0)\n",
    "merged_labels = np.concatenate((label_train, label_valid),axis=0)\n"
   ]
  },
  {
   "cell_type": "code",
   "execution_count": 5,
   "id": "c2ac764e",
   "metadata": {},
   "outputs": [],
   "source": [
    "mergano = np.concatenate((df_train.text, df_valid.text))\n",
    "merganoL = np.concatenate((df_train.label, df_valid.label))\n"
   ]
  },
  {
   "cell_type": "code",
   "execution_count": 6,
   "id": "6ee3cdf4",
   "metadata": {},
   "outputs": [],
   "source": [
    "from sklearn.preprocessing import StandardScaler\n",
    "sc = StandardScaler(with_mean=False)\n",
    "#sc.fit_transform(mergano_vect)\n",
    "set1, set2, set3, set4, set5 = np.array_split(mergano, 5)\n",
    "set1B, set2B, set3B, set4B, set5B = np.array_split(mergano, 5)\n",
    "set1L, set2L, set3L, set4L, set5L = np.array_split(merged_labels, 5)\n"
   ]
  },
  {
   "cell_type": "code",
   "execution_count": 7,
   "id": "84b45a75",
   "metadata": {},
   "outputs": [],
   "source": [
    "treniraj = [np.concatenate((set1, set2, set3, set4), axis=0),\n",
    "            np.concatenate((set1, set2, set3, set5), axis=0),\n",
    "            np.concatenate((set1, set2, set4, set5), axis=0),   \n",
    "            np.concatenate((set1, set3, set4, set5), axis=0),\n",
    "            np.concatenate((set2, set3, set4, set5), axis=0)]\n",
    "\n",
    "trenirajL = [np.concatenate((set1L, set2L, set3L, set4L), axis=0),\n",
    "            np.concatenate((set1L, set2L, set3L, set5L), axis=0),\n",
    "            np.concatenate((set1L, set2L, set4L, set5L), axis=0),   \n",
    "            np.concatenate((set1L, set3L, set4L, set5L), axis=0),\n",
    "            np.concatenate((set2L, set3L, set4L, set5L), axis=0)]\n",
    "\n",
    "for i in range (len(treniraj)):\n",
    "    treniraj[i] = vectorizer.transform(treniraj[i])\n",
    "    treniraj[i] = sc.fit_transform(treniraj[i])\n",
    "\n",
    "testiraj = [set5B, set4B, set3B, set2B, set1B]\n",
    "\n",
    "testirajL = [set5L, set4L, set3L, set2L, set1L]\n",
    "\n",
    "for i in range (len(testiraj)):\n",
    "    testiraj[i] = vectorizer.transform(testiraj[i])\n",
    "    testiraj[i] = sc.fit_transform(testiraj[i])"
   ]
  },
  {
   "cell_type": "code",
   "execution_count": 8,
   "id": "17e079ee",
   "metadata": {},
   "outputs": [],
   "source": [
    "param_grid = {'C': [0.1, 1, 10],\n",
    "\t      \t'gamma': [1, 0.1, 0.01, 0.001, 0.0001],\n",
    "\t      \t'kernel': ['linear', 'poly', 'rbf', 'sigmoid']}"
   ]
  },
  {
   "cell_type": "code",
   "execution_count": 9,
   "id": "7f104926",
   "metadata": {},
   "outputs": [
    {
     "name": "stdout",
     "output_type": "stream",
     "text": [
      "SVC(C=0.1, gamma=1, kernel='linear')\n",
      "clf.score\n",
      "Score:0.7616071428571428\n",
      "SVC(C=0.1, gamma=1, kernel='poly')\n",
      "clf.score\n",
      "Score:0.7571428571428571\n",
      "SVC(C=0.1, gamma=1)\n",
      "clf.score\n",
      "Score:0.7571428571428571\n",
      "SVC(C=0.1, gamma=1, kernel='sigmoid')\n",
      "clf.score\n",
      "Score:0.6558035714285714\n",
      "SVC(C=0.1, gamma=0.1, kernel='linear')\n",
      "clf.score\n",
      "Score:0.7616071428571428\n",
      "SVC(C=0.1, gamma=0.1, kernel='poly')\n",
      "clf.score\n",
      "Score:0.7571428571428571\n",
      "SVC(C=0.1, gamma=0.1)\n",
      "clf.score\n",
      "Score:0.7571428571428571\n",
      "SVC(C=0.1, gamma=0.1, kernel='sigmoid')\n",
      "clf.score\n",
      "Score:0.7071428571428572\n",
      "SVC(C=0.1, gamma=0.01, kernel='linear')\n",
      "clf.score\n",
      "Score:0.7616071428571428\n",
      "SVC(C=0.1, gamma=0.01, kernel='poly')\n",
      "clf.score\n",
      "Score:0.7571428571428571\n",
      "SVC(C=0.1, gamma=0.01)\n",
      "clf.score\n",
      "Score:0.7571428571428571\n",
      "SVC(C=0.1, gamma=0.01, kernel='sigmoid')\n",
      "clf.score\n",
      "Score:0.8236607142857143\n",
      "SVC(C=0.1, gamma=0.001, kernel='linear')\n",
      "clf.score\n",
      "Score:0.7616071428571428\n",
      "SVC(C=0.1, gamma=0.001, kernel='poly')\n",
      "clf.score\n",
      "Score:0.7575892857142857\n",
      "SVC(C=0.1, gamma=0.001)\n",
      "clf.score\n",
      "Score:0.7571428571428571\n",
      "SVC(C=0.1, gamma=0.001, kernel='sigmoid')\n",
      "clf.score\n",
      "Score:0.7741071428571429\n",
      "SVC(C=0.1, gamma=0.0001, kernel='linear')\n",
      "clf.score\n",
      "Score:0.7616071428571428\n",
      "SVC(C=0.1, gamma=0.0001, kernel='poly')\n",
      "clf.score\n",
      "Score:0.7571428571428571\n",
      "SVC(C=0.1, gamma=0.0001)\n",
      "clf.score\n",
      "Score:0.7571428571428571\n",
      "SVC(C=0.1, gamma=0.0001, kernel='sigmoid')\n",
      "clf.score\n",
      "Score:0.7571428571428571\n",
      "SVC(C=1, gamma=1, kernel='linear')\n",
      "clf.score\n",
      "Score:0.7616071428571428\n",
      "SVC(C=1, gamma=1, kernel='poly')\n",
      "clf.score\n",
      "Score:0.7571428571428571\n",
      "SVC(C=1, gamma=1)\n",
      "clf.score\n",
      "Score:0.7571428571428571\n",
      "SVC(C=1, gamma=1, kernel='sigmoid')\n",
      "clf.score\n",
      "Score:0.6419642857142858\n",
      "SVC(C=1, gamma=0.1, kernel='linear')\n",
      "clf.score\n",
      "Score:0.7616071428571428\n",
      "SVC(C=1, gamma=0.1, kernel='poly')\n",
      "clf.score\n",
      "Score:0.7571428571428571\n",
      "SVC(C=1, gamma=0.1)\n",
      "clf.score\n",
      "Score:0.7571428571428571\n",
      "SVC(C=1, gamma=0.1, kernel='sigmoid')\n",
      "clf.score\n",
      "Score:0.6763392857142857\n",
      "SVC(C=1, gamma=0.01, kernel='linear')\n",
      "clf.score\n",
      "Score:0.7616071428571428\n",
      "SVC(C=1, gamma=0.01, kernel='poly')\n",
      "clf.score\n",
      "Score:0.7571428571428571\n",
      "SVC(C=1, gamma=0.01)\n",
      "clf.score\n",
      "Score:0.7571428571428571\n",
      "SVC(C=1, gamma=0.01, kernel='sigmoid')\n",
      "clf.score\n",
      "Score:0.8111607142857142\n",
      "SVC(C=1, gamma=0.001, kernel='linear')\n",
      "clf.score\n",
      "Score:0.7616071428571428\n",
      "SVC(C=1, gamma=0.001, kernel='poly')\n",
      "clf.score\n",
      "Score:0.7575892857142857\n",
      "SVC(C=1, gamma=0.001)\n",
      "clf.score\n",
      "Score:0.7571428571428571\n",
      "SVC(C=1, gamma=0.001, kernel='sigmoid')\n",
      "clf.score\n",
      "Score:0.8026785714285715\n",
      "SVC(C=1, gamma=0.0001, kernel='linear')\n",
      "clf.score\n",
      "Score:0.7616071428571428\n",
      "SVC(C=1, gamma=0.0001, kernel='poly')\n",
      "clf.score\n",
      "Score:0.7571428571428571\n",
      "SVC(C=1, gamma=0.0001)\n",
      "clf.score\n",
      "Score:0.7633928571428571\n",
      "SVC(C=1, gamma=0.0001, kernel='sigmoid')\n",
      "clf.score\n",
      "Score:0.7879464285714286\n",
      "SVC(C=10, gamma=1, kernel='linear')\n",
      "clf.score\n",
      "Score:0.7616071428571428\n",
      "SVC(C=10, gamma=1, kernel='poly')\n",
      "clf.score\n",
      "Score:0.7571428571428571\n",
      "SVC(C=10, gamma=1)\n",
      "clf.score\n",
      "Score:0.7571428571428571\n",
      "SVC(C=10, gamma=1, kernel='sigmoid')\n",
      "clf.score\n",
      "Score:0.6428571428571429\n",
      "SVC(C=10, gamma=0.1, kernel='linear')\n",
      "clf.score\n",
      "Score:0.7616071428571428\n",
      "SVC(C=10, gamma=0.1, kernel='poly')\n",
      "clf.score\n",
      "Score:0.7571428571428571\n",
      "SVC(C=10, gamma=0.1)\n",
      "clf.score\n",
      "Score:0.7571428571428571\n",
      "SVC(C=10, gamma=0.1, kernel='sigmoid')\n",
      "clf.score\n",
      "Score:0.6723214285714286\n",
      "SVC(C=10, gamma=0.01, kernel='linear')\n",
      "clf.score\n",
      "Score:0.7616071428571428\n",
      "SVC(C=10, gamma=0.01, kernel='poly')\n",
      "clf.score\n",
      "Score:0.7571428571428571\n",
      "SVC(C=10, gamma=0.01)\n",
      "clf.score\n",
      "Score:0.7566964285714286\n",
      "SVC(C=10, gamma=0.01, kernel='sigmoid')\n",
      "clf.score\n",
      "Score:0.7933035714285714\n",
      "SVC(C=10, gamma=0.001, kernel='linear')\n",
      "clf.score\n",
      "Score:0.7616071428571428\n",
      "SVC(C=10, gamma=0.001, kernel='poly')\n",
      "clf.score\n",
      "Score:0.7575892857142857\n",
      "SVC(C=10, gamma=0.001)\n",
      "clf.score\n",
      "Score:0.7566964285714286\n",
      "SVC(C=10, gamma=0.001, kernel='sigmoid')\n",
      "clf.score\n",
      "Score:0.7794642857142857\n",
      "SVC(C=10, gamma=0.0001, kernel='linear')\n",
      "clf.score\n",
      "Score:0.7616071428571428\n",
      "SVC(C=10, gamma=0.0001, kernel='poly')\n",
      "clf.score\n",
      "Score:0.7571428571428571\n",
      "SVC(C=10, gamma=0.0001)\n",
      "clf.score\n",
      "Score:0.7839285714285714\n",
      "SVC(C=10, gamma=0.0001, kernel='sigmoid')\n",
      "clf.score\n",
      "Score:0.75625\n",
      "SVC(C=0.1, gamma=1, kernel='linear')\n",
      "clf.score\n",
      "Score:0.7433035714285714\n",
      "SVC(C=0.1, gamma=1, kernel='poly')\n",
      "clf.score\n",
      "Score:0.7566964285714286\n",
      "SVC(C=0.1, gamma=1)\n",
      "clf.score\n",
      "Score:0.7575892857142857\n",
      "SVC(C=0.1, gamma=1, kernel='sigmoid')\n",
      "clf.score\n",
      "Score:0.634375\n",
      "SVC(C=0.1, gamma=0.1, kernel='linear')\n",
      "clf.score\n",
      "Score:0.7433035714285714\n",
      "SVC(C=0.1, gamma=0.1, kernel='poly')\n",
      "clf.score\n",
      "Score:0.7566964285714286\n",
      "SVC(C=0.1, gamma=0.1)\n",
      "clf.score\n",
      "Score:0.7575892857142857\n",
      "SVC(C=0.1, gamma=0.1, kernel='sigmoid')\n",
      "clf.score\n",
      "Score:0.690625\n",
      "SVC(C=0.1, gamma=0.01, kernel='linear')\n",
      "clf.score\n",
      "Score:0.7433035714285714\n",
      "SVC(C=0.1, gamma=0.01, kernel='poly')\n",
      "clf.score\n",
      "Score:0.7566964285714286\n",
      "SVC(C=0.1, gamma=0.01)\n",
      "clf.score\n",
      "Score:0.7575892857142857\n",
      "SVC(C=0.1, gamma=0.01, kernel='sigmoid')\n",
      "clf.score\n",
      "Score:0.821875\n",
      "SVC(C=0.1, gamma=0.001, kernel='linear')\n",
      "clf.score\n",
      "Score:0.7433035714285714\n",
      "SVC(C=0.1, gamma=0.001, kernel='poly')\n",
      "clf.score\n",
      "Score:0.7580357142857143\n",
      "SVC(C=0.1, gamma=0.001)\n",
      "clf.score\n",
      "Score:0.7575892857142857\n",
      "SVC(C=0.1, gamma=0.001, kernel='sigmoid')\n",
      "clf.score\n",
      "Score:0.7745535714285714\n",
      "SVC(C=0.1, gamma=0.0001, kernel='linear')\n",
      "clf.score\n",
      "Score:0.7433035714285714\n",
      "SVC(C=0.1, gamma=0.0001, kernel='poly')\n",
      "clf.score\n",
      "Score:0.7575892857142857\n",
      "SVC(C=0.1, gamma=0.0001)\n",
      "clf.score\n",
      "Score:0.7575892857142857\n",
      "SVC(C=0.1, gamma=0.0001, kernel='sigmoid')\n",
      "clf.score\n",
      "Score:0.7575892857142857\n",
      "SVC(C=1, gamma=1, kernel='linear')\n",
      "clf.score\n",
      "Score:0.7433035714285714\n",
      "SVC(C=1, gamma=1, kernel='poly')\n",
      "clf.score\n",
      "Score:0.7566964285714286\n",
      "SVC(C=1, gamma=1)\n",
      "clf.score\n",
      "Score:0.7575892857142857\n",
      "SVC(C=1, gamma=1, kernel='sigmoid')\n",
      "clf.score\n",
      "Score:0.6200892857142857\n",
      "SVC(C=1, gamma=0.1, kernel='linear')\n",
      "clf.score\n",
      "Score:0.7433035714285714\n",
      "SVC(C=1, gamma=0.1, kernel='poly')\n",
      "clf.score\n",
      "Score:0.7566964285714286\n",
      "SVC(C=1, gamma=0.1)\n",
      "clf.score\n",
      "Score:0.7575892857142857\n",
      "SVC(C=1, gamma=0.1, kernel='sigmoid')\n",
      "clf.score\n",
      "Score:0.6754464285714286\n",
      "SVC(C=1, gamma=0.01, kernel='linear')\n",
      "clf.score\n",
      "Score:0.7433035714285714\n",
      "SVC(C=1, gamma=0.01, kernel='poly')\n",
      "clf.score\n",
      "Score:0.7566964285714286\n",
      "SVC(C=1, gamma=0.01)\n",
      "clf.score\n",
      "Score:0.7575892857142857\n",
      "SVC(C=1, gamma=0.01, kernel='sigmoid')\n",
      "clf.score\n",
      "Score:0.8013392857142857\n",
      "SVC(C=1, gamma=0.001, kernel='linear')\n",
      "clf.score\n",
      "Score:0.7433035714285714\n",
      "SVC(C=1, gamma=0.001, kernel='poly')\n",
      "clf.score\n",
      "Score:0.7584821428571429\n",
      "SVC(C=1, gamma=0.001)\n",
      "clf.score\n",
      "Score:0.7575892857142857\n",
      "SVC(C=1, gamma=0.001, kernel='sigmoid')\n",
      "clf.score\n",
      "Score:0.7964285714285714\n",
      "SVC(C=1, gamma=0.0001, kernel='linear')\n",
      "clf.score\n",
      "Score:0.7433035714285714\n",
      "SVC(C=1, gamma=0.0001, kernel='poly')\n",
      "clf.score\n",
      "Score:0.7575892857142857\n",
      "SVC(C=1, gamma=0.0001)\n",
      "clf.score\n",
      "Score:0.7638392857142857\n",
      "SVC(C=1, gamma=0.0001, kernel='sigmoid')\n",
      "clf.score\n",
      "Score:0.7928571428571428\n",
      "SVC(C=10, gamma=1, kernel='linear')\n",
      "clf.score\n",
      "Score:0.7433035714285714\n",
      "SVC(C=10, gamma=1, kernel='poly')\n",
      "clf.score\n",
      "Score:0.7566964285714286\n",
      "SVC(C=10, gamma=1)\n",
      "clf.score\n",
      "Score:0.7575892857142857\n",
      "SVC(C=10, gamma=1, kernel='sigmoid')\n",
      "clf.score\n",
      "Score:0.6178571428571429\n",
      "SVC(C=10, gamma=0.1, kernel='linear')\n",
      "clf.score\n",
      "Score:0.7433035714285714\n",
      "SVC(C=10, gamma=0.1, kernel='poly')\n",
      "clf.score\n",
      "Score:0.7566964285714286\n",
      "SVC(C=10, gamma=0.1)\n",
      "clf.score\n",
      "Score:0.7575892857142857\n",
      "SVC(C=10, gamma=0.1, kernel='sigmoid')\n",
      "clf.score\n",
      "Score:0.6754464285714286\n",
      "SVC(C=10, gamma=0.01, kernel='linear')\n",
      "clf.score\n",
      "Score:0.7433035714285714\n",
      "SVC(C=10, gamma=0.01, kernel='poly')\n",
      "clf.score\n",
      "Score:0.7566964285714286\n",
      "SVC(C=10, gamma=0.01)\n",
      "clf.score\n",
      "Score:0.7575892857142857\n",
      "SVC(C=10, gamma=0.01, kernel='sigmoid')\n",
      "clf.score\n",
      "Score:0.7946428571428571\n",
      "SVC(C=10, gamma=0.001, kernel='linear')\n",
      "clf.score\n",
      "Score:0.7433035714285714\n",
      "SVC(C=10, gamma=0.001, kernel='poly')\n",
      "clf.score\n",
      "Score:0.7580357142857143\n",
      "SVC(C=10, gamma=0.001)\n",
      "clf.score\n",
      "Score:0.7571428571428571\n",
      "SVC(C=10, gamma=0.001, kernel='sigmoid')\n",
      "clf.score\n",
      "Score:0.7674107142857143\n",
      "SVC(C=10, gamma=0.0001, kernel='linear')\n",
      "clf.score\n",
      "Score:0.7433035714285714\n",
      "SVC(C=10, gamma=0.0001, kernel='poly')\n",
      "clf.score\n",
      "Score:0.7575892857142857\n",
      "SVC(C=10, gamma=0.0001)\n",
      "clf.score\n",
      "Score:0.7870535714285715\n",
      "SVC(C=10, gamma=0.0001, kernel='sigmoid')\n",
      "clf.score\n",
      "Score:0.7486607142857142\n",
      "SVC(C=0.1, gamma=1, kernel='linear')\n",
      "clf.score\n",
      "Score:0.7566964285714286\n",
      "SVC(C=0.1, gamma=1, kernel='poly')\n",
      "clf.score\n",
      "Score:0.7589285714285714\n",
      "SVC(C=0.1, gamma=1)\n",
      "clf.score\n",
      "Score:0.7598214285714285\n",
      "SVC(C=0.1, gamma=1, kernel='sigmoid')\n",
      "clf.score\n",
      "Score:0.6544642857142857\n",
      "SVC(C=0.1, gamma=0.1, kernel='linear')\n",
      "clf.score\n",
      "Score:0.7566964285714286\n",
      "SVC(C=0.1, gamma=0.1, kernel='poly')\n",
      "clf.score\n",
      "Score:0.7589285714285714\n",
      "SVC(C=0.1, gamma=0.1)\n",
      "clf.score\n",
      "Score:0.7598214285714285\n",
      "SVC(C=0.1, gamma=0.1, kernel='sigmoid')\n",
      "clf.score\n",
      "Score:0.7276785714285714\n",
      "SVC(C=0.1, gamma=0.01, kernel='linear')\n",
      "clf.score\n",
      "Score:0.7566964285714286\n",
      "SVC(C=0.1, gamma=0.01, kernel='poly')\n",
      "clf.score\n",
      "Score:0.7589285714285714\n",
      "SVC(C=0.1, gamma=0.01)\n",
      "clf.score\n",
      "Score:0.7598214285714285\n",
      "SVC(C=0.1, gamma=0.01, kernel='sigmoid')\n",
      "clf.score\n",
      "Score:0.8245535714285714\n",
      "SVC(C=0.1, gamma=0.001, kernel='linear')\n",
      "clf.score\n",
      "Score:0.7566964285714286\n",
      "SVC(C=0.1, gamma=0.001, kernel='poly')\n",
      "clf.score\n",
      "Score:0.7589285714285714\n",
      "SVC(C=0.1, gamma=0.001)\n",
      "clf.score\n",
      "Score:0.7598214285714285\n",
      "SVC(C=0.1, gamma=0.001, kernel='sigmoid')\n",
      "clf.score\n",
      "Score:0.771875\n",
      "SVC(C=0.1, gamma=0.0001, kernel='linear')\n",
      "clf.score\n",
      "Score:0.7566964285714286\n",
      "SVC(C=0.1, gamma=0.0001, kernel='poly')\n",
      "clf.score\n",
      "Score:0.7598214285714285\n",
      "SVC(C=0.1, gamma=0.0001)\n",
      "clf.score\n",
      "Score:0.7598214285714285\n",
      "SVC(C=0.1, gamma=0.0001, kernel='sigmoid')\n",
      "clf.score\n",
      "Score:0.7598214285714285\n",
      "SVC(C=1, gamma=1, kernel='linear')\n",
      "clf.score\n",
      "Score:0.7566964285714286\n",
      "SVC(C=1, gamma=1, kernel='poly')\n",
      "clf.score\n",
      "Score:0.7589285714285714\n",
      "SVC(C=1, gamma=1)\n",
      "clf.score\n",
      "Score:0.7598214285714285\n",
      "SVC(C=1, gamma=1, kernel='sigmoid')\n",
      "clf.score\n",
      "Score:0.6450892857142857\n",
      "SVC(C=1, gamma=0.1, kernel='linear')\n",
      "clf.score\n",
      "Score:0.7566964285714286\n",
      "SVC(C=1, gamma=0.1, kernel='poly')\n",
      "clf.score\n",
      "Score:0.7589285714285714\n",
      "SVC(C=1, gamma=0.1)\n",
      "clf.score\n",
      "Score:0.7598214285714285\n",
      "SVC(C=1, gamma=0.1, kernel='sigmoid')\n",
      "clf.score\n",
      "Score:0.6946428571428571\n",
      "SVC(C=1, gamma=0.01, kernel='linear')\n",
      "clf.score\n",
      "Score:0.7566964285714286\n",
      "SVC(C=1, gamma=0.01, kernel='poly')\n",
      "clf.score\n",
      "Score:0.7589285714285714\n",
      "SVC(C=1, gamma=0.01)\n",
      "clf.score\n",
      "Score:0.7598214285714285\n",
      "SVC(C=1, gamma=0.01, kernel='sigmoid')\n",
      "clf.score\n",
      "Score:0.8107142857142857\n",
      "SVC(C=1, gamma=0.001, kernel='linear')\n",
      "clf.score\n",
      "Score:0.7566964285714286\n",
      "SVC(C=1, gamma=0.001, kernel='poly')\n",
      "clf.score\n",
      "Score:0.7584821428571429\n",
      "SVC(C=1, gamma=0.001)\n",
      "clf.score\n",
      "Score:0.7598214285714285\n",
      "SVC(C=1, gamma=0.001, kernel='sigmoid')\n",
      "clf.score\n",
      "Score:0.8098214285714286\n",
      "SVC(C=1, gamma=0.0001, kernel='linear')\n",
      "clf.score\n",
      "Score:0.7566964285714286\n",
      "SVC(C=1, gamma=0.0001, kernel='poly')\n",
      "clf.score\n",
      "Score:0.7598214285714285\n",
      "SVC(C=1, gamma=0.0001)\n",
      "clf.score\n",
      "Score:0.7665178571428571\n",
      "SVC(C=1, gamma=0.0001, kernel='sigmoid')\n",
      "clf.score\n",
      "Score:0.7888392857142857\n",
      "SVC(C=10, gamma=1, kernel='linear')\n",
      "clf.score\n",
      "Score:0.7566964285714286\n",
      "SVC(C=10, gamma=1, kernel='poly')\n",
      "clf.score\n",
      "Score:0.7589285714285714\n",
      "SVC(C=10, gamma=1)\n",
      "clf.score\n",
      "Score:0.7598214285714285\n",
      "SVC(C=10, gamma=1, kernel='sigmoid')\n",
      "clf.score\n",
      "Score:0.6433035714285714\n",
      "SVC(C=10, gamma=0.1, kernel='linear')\n",
      "clf.score\n",
      "Score:0.7566964285714286\n",
      "SVC(C=10, gamma=0.1, kernel='poly')\n",
      "clf.score\n",
      "Score:0.7589285714285714\n",
      "SVC(C=10, gamma=0.1)\n",
      "clf.score\n",
      "Score:0.7598214285714285\n",
      "SVC(C=10, gamma=0.1, kernel='sigmoid')\n",
      "clf.score\n",
      "Score:0.6897321428571429\n",
      "SVC(C=10, gamma=0.01, kernel='linear')\n",
      "clf.score\n",
      "Score:0.7566964285714286\n",
      "SVC(C=10, gamma=0.01, kernel='poly')\n",
      "clf.score\n",
      "Score:0.7589285714285714\n",
      "SVC(C=10, gamma=0.01)\n",
      "clf.score\n",
      "Score:0.7598214285714285\n",
      "SVC(C=10, gamma=0.01, kernel='sigmoid')\n",
      "clf.score\n",
      "Score:0.8107142857142857\n",
      "SVC(C=10, gamma=0.001, kernel='linear')\n",
      "clf.score\n",
      "Score:0.7566964285714286\n",
      "SVC(C=10, gamma=0.001, kernel='poly')\n",
      "clf.score\n",
      "Score:0.7584821428571429\n",
      "SVC(C=10, gamma=0.001)\n",
      "clf.score\n",
      "Score:0.759375\n",
      "SVC(C=10, gamma=0.001, kernel='sigmoid')\n",
      "clf.score\n",
      "Score:0.784375\n",
      "SVC(C=10, gamma=0.0001, kernel='linear')\n",
      "clf.score\n",
      "Score:0.7566964285714286\n",
      "SVC(C=10, gamma=0.0001, kernel='poly')\n",
      "clf.score\n",
      "Score:0.7598214285714285\n",
      "SVC(C=10, gamma=0.0001)\n",
      "clf.score\n",
      "Score:0.7803571428571429\n",
      "SVC(C=10, gamma=0.0001, kernel='sigmoid')\n",
      "clf.score\n",
      "Score:0.7598214285714285\n",
      "SVC(C=0.1, gamma=1, kernel='linear')\n",
      "clf.score\n",
      "Score:0.7526785714285714\n",
      "SVC(C=0.1, gamma=1, kernel='poly')\n",
      "clf.score\n",
      "Score:0.7571428571428571\n",
      "SVC(C=0.1, gamma=1)\n",
      "clf.score\n",
      "Score:0.7566964285714286\n",
      "SVC(C=0.1, gamma=1, kernel='sigmoid')\n",
      "clf.score\n",
      "Score:0.634375\n",
      "SVC(C=0.1, gamma=0.1, kernel='linear')\n",
      "clf.score\n",
      "Score:0.7526785714285714\n",
      "SVC(C=0.1, gamma=0.1, kernel='poly')\n",
      "clf.score\n",
      "Score:0.7571428571428571\n",
      "SVC(C=0.1, gamma=0.1)\n",
      "clf.score\n",
      "Score:0.7566964285714286\n",
      "SVC(C=0.1, gamma=0.1, kernel='sigmoid')\n",
      "clf.score\n",
      "Score:0.7147321428571428\n",
      "SVC(C=0.1, gamma=0.01, kernel='linear')\n",
      "clf.score\n",
      "Score:0.7526785714285714\n",
      "SVC(C=0.1, gamma=0.01, kernel='poly')\n",
      "clf.score\n",
      "Score:0.7571428571428571\n",
      "SVC(C=0.1, gamma=0.01)\n",
      "clf.score\n",
      "Score:0.7566964285714286\n",
      "SVC(C=0.1, gamma=0.01, kernel='sigmoid')\n",
      "clf.score\n",
      "Score:0.8223214285714285\n",
      "SVC(C=0.1, gamma=0.001, kernel='linear')\n",
      "clf.score\n",
      "Score:0.7526785714285714\n",
      "SVC(C=0.1, gamma=0.001, kernel='poly')\n",
      "clf.score\n",
      "Score:0.7571428571428571\n",
      "SVC(C=0.1, gamma=0.001)\n",
      "clf.score\n",
      "Score:0.7566964285714286\n",
      "SVC(C=0.1, gamma=0.001, kernel='sigmoid')\n",
      "clf.score\n",
      "Score:0.7700892857142857\n",
      "SVC(C=0.1, gamma=0.0001, kernel='linear')\n",
      "clf.score\n",
      "Score:0.7526785714285714\n",
      "SVC(C=0.1, gamma=0.0001, kernel='poly')\n",
      "clf.score\n",
      "Score:0.7566964285714286\n",
      "SVC(C=0.1, gamma=0.0001)\n",
      "clf.score\n",
      "Score:0.7566964285714286\n",
      "SVC(C=0.1, gamma=0.0001, kernel='sigmoid')\n",
      "clf.score\n",
      "Score:0.7566964285714286\n",
      "SVC(C=1, gamma=1, kernel='linear')\n",
      "clf.score\n",
      "Score:0.7526785714285714\n",
      "SVC(C=1, gamma=1, kernel='poly')\n",
      "clf.score\n",
      "Score:0.7571428571428571\n",
      "SVC(C=1, gamma=1)\n",
      "clf.score\n",
      "Score:0.7566964285714286\n",
      "SVC(C=1, gamma=1, kernel='sigmoid')\n",
      "clf.score\n",
      "Score:0.628125\n",
      "SVC(C=1, gamma=0.1, kernel='linear')\n",
      "clf.score\n",
      "Score:0.7526785714285714\n",
      "SVC(C=1, gamma=0.1, kernel='poly')\n",
      "clf.score\n",
      "Score:0.7571428571428571\n",
      "SVC(C=1, gamma=0.1)\n",
      "clf.score\n",
      "Score:0.7566964285714286\n",
      "SVC(C=1, gamma=0.1, kernel='sigmoid')\n",
      "clf.score\n",
      "Score:0.6875\n",
      "SVC(C=1, gamma=0.01, kernel='linear')\n",
      "clf.score\n",
      "Score:0.7526785714285714\n",
      "SVC(C=1, gamma=0.01, kernel='poly')\n",
      "clf.score\n",
      "Score:0.7571428571428571\n",
      "SVC(C=1, gamma=0.01)\n",
      "clf.score\n",
      "Score:0.7566964285714286\n",
      "SVC(C=1, gamma=0.01, kernel='sigmoid')\n",
      "clf.score\n",
      "Score:0.796875\n",
      "SVC(C=1, gamma=0.001, kernel='linear')\n",
      "clf.score\n",
      "Score:0.7526785714285714\n",
      "SVC(C=1, gamma=0.001, kernel='poly')\n",
      "clf.score\n",
      "Score:0.75625\n",
      "SVC(C=1, gamma=0.001)\n",
      "clf.score\n",
      "Score:0.7575892857142857\n",
      "SVC(C=1, gamma=0.001, kernel='sigmoid')\n",
      "clf.score\n",
      "Score:0.8017857142857143\n",
      "SVC(C=1, gamma=0.0001, kernel='linear')\n",
      "clf.score\n",
      "Score:0.7526785714285714\n",
      "SVC(C=1, gamma=0.0001, kernel='poly')\n",
      "clf.score\n",
      "Score:0.7566964285714286\n",
      "SVC(C=1, gamma=0.0001)\n",
      "clf.score\n",
      "Score:0.7629464285714286\n",
      "SVC(C=1, gamma=0.0001, kernel='sigmoid')\n",
      "clf.score\n",
      "Score:0.7946428571428571\n",
      "SVC(C=10, gamma=1, kernel='linear')\n",
      "clf.score\n",
      "Score:0.7526785714285714\n",
      "SVC(C=10, gamma=1, kernel='poly')\n",
      "clf.score\n",
      "Score:0.7571428571428571\n",
      "SVC(C=10, gamma=1)\n",
      "clf.score\n",
      "Score:0.7566964285714286\n",
      "SVC(C=10, gamma=1, kernel='sigmoid')\n",
      "clf.score\n",
      "Score:0.6263392857142858\n",
      "SVC(C=10, gamma=0.1, kernel='linear')\n",
      "clf.score\n",
      "Score:0.7526785714285714\n",
      "SVC(C=10, gamma=0.1, kernel='poly')\n",
      "clf.score\n",
      "Score:0.7571428571428571\n",
      "SVC(C=10, gamma=0.1)\n",
      "clf.score\n",
      "Score:0.7566964285714286\n",
      "SVC(C=10, gamma=0.1, kernel='sigmoid')\n",
      "clf.score\n",
      "Score:0.6834821428571428\n",
      "SVC(C=10, gamma=0.01, kernel='linear')\n",
      "clf.score\n",
      "Score:0.7526785714285714\n",
      "SVC(C=10, gamma=0.01, kernel='poly')\n",
      "clf.score\n",
      "Score:0.7571428571428571\n",
      "SVC(C=10, gamma=0.01)\n",
      "clf.score\n",
      "Score:0.7566964285714286\n",
      "SVC(C=10, gamma=0.01, kernel='sigmoid')\n",
      "clf.score\n",
      "Score:0.7892857142857143\n",
      "SVC(C=10, gamma=0.001, kernel='linear')\n",
      "clf.score\n",
      "Score:0.7526785714285714\n",
      "SVC(C=10, gamma=0.001, kernel='poly')\n",
      "clf.score\n",
      "Score:0.75625\n",
      "SVC(C=10, gamma=0.001)\n",
      "clf.score\n",
      "Score:0.7580357142857143\n",
      "SVC(C=10, gamma=0.001, kernel='sigmoid')\n",
      "clf.score\n",
      "Score:0.7866071428571428\n",
      "SVC(C=10, gamma=0.0001, kernel='linear')\n",
      "clf.score\n",
      "Score:0.7526785714285714\n",
      "SVC(C=10, gamma=0.0001, kernel='poly')\n",
      "clf.score\n",
      "Score:0.7566964285714286\n",
      "SVC(C=10, gamma=0.0001)\n",
      "clf.score\n",
      "Score:0.7857142857142857\n",
      "SVC(C=10, gamma=0.0001, kernel='sigmoid')\n",
      "clf.score\n",
      "Score:0.775\n",
      "SVC(C=0.1, gamma=1, kernel='linear')\n",
      "clf.score\n",
      "Score:0.7647321428571429\n",
      "SVC(C=0.1, gamma=1, kernel='poly')\n",
      "clf.score\n",
      "Score:0.7535714285714286\n",
      "SVC(C=0.1, gamma=1)\n",
      "clf.score\n",
      "Score:0.7553571428571428\n",
      "SVC(C=0.1, gamma=1, kernel='sigmoid')\n",
      "clf.score\n",
      "Score:0.6383928571428571\n",
      "SVC(C=0.1, gamma=0.1, kernel='linear')\n",
      "clf.score\n",
      "Score:0.7647321428571429\n",
      "SVC(C=0.1, gamma=0.1, kernel='poly')\n",
      "clf.score\n",
      "Score:0.7535714285714286\n",
      "SVC(C=0.1, gamma=0.1)\n",
      "clf.score\n",
      "Score:0.7553571428571428\n",
      "SVC(C=0.1, gamma=0.1, kernel='sigmoid')\n",
      "clf.score\n",
      "Score:0.703125\n",
      "SVC(C=0.1, gamma=0.01, kernel='linear')\n",
      "clf.score\n",
      "Score:0.7647321428571429\n",
      "SVC(C=0.1, gamma=0.01, kernel='poly')\n",
      "clf.score\n",
      "Score:0.7535714285714286\n",
      "SVC(C=0.1, gamma=0.01)\n",
      "clf.score\n",
      "Score:0.7553571428571428\n",
      "SVC(C=0.1, gamma=0.01, kernel='sigmoid')\n",
      "clf.score\n",
      "Score:0.8174107142857143\n",
      "SVC(C=0.1, gamma=0.001, kernel='linear')\n",
      "clf.score\n",
      "Score:0.7647321428571429\n",
      "SVC(C=0.1, gamma=0.001, kernel='poly')\n",
      "clf.score\n",
      "Score:0.7553571428571428\n",
      "SVC(C=0.1, gamma=0.001)\n",
      "clf.score\n",
      "Score:0.7553571428571428\n",
      "SVC(C=0.1, gamma=0.001, kernel='sigmoid')\n",
      "clf.score\n",
      "Score:0.7723214285714286\n",
      "SVC(C=0.1, gamma=0.0001, kernel='linear')\n",
      "clf.score\n",
      "Score:0.7647321428571429\n",
      "SVC(C=0.1, gamma=0.0001, kernel='poly')\n",
      "clf.score\n",
      "Score:0.7553571428571428\n",
      "SVC(C=0.1, gamma=0.0001)\n",
      "clf.score\n",
      "Score:0.7553571428571428\n",
      "SVC(C=0.1, gamma=0.0001, kernel='sigmoid')\n",
      "clf.score\n",
      "Score:0.7553571428571428\n",
      "SVC(C=1, gamma=1, kernel='linear')\n",
      "clf.score\n",
      "Score:0.7647321428571429\n",
      "SVC(C=1, gamma=1, kernel='poly')\n",
      "clf.score\n",
      "Score:0.7535714285714286\n",
      "SVC(C=1, gamma=1)\n",
      "clf.score\n",
      "Score:0.7553571428571428\n",
      "SVC(C=1, gamma=1, kernel='sigmoid')\n",
      "clf.score\n",
      "Score:0.628125\n",
      "SVC(C=1, gamma=0.1, kernel='linear')\n",
      "clf.score\n",
      "Score:0.7647321428571429\n",
      "SVC(C=1, gamma=0.1, kernel='poly')\n",
      "clf.score\n",
      "Score:0.7535714285714286\n",
      "SVC(C=1, gamma=0.1)\n",
      "clf.score\n",
      "Score:0.7553571428571428\n",
      "SVC(C=1, gamma=0.1, kernel='sigmoid')\n",
      "clf.score\n",
      "Score:0.6803571428571429\n",
      "SVC(C=1, gamma=0.01, kernel='linear')\n",
      "clf.score\n",
      "Score:0.7647321428571429\n",
      "SVC(C=1, gamma=0.01, kernel='poly')\n",
      "clf.score\n",
      "Score:0.7535714285714286\n",
      "SVC(C=1, gamma=0.01)\n",
      "clf.score\n",
      "Score:0.7553571428571428\n",
      "SVC(C=1, gamma=0.01, kernel='sigmoid')\n",
      "clf.score\n",
      "Score:0.8\n",
      "SVC(C=1, gamma=0.001, kernel='linear')\n",
      "clf.score\n",
      "Score:0.7647321428571429\n",
      "SVC(C=1, gamma=0.001, kernel='poly')\n",
      "clf.score\n",
      "Score:0.7540178571428572\n",
      "SVC(C=1, gamma=0.001)\n",
      "clf.score\n",
      "Score:0.7553571428571428\n",
      "SVC(C=1, gamma=0.001, kernel='sigmoid')\n",
      "clf.score\n",
      "Score:0.8\n",
      "SVC(C=1, gamma=0.0001, kernel='linear')\n",
      "clf.score\n",
      "Score:0.7647321428571429\n",
      "SVC(C=1, gamma=0.0001, kernel='poly')\n",
      "clf.score\n",
      "Score:0.7553571428571428\n",
      "SVC(C=1, gamma=0.0001)\n",
      "clf.score\n",
      "Score:0.7611607142857143\n",
      "SVC(C=1, gamma=0.0001, kernel='sigmoid')\n",
      "clf.score\n",
      "Score:0.7888392857142857\n",
      "SVC(C=10, gamma=1, kernel='linear')\n",
      "clf.score\n",
      "Score:0.7647321428571429\n",
      "SVC(C=10, gamma=1, kernel='poly')\n",
      "clf.score\n",
      "Score:0.7535714285714286\n",
      "SVC(C=10, gamma=1)\n",
      "clf.score\n",
      "Score:0.7553571428571428\n",
      "SVC(C=10, gamma=1, kernel='sigmoid')\n",
      "clf.score\n",
      "Score:0.6263392857142858\n",
      "SVC(C=10, gamma=0.1, kernel='linear')\n",
      "clf.score\n",
      "Score:0.7647321428571429\n",
      "SVC(C=10, gamma=0.1, kernel='poly')\n",
      "clf.score\n",
      "Score:0.7535714285714286\n",
      "SVC(C=10, gamma=0.1)\n",
      "clf.score\n",
      "Score:0.7553571428571428\n",
      "SVC(C=10, gamma=0.1, kernel='sigmoid')\n",
      "clf.score\n",
      "Score:0.684375\n",
      "SVC(C=10, gamma=0.01, kernel='linear')\n",
      "clf.score\n",
      "Score:0.7647321428571429\n",
      "SVC(C=10, gamma=0.01, kernel='poly')\n",
      "clf.score\n",
      "Score:0.7535714285714286\n",
      "SVC(C=10, gamma=0.01)\n",
      "clf.score\n",
      "Score:0.7553571428571428\n",
      "SVC(C=10, gamma=0.01, kernel='sigmoid')\n",
      "clf.score\n",
      "Score:0.7741071428571429\n",
      "SVC(C=10, gamma=0.001, kernel='linear')\n",
      "clf.score\n",
      "Score:0.7647321428571429\n",
      "SVC(C=10, gamma=0.001, kernel='poly')\n",
      "clf.score\n",
      "Score:0.7540178571428572\n",
      "SVC(C=10, gamma=0.001)\n",
      "clf.score\n",
      "Score:0.7553571428571428\n",
      "SVC(C=10, gamma=0.001, kernel='sigmoid')\n",
      "clf.score\n",
      "Score:0.7727678571428571\n",
      "SVC(C=10, gamma=0.0001, kernel='linear')\n",
      "clf.score\n",
      "Score:0.7647321428571429\n",
      "SVC(C=10, gamma=0.0001, kernel='poly')\n",
      "clf.score\n",
      "Score:0.7553571428571428\n",
      "SVC(C=10, gamma=0.0001)\n",
      "clf.score\n",
      "Score:0.7767857142857143\n",
      "SVC(C=10, gamma=0.0001, kernel='sigmoid')\n",
      "clf.score\n",
      "Score:0.7611607142857143\n"
     ]
    }
   ],
   "source": [
    "rez = np.zeros((len(param_grid['C']),len(param_grid['gamma']),len(param_grid['kernel']))) \n",
    "for m in range (len(treniraj)):  \n",
    "    for i in range (len(param_grid['C'])):\n",
    "        for j in range (len(param_grid['gamma'])):\n",
    "            for k in range (len(param_grid['kernel'])):\n",
    "                clf = SVC(C = param_grid['C'][i], gamma = param_grid['gamma'][j], kernel = param_grid['kernel'][k])\n",
    "                print(clf)\n",
    "                clf.fit(treniraj[m], trenirajL[m])\n",
    "                print(\"clf.score\")\n",
    "                score = clf.score(testiraj[m],testirajL[m])\n",
    "                print(\"Score:\"+str(score)) \n",
    "                rez[i][j][k] += score"
   ]
  },
  {
   "cell_type": "code",
   "execution_count": 30,
   "id": "6da0b0cb",
   "metadata": {},
   "outputs": [],
   "source": [
    "max = 0\n",
    "max_i = 0\n",
    "max_j = 0\n",
    "max_k = 0\n",
    "for i in range (len(param_grid['C'])):\n",
    "        for j in range (len(param_grid['gamma'])):\n",
    "            for k in range (len(param_grid['kernel'])):\n",
    "                if rez[i][j][k] >= max: \n",
    "                    max = rez[i][j][k]\n",
    "                    max_i = i;\n",
    "                    max_j = j;\n",
    "                    max_k = k;\n",
    "                "
   ]
  },
  {
   "cell_type": "code",
   "execution_count": 31,
   "id": "0063c6cb",
   "metadata": {},
   "outputs": [
    {
     "name": "stdout",
     "output_type": "stream",
     "text": [
      "0.8219642857142858 C: 0.1, gamma: 0.01, kernel: sigmoid\n"
     ]
    }
   ],
   "source": [
    "print(max/5, \"C: {}, gamma: {}, kernel: {}\".format(param_grid['C'][max_i], param_grid['gamma'][max_j], param_grid['kernel'][max_k]))"
   ]
  },
  {
   "cell_type": "code",
   "execution_count": 32,
   "id": "8b3b170b",
   "metadata": {},
   "outputs": [
    {
     "data": {
      "text/html": [
       "<style>#sk-container-id-3 {color: black;background-color: white;}#sk-container-id-3 pre{padding: 0;}#sk-container-id-3 div.sk-toggleable {background-color: white;}#sk-container-id-3 label.sk-toggleable__label {cursor: pointer;display: block;width: 100%;margin-bottom: 0;padding: 0.3em;box-sizing: border-box;text-align: center;}#sk-container-id-3 label.sk-toggleable__label-arrow:before {content: \"▸\";float: left;margin-right: 0.25em;color: #696969;}#sk-container-id-3 label.sk-toggleable__label-arrow:hover:before {color: black;}#sk-container-id-3 div.sk-estimator:hover label.sk-toggleable__label-arrow:before {color: black;}#sk-container-id-3 div.sk-toggleable__content {max-height: 0;max-width: 0;overflow: hidden;text-align: left;background-color: #f0f8ff;}#sk-container-id-3 div.sk-toggleable__content pre {margin: 0.2em;color: black;border-radius: 0.25em;background-color: #f0f8ff;}#sk-container-id-3 input.sk-toggleable__control:checked~div.sk-toggleable__content {max-height: 200px;max-width: 100%;overflow: auto;}#sk-container-id-3 input.sk-toggleable__control:checked~label.sk-toggleable__label-arrow:before {content: \"▾\";}#sk-container-id-3 div.sk-estimator input.sk-toggleable__control:checked~label.sk-toggleable__label {background-color: #d4ebff;}#sk-container-id-3 div.sk-label input.sk-toggleable__control:checked~label.sk-toggleable__label {background-color: #d4ebff;}#sk-container-id-3 input.sk-hidden--visually {border: 0;clip: rect(1px 1px 1px 1px);clip: rect(1px, 1px, 1px, 1px);height: 1px;margin: -1px;overflow: hidden;padding: 0;position: absolute;width: 1px;}#sk-container-id-3 div.sk-estimator {font-family: monospace;background-color: #f0f8ff;border: 1px dotted black;border-radius: 0.25em;box-sizing: border-box;margin-bottom: 0.5em;}#sk-container-id-3 div.sk-estimator:hover {background-color: #d4ebff;}#sk-container-id-3 div.sk-parallel-item::after {content: \"\";width: 100%;border-bottom: 1px solid gray;flex-grow: 1;}#sk-container-id-3 div.sk-label:hover label.sk-toggleable__label {background-color: #d4ebff;}#sk-container-id-3 div.sk-serial::before {content: \"\";position: absolute;border-left: 1px solid gray;box-sizing: border-box;top: 0;bottom: 0;left: 50%;z-index: 0;}#sk-container-id-3 div.sk-serial {display: flex;flex-direction: column;align-items: center;background-color: white;padding-right: 0.2em;padding-left: 0.2em;position: relative;}#sk-container-id-3 div.sk-item {position: relative;z-index: 1;}#sk-container-id-3 div.sk-parallel {display: flex;align-items: stretch;justify-content: center;background-color: white;position: relative;}#sk-container-id-3 div.sk-item::before, #sk-container-id-3 div.sk-parallel-item::before {content: \"\";position: absolute;border-left: 1px solid gray;box-sizing: border-box;top: 0;bottom: 0;left: 50%;z-index: -1;}#sk-container-id-3 div.sk-parallel-item {display: flex;flex-direction: column;z-index: 1;position: relative;background-color: white;}#sk-container-id-3 div.sk-parallel-item:first-child::after {align-self: flex-end;width: 50%;}#sk-container-id-3 div.sk-parallel-item:last-child::after {align-self: flex-start;width: 50%;}#sk-container-id-3 div.sk-parallel-item:only-child::after {width: 0;}#sk-container-id-3 div.sk-dashed-wrapped {border: 1px dashed gray;margin: 0 0.4em 0.5em 0.4em;box-sizing: border-box;padding-bottom: 0.4em;background-color: white;}#sk-container-id-3 div.sk-label label {font-family: monospace;font-weight: bold;display: inline-block;line-height: 1.2em;}#sk-container-id-3 div.sk-label-container {text-align: center;}#sk-container-id-3 div.sk-container {/* jupyter's `normalize.less` sets `[hidden] { display: none; }` but bootstrap.min.css set `[hidden] { display: none !important; }` so we also need the `!important` here to be able to override the default hidden behavior on the sphinx rendered scikit-learn.org. See: https://github.com/scikit-learn/scikit-learn/issues/21755 */display: inline-block !important;position: relative;}#sk-container-id-3 div.sk-text-repr-fallback {display: none;}</style><div id=\"sk-container-id-3\" class=\"sk-top-container\"><div class=\"sk-text-repr-fallback\"><pre>Pipeline(steps=[(&#x27;standardscaler&#x27;, StandardScaler(with_mean=False)),\n",
       "                (&#x27;svc&#x27;, SVC(C=0.1, gamma=0.01, kernel=&#x27;sigmoid&#x27;))])</pre><b>In a Jupyter environment, please rerun this cell to show the HTML representation or trust the notebook. <br />On GitHub, the HTML representation is unable to render, please try loading this page with nbviewer.org.</b></div><div class=\"sk-container\" hidden><div class=\"sk-item sk-dashed-wrapped\"><div class=\"sk-label-container\"><div class=\"sk-label sk-toggleable\"><input class=\"sk-toggleable__control sk-hidden--visually\" id=\"sk-estimator-id-3\" type=\"checkbox\" ><label for=\"sk-estimator-id-3\" class=\"sk-toggleable__label sk-toggleable__label-arrow\">Pipeline</label><div class=\"sk-toggleable__content\"><pre>Pipeline(steps=[(&#x27;standardscaler&#x27;, StandardScaler(with_mean=False)),\n",
       "                (&#x27;svc&#x27;, SVC(C=0.1, gamma=0.01, kernel=&#x27;sigmoid&#x27;))])</pre></div></div></div><div class=\"sk-serial\"><div class=\"sk-item\"><div class=\"sk-estimator sk-toggleable\"><input class=\"sk-toggleable__control sk-hidden--visually\" id=\"sk-estimator-id-4\" type=\"checkbox\" ><label for=\"sk-estimator-id-4\" class=\"sk-toggleable__label sk-toggleable__label-arrow\">StandardScaler</label><div class=\"sk-toggleable__content\"><pre>StandardScaler(with_mean=False)</pre></div></div></div><div class=\"sk-item\"><div class=\"sk-estimator sk-toggleable\"><input class=\"sk-toggleable__control sk-hidden--visually\" id=\"sk-estimator-id-5\" type=\"checkbox\" ><label for=\"sk-estimator-id-5\" class=\"sk-toggleable__label sk-toggleable__label-arrow\">SVC</label><div class=\"sk-toggleable__content\"><pre>SVC(C=0.1, gamma=0.01, kernel=&#x27;sigmoid&#x27;)</pre></div></div></div></div></div></div></div>"
      ],
      "text/plain": [
       "Pipeline(steps=[('standardscaler', StandardScaler(with_mean=False)),\n",
       "                ('svc', SVC(C=0.1, gamma=0.01, kernel='sigmoid'))])"
      ]
     },
     "execution_count": 32,
     "metadata": {},
     "output_type": "execute_result"
    }
   ],
   "source": [
    "corpus = df_train[\"text\"]\n",
    "vectorizer = TfidfVectorizer()\n",
    "X = vectorizer.fit_transform(corpus)\n",
    "le = LabelEncoder()\n",
    "lista_label = np.array(df_train[\"label\"])\n",
    "lista_label = le.fit_transform(lista_label)\n",
    "\n",
    "clf = make_pipeline(StandardScaler(with_mean = False), SVC(C=0.1, gamma = 0.01, kernel = 'sigmoid'))\n",
    "clf.fit(X, lista_label)"
   ]
  },
  {
   "cell_type": "code",
   "execution_count": 33,
   "id": "bfc9fce2",
   "metadata": {},
   "outputs": [
    {
     "name": "stdout",
     "output_type": "stream",
     "text": [
      "Training:0.7910204081632654\n",
      "Test:0.8214285714285714\n"
     ]
    }
   ],
   "source": [
    "print(\"Training:\"+str(clf.score(X, lista_label)))\n",
    "\n",
    "label_test = np.array(df_test[\"label\"])\n",
    "label_test = le.transform(label_test)\n",
    "text_test = vectorizer.transform(df_test[\"text\"])\n",
    "\n",
    "print(\"Test:\"+str(clf.score(text_test,label_test)))"
   ]
  },
  {
   "cell_type": "code",
   "execution_count": 34,
   "id": "393387f8",
   "metadata": {},
   "outputs": [
    {
     "name": "stdout",
     "output_type": "stream",
     "text": [
      "              precision    recall  f1-score   support\n",
      "\n",
      "  not sexist       0.82      0.98      0.89      2120\n",
      "      sexist       0.86      0.31      0.46       680\n",
      "\n",
      "    accuracy                           0.82      2800\n",
      "   macro avg       0.84      0.65      0.68      2800\n",
      "weighted avg       0.83      0.82      0.79      2800\n",
      "\n",
      "Precision:   0.82\n",
      "   Recall:   0.82\n",
      "       F1:   0.82\n"
     ]
    },
    {
     "data": {
      "image/png": "[encoded data removed]",
      "text/plain": [
       "<Figure size 432x288 with 2 Axes>"
      ]
     },
     "metadata": {
      "needs_background": "light"
     },
     "output_type": "display_data"
    }
   ],
   "source": [
    "evaluate(clf, vectorizer, df_test.text, label_test)"
   ]
  },
  {
   "cell_type": "code",
   "execution_count": 35,
   "id": "ef4dd64d",
   "metadata": {},
   "outputs": [],
   "source": [
    "import pickle\n",
    "tfidf_clf = pickle.dumps(clf)"
   ]
  },
  {
   "cell_type": "markdown",
   "id": "1a6cdfbe",
   "metadata": {},
   "source": [
    "Ucitavanje spremljenih modela i testiranje na proizvoljnom tekstu:"
   ]
  },
  {
   "cell_type": "code",
   "execution_count": 21,
   "id": "4403d40b",
   "metadata": {},
   "outputs": [
    {
     "name": "stdout",
     "output_type": "stream",
     "text": [
      "not sexist\n"
     ]
    }
   ],
   "source": [
    "load_w2v_clf = pickle.loads(word2vec_clf)\n",
    "tekst = \"woman is nice\"\n",
    "tekst_v = W2Vvectorize(tekst)\n",
    "if round(np.mean(load_w2v_clf.predict(tekst_v))) == 1: print('sexist')\n",
    "else: print('not sexist')"
   ]
  },
  {
   "cell_type": "code",
   "execution_count": 39,
   "id": "a2cbcfb2",
   "metadata": {},
   "outputs": [
    {
     "name": "stdout",
     "output_type": "stream",
     "text": [
      "sexist\n"
     ]
    }
   ],
   "source": [
    "load_tfidf_clf = pickle.loads(tfidf_clf)\n",
    "tekst = \"woman is bitch\"\n",
    "tekst_v = vectorizer.transform([tekst])\n",
    "if round(np.mean(load_tfidf_clf.predict(tekst_v))) == 1: print('sexist')\n",
    "else: print('not sexist')"
   ]
  }
 ],
 "metadata": {
  "kernelspec": {
   "display_name": "Python 3.10.0 64-bit",
   "language": "python",
   "name": "python3"
  },
  "language_info": {
   "codemirror_mode": {
    "name": "ipython",
    "version": 3
   },
   "file_extension": ".py",
   "mimetype": "text/x-python",
   "name": "python",
   "nbconvert_exporter": "python",
   "pygments_lexer": "ipython3",
   "version": "3.10.0"
  },
  "vscode": {
   "interpreter": {
    "hash": "a4dbf14aa9149df7da5047131b4f5a980e4602c9d39113889227f0df846bcbd3"
   }
  }
 },
 "nbformat": 4,
 "nbformat_minor": 5
}
