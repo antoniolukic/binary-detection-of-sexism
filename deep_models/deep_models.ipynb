{
 "cells": [
  {
   "cell_type": "code",
   "execution_count": 1,
   "id": "d32bc49d",
   "metadata": {},
   "outputs": [],
   "source": [
    "import re\n",
    "import spacy\n",
    "import pandas as pd\n",
    "from nltk.corpus import stopwords\n",
    "from collections import Counter\n",
    "\n",
    "nlp = spacy.load(\n",
    "    \"en_core_web_lg\"\n",
    ")\n",
    "df = pd.read_csv(\"../train_all_tasks.csv\")"
   ]
  },
  {
   "cell_type": "code",
   "execution_count": 2,
   "id": "fa217e2e",
   "metadata": {},
   "outputs": [
    {
     "name": "stdout",
     "output_type": "stream",
     "text": [
      "Train labels: 9800\n",
      "Valid labels: 1400\n",
      "Test labels:  2800\n"
     ]
    }
   ],
   "source": [
    "import numpy as np\n",
    "from sklearn.model_selection import StratifiedShuffleSplit\n",
    "\n",
    "sss = StratifiedShuffleSplit(n_splits=1, test_size=0.2, random_state=42)\n",
    "\n",
    "lista_tekst = df[\"text\"]\n",
    "lista_label = df[\"label_sexist\"]\n",
    "\n",
    "for train_index, test_index in sss.split(lista_tekst, lista_label):\n",
    "    X_train, X_test = lista_tekst[train_index], lista_tekst[test_index]\n",
    "    y_train, y_test = lista_label[train_index], lista_label[test_index]\n",
    "    d_train = {\"text\": X_train, \"label\": y_train}\n",
    "    df_train = pd.DataFrame(d_train)\n",
    "    d_test = {\"text\": X_test, \"label\": y_test}\n",
    "    df_test = pd.DataFrame(d_test)\n",
    "\n",
    "sss = StratifiedShuffleSplit(n_splits=1, test_size=0.125, random_state=42)\n",
    "\n",
    "lista_tekst = np.array(df_train[\"text\"])\n",
    "lista_label = np.array(df_train[\"label\"])\n",
    "\n",
    "for train_index, valid_index in sss.split(lista_tekst, lista_label):\n",
    "    X_train, X_valid = lista_tekst[train_index], lista_tekst[valid_index]\n",
    "    y_train, y_valid = lista_label[train_index], lista_label[valid_index]\n",
    "    d_train = {\"text\": X_train, \"label\": y_train}\n",
    "    df_train = pd.DataFrame(d_train)\n",
    "    d_valid = {\"text\": X_valid, \"label\": y_valid}\n",
    "    df_valid = pd.DataFrame(d_valid)\n",
    "\n",
    "print(\"Train labels:\", len(df_train))\n",
    "print(\"Valid labels:\", len(df_valid))\n",
    "print(\"Test labels: \", len(df_test))"
   ]
  },
  {
   "cell_type": "code",
   "execution_count": 3,
   "id": "024a5ed7",
   "metadata": {},
   "outputs": [],
   "source": [
    "from gensim.models import KeyedVectors\n",
    "from gensim import models\n",
    "from gensim.utils import simple_preprocess\n",
    "\n",
    "word2vec_path = '../GoogleNews-vectors-negative300.bin'\n",
    "\n",
    "load_only = False\n",
    "if load_only:\n",
    "    model = models.KeyedVectors.load('vectors.kv')\n",
    "else:\n",
    "    model = models.KeyedVectors.load_word2vec_format(word2vec_path, binary = True, unicode_errors='replace')"
   ]
  },
  {
   "cell_type": "code",
   "execution_count": 4,
   "id": "b6c0403a",
   "metadata": {},
   "outputs": [],
   "source": [
    "def W2Vvectorize(train):\n",
    "    corpus_text = '\\n'.join(train)\n",
    "    sentences = corpus_text.split('\\n')\n",
    "    sentences = [line.lower().split(' ') for line in sentences]\n",
    "\n",
    "    def clean(s):\n",
    "        return [w.strip(',.\"!?:;()\\'') for w in s]\n",
    "\n",
    "    sentences = [clean(s) for s in sentences if len(s) > 0]\n",
    "    vector=[]\n",
    "    for sent in sentences:\n",
    "        sent_vec=np.zeros(300)\n",
    "        count =0\n",
    "        for word in sent: \n",
    "            if word in model:\n",
    "                vec = model[word]\n",
    "                sent_vec += vec \n",
    "                count += 1\n",
    "        if count != 0:\n",
    "            sent_vec /= count #normalize\n",
    "        vector.append(sent_vec)\n",
    "    return vector"
   ]
  },
  {
   "cell_type": "code",
   "execution_count": 5,
   "id": "3abbfd87",
   "metadata": {},
   "outputs": [],
   "source": [
    "def evaluate(model, text, y_test, target_names=('not sexist', 'sexist')):\n",
    "    import matplotlib.pyplot as plt\n",
    "    from sklearn.metrics import classification_report\n",
    "    from sklearn.metrics import ConfusionMatrixDisplay\n",
    "    from sklearn.metrics import precision_recall_fscore_support\n",
    "\n",
    "    text_features = W2Vvectorize(text)\n",
    "    y_test_pred = model.predict(text_features)\n",
    "    print(classification_report(y_test, y_test_pred, target_names=target_names))\n",
    "\n",
    "    precision, recall, f1, _ = precision_recall_fscore_support(y_test, y_test_pred, average=\"micro\")\n",
    "    print(f\"Precision: {precision:6.2f}\")\n",
    "    print(f\"   Recall: {recall:6.2f}\")\n",
    "    print(f\"       F1: {f1:6.2f}\")\n",
    "\n",
    "    ConfusionMatrixDisplay.from_predictions(y_test, y_test_pred, display_labels=target_names)\n",
    "    plt.show()"
   ]
  },
  {
   "cell_type": "code",
   "execution_count": 6,
   "id": "40d6647c",
   "metadata": {},
   "outputs": [],
   "source": [
    "from sklearn.svm import SVC\n",
    "from sklearn.pipeline import make_pipeline\n",
    "from sklearn.preprocessing import StandardScaler\n",
    "from sklearn.preprocessing import LabelEncoder\n",
    "\n",
    "le = LabelEncoder()\n",
    "\n",
    "lista_label = np.array(df_train[\"label\"])\n",
    "lista_label = le.fit_transform(lista_label)\n",
    "\n",
    "nova_lista = W2Vvectorize(df_train[\"text\"])"
   ]
  },
  {
   "cell_type": "code",
   "execution_count": 7,
   "id": "fe56549d",
   "metadata": {},
   "outputs": [
    {
     "name": "stdout",
     "output_type": "stream",
     "text": [
      "alpha=0.10 results:\n",
      "Test: 0.7575\n",
      "Training: 0.9996938775510205\n",
      "---------------------------------------------\n",
      "alpha=0.32 results:\n",
      "Test: 0.7585714285714286\n",
      "Training: 0.9996938775510205\n",
      "---------------------------------------------\n",
      "alpha=1.00 results:\n",
      "Test: 0.7607142857142857\n",
      "Training: 0.9996938775510205\n",
      "---------------------------------------------\n",
      "alpha=3.16 results:\n",
      "Test: 0.7696428571428572\n",
      "Training: 0.9996938775510205\n",
      "---------------------------------------------\n",
      "alpha=10.00 results:\n",
      "Test: 0.7746428571428572\n",
      "Training: 0.9996938775510205\n",
      "---------------------------------------------\n"
     ]
    }
   ],
   "source": [
    "from sklearn.datasets import make_classification\n",
    "from sklearn.model_selection import train_test_split\n",
    "import numpy as np\n",
    "from matplotlib import pyplot as plt\n",
    "from matplotlib.colors import ListedColormap\n",
    "from sklearn.model_selection import train_test_split\n",
    "from sklearn.preprocessing import StandardScaler\n",
    "from sklearn.datasets import make_moons, make_circles, make_classification\n",
    "from sklearn.neural_network import MLPClassifier\n",
    "from sklearn.pipeline import make_pipeline\n",
    "\n",
    "h = .02  # step size in the mesh\n",
    "\n",
    "alphas = np.logspace(-1, 1, 5)\n",
    "\n",
    "classifiers = []\n",
    "names = []\n",
    "for alpha in alphas:\n",
    "    classifiers.append(make_pipeline(\n",
    "        StandardScaler(),\n",
    "        MLPClassifier(\n",
    "            solver='lbfgs', alpha=alpha, random_state=1, max_iter=2000,\n",
    "            early_stopping=True, hidden_layer_sizes=[100, 100],\n",
    "        )\n",
    "    ))\n",
    "    names.append(f\"alpha={alpha:.2f}\")\n",
    "\n",
    "lista_label_test = np.array(df_test[\"label\"])\n",
    "lista_label_test = le.fit_transform(lista_label_test)\n",
    "nova_lista_test = W2Vvectorize(df_test[\"text\"])\n",
    "\n",
    "for name, clf in zip(names, classifiers):\n",
    "    clf.fit(nova_lista, lista_label)\n",
    "   \n",
    "    print(str(name) + \" results:\")\n",
    "    print(\"Test: \" + str(clf.score(nova_lista_test,lista_label_test)))\n",
    "    print(\"Training: \" + str(clf.score(nova_lista, lista_label)))\n",
    "    print('---------------------------------------------')"
   ]
  },
  {
   "cell_type": "code",
   "execution_count": 8,
   "id": "b5fed462",
   "metadata": {},
   "outputs": [
    {
     "name": "stdout",
     "output_type": "stream",
     "text": [
      "Training: 0.9996938775510205\n",
      "Test:0.7746428571428572\n",
      "              precision    recall  f1-score   support\n",
      "\n",
      "  not sexist       0.83      0.88      0.85      2120\n",
      "      sexist       0.54      0.46      0.50       680\n",
      "\n",
      "    accuracy                           0.77      2800\n",
      "   macro avg       0.69      0.67      0.68      2800\n",
      "weighted avg       0.76      0.77      0.77      2800\n",
      "\n",
      "Precision:   0.77\n",
      "   Recall:   0.77\n",
      "       F1:   0.77\n"
     ]
    },
    {
     "data": {
      "image/png": "[encoded data removed]",
      "text/plain": [
       "<Figure size 640x480 with 2 Axes>"
      ]
     },
     "metadata": {},
     "output_type": "display_data"
    }
   ],
   "source": [
    "clf.fit(nova_lista, lista_label)\n",
    "\n",
    "print(\"Training: \" + str(clf.score(nova_lista, lista_label)))\n",
    "\n",
    "lista_label_test = np.array(df_test[\"label\"])\n",
    "lista_label_test = le.fit_transform(lista_label_test)\n",
    "nova_lista_test = W2Vvectorize(df_test[\"text\"])\n",
    "\n",
    "print(\"Test:\" + str(clf.score(nova_lista_test,lista_label_test)))\n",
    "evaluate(clf, df_test.text, lista_label_test)"
   ]
  },
  {
   "cell_type": "code",
   "execution_count": null,
   "id": "72898a48",
   "metadata": {},
   "outputs": [],
   "source": []
  }
 ],
 "metadata": {
  "kernelspec": {
   "display_name": "Python 3 (ipykernel)",
   "language": "python",
   "name": "python3"
  },
  "language_info": {
   "codemirror_mode": {
    "name": "ipython",
    "version": 3
   },
   "file_extension": ".py",
   "mimetype": "text/x-python",
   "name": "python",
   "nbconvert_exporter": "python",
   "pygments_lexer": "ipython3",
   "version": "3.10.8"
  }
 },
 "nbformat": 4,
 "nbformat_minor": 5
}
